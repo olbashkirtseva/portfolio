{
 "cells": [
  {
   "cell_type": "markdown",
   "metadata": {},
   "source": [
    "# Определение закономерностей успешности игр\n",
    "\n",
    "Из открытых источников нам доступны исторические данные о продажах игр, оценки пользователей и экспертов, жанры и платформы. Нам нужно выявить определяющие успешность игры закономерности. Это позволит сделать ставку на потенциально популярный продукт и спланировать рекламные кампании.\n",
    "\n",
    "Перед нами данные до 2016 года. Сейчас декабрь 2016 г., и мы планируем кампанию на 2017-й."
   ]
  },
  {
   "cell_type": "markdown",
   "metadata": {},
   "source": [
    "Нам будет необходимо:\n",
    "* Подготовить данные: заменить названия столбцов, обработать пропуски, преобразовать данные в нужные типы.\n",
    "* Посчитать суммарные продажи\n",
    "* Провести исследовательский анализ данных: определить актуальные для рассмотрения периоды выхода игр, посмотреть на продажи по платформам, посмотреть на распределение игр по жанрам.\n",
    "* Составить портрет пользователя каждого региона.\n",
    "* Проверить гипотезы о рейтингах разных платформ и рейтингах разных жанров.\n",
    "* Сформулировать вывод на какие игры стоит делать упор в рекламной компании."
   ]
  },
  {
   "cell_type": "markdown",
   "metadata": {},
   "source": [
    "<a id='content'></a>\n",
    "## Оглавление\n",
    "\n",
    "### Открытие и предобработка данных \n",
    "* [Загрузка датасета и проверка его на наличие дубликатов, пропусков и соответствие типам данных, а также правильность выгрузки](#start)\n",
    "\n",
    "### Исследовательский анализ данных\n",
    "* [Посмотрим, сколько игр выпускалось в разные годы.](#part_1.1)\n",
    "* [Посмотрим, как менялись продажи по платформам.](#part_1.2)\n",
    "* [Определим наиболее перспективные платформы.](#part_1.3)\n",
    "* [Посмотрим, как влияют на продажи внутри одной платформы отзывы пользователей и критиков.](#part_1.4)\n",
    "* [Вывод](#part_1.5)\n",
    "\n",
    "### Портрет пользователя каждого региона\n",
    "* [Северная Америка](#part_2.1)\n",
    "* [Европа](#part_2.2)\n",
    "* [Япония](#part_2.3)\n",
    "* [Вывод](#part_2.4)\n",
    "\n",
    "### Проверка гипотез\n",
    "* [Средние пользовательские рейтинги платформ Xbox One и PC одинаковые](#part_3.1)\n",
    "* [Средние пользовательские рейтинги жанров Action и Sports разные.](#part_3.2)\n",
    "* [Вывод](#part_3.3)\n",
    "\n",
    "### Вывод\n",
    "* [Сделаем общий вывод](#finish)"
   ]
  },
  {
   "cell_type": "markdown",
   "metadata": {},
   "source": [
    "## Открытие и предобработка данных \n",
    "<a id='start'></a>\n",
    "Загрузка датасета и проверка его на наличие дубликатов, пропусков и соответствие типам данных, а также правильность выгрузки\n",
    "\n",
    "[*Назад к оглавлению*](#content)"
   ]
  },
  {
   "cell_type": "code",
   "execution_count": 1,
   "metadata": {},
   "outputs": [],
   "source": [
    "import pandas as pd\n",
    "import matplotlib.pyplot as plt\n",
    "import numpy as np\n",
    "import seaborn as sns\n",
    "from scipy import stats as st"
   ]
  },
  {
   "cell_type": "code",
   "execution_count": 2,
   "metadata": {},
   "outputs": [
    {
     "data": {
      "text/html": [
       "<div>\n",
       "<style scoped>\n",
       "    .dataframe tbody tr th:only-of-type {\n",
       "        vertical-align: middle;\n",
       "    }\n",
       "\n",
       "    .dataframe tbody tr th {\n",
       "        vertical-align: top;\n",
       "    }\n",
       "\n",
       "    .dataframe thead th {\n",
       "        text-align: right;\n",
       "    }\n",
       "</style>\n",
       "<table border=\"1\" class=\"dataframe\">\n",
       "  <thead>\n",
       "    <tr style=\"text-align: right;\">\n",
       "      <th></th>\n",
       "      <th>Name</th>\n",
       "      <th>Platform</th>\n",
       "      <th>Year_of_Release</th>\n",
       "      <th>Genre</th>\n",
       "      <th>NA_sales</th>\n",
       "      <th>EU_sales</th>\n",
       "      <th>JP_sales</th>\n",
       "      <th>Other_sales</th>\n",
       "      <th>Critic_Score</th>\n",
       "      <th>User_Score</th>\n",
       "      <th>Rating</th>\n",
       "    </tr>\n",
       "  </thead>\n",
       "  <tbody>\n",
       "    <tr>\n",
       "      <td>0</td>\n",
       "      <td>Wii Sports</td>\n",
       "      <td>Wii</td>\n",
       "      <td>2006.0</td>\n",
       "      <td>Sports</td>\n",
       "      <td>41.36</td>\n",
       "      <td>28.96</td>\n",
       "      <td>3.77</td>\n",
       "      <td>8.45</td>\n",
       "      <td>76.0</td>\n",
       "      <td>8</td>\n",
       "      <td>E</td>\n",
       "    </tr>\n",
       "    <tr>\n",
       "      <td>1</td>\n",
       "      <td>Super Mario Bros.</td>\n",
       "      <td>NES</td>\n",
       "      <td>1985.0</td>\n",
       "      <td>Platform</td>\n",
       "      <td>29.08</td>\n",
       "      <td>3.58</td>\n",
       "      <td>6.81</td>\n",
       "      <td>0.77</td>\n",
       "      <td>NaN</td>\n",
       "      <td>NaN</td>\n",
       "      <td>NaN</td>\n",
       "    </tr>\n",
       "    <tr>\n",
       "      <td>2</td>\n",
       "      <td>Mario Kart Wii</td>\n",
       "      <td>Wii</td>\n",
       "      <td>2008.0</td>\n",
       "      <td>Racing</td>\n",
       "      <td>15.68</td>\n",
       "      <td>12.76</td>\n",
       "      <td>3.79</td>\n",
       "      <td>3.29</td>\n",
       "      <td>82.0</td>\n",
       "      <td>8.3</td>\n",
       "      <td>E</td>\n",
       "    </tr>\n",
       "    <tr>\n",
       "      <td>3</td>\n",
       "      <td>Wii Sports Resort</td>\n",
       "      <td>Wii</td>\n",
       "      <td>2009.0</td>\n",
       "      <td>Sports</td>\n",
       "      <td>15.61</td>\n",
       "      <td>10.93</td>\n",
       "      <td>3.28</td>\n",
       "      <td>2.95</td>\n",
       "      <td>80.0</td>\n",
       "      <td>8</td>\n",
       "      <td>E</td>\n",
       "    </tr>\n",
       "    <tr>\n",
       "      <td>4</td>\n",
       "      <td>Pokemon Red/Pokemon Blue</td>\n",
       "      <td>GB</td>\n",
       "      <td>1996.0</td>\n",
       "      <td>Role-Playing</td>\n",
       "      <td>11.27</td>\n",
       "      <td>8.89</td>\n",
       "      <td>10.22</td>\n",
       "      <td>1.00</td>\n",
       "      <td>NaN</td>\n",
       "      <td>NaN</td>\n",
       "      <td>NaN</td>\n",
       "    </tr>\n",
       "  </tbody>\n",
       "</table>\n",
       "</div>"
      ],
      "text/plain": [
       "                       Name Platform  Year_of_Release         Genre  NA_sales  \\\n",
       "0                Wii Sports      Wii           2006.0        Sports     41.36   \n",
       "1         Super Mario Bros.      NES           1985.0      Platform     29.08   \n",
       "2            Mario Kart Wii      Wii           2008.0        Racing     15.68   \n",
       "3         Wii Sports Resort      Wii           2009.0        Sports     15.61   \n",
       "4  Pokemon Red/Pokemon Blue       GB           1996.0  Role-Playing     11.27   \n",
       "\n",
       "   EU_sales  JP_sales  Other_sales  Critic_Score User_Score Rating  \n",
       "0     28.96      3.77         8.45          76.0          8      E  \n",
       "1      3.58      6.81         0.77           NaN        NaN    NaN  \n",
       "2     12.76      3.79         3.29          82.0        8.3      E  \n",
       "3     10.93      3.28         2.95          80.0          8      E  \n",
       "4      8.89     10.22         1.00           NaN        NaN    NaN  "
      ]
     },
     "execution_count": 2,
     "metadata": {},
     "output_type": "execute_result"
    }
   ],
   "source": [
    "data = pd.read_csv('/datasets/games.csv')\n",
    "data.head()"
   ]
  },
  {
   "cell_type": "code",
   "execution_count": 3,
   "metadata": {},
   "outputs": [
    {
     "data": {
      "text/html": [
       "<div>\n",
       "<style scoped>\n",
       "    .dataframe tbody tr th:only-of-type {\n",
       "        vertical-align: middle;\n",
       "    }\n",
       "\n",
       "    .dataframe tbody tr th {\n",
       "        vertical-align: top;\n",
       "    }\n",
       "\n",
       "    .dataframe thead th {\n",
       "        text-align: right;\n",
       "    }\n",
       "</style>\n",
       "<table border=\"1\" class=\"dataframe\">\n",
       "  <thead>\n",
       "    <tr style=\"text-align: right;\">\n",
       "      <th></th>\n",
       "      <th>Name</th>\n",
       "      <th>Platform</th>\n",
       "      <th>Year_of_Release</th>\n",
       "      <th>Genre</th>\n",
       "      <th>NA_sales</th>\n",
       "      <th>EU_sales</th>\n",
       "      <th>JP_sales</th>\n",
       "      <th>Other_sales</th>\n",
       "      <th>Critic_Score</th>\n",
       "      <th>User_Score</th>\n",
       "      <th>Rating</th>\n",
       "    </tr>\n",
       "  </thead>\n",
       "  <tbody>\n",
       "    <tr>\n",
       "      <td>2152</td>\n",
       "      <td>Sniper Elite V2</td>\n",
       "      <td>PS3</td>\n",
       "      <td>2012.0</td>\n",
       "      <td>Shooter</td>\n",
       "      <td>0.38</td>\n",
       "      <td>0.38</td>\n",
       "      <td>0.06</td>\n",
       "      <td>0.14</td>\n",
       "      <td>70.0</td>\n",
       "      <td>6.9</td>\n",
       "      <td>M</td>\n",
       "    </tr>\n",
       "  </tbody>\n",
       "</table>\n",
       "</div>"
      ],
      "text/plain": [
       "                 Name Platform  Year_of_Release    Genre  NA_sales  EU_sales  \\\n",
       "2152  Sniper Elite V2      PS3           2012.0  Shooter      0.38      0.38   \n",
       "\n",
       "      JP_sales  Other_sales  Critic_Score User_Score Rating  \n",
       "2152      0.06         0.14          70.0        6.9      M  "
      ]
     },
     "execution_count": 3,
     "metadata": {},
     "output_type": "execute_result"
    }
   ],
   "source": [
    "data.sample()"
   ]
  },
  {
   "cell_type": "code",
   "execution_count": 4,
   "metadata": {},
   "outputs": [
    {
     "data": {
      "text/html": [
       "<div>\n",
       "<style scoped>\n",
       "    .dataframe tbody tr th:only-of-type {\n",
       "        vertical-align: middle;\n",
       "    }\n",
       "\n",
       "    .dataframe tbody tr th {\n",
       "        vertical-align: top;\n",
       "    }\n",
       "\n",
       "    .dataframe thead th {\n",
       "        text-align: right;\n",
       "    }\n",
       "</style>\n",
       "<table border=\"1\" class=\"dataframe\">\n",
       "  <thead>\n",
       "    <tr style=\"text-align: right;\">\n",
       "      <th></th>\n",
       "      <th>count</th>\n",
       "      <th>mean</th>\n",
       "      <th>std</th>\n",
       "      <th>min</th>\n",
       "      <th>25%</th>\n",
       "      <th>50%</th>\n",
       "      <th>75%</th>\n",
       "      <th>max</th>\n",
       "    </tr>\n",
       "  </thead>\n",
       "  <tbody>\n",
       "    <tr>\n",
       "      <td>Year_of_Release</td>\n",
       "      <td>16446.0</td>\n",
       "      <td>2006.484616</td>\n",
       "      <td>5.877050</td>\n",
       "      <td>1980.0</td>\n",
       "      <td>2003.0</td>\n",
       "      <td>2007.00</td>\n",
       "      <td>2010.00</td>\n",
       "      <td>2016.00</td>\n",
       "    </tr>\n",
       "    <tr>\n",
       "      <td>NA_sales</td>\n",
       "      <td>16715.0</td>\n",
       "      <td>0.263377</td>\n",
       "      <td>0.813604</td>\n",
       "      <td>0.0</td>\n",
       "      <td>0.0</td>\n",
       "      <td>0.08</td>\n",
       "      <td>0.24</td>\n",
       "      <td>41.36</td>\n",
       "    </tr>\n",
       "    <tr>\n",
       "      <td>EU_sales</td>\n",
       "      <td>16715.0</td>\n",
       "      <td>0.145060</td>\n",
       "      <td>0.503339</td>\n",
       "      <td>0.0</td>\n",
       "      <td>0.0</td>\n",
       "      <td>0.02</td>\n",
       "      <td>0.11</td>\n",
       "      <td>28.96</td>\n",
       "    </tr>\n",
       "    <tr>\n",
       "      <td>JP_sales</td>\n",
       "      <td>16715.0</td>\n",
       "      <td>0.077617</td>\n",
       "      <td>0.308853</td>\n",
       "      <td>0.0</td>\n",
       "      <td>0.0</td>\n",
       "      <td>0.00</td>\n",
       "      <td>0.04</td>\n",
       "      <td>10.22</td>\n",
       "    </tr>\n",
       "    <tr>\n",
       "      <td>Other_sales</td>\n",
       "      <td>16715.0</td>\n",
       "      <td>0.047342</td>\n",
       "      <td>0.186731</td>\n",
       "      <td>0.0</td>\n",
       "      <td>0.0</td>\n",
       "      <td>0.01</td>\n",
       "      <td>0.03</td>\n",
       "      <td>10.57</td>\n",
       "    </tr>\n",
       "    <tr>\n",
       "      <td>Critic_Score</td>\n",
       "      <td>8137.0</td>\n",
       "      <td>68.967679</td>\n",
       "      <td>13.938165</td>\n",
       "      <td>13.0</td>\n",
       "      <td>60.0</td>\n",
       "      <td>71.00</td>\n",
       "      <td>79.00</td>\n",
       "      <td>98.00</td>\n",
       "    </tr>\n",
       "  </tbody>\n",
       "</table>\n",
       "</div>"
      ],
      "text/plain": [
       "                   count         mean        std     min     25%      50%  \\\n",
       "Year_of_Release  16446.0  2006.484616   5.877050  1980.0  2003.0  2007.00   \n",
       "NA_sales         16715.0     0.263377   0.813604     0.0     0.0     0.08   \n",
       "EU_sales         16715.0     0.145060   0.503339     0.0     0.0     0.02   \n",
       "JP_sales         16715.0     0.077617   0.308853     0.0     0.0     0.00   \n",
       "Other_sales      16715.0     0.047342   0.186731     0.0     0.0     0.01   \n",
       "Critic_Score      8137.0    68.967679  13.938165    13.0    60.0    71.00   \n",
       "\n",
       "                     75%      max  \n",
       "Year_of_Release  2010.00  2016.00  \n",
       "NA_sales            0.24    41.36  \n",
       "EU_sales            0.11    28.96  \n",
       "JP_sales            0.04    10.22  \n",
       "Other_sales         0.03    10.57  \n",
       "Critic_Score       79.00    98.00  "
      ]
     },
     "execution_count": 4,
     "metadata": {},
     "output_type": "execute_result"
    }
   ],
   "source": [
    "data.describe().T"
   ]
  },
  {
   "cell_type": "markdown",
   "metadata": {},
   "source": [
    "Заменим названия столбцов для упрощения дальнейшей работы."
   ]
  },
  {
   "cell_type": "code",
   "execution_count": 5,
   "metadata": {},
   "outputs": [],
   "source": [
    "data.columns = ['name', 'platform', 'year_of_release', 'genre', 'na_sales', 'eu_sales', 'jp_sales', 'other_sales',\n",
    "               'critic_score', 'user_score', 'rating']"
   ]
  },
  {
   "cell_type": "code",
   "execution_count": 6,
   "metadata": {
    "scrolled": true
   },
   "outputs": [
    {
     "name": "stdout",
     "output_type": "stream",
     "text": [
      "<class 'pandas.core.frame.DataFrame'>\n",
      "RangeIndex: 16715 entries, 0 to 16714\n",
      "Data columns (total 11 columns):\n",
      "name               16713 non-null object\n",
      "platform           16715 non-null object\n",
      "year_of_release    16446 non-null float64\n",
      "genre              16713 non-null object\n",
      "na_sales           16715 non-null float64\n",
      "eu_sales           16715 non-null float64\n",
      "jp_sales           16715 non-null float64\n",
      "other_sales        16715 non-null float64\n",
      "critic_score       8137 non-null float64\n",
      "user_score         10014 non-null object\n",
      "rating             9949 non-null object\n",
      "dtypes: float64(6), object(5)\n",
      "memory usage: 1.4+ MB\n"
     ]
    }
   ],
   "source": [
    "data.info()"
   ]
  },
  {
   "cell_type": "markdown",
   "metadata": {},
   "source": [
    "Рассмотрим пропуски в данных."
   ]
  },
  {
   "cell_type": "code",
   "execution_count": 7,
   "metadata": {},
   "outputs": [
    {
     "data": {
      "text/html": [
       "<div>\n",
       "<style scoped>\n",
       "    .dataframe tbody tr th:only-of-type {\n",
       "        vertical-align: middle;\n",
       "    }\n",
       "\n",
       "    .dataframe tbody tr th {\n",
       "        vertical-align: top;\n",
       "    }\n",
       "\n",
       "    .dataframe thead th {\n",
       "        text-align: right;\n",
       "    }\n",
       "</style>\n",
       "<table border=\"1\" class=\"dataframe\">\n",
       "  <thead>\n",
       "    <tr style=\"text-align: right;\">\n",
       "      <th></th>\n",
       "      <th>name</th>\n",
       "      <th>platform</th>\n",
       "      <th>year_of_release</th>\n",
       "      <th>genre</th>\n",
       "      <th>na_sales</th>\n",
       "      <th>eu_sales</th>\n",
       "      <th>jp_sales</th>\n",
       "      <th>other_sales</th>\n",
       "      <th>critic_score</th>\n",
       "      <th>user_score</th>\n",
       "      <th>rating</th>\n",
       "    </tr>\n",
       "  </thead>\n",
       "  <tbody>\n",
       "    <tr>\n",
       "      <td>659</td>\n",
       "      <td>NaN</td>\n",
       "      <td>GEN</td>\n",
       "      <td>1993.0</td>\n",
       "      <td>NaN</td>\n",
       "      <td>1.78</td>\n",
       "      <td>0.53</td>\n",
       "      <td>0.00</td>\n",
       "      <td>0.08</td>\n",
       "      <td>NaN</td>\n",
       "      <td>NaN</td>\n",
       "      <td>NaN</td>\n",
       "    </tr>\n",
       "    <tr>\n",
       "      <td>14244</td>\n",
       "      <td>NaN</td>\n",
       "      <td>GEN</td>\n",
       "      <td>1993.0</td>\n",
       "      <td>NaN</td>\n",
       "      <td>0.00</td>\n",
       "      <td>0.00</td>\n",
       "      <td>0.03</td>\n",
       "      <td>0.00</td>\n",
       "      <td>NaN</td>\n",
       "      <td>NaN</td>\n",
       "      <td>NaN</td>\n",
       "    </tr>\n",
       "  </tbody>\n",
       "</table>\n",
       "</div>"
      ],
      "text/plain": [
       "      name platform  year_of_release genre  na_sales  eu_sales  jp_sales  \\\n",
       "659    NaN      GEN           1993.0   NaN      1.78      0.53      0.00   \n",
       "14244  NaN      GEN           1993.0   NaN      0.00      0.00      0.03   \n",
       "\n",
       "       other_sales  critic_score user_score rating  \n",
       "659           0.08           NaN        NaN    NaN  \n",
       "14244         0.00           NaN        NaN    NaN  "
      ]
     },
     "execution_count": 7,
     "metadata": {},
     "output_type": "execute_result"
    }
   ],
   "source": [
    "data[data['name'].isna()]"
   ]
  },
  {
   "cell_type": "markdown",
   "metadata": {},
   "source": [
    "Игры с пропусками в назыании также не имеют жанра, рейтинга и оценок критиков и игроков. Также игра старая и вряд ли окажет какое-либо влияние на наш анализ, поэтому мы можем данные строки удалить."
   ]
  },
  {
   "cell_type": "code",
   "execution_count": 8,
   "metadata": {},
   "outputs": [],
   "source": [
    "data = data[~data['name'].isna()]"
   ]
  },
  {
   "cell_type": "code",
   "execution_count": 9,
   "metadata": {},
   "outputs": [
    {
     "name": "stdout",
     "output_type": "stream",
     "text": [
      "<class 'pandas.core.frame.DataFrame'>\n",
      "Int64Index: 16713 entries, 0 to 16714\n",
      "Data columns (total 11 columns):\n",
      "name               16713 non-null object\n",
      "platform           16713 non-null object\n",
      "year_of_release    16444 non-null float64\n",
      "genre              16713 non-null object\n",
      "na_sales           16713 non-null float64\n",
      "eu_sales           16713 non-null float64\n",
      "jp_sales           16713 non-null float64\n",
      "other_sales        16713 non-null float64\n",
      "critic_score       8137 non-null float64\n",
      "user_score         10014 non-null object\n",
      "rating             9949 non-null object\n",
      "dtypes: float64(6), object(5)\n",
      "memory usage: 1.5+ MB\n"
     ]
    }
   ],
   "source": [
    "data.info()"
   ]
  },
  {
   "cell_type": "markdown",
   "metadata": {},
   "source": [
    "Рассмотрим игры с отсутствующей датой выхода."
   ]
  },
  {
   "cell_type": "code",
   "execution_count": 10,
   "metadata": {},
   "outputs": [
    {
     "data": {
      "text/html": [
       "<div>\n",
       "<style scoped>\n",
       "    .dataframe tbody tr th:only-of-type {\n",
       "        vertical-align: middle;\n",
       "    }\n",
       "\n",
       "    .dataframe tbody tr th {\n",
       "        vertical-align: top;\n",
       "    }\n",
       "\n",
       "    .dataframe thead th {\n",
       "        text-align: right;\n",
       "    }\n",
       "</style>\n",
       "<table border=\"1\" class=\"dataframe\">\n",
       "  <thead>\n",
       "    <tr style=\"text-align: right;\">\n",
       "      <th></th>\n",
       "      <th>name</th>\n",
       "      <th>platform</th>\n",
       "      <th>year_of_release</th>\n",
       "      <th>genre</th>\n",
       "      <th>na_sales</th>\n",
       "      <th>eu_sales</th>\n",
       "      <th>jp_sales</th>\n",
       "      <th>other_sales</th>\n",
       "      <th>critic_score</th>\n",
       "      <th>user_score</th>\n",
       "      <th>rating</th>\n",
       "    </tr>\n",
       "  </thead>\n",
       "  <tbody>\n",
       "    <tr>\n",
       "      <td>183</td>\n",
       "      <td>Madden NFL 2004</td>\n",
       "      <td>PS2</td>\n",
       "      <td>NaN</td>\n",
       "      <td>Sports</td>\n",
       "      <td>4.26</td>\n",
       "      <td>0.26</td>\n",
       "      <td>0.01</td>\n",
       "      <td>0.71</td>\n",
       "      <td>94.0</td>\n",
       "      <td>8.5</td>\n",
       "      <td>E</td>\n",
       "    </tr>\n",
       "    <tr>\n",
       "      <td>377</td>\n",
       "      <td>FIFA Soccer 2004</td>\n",
       "      <td>PS2</td>\n",
       "      <td>NaN</td>\n",
       "      <td>Sports</td>\n",
       "      <td>0.59</td>\n",
       "      <td>2.36</td>\n",
       "      <td>0.04</td>\n",
       "      <td>0.51</td>\n",
       "      <td>84.0</td>\n",
       "      <td>6.4</td>\n",
       "      <td>E</td>\n",
       "    </tr>\n",
       "    <tr>\n",
       "      <td>456</td>\n",
       "      <td>LEGO Batman: The Videogame</td>\n",
       "      <td>Wii</td>\n",
       "      <td>NaN</td>\n",
       "      <td>Action</td>\n",
       "      <td>1.80</td>\n",
       "      <td>0.97</td>\n",
       "      <td>0.00</td>\n",
       "      <td>0.29</td>\n",
       "      <td>74.0</td>\n",
       "      <td>7.9</td>\n",
       "      <td>E10+</td>\n",
       "    </tr>\n",
       "    <tr>\n",
       "      <td>475</td>\n",
       "      <td>wwe Smackdown vs. Raw 2006</td>\n",
       "      <td>PS2</td>\n",
       "      <td>NaN</td>\n",
       "      <td>Fighting</td>\n",
       "      <td>1.57</td>\n",
       "      <td>1.02</td>\n",
       "      <td>0.00</td>\n",
       "      <td>0.41</td>\n",
       "      <td>NaN</td>\n",
       "      <td>NaN</td>\n",
       "      <td>NaN</td>\n",
       "    </tr>\n",
       "    <tr>\n",
       "      <td>609</td>\n",
       "      <td>Space Invaders</td>\n",
       "      <td>2600</td>\n",
       "      <td>NaN</td>\n",
       "      <td>Shooter</td>\n",
       "      <td>2.36</td>\n",
       "      <td>0.14</td>\n",
       "      <td>0.00</td>\n",
       "      <td>0.03</td>\n",
       "      <td>NaN</td>\n",
       "      <td>NaN</td>\n",
       "      <td>NaN</td>\n",
       "    </tr>\n",
       "    <tr>\n",
       "      <td>...</td>\n",
       "      <td>...</td>\n",
       "      <td>...</td>\n",
       "      <td>...</td>\n",
       "      <td>...</td>\n",
       "      <td>...</td>\n",
       "      <td>...</td>\n",
       "      <td>...</td>\n",
       "      <td>...</td>\n",
       "      <td>...</td>\n",
       "      <td>...</td>\n",
       "      <td>...</td>\n",
       "    </tr>\n",
       "    <tr>\n",
       "      <td>16373</td>\n",
       "      <td>PDC World Championship Darts 2008</td>\n",
       "      <td>PSP</td>\n",
       "      <td>NaN</td>\n",
       "      <td>Sports</td>\n",
       "      <td>0.01</td>\n",
       "      <td>0.00</td>\n",
       "      <td>0.00</td>\n",
       "      <td>0.00</td>\n",
       "      <td>43.0</td>\n",
       "      <td>tbd</td>\n",
       "      <td>E10+</td>\n",
       "    </tr>\n",
       "    <tr>\n",
       "      <td>16405</td>\n",
       "      <td>Freaky Flyers</td>\n",
       "      <td>GC</td>\n",
       "      <td>NaN</td>\n",
       "      <td>Racing</td>\n",
       "      <td>0.01</td>\n",
       "      <td>0.00</td>\n",
       "      <td>0.00</td>\n",
       "      <td>0.00</td>\n",
       "      <td>69.0</td>\n",
       "      <td>6.5</td>\n",
       "      <td>T</td>\n",
       "    </tr>\n",
       "    <tr>\n",
       "      <td>16448</td>\n",
       "      <td>Inversion</td>\n",
       "      <td>PC</td>\n",
       "      <td>NaN</td>\n",
       "      <td>Shooter</td>\n",
       "      <td>0.01</td>\n",
       "      <td>0.00</td>\n",
       "      <td>0.00</td>\n",
       "      <td>0.00</td>\n",
       "      <td>59.0</td>\n",
       "      <td>6.7</td>\n",
       "      <td>M</td>\n",
       "    </tr>\n",
       "    <tr>\n",
       "      <td>16458</td>\n",
       "      <td>Hakuouki: Shinsengumi Kitan</td>\n",
       "      <td>PS3</td>\n",
       "      <td>NaN</td>\n",
       "      <td>Adventure</td>\n",
       "      <td>0.01</td>\n",
       "      <td>0.00</td>\n",
       "      <td>0.00</td>\n",
       "      <td>0.00</td>\n",
       "      <td>NaN</td>\n",
       "      <td>NaN</td>\n",
       "      <td>NaN</td>\n",
       "    </tr>\n",
       "    <tr>\n",
       "      <td>16522</td>\n",
       "      <td>Virtua Quest</td>\n",
       "      <td>GC</td>\n",
       "      <td>NaN</td>\n",
       "      <td>Role-Playing</td>\n",
       "      <td>0.01</td>\n",
       "      <td>0.00</td>\n",
       "      <td>0.00</td>\n",
       "      <td>0.00</td>\n",
       "      <td>55.0</td>\n",
       "      <td>5.5</td>\n",
       "      <td>T</td>\n",
       "    </tr>\n",
       "  </tbody>\n",
       "</table>\n",
       "<p>269 rows × 11 columns</p>\n",
       "</div>"
      ],
      "text/plain": [
       "                                    name platform  year_of_release  \\\n",
       "183                      Madden NFL 2004      PS2              NaN   \n",
       "377                     FIFA Soccer 2004      PS2              NaN   \n",
       "456           LEGO Batman: The Videogame      Wii              NaN   \n",
       "475           wwe Smackdown vs. Raw 2006      PS2              NaN   \n",
       "609                       Space Invaders     2600              NaN   \n",
       "...                                  ...      ...              ...   \n",
       "16373  PDC World Championship Darts 2008      PSP              NaN   \n",
       "16405                      Freaky Flyers       GC              NaN   \n",
       "16448                          Inversion       PC              NaN   \n",
       "16458        Hakuouki: Shinsengumi Kitan      PS3              NaN   \n",
       "16522                       Virtua Quest       GC              NaN   \n",
       "\n",
       "              genre  na_sales  eu_sales  jp_sales  other_sales  critic_score  \\\n",
       "183          Sports      4.26      0.26      0.01         0.71          94.0   \n",
       "377          Sports      0.59      2.36      0.04         0.51          84.0   \n",
       "456          Action      1.80      0.97      0.00         0.29          74.0   \n",
       "475        Fighting      1.57      1.02      0.00         0.41           NaN   \n",
       "609         Shooter      2.36      0.14      0.00         0.03           NaN   \n",
       "...             ...       ...       ...       ...          ...           ...   \n",
       "16373        Sports      0.01      0.00      0.00         0.00          43.0   \n",
       "16405        Racing      0.01      0.00      0.00         0.00          69.0   \n",
       "16448       Shooter      0.01      0.00      0.00         0.00          59.0   \n",
       "16458     Adventure      0.01      0.00      0.00         0.00           NaN   \n",
       "16522  Role-Playing      0.01      0.00      0.00         0.00          55.0   \n",
       "\n",
       "      user_score rating  \n",
       "183          8.5      E  \n",
       "377          6.4      E  \n",
       "456          7.9   E10+  \n",
       "475          NaN    NaN  \n",
       "609          NaN    NaN  \n",
       "...          ...    ...  \n",
       "16373        tbd   E10+  \n",
       "16405        6.5      T  \n",
       "16448        6.7      M  \n",
       "16458        NaN    NaN  \n",
       "16522        5.5      T  \n",
       "\n",
       "[269 rows x 11 columns]"
      ]
     },
     "execution_count": 10,
     "metadata": {},
     "output_type": "execute_result"
    }
   ],
   "source": [
    "data[data['year_of_release'].isna()]"
   ]
  },
  {
   "cell_type": "markdown",
   "metadata": {},
   "source": [
    "Можем заметить, что в целом, коме отстутвия даты выхода, данные достаточно полные. Заменим пропуски на 0 - это будет означать, что даты выхода неит, но не будет мешать нам в дальнейшем при работе. Также заменим тип данных на int для урощения восприятия и работы."
   ]
  },
  {
   "cell_type": "code",
   "execution_count": 11,
   "metadata": {},
   "outputs": [],
   "source": [
    "data['year_of_release'] = data['year_of_release'].fillna(0).astype('int')"
   ]
  },
  {
   "cell_type": "code",
   "execution_count": 12,
   "metadata": {},
   "outputs": [
    {
     "name": "stdout",
     "output_type": "stream",
     "text": [
      "<class 'pandas.core.frame.DataFrame'>\n",
      "Int64Index: 16713 entries, 0 to 16714\n",
      "Data columns (total 11 columns):\n",
      "name               16713 non-null object\n",
      "platform           16713 non-null object\n",
      "year_of_release    16713 non-null int64\n",
      "genre              16713 non-null object\n",
      "na_sales           16713 non-null float64\n",
      "eu_sales           16713 non-null float64\n",
      "jp_sales           16713 non-null float64\n",
      "other_sales        16713 non-null float64\n",
      "critic_score       8137 non-null float64\n",
      "user_score         10014 non-null object\n",
      "rating             9949 non-null object\n",
      "dtypes: float64(5), int64(1), object(5)\n",
      "memory usage: 1.5+ MB\n"
     ]
    }
   ],
   "source": [
    "data.info()"
   ]
  },
  {
   "cell_type": "markdown",
   "metadata": {},
   "source": [
    "Рассмотрим уникальные значения рейтинга игр."
   ]
  },
  {
   "cell_type": "code",
   "execution_count": 13,
   "metadata": {},
   "outputs": [
    {
     "data": {
      "text/plain": [
       "array(['E', nan, 'M', 'T', 'E10+', 'K-A', 'AO', 'EC', 'RP'], dtype=object)"
      ]
     },
     "execution_count": 13,
     "metadata": {},
     "output_type": "execute_result"
    }
   ],
   "source": [
    "data['rating'].unique()"
   ]
  },
  {
   "cell_type": "markdown",
   "metadata": {},
   "source": [
    "Обратимся к Википедии:\n",
    "* E - Everyone — Для всех\n",
    "* M - Mature — Для взрослых\n",
    "* T - Teen — Подросткам\n",
    "* E10+ - Everyone 10 and older — Для всех от 10 лет и старше\n",
    "* K-A - Kids to Adults - первоначальное обозначение E - Everyone\n",
    "* AO - Adults Only 18+ — Только для взрослых\n",
    "* EC - Early childhood — Для детей младшего возраста\n",
    "* RP - Rating Pending — Рейтинг ожидается\n",
    "\n",
    "\n",
    "Заменим обозначение *K-A* на *E*."
   ]
  },
  {
   "cell_type": "code",
   "execution_count": 14,
   "metadata": {},
   "outputs": [],
   "source": [
    "data.loc[data['rating'] == 'K-A', 'rating'] = 'E'"
   ]
  },
  {
   "cell_type": "markdown",
   "metadata": {},
   "source": [
    "Заполним все пропуски в рейтинге на *RP*"
   ]
  },
  {
   "cell_type": "code",
   "execution_count": 15,
   "metadata": {},
   "outputs": [],
   "source": [
    "data['rating'] = data['rating'].fillna('RP')"
   ]
  },
  {
   "cell_type": "markdown",
   "metadata": {},
   "source": [
    "Теперь рассмотрим оценки пользователей."
   ]
  },
  {
   "cell_type": "code",
   "execution_count": 16,
   "metadata": {},
   "outputs": [
    {
     "data": {
      "text/plain": [
       "array(['8', nan, '8.3', '8.5', '6.6', '8.4', '8.6', '7.7', '6.3', '7.4',\n",
       "       '8.2', '9', '7.9', '8.1', '8.7', '7.1', '3.4', '5.3', '4.8', '3.2',\n",
       "       '8.9', '6.4', '7.8', '7.5', '2.6', '7.2', '9.2', '7', '7.3', '4.3',\n",
       "       '7.6', '5.7', '5', '9.1', '6.5', 'tbd', '8.8', '6.9', '9.4', '6.8',\n",
       "       '6.1', '6.7', '5.4', '4', '4.9', '4.5', '9.3', '6.2', '4.2', '6',\n",
       "       '3.7', '4.1', '5.8', '5.6', '5.5', '4.4', '4.6', '5.9', '3.9',\n",
       "       '3.1', '2.9', '5.2', '3.3', '4.7', '5.1', '3.5', '2.5', '1.9', '3',\n",
       "       '2.7', '2.2', '2', '9.5', '2.1', '3.6', '2.8', '1.8', '3.8', '0',\n",
       "       '1.6', '9.6', '2.4', '1.7', '1.1', '0.3', '1.5', '0.7', '1.2',\n",
       "       '2.3', '0.5', '1.3', '0.2', '0.6', '1.4', '0.9', '1', '9.7'],\n",
       "      dtype=object)"
      ]
     },
     "execution_count": 16,
     "metadata": {},
     "output_type": "execute_result"
    }
   ],
   "source": [
    "data['user_score'].unique()"
   ]
  },
  {
   "cell_type": "markdown",
   "metadata": {},
   "source": [
    "Можем заметить оценку *tbd* - to be determined, то есть подлежит уточнению.\n",
    "\n",
    "Создадим отдельный столбец, где будет отмечено, была ли первоначально предоставлена информация об оценке."
   ]
  },
  {
   "cell_type": "code",
   "execution_count": 17,
   "metadata": {},
   "outputs": [
    {
     "data": {
      "text/html": [
       "<div>\n",
       "<style scoped>\n",
       "    .dataframe tbody tr th:only-of-type {\n",
       "        vertical-align: middle;\n",
       "    }\n",
       "\n",
       "    .dataframe tbody tr th {\n",
       "        vertical-align: top;\n",
       "    }\n",
       "\n",
       "    .dataframe thead th {\n",
       "        text-align: right;\n",
       "    }\n",
       "</style>\n",
       "<table border=\"1\" class=\"dataframe\">\n",
       "  <thead>\n",
       "    <tr style=\"text-align: right;\">\n",
       "      <th></th>\n",
       "      <th>name</th>\n",
       "      <th>platform</th>\n",
       "      <th>year_of_release</th>\n",
       "      <th>genre</th>\n",
       "      <th>na_sales</th>\n",
       "      <th>eu_sales</th>\n",
       "      <th>jp_sales</th>\n",
       "      <th>other_sales</th>\n",
       "      <th>critic_score</th>\n",
       "      <th>user_score</th>\n",
       "      <th>rating</th>\n",
       "      <th>user_score_kind</th>\n",
       "    </tr>\n",
       "  </thead>\n",
       "  <tbody>\n",
       "    <tr>\n",
       "      <td>0</td>\n",
       "      <td>Wii Sports</td>\n",
       "      <td>Wii</td>\n",
       "      <td>2006</td>\n",
       "      <td>Sports</td>\n",
       "      <td>41.36</td>\n",
       "      <td>28.96</td>\n",
       "      <td>3.77</td>\n",
       "      <td>8.45</td>\n",
       "      <td>76.0</td>\n",
       "      <td>8</td>\n",
       "      <td>E</td>\n",
       "      <td>score</td>\n",
       "    </tr>\n",
       "    <tr>\n",
       "      <td>1</td>\n",
       "      <td>Super Mario Bros.</td>\n",
       "      <td>NES</td>\n",
       "      <td>1985</td>\n",
       "      <td>Platform</td>\n",
       "      <td>29.08</td>\n",
       "      <td>3.58</td>\n",
       "      <td>6.81</td>\n",
       "      <td>0.77</td>\n",
       "      <td>NaN</td>\n",
       "      <td>NaN</td>\n",
       "      <td>RP</td>\n",
       "      <td>no rating</td>\n",
       "    </tr>\n",
       "    <tr>\n",
       "      <td>2</td>\n",
       "      <td>Mario Kart Wii</td>\n",
       "      <td>Wii</td>\n",
       "      <td>2008</td>\n",
       "      <td>Racing</td>\n",
       "      <td>15.68</td>\n",
       "      <td>12.76</td>\n",
       "      <td>3.79</td>\n",
       "      <td>3.29</td>\n",
       "      <td>82.0</td>\n",
       "      <td>8.3</td>\n",
       "      <td>E</td>\n",
       "      <td>score</td>\n",
       "    </tr>\n",
       "    <tr>\n",
       "      <td>3</td>\n",
       "      <td>Wii Sports Resort</td>\n",
       "      <td>Wii</td>\n",
       "      <td>2009</td>\n",
       "      <td>Sports</td>\n",
       "      <td>15.61</td>\n",
       "      <td>10.93</td>\n",
       "      <td>3.28</td>\n",
       "      <td>2.95</td>\n",
       "      <td>80.0</td>\n",
       "      <td>8</td>\n",
       "      <td>E</td>\n",
       "      <td>score</td>\n",
       "    </tr>\n",
       "    <tr>\n",
       "      <td>4</td>\n",
       "      <td>Pokemon Red/Pokemon Blue</td>\n",
       "      <td>GB</td>\n",
       "      <td>1996</td>\n",
       "      <td>Role-Playing</td>\n",
       "      <td>11.27</td>\n",
       "      <td>8.89</td>\n",
       "      <td>10.22</td>\n",
       "      <td>1.00</td>\n",
       "      <td>NaN</td>\n",
       "      <td>NaN</td>\n",
       "      <td>RP</td>\n",
       "      <td>no rating</td>\n",
       "    </tr>\n",
       "  </tbody>\n",
       "</table>\n",
       "</div>"
      ],
      "text/plain": [
       "                       name platform  year_of_release         genre  na_sales  \\\n",
       "0                Wii Sports      Wii             2006        Sports     41.36   \n",
       "1         Super Mario Bros.      NES             1985      Platform     29.08   \n",
       "2            Mario Kart Wii      Wii             2008        Racing     15.68   \n",
       "3         Wii Sports Resort      Wii             2009        Sports     15.61   \n",
       "4  Pokemon Red/Pokemon Blue       GB             1996  Role-Playing     11.27   \n",
       "\n",
       "   eu_sales  jp_sales  other_sales  critic_score user_score rating  \\\n",
       "0     28.96      3.77         8.45          76.0          8      E   \n",
       "1      3.58      6.81         0.77           NaN        NaN     RP   \n",
       "2     12.76      3.79         3.29          82.0        8.3      E   \n",
       "3     10.93      3.28         2.95          80.0          8      E   \n",
       "4      8.89     10.22         1.00           NaN        NaN     RP   \n",
       "\n",
       "  user_score_kind  \n",
       "0           score  \n",
       "1       no rating  \n",
       "2           score  \n",
       "3           score  \n",
       "4       no rating  "
      ]
     },
     "execution_count": 17,
     "metadata": {},
     "output_type": "execute_result"
    }
   ],
   "source": [
    "def kind_score(row):\n",
    "    if row['user_score'] == 'tbd':\n",
    "        return('tbd')\n",
    "    if pd.isna(row['user_score']):\n",
    "        return('no rating')\n",
    "    return('score')\n",
    "\n",
    "data['user_score_kind'] = data.apply(kind_score, axis=1)\n",
    "data.head()"
   ]
  },
  {
   "cell_type": "markdown",
   "metadata": {},
   "source": [
    "Теперь заменим пропуски и значения *tbd* на нули."
   ]
  },
  {
   "cell_type": "code",
   "execution_count": 18,
   "metadata": {},
   "outputs": [],
   "source": [
    "data['user_score'] = data['user_score'].fillna(0)\n",
    "data.loc[data['user_score'] == 'tbd', 'user_score'] = 0\n",
    "data['user_score'] = data['user_score'].astype('float')"
   ]
  },
  {
   "cell_type": "code",
   "execution_count": 19,
   "metadata": {},
   "outputs": [
    {
     "data": {
      "text/plain": [
       "array([8. , 0. , 8.3, 8.5, 6.6, 8.4, 8.6, 7.7, 6.3, 7.4, 8.2, 9. , 7.9,\n",
       "       8.1, 8.7, 7.1, 3.4, 5.3, 4.8, 3.2, 8.9, 6.4, 7.8, 7.5, 2.6, 7.2,\n",
       "       9.2, 7. , 7.3, 4.3, 7.6, 5.7, 5. , 9.1, 6.5, 8.8, 6.9, 9.4, 6.8,\n",
       "       6.1, 6.7, 5.4, 4. , 4.9, 4.5, 9.3, 6.2, 4.2, 6. , 3.7, 4.1, 5.8,\n",
       "       5.6, 5.5, 4.4, 4.6, 5.9, 3.9, 3.1, 2.9, 5.2, 3.3, 4.7, 5.1, 3.5,\n",
       "       2.5, 1.9, 3. , 2.7, 2.2, 2. , 9.5, 2.1, 3.6, 2.8, 1.8, 3.8, 1.6,\n",
       "       9.6, 2.4, 1.7, 1.1, 0.3, 1.5, 0.7, 1.2, 2.3, 0.5, 1.3, 0.2, 0.6,\n",
       "       1.4, 0.9, 1. , 9.7])"
      ]
     },
     "execution_count": 19,
     "metadata": {},
     "output_type": "execute_result"
    }
   ],
   "source": [
    "data['user_score'].unique()"
   ]
  },
  {
   "cell_type": "markdown",
   "metadata": {},
   "source": [
    "Теперь рассмотрим оценки критиков."
   ]
  },
  {
   "cell_type": "code",
   "execution_count": 20,
   "metadata": {},
   "outputs": [
    {
     "data": {
      "text/plain": [
       "array([76., nan, 82., 80., 89., 58., 87., 91., 61., 97., 95., 77., 88.,\n",
       "       83., 94., 93., 85., 86., 98., 96., 90., 84., 73., 74., 78., 92.,\n",
       "       71., 72., 68., 62., 49., 67., 81., 66., 56., 79., 70., 59., 64.,\n",
       "       75., 60., 63., 69., 50., 25., 42., 44., 55., 48., 57., 29., 47.,\n",
       "       65., 54., 20., 53., 37., 38., 33., 52., 30., 32., 43., 45., 51.,\n",
       "       40., 46., 39., 34., 35., 41., 36., 28., 31., 27., 26., 19., 23.,\n",
       "       24., 21., 17., 22., 13.])"
      ]
     },
     "execution_count": 20,
     "metadata": {},
     "output_type": "execute_result"
    }
   ],
   "source": [
    "data['critic_score'].unique()"
   ]
  },
  {
   "cell_type": "markdown",
   "metadata": {},
   "source": [
    "Можем заметить, что у критиков нет нулевых и странных оценок, есть только пропуски. Заменим их на нули и будем иметь в виду, что это не оцененные игры."
   ]
  },
  {
   "cell_type": "code",
   "execution_count": 21,
   "metadata": {},
   "outputs": [],
   "source": [
    "data['critic_score'] = data['critic_score'].fillna(0).astype('int')"
   ]
  },
  {
   "cell_type": "markdown",
   "metadata": {},
   "source": [
    "Посчитаем суммарные продажи во всех регионах и запишем их в отдельный столбец."
   ]
  },
  {
   "cell_type": "code",
   "execution_count": 22,
   "metadata": {},
   "outputs": [],
   "source": [
    "data['sum_sales'] = data['na_sales'] + data['eu_sales'] + data['jp_sales'] + data['other_sales']"
   ]
  },
  {
   "cell_type": "code",
   "execution_count": 23,
   "metadata": {},
   "outputs": [
    {
     "name": "stdout",
     "output_type": "stream",
     "text": [
      "<class 'pandas.core.frame.DataFrame'>\n",
      "Int64Index: 16713 entries, 0 to 16714\n",
      "Data columns (total 13 columns):\n",
      "name               16713 non-null object\n",
      "platform           16713 non-null object\n",
      "year_of_release    16713 non-null int64\n",
      "genre              16713 non-null object\n",
      "na_sales           16713 non-null float64\n",
      "eu_sales           16713 non-null float64\n",
      "jp_sales           16713 non-null float64\n",
      "other_sales        16713 non-null float64\n",
      "critic_score       16713 non-null int64\n",
      "user_score         16713 non-null float64\n",
      "rating             16713 non-null object\n",
      "user_score_kind    16713 non-null object\n",
      "sum_sales          16713 non-null float64\n",
      "dtypes: float64(6), int64(2), object(5)\n",
      "memory usage: 1.8+ MB\n"
     ]
    }
   ],
   "source": [
    "data.info()"
   ]
  },
  {
   "cell_type": "markdown",
   "metadata": {},
   "source": [
    "## Исследовательский анализ данных\n",
    "[*Назад к оглавлению*](#content)"
   ]
  },
  {
   "cell_type": "markdown",
   "metadata": {},
   "source": [
    "Посмотрим, сколько игр выпускалось в разные годы. <a id='part_1.1'></a>"
   ]
  },
  {
   "cell_type": "code",
   "execution_count": 24,
   "metadata": {},
   "outputs": [
    {
     "data": {
      "text/html": [
       "<div>\n",
       "<style scoped>\n",
       "    .dataframe tbody tr th:only-of-type {\n",
       "        vertical-align: middle;\n",
       "    }\n",
       "\n",
       "    .dataframe tbody tr th {\n",
       "        vertical-align: top;\n",
       "    }\n",
       "\n",
       "    .dataframe thead th {\n",
       "        text-align: right;\n",
       "    }\n",
       "</style>\n",
       "<table border=\"1\" class=\"dataframe\">\n",
       "  <thead>\n",
       "    <tr style=\"text-align: right;\">\n",
       "      <th></th>\n",
       "      <th>name</th>\n",
       "    </tr>\n",
       "    <tr>\n",
       "      <th>year_of_release</th>\n",
       "      <th></th>\n",
       "    </tr>\n",
       "  </thead>\n",
       "  <tbody>\n",
       "    <tr>\n",
       "      <td>0</td>\n",
       "      <td>269</td>\n",
       "    </tr>\n",
       "    <tr>\n",
       "      <td>1980</td>\n",
       "      <td>9</td>\n",
       "    </tr>\n",
       "    <tr>\n",
       "      <td>1981</td>\n",
       "      <td>46</td>\n",
       "    </tr>\n",
       "    <tr>\n",
       "      <td>1982</td>\n",
       "      <td>36</td>\n",
       "    </tr>\n",
       "    <tr>\n",
       "      <td>1983</td>\n",
       "      <td>17</td>\n",
       "    </tr>\n",
       "    <tr>\n",
       "      <td>1984</td>\n",
       "      <td>14</td>\n",
       "    </tr>\n",
       "    <tr>\n",
       "      <td>1985</td>\n",
       "      <td>14</td>\n",
       "    </tr>\n",
       "    <tr>\n",
       "      <td>1986</td>\n",
       "      <td>21</td>\n",
       "    </tr>\n",
       "    <tr>\n",
       "      <td>1987</td>\n",
       "      <td>16</td>\n",
       "    </tr>\n",
       "    <tr>\n",
       "      <td>1988</td>\n",
       "      <td>15</td>\n",
       "    </tr>\n",
       "    <tr>\n",
       "      <td>1989</td>\n",
       "      <td>17</td>\n",
       "    </tr>\n",
       "    <tr>\n",
       "      <td>1990</td>\n",
       "      <td>16</td>\n",
       "    </tr>\n",
       "    <tr>\n",
       "      <td>1991</td>\n",
       "      <td>41</td>\n",
       "    </tr>\n",
       "    <tr>\n",
       "      <td>1992</td>\n",
       "      <td>43</td>\n",
       "    </tr>\n",
       "    <tr>\n",
       "      <td>1993</td>\n",
       "      <td>60</td>\n",
       "    </tr>\n",
       "    <tr>\n",
       "      <td>1994</td>\n",
       "      <td>121</td>\n",
       "    </tr>\n",
       "    <tr>\n",
       "      <td>1995</td>\n",
       "      <td>219</td>\n",
       "    </tr>\n",
       "    <tr>\n",
       "      <td>1996</td>\n",
       "      <td>263</td>\n",
       "    </tr>\n",
       "    <tr>\n",
       "      <td>1997</td>\n",
       "      <td>289</td>\n",
       "    </tr>\n",
       "    <tr>\n",
       "      <td>1998</td>\n",
       "      <td>379</td>\n",
       "    </tr>\n",
       "    <tr>\n",
       "      <td>1999</td>\n",
       "      <td>338</td>\n",
       "    </tr>\n",
       "    <tr>\n",
       "      <td>2000</td>\n",
       "      <td>350</td>\n",
       "    </tr>\n",
       "    <tr>\n",
       "      <td>2001</td>\n",
       "      <td>482</td>\n",
       "    </tr>\n",
       "    <tr>\n",
       "      <td>2002</td>\n",
       "      <td>829</td>\n",
       "    </tr>\n",
       "    <tr>\n",
       "      <td>2003</td>\n",
       "      <td>775</td>\n",
       "    </tr>\n",
       "    <tr>\n",
       "      <td>2004</td>\n",
       "      <td>762</td>\n",
       "    </tr>\n",
       "    <tr>\n",
       "      <td>2005</td>\n",
       "      <td>939</td>\n",
       "    </tr>\n",
       "    <tr>\n",
       "      <td>2006</td>\n",
       "      <td>1006</td>\n",
       "    </tr>\n",
       "    <tr>\n",
       "      <td>2007</td>\n",
       "      <td>1197</td>\n",
       "    </tr>\n",
       "    <tr>\n",
       "      <td>2008</td>\n",
       "      <td>1427</td>\n",
       "    </tr>\n",
       "    <tr>\n",
       "      <td>2009</td>\n",
       "      <td>1426</td>\n",
       "    </tr>\n",
       "    <tr>\n",
       "      <td>2010</td>\n",
       "      <td>1255</td>\n",
       "    </tr>\n",
       "    <tr>\n",
       "      <td>2011</td>\n",
       "      <td>1136</td>\n",
       "    </tr>\n",
       "    <tr>\n",
       "      <td>2012</td>\n",
       "      <td>653</td>\n",
       "    </tr>\n",
       "    <tr>\n",
       "      <td>2013</td>\n",
       "      <td>544</td>\n",
       "    </tr>\n",
       "    <tr>\n",
       "      <td>2014</td>\n",
       "      <td>581</td>\n",
       "    </tr>\n",
       "    <tr>\n",
       "      <td>2015</td>\n",
       "      <td>606</td>\n",
       "    </tr>\n",
       "    <tr>\n",
       "      <td>2016</td>\n",
       "      <td>502</td>\n",
       "    </tr>\n",
       "  </tbody>\n",
       "</table>\n",
       "</div>"
      ],
      "text/plain": [
       "                 name\n",
       "year_of_release      \n",
       "0                 269\n",
       "1980                9\n",
       "1981               46\n",
       "1982               36\n",
       "1983               17\n",
       "1984               14\n",
       "1985               14\n",
       "1986               21\n",
       "1987               16\n",
       "1988               15\n",
       "1989               17\n",
       "1990               16\n",
       "1991               41\n",
       "1992               43\n",
       "1993               60\n",
       "1994              121\n",
       "1995              219\n",
       "1996              263\n",
       "1997              289\n",
       "1998              379\n",
       "1999              338\n",
       "2000              350\n",
       "2001              482\n",
       "2002              829\n",
       "2003              775\n",
       "2004              762\n",
       "2005              939\n",
       "2006             1006\n",
       "2007             1197\n",
       "2008             1427\n",
       "2009             1426\n",
       "2010             1255\n",
       "2011             1136\n",
       "2012              653\n",
       "2013              544\n",
       "2014              581\n",
       "2015              606\n",
       "2016              502"
      ]
     },
     "execution_count": 24,
     "metadata": {},
     "output_type": "execute_result"
    }
   ],
   "source": [
    "data_years = data.pivot_table(index='year_of_release', values='name', aggfunc='count')\n",
    "data_years"
   ]
  },
  {
   "cell_type": "code",
   "execution_count": 25,
   "metadata": {},
   "outputs": [
    {
     "data": {
      "text/plain": [
       "<matplotlib.axes._subplots.AxesSubplot at 0x7f44a3518150>"
      ]
     },
     "execution_count": 25,
     "metadata": {},
     "output_type": "execute_result"
    },
    {
     "data": {
      "image/png": "[encoded data removed]",
      "text/plain": [
       "<Figure size 432x288 with 1 Axes>"
      ]
     },
     "metadata": {
      "needs_background": "light"
     },
     "output_type": "display_data"
    }
   ],
   "source": [
    "data_years[data_years.index > 0].plot()"
   ]
  },
  {
   "cell_type": "markdown",
   "metadata": {},
   "source": [
    "Можем заметить, что до 2008-2009 наблюдался рост количества выпущенных игр, а потом пошел спад. Скорее всего это связано с тем, что с течением времени игры становились сложнее и дороже в производстве, времени на разработку требуется все больше.\n",
    "\n",
    "До 1995 года игр выпускалось совсем мало, рассматривать их нет смысла."
   ]
  },
  {
   "cell_type": "markdown",
   "metadata": {},
   "source": [
    "Посмотрим, как менялись продажи по платформам. <a id='part_1.2'></a>"
   ]
  },
  {
   "cell_type": "code",
   "execution_count": 26,
   "metadata": {},
   "outputs": [
    {
     "data": {
      "text/html": [
       "<div>\n",
       "<style scoped>\n",
       "    .dataframe tbody tr th:only-of-type {\n",
       "        vertical-align: middle;\n",
       "    }\n",
       "\n",
       "    .dataframe tbody tr th {\n",
       "        vertical-align: top;\n",
       "    }\n",
       "\n",
       "    .dataframe thead th {\n",
       "        text-align: right;\n",
       "    }\n",
       "</style>\n",
       "<table border=\"1\" class=\"dataframe\">\n",
       "  <thead>\n",
       "    <tr style=\"text-align: right;\">\n",
       "      <th></th>\n",
       "      <th>sum_sales</th>\n",
       "    </tr>\n",
       "    <tr>\n",
       "      <th>platform</th>\n",
       "      <th></th>\n",
       "    </tr>\n",
       "  </thead>\n",
       "  <tbody>\n",
       "    <tr>\n",
       "      <td>PS2</td>\n",
       "      <td>1255.77</td>\n",
       "    </tr>\n",
       "    <tr>\n",
       "      <td>X360</td>\n",
       "      <td>971.42</td>\n",
       "    </tr>\n",
       "    <tr>\n",
       "      <td>PS3</td>\n",
       "      <td>939.65</td>\n",
       "    </tr>\n",
       "    <tr>\n",
       "      <td>Wii</td>\n",
       "      <td>907.51</td>\n",
       "    </tr>\n",
       "    <tr>\n",
       "      <td>DS</td>\n",
       "      <td>806.12</td>\n",
       "    </tr>\n",
       "    <tr>\n",
       "      <td>PS</td>\n",
       "      <td>730.86</td>\n",
       "    </tr>\n",
       "    <tr>\n",
       "      <td>GBA</td>\n",
       "      <td>317.85</td>\n",
       "    </tr>\n",
       "    <tr>\n",
       "      <td>PS4</td>\n",
       "      <td>314.14</td>\n",
       "    </tr>\n",
       "    <tr>\n",
       "      <td>PSP</td>\n",
       "      <td>294.05</td>\n",
       "    </tr>\n",
       "    <tr>\n",
       "      <td>PC</td>\n",
       "      <td>259.52</td>\n",
       "    </tr>\n",
       "    <tr>\n",
       "      <td>3DS</td>\n",
       "      <td>259.00</td>\n",
       "    </tr>\n",
       "    <tr>\n",
       "      <td>XB</td>\n",
       "      <td>257.74</td>\n",
       "    </tr>\n",
       "    <tr>\n",
       "      <td>GB</td>\n",
       "      <td>255.46</td>\n",
       "    </tr>\n",
       "    <tr>\n",
       "      <td>NES</td>\n",
       "      <td>251.05</td>\n",
       "    </tr>\n",
       "    <tr>\n",
       "      <td>N64</td>\n",
       "      <td>218.68</td>\n",
       "    </tr>\n",
       "    <tr>\n",
       "      <td>SNES</td>\n",
       "      <td>200.04</td>\n",
       "    </tr>\n",
       "    <tr>\n",
       "      <td>GC</td>\n",
       "      <td>198.93</td>\n",
       "    </tr>\n",
       "    <tr>\n",
       "      <td>XOne</td>\n",
       "      <td>159.32</td>\n",
       "    </tr>\n",
       "    <tr>\n",
       "      <td>2600</td>\n",
       "      <td>96.98</td>\n",
       "    </tr>\n",
       "    <tr>\n",
       "      <td>WiiU</td>\n",
       "      <td>82.19</td>\n",
       "    </tr>\n",
       "    <tr>\n",
       "      <td>PSV</td>\n",
       "      <td>54.07</td>\n",
       "    </tr>\n",
       "    <tr>\n",
       "      <td>SAT</td>\n",
       "      <td>33.59</td>\n",
       "    </tr>\n",
       "    <tr>\n",
       "      <td>GEN</td>\n",
       "      <td>28.35</td>\n",
       "    </tr>\n",
       "    <tr>\n",
       "      <td>DC</td>\n",
       "      <td>15.95</td>\n",
       "    </tr>\n",
       "    <tr>\n",
       "      <td>SCD</td>\n",
       "      <td>1.86</td>\n",
       "    </tr>\n",
       "    <tr>\n",
       "      <td>NG</td>\n",
       "      <td>1.44</td>\n",
       "    </tr>\n",
       "    <tr>\n",
       "      <td>WS</td>\n",
       "      <td>1.42</td>\n",
       "    </tr>\n",
       "    <tr>\n",
       "      <td>TG16</td>\n",
       "      <td>0.16</td>\n",
       "    </tr>\n",
       "    <tr>\n",
       "      <td>3DO</td>\n",
       "      <td>0.10</td>\n",
       "    </tr>\n",
       "    <tr>\n",
       "      <td>GG</td>\n",
       "      <td>0.04</td>\n",
       "    </tr>\n",
       "    <tr>\n",
       "      <td>PCFX</td>\n",
       "      <td>0.03</td>\n",
       "    </tr>\n",
       "  </tbody>\n",
       "</table>\n",
       "</div>"
      ],
      "text/plain": [
       "          sum_sales\n",
       "platform           \n",
       "PS2         1255.77\n",
       "X360         971.42\n",
       "PS3          939.65\n",
       "Wii          907.51\n",
       "DS           806.12\n",
       "PS           730.86\n",
       "GBA          317.85\n",
       "PS4          314.14\n",
       "PSP          294.05\n",
       "PC           259.52\n",
       "3DS          259.00\n",
       "XB           257.74\n",
       "GB           255.46\n",
       "NES          251.05\n",
       "N64          218.68\n",
       "SNES         200.04\n",
       "GC           198.93\n",
       "XOne         159.32\n",
       "2600          96.98\n",
       "WiiU          82.19\n",
       "PSV           54.07\n",
       "SAT           33.59\n",
       "GEN           28.35\n",
       "DC            15.95\n",
       "SCD            1.86\n",
       "NG             1.44\n",
       "WS             1.42\n",
       "TG16           0.16\n",
       "3DO            0.10\n",
       "GG             0.04\n",
       "PCFX           0.03"
      ]
     },
     "execution_count": 26,
     "metadata": {},
     "output_type": "execute_result"
    }
   ],
   "source": [
    "data.pivot_table(index='platform', values='sum_sales', aggfunc='sum').sort_values(by = 'sum_sales',ascending = False)"
   ]
  },
  {
   "cell_type": "markdown",
   "metadata": {},
   "source": [
    "Рассмотрим платформы с наибольшими суммарными продажами и построим распределение по годам."
   ]
  },
  {
   "cell_type": "code",
   "execution_count": 27,
   "metadata": {},
   "outputs": [],
   "source": [
    "def scatter_platforms(platform):\n",
    "    fig, ax = plt.subplots()\n",
    "    plt.scatter(data[(data['platform'] == platform)&(data['year_of_release'] != 0)]['year_of_release'], \n",
    "                data[(data['platform'] == platform)&(data['year_of_release'] != 0)]['sum_sales'], alpha=0.2)\n",
    "    ax.grid()\n",
    "    ax.set_title(platform)\n",
    "    ax.set_xlabel('years')\n",
    "    ax.set_ylabel('sum_sales')"
   ]
  },
  {
   "cell_type": "code",
   "execution_count": 28,
   "metadata": {},
   "outputs": [
    {
     "data": {
      "image/png": "[encoded data removed]",
      "text/plain": [
       "<Figure size 432x288 with 1 Axes>"
      ]
     },
     "metadata": {
      "needs_background": "light"
     },
     "output_type": "display_data"
    }
   ],
   "source": [
    "scatter_platforms('PS2')"
   ]
  },
  {
   "cell_type": "code",
   "execution_count": 29,
   "metadata": {},
   "outputs": [
    {
     "data": {
      "image/png": "[encoded data removed]",
      "text/plain": [
       "<Figure size 432x288 with 1 Axes>"
      ]
     },
     "metadata": {
      "needs_background": "light"
     },
     "output_type": "display_data"
    }
   ],
   "source": [
    "scatter_platforms('X360')"
   ]
  },
  {
   "cell_type": "code",
   "execution_count": 30,
   "metadata": {},
   "outputs": [
    {
     "data": {
      "image/png": "[encoded data removed]",
      "text/plain": [
       "<Figure size 432x288 with 1 Axes>"
      ]
     },
     "metadata": {
      "needs_background": "light"
     },
     "output_type": "display_data"
    }
   ],
   "source": [
    "scatter_platforms('Wii')"
   ]
  },
  {
   "cell_type": "code",
   "execution_count": 31,
   "metadata": {},
   "outputs": [
    {
     "data": {
      "image/png": "[encoded data removed]",
      "text/plain": [
       "<Figure size 432x288 with 1 Axes>"
      ]
     },
     "metadata": {
      "needs_background": "light"
     },
     "output_type": "display_data"
    }
   ],
   "source": [
    "scatter_platforms('PS3')"
   ]
  },
  {
   "cell_type": "code",
   "execution_count": 32,
   "metadata": {},
   "outputs": [
    {
     "data": {
      "image/png": "[encoded data removed]",
      "text/plain": [
       "<Figure size 432x288 with 1 Axes>"
      ]
     },
     "metadata": {
      "needs_background": "light"
     },
     "output_type": "display_data"
    }
   ],
   "source": [
    "scatter_platforms('DS')"
   ]
  },
  {
   "cell_type": "code",
   "execution_count": 33,
   "metadata": {},
   "outputs": [
    {
     "data": {
      "image/png": "[encoded data removed]",
      "text/plain": [
       "<Figure size 432x288 with 1 Axes>"
      ]
     },
     "metadata": {
      "needs_background": "light"
     },
     "output_type": "display_data"
    }
   ],
   "source": [
    "scatter_platforms('PS')"
   ]
  },
  {
   "cell_type": "code",
   "execution_count": 34,
   "metadata": {},
   "outputs": [
    {
     "data": {
      "image/png": "[encoded data removed]",
      "text/plain": [
       "<Figure size 432x288 with 1 Axes>"
      ]
     },
     "metadata": {
      "needs_background": "light"
     },
     "output_type": "display_data"
    }
   ],
   "source": [
    "scatter_platforms('GBA')"
   ]
  },
  {
   "cell_type": "code",
   "execution_count": 35,
   "metadata": {},
   "outputs": [
    {
     "data": {
      "image/png": "[encoded data removed]",
      "text/plain": [
       "<Figure size 432x288 with 1 Axes>"
      ]
     },
     "metadata": {
      "needs_background": "light"
     },
     "output_type": "display_data"
    }
   ],
   "source": [
    "scatter_platforms('PS4')"
   ]
  },
  {
   "cell_type": "code",
   "execution_count": 36,
   "metadata": {},
   "outputs": [
    {
     "data": {
      "image/png": "[encoded data removed]",
      "text/plain": [
       "<Figure size 432x288 with 1 Axes>"
      ]
     },
     "metadata": {
      "needs_background": "light"
     },
     "output_type": "display_data"
    }
   ],
   "source": [
    "scatter_platforms('PSP')"
   ]
  },
  {
   "cell_type": "code",
   "execution_count": 37,
   "metadata": {},
   "outputs": [
    {
     "data": {
      "image/png": "[encoded data removed]",
      "text/plain": [
       "<Figure size 432x288 with 1 Axes>"
      ]
     },
     "metadata": {
      "needs_background": "light"
     },
     "output_type": "display_data"
    }
   ],
   "source": [
    "scatter_platforms('XB')"
   ]
  },
  {
   "cell_type": "code",
   "execution_count": 38,
   "metadata": {},
   "outputs": [
    {
     "data": {
      "image/png": "[encoded data removed]",
      "text/plain": [
       "<Figure size 432x288 with 1 Axes>"
      ]
     },
     "metadata": {
      "needs_background": "light"
     },
     "output_type": "display_data"
    }
   ],
   "source": [
    "scatter_platforms('3DS')"
   ]
  },
  {
   "cell_type": "code",
   "execution_count": 39,
   "metadata": {},
   "outputs": [
    {
     "data": {
      "image/png": "[encoded data removed]",
      "text/plain": [
       "<Figure size 432x288 with 1 Axes>"
      ]
     },
     "metadata": {
      "needs_background": "light"
     },
     "output_type": "display_data"
    }
   ],
   "source": [
    "scatter_platforms('PC')"
   ]
  },
  {
   "cell_type": "code",
   "execution_count": 40,
   "metadata": {},
   "outputs": [
    {
     "data": {
      "image/png": "[encoded data removed]",
      "text/plain": [
       "<Figure size 432x288 with 1 Axes>"
      ]
     },
     "metadata": {
      "needs_background": "light"
     },
     "output_type": "display_data"
    }
   ],
   "source": [
    "scatter_platforms('WiiU')"
   ]
  },
  {
   "cell_type": "markdown",
   "metadata": {},
   "source": [
    "В среднем можно заметить, что платформы устаревают за 8-12 лет. Своего пика продаж платформы достигают где-то в середине. Для того, чтобы посотроить прогноз на 2017 год, будем брать данные начиная с 2013 года."
   ]
  },
  {
   "cell_type": "markdown",
   "metadata": {},
   "source": [
    "Определим наиболее перспективные платформы.  <a id='part_1.3'></a>"
   ]
  },
  {
   "cell_type": "code",
   "execution_count": 41,
   "metadata": {},
   "outputs": [
    {
     "data": {
      "text/html": [
       "<div>\n",
       "<style scoped>\n",
       "    .dataframe tbody tr th:only-of-type {\n",
       "        vertical-align: middle;\n",
       "    }\n",
       "\n",
       "    .dataframe tbody tr th {\n",
       "        vertical-align: top;\n",
       "    }\n",
       "\n",
       "    .dataframe thead th {\n",
       "        text-align: right;\n",
       "    }\n",
       "</style>\n",
       "<table border=\"1\" class=\"dataframe\">\n",
       "  <thead>\n",
       "    <tr style=\"text-align: right;\">\n",
       "      <th></th>\n",
       "      <th>sum_sales</th>\n",
       "    </tr>\n",
       "    <tr>\n",
       "      <th>platform</th>\n",
       "      <th></th>\n",
       "    </tr>\n",
       "  </thead>\n",
       "  <tbody>\n",
       "    <tr>\n",
       "      <td>PS4</td>\n",
       "      <td>314.14</td>\n",
       "    </tr>\n",
       "    <tr>\n",
       "      <td>PS3</td>\n",
       "      <td>181.43</td>\n",
       "    </tr>\n",
       "    <tr>\n",
       "      <td>XOne</td>\n",
       "      <td>159.32</td>\n",
       "    </tr>\n",
       "    <tr>\n",
       "      <td>3DS</td>\n",
       "      <td>143.25</td>\n",
       "    </tr>\n",
       "    <tr>\n",
       "      <td>X360</td>\n",
       "      <td>136.80</td>\n",
       "    </tr>\n",
       "    <tr>\n",
       "      <td>WiiU</td>\n",
       "      <td>64.63</td>\n",
       "    </tr>\n",
       "    <tr>\n",
       "      <td>PC</td>\n",
       "      <td>39.43</td>\n",
       "    </tr>\n",
       "    <tr>\n",
       "      <td>PSV</td>\n",
       "      <td>32.99</td>\n",
       "    </tr>\n",
       "    <tr>\n",
       "      <td>Wii</td>\n",
       "      <td>13.66</td>\n",
       "    </tr>\n",
       "    <tr>\n",
       "      <td>PSP</td>\n",
       "      <td>3.50</td>\n",
       "    </tr>\n",
       "    <tr>\n",
       "      <td>DS</td>\n",
       "      <td>1.54</td>\n",
       "    </tr>\n",
       "  </tbody>\n",
       "</table>\n",
       "</div>"
      ],
      "text/plain": [
       "          sum_sales\n",
       "platform           \n",
       "PS4          314.14\n",
       "PS3          181.43\n",
       "XOne         159.32\n",
       "3DS          143.25\n",
       "X360         136.80\n",
       "WiiU          64.63\n",
       "PC            39.43\n",
       "PSV           32.99\n",
       "Wii           13.66\n",
       "PSP            3.50\n",
       "DS             1.54"
      ]
     },
     "execution_count": 41,
     "metadata": {},
     "output_type": "execute_result"
    }
   ],
   "source": [
    "data[data['year_of_release'] > 2012].pivot_table(index='platform', \n",
    "                                               values='sum_sales', \n",
    "                                               aggfunc='sum').sort_values(by = 'sum_sales',ascending = False)"
   ]
  },
  {
   "cell_type": "markdown",
   "metadata": {},
   "source": [
    "Из лидирующих платформ X360, PS3, Wii, DS, PSP уже приходят к закату своей карьеры. В дальнейшем будем рассматривать наиболее перспективные платформы: PS4, 3DS, XOne, PC."
   ]
  },
  {
   "cell_type": "code",
   "execution_count": 42,
   "metadata": {},
   "outputs": [],
   "source": [
    "data_cut = data[data['year_of_release'] > 2012]\n",
    "data_cut = data_cut[(data_cut['platform'] == 'PS4')|\n",
    "                    (data_cut['platform'] == '3DS')|\n",
    "                    (data_cut['platform'] == 'XOne')|\n",
    "                    (data_cut['platform'] == 'PC')]"
   ]
  },
  {
   "cell_type": "code",
   "execution_count": 43,
   "metadata": {},
   "outputs": [
    {
     "data": {
      "image/png": "[encoded data removed]",
      "text/plain": [
       "<Figure size 432x288 with 1 Axes>"
      ]
     },
     "metadata": {
      "needs_background": "light"
     },
     "output_type": "display_data"
    }
   ],
   "source": [
    "ax = sns.boxplot(x='platform', y='sum_sales', data=data_cut)"
   ]
  },
  {
   "cell_type": "code",
   "execution_count": 44,
   "metadata": {},
   "outputs": [
    {
     "data": {
      "image/png": "[encoded data removed]",
      "text/plain": [
       "<Figure size 432x288 with 1 Axes>"
      ]
     },
     "metadata": {
      "needs_background": "light"
     },
     "output_type": "display_data"
    }
   ],
   "source": [
    "ax = sns.boxplot(x='platform', y='sum_sales', data=data_cut[data_cut['sum_sales'] < 2])"
   ]
  },
  {
   "cell_type": "markdown",
   "metadata": {},
   "source": [
    "Можно заметить, что медианные продажи выше всего на XOne, а ниже всего - на PC. Второе и третье место заняли соответсвенно PS4 и 3DS."
   ]
  },
  {
   "cell_type": "markdown",
   "metadata": {},
   "source": [
    "Посмотрим, как влияют на продажи внутри одной платформы отзывы пользователей и критиков. <a id='part_1.4'></a>\n",
    "\n",
    "Рассмотрим PS4."
   ]
  },
  {
   "cell_type": "code",
   "execution_count": 45,
   "metadata": {},
   "outputs": [],
   "source": [
    "def platform_options(platform):\n",
    "    fig, axes = plt.subplots(1, 2, figsize=(16, 5))\n",
    "    axes[0].scatter(data_cut[(data_cut['platform'] == platform)&(data_cut['critic_score'] != 0)]['critic_score'], \n",
    "            data_cut[(data_cut['platform'] == platform)&(data_cut['critic_score'] != 0)]['sum_sales'], alpha=0.5)\n",
    "    axes[0].set_title('Dependence of sales on the rating of critics')\n",
    "    axes[0].set_xlabel('critic_score')\n",
    "    axes[0].set_ylabel('sum_sales')\n",
    "    axes[1].scatter(data_cut[(data_cut['platform'] == platform)&(data_cut['user_score_kind'] == 'score')]['user_score'], \n",
    "            data_cut[(data_cut['platform'] == platform)&(data_cut['user_score_kind'] == 'score')]['sum_sales'], alpha=0.5)\n",
    "    axes[1].set_title('Dependence of sales on player ratings')\n",
    "    axes[1].set_xlabel('user_score')\n",
    "    axes[1].set_ylabel('sum_sales')\n",
    "    \n",
    "    print('Корреляция между оценкой критиков и продажами', data_cut[(data_cut['platform'] == platform)&(\n",
    "        data_cut['critic_score'] != 0)]['critic_score'].corr(\n",
    "        data_cut[(data_cut['platform'] == platform)&(data_cut['critic_score'] != 0)]['sum_sales']))\n",
    "    print('Корреляция между оценкой игроков и продажами', data_cut[(data_cut['platform'] == platform)&(\n",
    "        data_cut['user_score_kind'] == 'score')]['user_score'].corr(\n",
    "        data_cut[(data_cut['platform'] == platform)&(data_cut['user_score_kind'] == 'score')]['sum_sales']))"
   ]
  },
  {
   "cell_type": "code",
   "execution_count": 46,
   "metadata": {},
   "outputs": [
    {
     "name": "stdout",
     "output_type": "stream",
     "text": [
      "Корреляция между оценкой критиков и продажами 0.40656790206178095\n",
      "Корреляция между оценкой игроков и продажами -0.031957110204556424\n"
     ]
    },
    {
     "data": {
      "image/png": "[encoded data removed]",
      "text/plain": [
       "<Figure size 1152x360 with 2 Axes>"
      ]
     },
     "metadata": {
      "needs_background": "light"
     },
     "output_type": "display_data"
    }
   ],
   "source": [
    "platform_options('PS4')"
   ]
  },
  {
   "cell_type": "markdown",
   "metadata": {},
   "source": [
    "Можем заметить, что корреляция между оценками критиков и продажами более выраженная, чем между оценками игроков и продажами. Это можно объяснить тем, что в целом люди доверяют критикам - профессионалам, которые давно работают в сфере игр. Оценки же других игроков, видимо, не столь убедительны."
   ]
  },
  {
   "cell_type": "markdown",
   "metadata": {},
   "source": [
    "Проверим наши выводы на остальных трех платформах"
   ]
  },
  {
   "cell_type": "code",
   "execution_count": 47,
   "metadata": {},
   "outputs": [
    {
     "name": "stdout",
     "output_type": "stream",
     "text": [
      "Корреляция между оценкой критиков и продажами 0.4169983280084017\n",
      "Корреляция между оценкой игроков и продажами -0.06892505328279414\n"
     ]
    },
    {
     "data": {
      "image/png": "[encoded data removed]",
      "text/plain": [
       "<Figure size 1152x360 with 2 Axes>"
      ]
     },
     "metadata": {
      "needs_background": "light"
     },
     "output_type": "display_data"
    }
   ],
   "source": [
    "platform_options('XOne')"
   ]
  },
  {
   "cell_type": "code",
   "execution_count": 48,
   "metadata": {},
   "outputs": [
    {
     "name": "stdout",
     "output_type": "stream",
     "text": [
      "Корреляция между оценкой критиков и продажами 0.3570566142288103\n",
      "Корреляция между оценкой игроков и продажами 0.24150411773563016\n"
     ]
    },
    {
     "data": {
      "image/png": "[encoded data removed]",
      "text/plain": [
       "<Figure size 1152x360 with 2 Axes>"
      ]
     },
     "metadata": {
      "needs_background": "light"
     },
     "output_type": "display_data"
    }
   ],
   "source": [
    "platform_options('3DS')"
   ]
  },
  {
   "cell_type": "code",
   "execution_count": 49,
   "metadata": {},
   "outputs": [
    {
     "name": "stdout",
     "output_type": "stream",
     "text": [
      "Корреляция между оценкой критиков и продажами 0.19603028294369382\n",
      "Корреляция между оценкой игроков и продажами -0.0938418695247674\n"
     ]
    },
    {
     "data": {
      "image/png": "[encoded data removed]",
      "text/plain": [
       "<Figure size 1152x360 with 2 Axes>"
      ]
     },
     "metadata": {
      "needs_background": "light"
     },
     "output_type": "display_data"
    }
   ],
   "source": [
    "platform_options('PC')"
   ]
  },
  {
   "cell_type": "markdown",
   "metadata": {},
   "source": [
    "Из всех платформ выделяется 3DS - на ней игроки все еще больше доверяют критикам, но прислушиваются и к другим игрокам."
   ]
  },
  {
   "cell_type": "markdown",
   "metadata": {},
   "source": [
    "Посмотрим на общее распределение игр по жанрам"
   ]
  },
  {
   "cell_type": "code",
   "execution_count": 50,
   "metadata": {},
   "outputs": [
    {
     "data": {
      "text/html": [
       "<div>\n",
       "<style scoped>\n",
       "    .dataframe tbody tr th:only-of-type {\n",
       "        vertical-align: middle;\n",
       "    }\n",
       "\n",
       "    .dataframe tbody tr th {\n",
       "        vertical-align: top;\n",
       "    }\n",
       "\n",
       "    .dataframe thead th {\n",
       "        text-align: right;\n",
       "    }\n",
       "</style>\n",
       "<table border=\"1\" class=\"dataframe\">\n",
       "  <thead>\n",
       "    <tr style=\"text-align: right;\">\n",
       "      <th></th>\n",
       "      <th>sum_sales</th>\n",
       "    </tr>\n",
       "    <tr>\n",
       "      <th>genre</th>\n",
       "      <th></th>\n",
       "    </tr>\n",
       "  </thead>\n",
       "  <tbody>\n",
       "    <tr>\n",
       "      <td>Action</td>\n",
       "      <td>174.71</td>\n",
       "    </tr>\n",
       "    <tr>\n",
       "      <td>Shooter</td>\n",
       "      <td>158.79</td>\n",
       "    </tr>\n",
       "    <tr>\n",
       "      <td>Role-Playing</td>\n",
       "      <td>111.78</td>\n",
       "    </tr>\n",
       "    <tr>\n",
       "      <td>Sports</td>\n",
       "      <td>86.13</td>\n",
       "    </tr>\n",
       "    <tr>\n",
       "      <td>Misc</td>\n",
       "      <td>23.43</td>\n",
       "    </tr>\n",
       "    <tr>\n",
       "      <td>Racing</td>\n",
       "      <td>22.90</td>\n",
       "    </tr>\n",
       "    <tr>\n",
       "      <td>Simulation</td>\n",
       "      <td>19.56</td>\n",
       "    </tr>\n",
       "    <tr>\n",
       "      <td>Fighting</td>\n",
       "      <td>19.41</td>\n",
       "    </tr>\n",
       "    <tr>\n",
       "      <td>Platform</td>\n",
       "      <td>17.48</td>\n",
       "    </tr>\n",
       "    <tr>\n",
       "      <td>Adventure</td>\n",
       "      <td>12.86</td>\n",
       "    </tr>\n",
       "    <tr>\n",
       "      <td>Strategy</td>\n",
       "      <td>7.34</td>\n",
       "    </tr>\n",
       "    <tr>\n",
       "      <td>Puzzle</td>\n",
       "      <td>1.75</td>\n",
       "    </tr>\n",
       "  </tbody>\n",
       "</table>\n",
       "</div>"
      ],
      "text/plain": [
       "              sum_sales\n",
       "genre                  \n",
       "Action           174.71\n",
       "Shooter          158.79\n",
       "Role-Playing     111.78\n",
       "Sports            86.13\n",
       "Misc              23.43\n",
       "Racing            22.90\n",
       "Simulation        19.56\n",
       "Fighting          19.41\n",
       "Platform          17.48\n",
       "Adventure         12.86\n",
       "Strategy           7.34\n",
       "Puzzle             1.75"
      ]
     },
     "execution_count": 50,
     "metadata": {},
     "output_type": "execute_result"
    }
   ],
   "source": [
    "data_cut.pivot_table(index='genre',values='sum_sales', aggfunc='sum').sort_values(by = 'sum_sales',ascending = False)"
   ]
  },
  {
   "cell_type": "markdown",
   "metadata": {},
   "source": [
    "Определенно лидируют игры жанров Action, Shooter, Role-Playing. Аутсайдером оказывается Puzzle - наверное, в них больше играют на телефонах."
   ]
  },
  {
   "cell_type": "markdown",
   "metadata": {},
   "source": [
    "### Вывод <a id='part_1.5'></a>"
   ]
  },
  {
   "cell_type": "markdown",
   "metadata": {},
   "source": [
    "В ходе анализа данных мы выяснили следующее:\n",
    "* Пик выпуска игр пришелся на  2008-2009 годы, дальше начался спад. Скорее всего это связано с тем, что с течением времени игры становились сложнее и дороже в производстве, времени на разработку требуется все больше.\n",
    "* В среднем можно заметить, что платформы устаревают за 8-12 лет.\n",
    "* Самыми перспективными для целей нашего аналиа являются следующие 4 платформы: PS4, 3DS, XOne, PC.\n",
    "* Медианные продажи выше всего на XOne, а ниже всего - на PC. Второе и третье место заняли соответсвенно PS4 и 3DS.\n",
    "* Корреляция между оценками критиков и продажами более выраженная, чем между оценками игроков и продажами. Это можно объяснить тем, что в целом люди доверяют критикам - профессионалам, которые давно работают в сфере игр. Оценки же других игроков, видимо, не столь убедительны.\n",
    "* Определенно лидируют игры жанров Action, Shooter, Role-Playing. Аутсайдером оказывается Puzzle"
   ]
  },
  {
   "cell_type": "markdown",
   "metadata": {},
   "source": [
    "## Портрет пользователя каждого региона\n",
    "[*Назад к оглавлению*](#content)"
   ]
  },
  {
   "cell_type": "markdown",
   "metadata": {},
   "source": [
    "Нам необходимо определить для пользователя каждого региона (NA, EU, JP):\n",
    "* Самые популярные платформы (топ-5). \n",
    "* Самые популярные жанры (топ-5).\n",
    "* Влияет ли рейтинг ESRB на продажи в отдельном регионе?"
   ]
  },
  {
   "cell_type": "markdown",
   "metadata": {},
   "source": [
    "Начнем с NA - Северной Америки. <a id='part_2.1'></a>"
   ]
  },
  {
   "cell_type": "code",
   "execution_count": 51,
   "metadata": {},
   "outputs": [
    {
     "data": {
      "text/html": [
       "<div>\n",
       "<style scoped>\n",
       "    .dataframe tbody tr th:only-of-type {\n",
       "        vertical-align: middle;\n",
       "    }\n",
       "\n",
       "    .dataframe tbody tr th {\n",
       "        vertical-align: top;\n",
       "    }\n",
       "\n",
       "    .dataframe thead th {\n",
       "        text-align: right;\n",
       "    }\n",
       "</style>\n",
       "<table border=\"1\" class=\"dataframe\">\n",
       "  <thead>\n",
       "    <tr style=\"text-align: right;\">\n",
       "      <th></th>\n",
       "      <th>na_sales</th>\n",
       "    </tr>\n",
       "    <tr>\n",
       "      <th>platform</th>\n",
       "      <th></th>\n",
       "    </tr>\n",
       "  </thead>\n",
       "  <tbody>\n",
       "    <tr>\n",
       "      <td>PS4</td>\n",
       "      <td>108.74</td>\n",
       "    </tr>\n",
       "    <tr>\n",
       "      <td>XOne</td>\n",
       "      <td>93.12</td>\n",
       "    </tr>\n",
       "    <tr>\n",
       "      <td>X360</td>\n",
       "      <td>81.66</td>\n",
       "    </tr>\n",
       "    <tr>\n",
       "      <td>PS3</td>\n",
       "      <td>63.50</td>\n",
       "    </tr>\n",
       "    <tr>\n",
       "      <td>3DS</td>\n",
       "      <td>38.20</td>\n",
       "    </tr>\n",
       "  </tbody>\n",
       "</table>\n",
       "</div>"
      ],
      "text/plain": [
       "          na_sales\n",
       "platform          \n",
       "PS4         108.74\n",
       "XOne         93.12\n",
       "X360         81.66\n",
       "PS3          63.50\n",
       "3DS          38.20"
      ]
     },
     "execution_count": 51,
     "metadata": {},
     "output_type": "execute_result"
    }
   ],
   "source": [
    "data[data['year_of_release'] > 2012].pivot_table(index='platform', \n",
    "                                               values='na_sales', \n",
    "                                               aggfunc='sum').sort_values(by = 'na_sales',ascending = False).head()"
   ]
  },
  {
   "cell_type": "code",
   "execution_count": 52,
   "metadata": {},
   "outputs": [
    {
     "data": {
      "text/plain": [
       "<matplotlib.axes._subplots.AxesSubplot at 0x7f449ac30a90>"
      ]
     },
     "execution_count": 52,
     "metadata": {},
     "output_type": "execute_result"
    },
    {
     "data": {
      "image/png": "[encoded data removed]",
      "text/plain": [
       "<Figure size 432x288 with 1 Axes>"
      ]
     },
     "metadata": {
      "needs_background": "light"
     },
     "output_type": "display_data"
    }
   ],
   "source": [
    "data[data['year_of_release'] > 2012].pivot_table(index='platform', \n",
    "                                               values='na_sales', \n",
    "                                               aggfunc='sum').sort_values(by = 'na_sales',ascending = False).head().plot()"
   ]
  },
  {
   "cell_type": "markdown",
   "metadata": {},
   "source": [
    "Больше всего продаж с PS4 - это очень популярная платформа. Дальше идут XOne и X360. Продажи PS3 существенно меньше - считается, что данная серия PS была неудачной. Замыкает пятерку 3DS."
   ]
  },
  {
   "cell_type": "code",
   "execution_count": 53,
   "metadata": {},
   "outputs": [
    {
     "data": {
      "text/html": [
       "<div>\n",
       "<style scoped>\n",
       "    .dataframe tbody tr th:only-of-type {\n",
       "        vertical-align: middle;\n",
       "    }\n",
       "\n",
       "    .dataframe tbody tr th {\n",
       "        vertical-align: top;\n",
       "    }\n",
       "\n",
       "    .dataframe thead th {\n",
       "        text-align: right;\n",
       "    }\n",
       "</style>\n",
       "<table border=\"1\" class=\"dataframe\">\n",
       "  <thead>\n",
       "    <tr style=\"text-align: right;\">\n",
       "      <th></th>\n",
       "      <th>na_sales</th>\n",
       "    </tr>\n",
       "    <tr>\n",
       "      <th>genre</th>\n",
       "      <th></th>\n",
       "    </tr>\n",
       "  </thead>\n",
       "  <tbody>\n",
       "    <tr>\n",
       "      <td>Action</td>\n",
       "      <td>126.05</td>\n",
       "    </tr>\n",
       "    <tr>\n",
       "      <td>Shooter</td>\n",
       "      <td>109.74</td>\n",
       "    </tr>\n",
       "    <tr>\n",
       "      <td>Sports</td>\n",
       "      <td>65.27</td>\n",
       "    </tr>\n",
       "    <tr>\n",
       "      <td>Role-Playing</td>\n",
       "      <td>46.40</td>\n",
       "    </tr>\n",
       "    <tr>\n",
       "      <td>Misc</td>\n",
       "      <td>27.49</td>\n",
       "    </tr>\n",
       "  </tbody>\n",
       "</table>\n",
       "</div>"
      ],
      "text/plain": [
       "              na_sales\n",
       "genre                 \n",
       "Action          126.05\n",
       "Shooter         109.74\n",
       "Sports           65.27\n",
       "Role-Playing     46.40\n",
       "Misc             27.49"
      ]
     },
     "execution_count": 53,
     "metadata": {},
     "output_type": "execute_result"
    }
   ],
   "source": [
    "data[data['year_of_release'] > 2012].pivot_table(index='genre', \n",
    "                                               values='na_sales', \n",
    "                                               aggfunc='sum').sort_values(by = 'na_sales',ascending = False).head()"
   ]
  },
  {
   "cell_type": "code",
   "execution_count": 54,
   "metadata": {},
   "outputs": [
    {
     "data": {
      "text/plain": [
       "<matplotlib.axes._subplots.AxesSubplot at 0x7f449ab955d0>"
      ]
     },
     "execution_count": 54,
     "metadata": {},
     "output_type": "execute_result"
    },
    {
     "data": {
      "image/png": "[encoded data removed]",
      "text/plain": [
       "<Figure size 432x288 with 1 Axes>"
      ]
     },
     "metadata": {
      "needs_background": "light"
     },
     "output_type": "display_data"
    }
   ],
   "source": [
    "data[data['year_of_release'] > 2012].pivot_table(index='genre', \n",
    "                                               values='na_sales', \n",
    "                                               aggfunc='sum').sort_values(by = 'na_sales',ascending = False).head().plot()"
   ]
  },
  {
   "cell_type": "markdown",
   "metadata": {},
   "source": [
    "Игроки из Северной Америки предпочитают игры жанра action. Также в топе шутеры, спортивные и ролевые игры."
   ]
  },
  {
   "cell_type": "markdown",
   "metadata": {},
   "source": [
    "Рассмотрим влияние рейтинга ESRB на продажи."
   ]
  },
  {
   "cell_type": "code",
   "execution_count": 55,
   "metadata": {},
   "outputs": [
    {
     "data": {
      "text/html": [
       "<div>\n",
       "<style scoped>\n",
       "    .dataframe tbody tr th:only-of-type {\n",
       "        vertical-align: middle;\n",
       "    }\n",
       "\n",
       "    .dataframe tbody tr th {\n",
       "        vertical-align: top;\n",
       "    }\n",
       "\n",
       "    .dataframe thead th {\n",
       "        text-align: right;\n",
       "    }\n",
       "</style>\n",
       "<table border=\"1\" class=\"dataframe\">\n",
       "  <thead>\n",
       "    <tr style=\"text-align: right;\">\n",
       "      <th></th>\n",
       "      <th>na_sales</th>\n",
       "    </tr>\n",
       "    <tr>\n",
       "      <th>rating</th>\n",
       "      <th></th>\n",
       "    </tr>\n",
       "  </thead>\n",
       "  <tbody>\n",
       "    <tr>\n",
       "      <td>M</td>\n",
       "      <td>165.21</td>\n",
       "    </tr>\n",
       "    <tr>\n",
       "      <td>RP</td>\n",
       "      <td>89.42</td>\n",
       "    </tr>\n",
       "    <tr>\n",
       "      <td>E</td>\n",
       "      <td>79.05</td>\n",
       "    </tr>\n",
       "    <tr>\n",
       "      <td>E10+</td>\n",
       "      <td>54.24</td>\n",
       "    </tr>\n",
       "    <tr>\n",
       "      <td>T</td>\n",
       "      <td>49.79</td>\n",
       "    </tr>\n",
       "  </tbody>\n",
       "</table>\n",
       "</div>"
      ],
      "text/plain": [
       "        na_sales\n",
       "rating          \n",
       "M         165.21\n",
       "RP         89.42\n",
       "E          79.05\n",
       "E10+       54.24\n",
       "T          49.79"
      ]
     },
     "execution_count": 55,
     "metadata": {},
     "output_type": "execute_result"
    }
   ],
   "source": [
    "data[data['year_of_release'] > 2012].pivot_table(index='rating', \n",
    "                                               values='na_sales', \n",
    "                                               aggfunc='sum').sort_values(by = 'na_sales',ascending = False)"
   ]
  },
  {
   "cell_type": "code",
   "execution_count": 56,
   "metadata": {},
   "outputs": [
    {
     "data": {
      "text/plain": [
       "<matplotlib.axes._subplots.AxesSubplot at 0x7f44a34fc690>"
      ]
     },
     "execution_count": 56,
     "metadata": {},
     "output_type": "execute_result"
    },
    {
     "data": {
      "image/png": "[encoded data removed]",
      "text/plain": [
       "<Figure size 432x288 with 1 Axes>"
      ]
     },
     "metadata": {
      "needs_background": "light"
     },
     "output_type": "display_data"
    }
   ],
   "source": [
    "data[data['year_of_release'] > 2012].pivot_table(index='rating', \n",
    "                                               values='na_sales', \n",
    "                                               aggfunc='sum').sort_values(by = 'na_sales',ascending = False).plot()"
   ]
  },
  {
   "cell_type": "markdown",
   "metadata": {},
   "source": [
    "Лидируют игры для взрослых. Также очень много нерейтингованных игр."
   ]
  },
  {
   "cell_type": "markdown",
   "metadata": {},
   "source": [
    "Рассмотрим регион EU - Европа. <a id='part_2.2'></a>"
   ]
  },
  {
   "cell_type": "code",
   "execution_count": 57,
   "metadata": {},
   "outputs": [
    {
     "data": {
      "text/html": [
       "<div>\n",
       "<style scoped>\n",
       "    .dataframe tbody tr th:only-of-type {\n",
       "        vertical-align: middle;\n",
       "    }\n",
       "\n",
       "    .dataframe tbody tr th {\n",
       "        vertical-align: top;\n",
       "    }\n",
       "\n",
       "    .dataframe thead th {\n",
       "        text-align: right;\n",
       "    }\n",
       "</style>\n",
       "<table border=\"1\" class=\"dataframe\">\n",
       "  <thead>\n",
       "    <tr style=\"text-align: right;\">\n",
       "      <th></th>\n",
       "      <th>eu_sales</th>\n",
       "    </tr>\n",
       "    <tr>\n",
       "      <th>platform</th>\n",
       "      <th></th>\n",
       "    </tr>\n",
       "  </thead>\n",
       "  <tbody>\n",
       "    <tr>\n",
       "      <td>PS4</td>\n",
       "      <td>141.09</td>\n",
       "    </tr>\n",
       "    <tr>\n",
       "      <td>PS3</td>\n",
       "      <td>67.81</td>\n",
       "    </tr>\n",
       "    <tr>\n",
       "      <td>XOne</td>\n",
       "      <td>51.59</td>\n",
       "    </tr>\n",
       "    <tr>\n",
       "      <td>X360</td>\n",
       "      <td>42.52</td>\n",
       "    </tr>\n",
       "    <tr>\n",
       "      <td>3DS</td>\n",
       "      <td>30.96</td>\n",
       "    </tr>\n",
       "  </tbody>\n",
       "</table>\n",
       "</div>"
      ],
      "text/plain": [
       "          eu_sales\n",
       "platform          \n",
       "PS4         141.09\n",
       "PS3          67.81\n",
       "XOne         51.59\n",
       "X360         42.52\n",
       "3DS          30.96"
      ]
     },
     "execution_count": 57,
     "metadata": {},
     "output_type": "execute_result"
    }
   ],
   "source": [
    "data[data['year_of_release'] > 2012].pivot_table(index='platform', \n",
    "                                               values='eu_sales', \n",
    "                                               aggfunc='sum').sort_values(by = 'eu_sales',ascending = False).head()"
   ]
  },
  {
   "cell_type": "code",
   "execution_count": 58,
   "metadata": {},
   "outputs": [
    {
     "data": {
      "text/plain": [
       "<matplotlib.axes._subplots.AxesSubplot at 0x7f449abdb3d0>"
      ]
     },
     "execution_count": 58,
     "metadata": {},
     "output_type": "execute_result"
    },
    {
     "data": {
      "image/png": "[encoded data removed]",
      "text/plain": [
       "<Figure size 432x288 with 1 Axes>"
      ]
     },
     "metadata": {
      "needs_background": "light"
     },
     "output_type": "display_data"
    }
   ],
   "source": [
    "data[data['year_of_release'] > 2012].pivot_table(index='platform', \n",
    "                                               values='eu_sales', \n",
    "                                               aggfunc='sum').sort_values(by = 'eu_sales',ascending = False).head().plot()"
   ]
  },
  {
   "cell_type": "markdown",
   "metadata": {},
   "source": [
    "Можем заметить, что в топ-5 представлены все те же платформы, однако PS3 вырывается вперед - она уже на втором месте. 3DS также замыкает пятерку."
   ]
  },
  {
   "cell_type": "code",
   "execution_count": 59,
   "metadata": {},
   "outputs": [
    {
     "data": {
      "text/html": [
       "<div>\n",
       "<style scoped>\n",
       "    .dataframe tbody tr th:only-of-type {\n",
       "        vertical-align: middle;\n",
       "    }\n",
       "\n",
       "    .dataframe tbody tr th {\n",
       "        vertical-align: top;\n",
       "    }\n",
       "\n",
       "    .dataframe thead th {\n",
       "        text-align: right;\n",
       "    }\n",
       "</style>\n",
       "<table border=\"1\" class=\"dataframe\">\n",
       "  <thead>\n",
       "    <tr style=\"text-align: right;\">\n",
       "      <th></th>\n",
       "      <th>eu_sales</th>\n",
       "    </tr>\n",
       "    <tr>\n",
       "      <th>genre</th>\n",
       "      <th></th>\n",
       "    </tr>\n",
       "  </thead>\n",
       "  <tbody>\n",
       "    <tr>\n",
       "      <td>Action</td>\n",
       "      <td>118.13</td>\n",
       "    </tr>\n",
       "    <tr>\n",
       "      <td>Shooter</td>\n",
       "      <td>87.86</td>\n",
       "    </tr>\n",
       "    <tr>\n",
       "      <td>Sports</td>\n",
       "      <td>60.52</td>\n",
       "    </tr>\n",
       "    <tr>\n",
       "      <td>Role-Playing</td>\n",
       "      <td>36.97</td>\n",
       "    </tr>\n",
       "    <tr>\n",
       "      <td>Racing</td>\n",
       "      <td>20.19</td>\n",
       "    </tr>\n",
       "  </tbody>\n",
       "</table>\n",
       "</div>"
      ],
      "text/plain": [
       "              eu_sales\n",
       "genre                 \n",
       "Action          118.13\n",
       "Shooter          87.86\n",
       "Sports           60.52\n",
       "Role-Playing     36.97\n",
       "Racing           20.19"
      ]
     },
     "execution_count": 59,
     "metadata": {},
     "output_type": "execute_result"
    }
   ],
   "source": [
    "data[data['year_of_release'] > 2012].pivot_table(index='genre', \n",
    "                                               values='eu_sales', \n",
    "                                               aggfunc='sum').sort_values(by = 'eu_sales',ascending = False).head()"
   ]
  },
  {
   "cell_type": "code",
   "execution_count": 60,
   "metadata": {},
   "outputs": [
    {
     "data": {
      "text/plain": [
       "<matplotlib.axes._subplots.AxesSubplot at 0x7f449ab87f50>"
      ]
     },
     "execution_count": 60,
     "metadata": {},
     "output_type": "execute_result"
    },
    {
     "data": {
      "image/png": "[encoded data removed]",
      "text/plain": [
       "<Figure size 432x288 with 1 Axes>"
      ]
     },
     "metadata": {
      "needs_background": "light"
     },
     "output_type": "display_data"
    }
   ],
   "source": [
    "data[data['year_of_release'] > 2012].pivot_table(index='genre', \n",
    "                                               values='eu_sales', \n",
    "                                               aggfunc='sum').sort_values(by = 'eu_sales',ascending = False).head().plot()"
   ]
  },
  {
   "cell_type": "markdown",
   "metadata": {},
   "source": [
    "Первые четыре места распределились аналогично Северной Америке. Однако, европейцы также любят гонки."
   ]
  },
  {
   "cell_type": "code",
   "execution_count": 61,
   "metadata": {},
   "outputs": [
    {
     "data": {
      "text/html": [
       "<div>\n",
       "<style scoped>\n",
       "    .dataframe tbody tr th:only-of-type {\n",
       "        vertical-align: middle;\n",
       "    }\n",
       "\n",
       "    .dataframe tbody tr th {\n",
       "        vertical-align: top;\n",
       "    }\n",
       "\n",
       "    .dataframe thead th {\n",
       "        text-align: right;\n",
       "    }\n",
       "</style>\n",
       "<table border=\"1\" class=\"dataframe\">\n",
       "  <thead>\n",
       "    <tr style=\"text-align: right;\">\n",
       "      <th></th>\n",
       "      <th>eu_sales</th>\n",
       "    </tr>\n",
       "    <tr>\n",
       "      <th>rating</th>\n",
       "      <th></th>\n",
       "    </tr>\n",
       "  </thead>\n",
       "  <tbody>\n",
       "    <tr>\n",
       "      <td>M</td>\n",
       "      <td>145.32</td>\n",
       "    </tr>\n",
       "    <tr>\n",
       "      <td>E</td>\n",
       "      <td>83.36</td>\n",
       "    </tr>\n",
       "    <tr>\n",
       "      <td>RP</td>\n",
       "      <td>78.91</td>\n",
       "    </tr>\n",
       "    <tr>\n",
       "      <td>E10+</td>\n",
       "      <td>42.69</td>\n",
       "    </tr>\n",
       "    <tr>\n",
       "      <td>T</td>\n",
       "      <td>41.95</td>\n",
       "    </tr>\n",
       "  </tbody>\n",
       "</table>\n",
       "</div>"
      ],
      "text/plain": [
       "        eu_sales\n",
       "rating          \n",
       "M         145.32\n",
       "E          83.36\n",
       "RP         78.91\n",
       "E10+       42.69\n",
       "T          41.95"
      ]
     },
     "execution_count": 61,
     "metadata": {},
     "output_type": "execute_result"
    }
   ],
   "source": [
    "data[data['year_of_release'] > 2012].pivot_table(index='rating', \n",
    "                                               values='eu_sales', \n",
    "                                               aggfunc='sum').sort_values(by = 'eu_sales',ascending = False)"
   ]
  },
  {
   "cell_type": "code",
   "execution_count": 62,
   "metadata": {},
   "outputs": [
    {
     "data": {
      "text/plain": [
       "<matplotlib.axes._subplots.AxesSubplot at 0x7f449a9bc650>"
      ]
     },
     "execution_count": 62,
     "metadata": {},
     "output_type": "execute_result"
    },
    {
     "data": {
      "image/png": "[encoded data removed]",
      "text/plain": [
       "<Figure size 432x288 with 1 Axes>"
      ]
     },
     "metadata": {
      "needs_background": "light"
     },
     "output_type": "display_data"
    }
   ],
   "source": [
    "data[data['year_of_release'] > 2012].pivot_table(index='rating', \n",
    "                                               values='eu_sales', \n",
    "                                               aggfunc='sum').sort_values(by = 'eu_sales',ascending = False).plot()"
   ]
  },
  {
   "cell_type": "markdown",
   "metadata": {},
   "source": [
    "И здесь ситуация аналогична Северной Америке (за исключением ожидающих рейтинга игр - тут они опустились на одну ступень ниже)"
   ]
  },
  {
   "cell_type": "markdown",
   "metadata": {},
   "source": [
    "И наконец регион JP - Япония. <a id='part_2.3'></a>"
   ]
  },
  {
   "cell_type": "code",
   "execution_count": 63,
   "metadata": {},
   "outputs": [
    {
     "data": {
      "text/html": [
       "<div>\n",
       "<style scoped>\n",
       "    .dataframe tbody tr th:only-of-type {\n",
       "        vertical-align: middle;\n",
       "    }\n",
       "\n",
       "    .dataframe tbody tr th {\n",
       "        vertical-align: top;\n",
       "    }\n",
       "\n",
       "    .dataframe thead th {\n",
       "        text-align: right;\n",
       "    }\n",
       "</style>\n",
       "<table border=\"1\" class=\"dataframe\">\n",
       "  <thead>\n",
       "    <tr style=\"text-align: right;\">\n",
       "      <th></th>\n",
       "      <th>jp_sales</th>\n",
       "    </tr>\n",
       "    <tr>\n",
       "      <th>platform</th>\n",
       "      <th></th>\n",
       "    </tr>\n",
       "  </thead>\n",
       "  <tbody>\n",
       "    <tr>\n",
       "      <td>3DS</td>\n",
       "      <td>67.81</td>\n",
       "    </tr>\n",
       "    <tr>\n",
       "      <td>PS3</td>\n",
       "      <td>23.35</td>\n",
       "    </tr>\n",
       "    <tr>\n",
       "      <td>PSV</td>\n",
       "      <td>18.59</td>\n",
       "    </tr>\n",
       "    <tr>\n",
       "      <td>PS4</td>\n",
       "      <td>15.96</td>\n",
       "    </tr>\n",
       "    <tr>\n",
       "      <td>WiiU</td>\n",
       "      <td>10.88</td>\n",
       "    </tr>\n",
       "  </tbody>\n",
       "</table>\n",
       "</div>"
      ],
      "text/plain": [
       "          jp_sales\n",
       "platform          \n",
       "3DS          67.81\n",
       "PS3          23.35\n",
       "PSV          18.59\n",
       "PS4          15.96\n",
       "WiiU         10.88"
      ]
     },
     "execution_count": 63,
     "metadata": {},
     "output_type": "execute_result"
    }
   ],
   "source": [
    "data[data['year_of_release'] > 2012].pivot_table(index='platform', \n",
    "                                               values='jp_sales', \n",
    "                                               aggfunc='sum').sort_values(by = 'jp_sales',ascending = False).head()"
   ]
  },
  {
   "cell_type": "code",
   "execution_count": 64,
   "metadata": {},
   "outputs": [
    {
     "data": {
      "text/plain": [
       "<matplotlib.axes._subplots.AxesSubplot at 0x7f449a78c850>"
      ]
     },
     "execution_count": 64,
     "metadata": {},
     "output_type": "execute_result"
    },
    {
     "data": {
      "image/png": "[encoded data removed]",
      "text/plain": [
       "<Figure size 432x288 with 1 Axes>"
      ]
     },
     "metadata": {
      "needs_background": "light"
     },
     "output_type": "display_data"
    }
   ],
   "source": [
    "data[data['year_of_release'] > 2012].pivot_table(index='platform', \n",
    "                                               values='jp_sales', \n",
    "                                               aggfunc='sum').sort_values(by = 'jp_sales',ascending = False).head().plot()"
   ]
  },
  {
   "cell_type": "markdown",
   "metadata": {},
   "source": [
    "Можем заметить, что ситуация в Японии совершенно иная - они предпочитают платформы собственного производства. И 3DS лидирует! Видимо, они делают больший акцент на внутренний рынок."
   ]
  },
  {
   "cell_type": "code",
   "execution_count": 65,
   "metadata": {},
   "outputs": [
    {
     "data": {
      "text/html": [
       "<div>\n",
       "<style scoped>\n",
       "    .dataframe tbody tr th:only-of-type {\n",
       "        vertical-align: middle;\n",
       "    }\n",
       "\n",
       "    .dataframe tbody tr th {\n",
       "        vertical-align: top;\n",
       "    }\n",
       "\n",
       "    .dataframe thead th {\n",
       "        text-align: right;\n",
       "    }\n",
       "</style>\n",
       "<table border=\"1\" class=\"dataframe\">\n",
       "  <thead>\n",
       "    <tr style=\"text-align: right;\">\n",
       "      <th></th>\n",
       "      <th>jp_sales</th>\n",
       "    </tr>\n",
       "    <tr>\n",
       "      <th>genre</th>\n",
       "      <th></th>\n",
       "    </tr>\n",
       "  </thead>\n",
       "  <tbody>\n",
       "    <tr>\n",
       "      <td>Role-Playing</td>\n",
       "      <td>51.04</td>\n",
       "    </tr>\n",
       "    <tr>\n",
       "      <td>Action</td>\n",
       "      <td>40.49</td>\n",
       "    </tr>\n",
       "    <tr>\n",
       "      <td>Misc</td>\n",
       "      <td>9.20</td>\n",
       "    </tr>\n",
       "    <tr>\n",
       "      <td>Fighting</td>\n",
       "      <td>7.65</td>\n",
       "    </tr>\n",
       "    <tr>\n",
       "      <td>Shooter</td>\n",
       "      <td>6.61</td>\n",
       "    </tr>\n",
       "  </tbody>\n",
       "</table>\n",
       "</div>"
      ],
      "text/plain": [
       "              jp_sales\n",
       "genre                 \n",
       "Role-Playing     51.04\n",
       "Action           40.49\n",
       "Misc              9.20\n",
       "Fighting          7.65\n",
       "Shooter           6.61"
      ]
     },
     "execution_count": 65,
     "metadata": {},
     "output_type": "execute_result"
    }
   ],
   "source": [
    "data[data['year_of_release'] > 2012].pivot_table(index='genre', \n",
    "                                               values='jp_sales', \n",
    "                                               aggfunc='sum').sort_values(by = 'jp_sales',ascending = False).head()"
   ]
  },
  {
   "cell_type": "code",
   "execution_count": 66,
   "metadata": {},
   "outputs": [
    {
     "data": {
      "text/plain": [
       "<matplotlib.axes._subplots.AxesSubplot at 0x7f449a707e10>"
      ]
     },
     "execution_count": 66,
     "metadata": {},
     "output_type": "execute_result"
    },
    {
     "data": {
      "image/png": "[encoded data removed]",
      "text/plain": [
       "<Figure size 432x288 with 1 Axes>"
      ]
     },
     "metadata": {
      "needs_background": "light"
     },
     "output_type": "display_data"
    }
   ],
   "source": [
    "data[data['year_of_release'] > 2012].pivot_table(index='genre', \n",
    "                                               values='jp_sales', \n",
    "                                               aggfunc='sum').sort_values(by = 'jp_sales',ascending = False).head().plot()"
   ]
  },
  {
   "cell_type": "markdown",
   "metadata": {},
   "source": [
    "И в жанрах иная ситуация - на первое место вышли ролевые игры. Возможно, это связано с несколько иной культурой игр."
   ]
  },
  {
   "cell_type": "code",
   "execution_count": 67,
   "metadata": {},
   "outputs": [
    {
     "data": {
      "text/html": [
       "<div>\n",
       "<style scoped>\n",
       "    .dataframe tbody tr th:only-of-type {\n",
       "        vertical-align: middle;\n",
       "    }\n",
       "\n",
       "    .dataframe tbody tr th {\n",
       "        vertical-align: top;\n",
       "    }\n",
       "\n",
       "    .dataframe thead th {\n",
       "        text-align: right;\n",
       "    }\n",
       "</style>\n",
       "<table border=\"1\" class=\"dataframe\">\n",
       "  <thead>\n",
       "    <tr style=\"text-align: right;\">\n",
       "      <th></th>\n",
       "      <th>jp_sales</th>\n",
       "    </tr>\n",
       "    <tr>\n",
       "      <th>rating</th>\n",
       "      <th></th>\n",
       "    </tr>\n",
       "  </thead>\n",
       "  <tbody>\n",
       "    <tr>\n",
       "      <td>RP</td>\n",
       "      <td>85.05</td>\n",
       "    </tr>\n",
       "    <tr>\n",
       "      <td>T</td>\n",
       "      <td>20.59</td>\n",
       "    </tr>\n",
       "    <tr>\n",
       "      <td>E</td>\n",
       "      <td>15.14</td>\n",
       "    </tr>\n",
       "    <tr>\n",
       "      <td>M</td>\n",
       "      <td>14.11</td>\n",
       "    </tr>\n",
       "    <tr>\n",
       "      <td>E10+</td>\n",
       "      <td>5.89</td>\n",
       "    </tr>\n",
       "  </tbody>\n",
       "</table>\n",
       "</div>"
      ],
      "text/plain": [
       "        jp_sales\n",
       "rating          \n",
       "RP         85.05\n",
       "T          20.59\n",
       "E          15.14\n",
       "M          14.11\n",
       "E10+        5.89"
      ]
     },
     "execution_count": 67,
     "metadata": {},
     "output_type": "execute_result"
    }
   ],
   "source": [
    "data[data['year_of_release'] > 2012].pivot_table(index='rating', \n",
    "                                               values='jp_sales', \n",
    "                                               aggfunc='sum').sort_values(by = 'jp_sales',ascending = False)"
   ]
  },
  {
   "cell_type": "code",
   "execution_count": 68,
   "metadata": {},
   "outputs": [
    {
     "data": {
      "text/plain": [
       "<matplotlib.axes._subplots.AxesSubplot at 0x7f449a6e7e90>"
      ]
     },
     "execution_count": 68,
     "metadata": {},
     "output_type": "execute_result"
    },
    {
     "data": {
      "image/png": "[encoded data removed]",
      "text/plain": [
       "<Figure size 432x288 with 1 Axes>"
      ]
     },
     "metadata": {
      "needs_background": "light"
     },
     "output_type": "display_data"
    }
   ],
   "source": [
    "data[data['year_of_release'] > 2012].pivot_table(index='rating', \n",
    "                                               values='jp_sales', \n",
    "                                               aggfunc='sum').sort_values(by = 'jp_sales',ascending = False).plot()"
   ]
  },
  {
   "cell_type": "markdown",
   "metadata": {},
   "source": [
    "В Японии не обращают внимания на рейтинги игр - скорее всего там это необязательно. На первом месте игры еще не получившие рейтинг."
   ]
  },
  {
   "cell_type": "markdown",
   "metadata": {},
   "source": [
    "### Вывод <a id='part_2.4'></a>"
   ]
  },
  {
   "cell_type": "markdown",
   "metadata": {},
   "source": [
    "Игроки из Европы и Северной Америки похожи - им нравятся похожие жанры, они покупают игры с одним и тем же рейтингом. Несколько отличаются предпочтения по платформам, но в топ-5 одни и те же наименования.\n",
    "\n",
    "В Японии ситуация кардинально отличается - японцы предпочитают игровые платформы собственного производства, играют в ролевые игры (в отличие от американцев и европейцев) и не обращают внимания на рейтинги ESRB."
   ]
  },
  {
   "cell_type": "markdown",
   "metadata": {},
   "source": [
    "## Проверка гипотез\n",
    "[*Назад к оглавлению*](#content)"
   ]
  },
  {
   "cell_type": "markdown",
   "metadata": {},
   "source": [
    "Нам необходимо проверить следующие гипотезы:\n",
    "* Средние пользовательские рейтинги платформ Xbox One и PC одинаковые;\n",
    "* Средние пользовательские рейтинги жанров Action и Sports разные."
   ]
  },
  {
   "cell_type": "markdown",
   "metadata": {},
   "source": [
    "<a id='part_3.1'></a>\n",
    "Начнем с первой.\n",
    "Сформулируем нулевую гипотезу:\n",
    "\n",
    "**Средние пользовательские рейтинги платформ Xbox One и PC одинаковые.**\n",
    "\n",
    "Тогда альтернативная гипотеза будет:\n",
    "\n",
    "**Средние пользовательские рейтинги платформ Xbox One и PC различны.**"
   ]
  },
  {
   "cell_type": "markdown",
   "metadata": {},
   "source": [
    "Для начала посмотрим, похожи ли дисперсии выборок."
   ]
  },
  {
   "cell_type": "code",
   "execution_count": 69,
   "metadata": {},
   "outputs": [
    {
     "name": "stdout",
     "output_type": "stream",
     "text": [
      "Дисперсия выборки платформы Xbox One равна 1.8965188383045526\n",
      "Дисперсия выборки платформы PC равна 3.016306347554631\n"
     ]
    }
   ],
   "source": [
    "print('Дисперсия выборки платформы Xbox One равна', np.var(data_cut[(data_cut['user_score_kind'] == 'score')&\n",
    "                                                                    (data_cut['platform'] == 'XOne')]['user_score']))\n",
    "print('Дисперсия выборки платформы PC равна', np.var(data_cut[(data_cut['user_score_kind'] == 'score')&\n",
    "                                                                       (data_cut['platform'] == 'PC')]['user_score']))"
   ]
  },
  {
   "cell_type": "markdown",
   "metadata": {},
   "source": [
    "Дисперсии, очевидно, различны."
   ]
  },
  {
   "cell_type": "code",
   "execution_count": 70,
   "metadata": {},
   "outputs": [
    {
     "name": "stdout",
     "output_type": "stream",
     "text": [
      "p-значение: 0.14759594013430463\n",
      "Не получилось отвергнуть нулевую гипотезу\n"
     ]
    }
   ],
   "source": [
    "alpha = 0.05\n",
    "\n",
    "results = st.ttest_ind(data_cut[(data_cut['user_score_kind'] == 'score')&(data_cut['platform'] == 'XOne')]['user_score'], \n",
    "                       data_cut[(data_cut['user_score_kind'] == 'score')&(data_cut['platform'] == 'PC')]['user_score'],\n",
    "                       equal_var = False)\n",
    "\n",
    "print('p-значение:', results.pvalue)\n",
    "\n",
    "if results.pvalue < alpha:\n",
    "    print('Отвергаем нулевую гипотезу')\n",
    "else:\n",
    "    print('Не получилось отвергнуть нулевую гипотезу') "
   ]
  },
  {
   "cell_type": "markdown",
   "metadata": {},
   "source": [
    "Построим гистограмы распределений, чтобы посмотреть, действительно ли результаты похожи на действительность."
   ]
  },
  {
   "cell_type": "code",
   "execution_count": 71,
   "metadata": {},
   "outputs": [
    {
     "data": {
      "image/png": "[encoded data removed]",
      "text/plain": [
       "<Figure size 432x288 with 1 Axes>"
      ]
     },
     "metadata": {
      "needs_background": "light"
     },
     "output_type": "display_data"
    }
   ],
   "source": [
    "ax = sns.distplot(data_cut[(data_cut['user_score_kind'] == 'score')&(data_cut['platform'] == 'XOne')]['user_score'])"
   ]
  },
  {
   "cell_type": "code",
   "execution_count": 72,
   "metadata": {},
   "outputs": [
    {
     "data": {
      "image/png": "[encoded data removed]",
      "text/plain": [
       "<Figure size 432x288 with 1 Axes>"
      ]
     },
     "metadata": {
      "needs_background": "light"
     },
     "output_type": "display_data"
    }
   ],
   "source": [
    "ax = sns.distplot(data_cut[(data_cut['user_score_kind'] == 'score')&(data_cut['platform'] == 'PC')]['user_score'])"
   ]
  },
  {
   "cell_type": "markdown",
   "metadata": {},
   "source": [
    "Очевидно, что на рейтинги действительно похожи."
   ]
  },
  {
   "cell_type": "markdown",
   "metadata": {},
   "source": [
    "<a id='part_3.2'></a>\n",
    "Рассмотрим вторую гипотезу. Пойдем от обратного и сформулируем нулевую гипотезу:\n",
    "\n",
    "**Средние пользовательские рейтинги жанров Action и Sports одинаковы.**\n",
    "\n",
    "Тогда альтернативная гипотеза будет:\n",
    "\n",
    "**Средние пользовательские рейтинги жанров Action и Sports различны.**"
   ]
  },
  {
   "cell_type": "code",
   "execution_count": 73,
   "metadata": {},
   "outputs": [
    {
     "name": "stdout",
     "output_type": "stream",
     "text": [
      "Дисперсия выборки жанра Action равна 1.748367561983471\n",
      "Дисперсия выборки жанра Sports равна 2.404196597353497\n"
     ]
    }
   ],
   "source": [
    "print('Дисперсия выборки жанра Action равна', np.var(data_cut[(data_cut['user_score_kind'] == 'score')&\n",
    "                                                                    (data_cut['genre'] == 'Action')]['user_score']))\n",
    "print('Дисперсия выборки жанра Sports равна', np.var(data_cut[(data_cut['user_score_kind'] == 'score')&\n",
    "                                                                       (data_cut['genre'] == 'Sports')]['user_score']))"
   ]
  },
  {
   "cell_type": "markdown",
   "metadata": {},
   "source": [
    "Дисперсии, очевидно, различны."
   ]
  },
  {
   "cell_type": "code",
   "execution_count": 74,
   "metadata": {},
   "outputs": [
    {
     "name": "stdout",
     "output_type": "stream",
     "text": [
      "p-значение: 4.502568396354856e-10\n",
      "Отвергаем нулевую гипотезу\n"
     ]
    }
   ],
   "source": [
    "alpha = 0.05\n",
    "\n",
    "results = st.ttest_ind(data_cut[(data_cut['user_score_kind'] == 'score')&(data_cut['genre'] == 'Action')]['user_score'], \n",
    "                       data_cut[(data_cut['user_score_kind'] == 'score')&(data_cut['genre'] == 'Sports')]['user_score'],\n",
    "                       equal_var = False)\n",
    "\n",
    "print('p-значение:', results.pvalue)\n",
    "\n",
    "if results.pvalue < alpha:\n",
    "    print('Отвергаем нулевую гипотезу')\n",
    "else:\n",
    "    print('Не получилось отвергнуть нулевую гипотезу') "
   ]
  },
  {
   "cell_type": "markdown",
   "metadata": {},
   "source": [
    "Так как мы шли от обратного, соответственно, рейтинги жанров Action и Sports должны быть различны. Построим гистограмы и посмотрим."
   ]
  },
  {
   "cell_type": "code",
   "execution_count": 75,
   "metadata": {},
   "outputs": [
    {
     "data": {
      "image/png": "[encoded data removed]",
      "text/plain": [
       "<Figure size 432x288 with 1 Axes>"
      ]
     },
     "metadata": {
      "needs_background": "light"
     },
     "output_type": "display_data"
    }
   ],
   "source": [
    "ax = sns.distplot(data_cut[(data_cut['user_score_kind'] == 'score')&(data_cut['genre'] == 'Action')]['user_score'])"
   ]
  },
  {
   "cell_type": "code",
   "execution_count": 76,
   "metadata": {},
   "outputs": [
    {
     "data": {
      "image/png": "[encoded data removed]",
      "text/plain": [
       "<Figure size 432x288 with 1 Axes>"
      ]
     },
     "metadata": {
      "needs_background": "light"
     },
     "output_type": "display_data"
    }
   ],
   "source": [
    "ax = sns.distplot(data_cut[(data_cut['user_score_kind'] == 'score')&(data_cut['genre'] == 'Sports')]['user_score'])"
   ]
  },
  {
   "cell_type": "markdown",
   "metadata": {},
   "source": [
    "Действительно, оценки игр жанра Action выше - они составляют около 8 баллов, в то время как спортивные игры получили от игроков только 6."
   ]
  },
  {
   "cell_type": "markdown",
   "metadata": {},
   "source": [
    "### Вывод \n",
    "<a id='part_3.3'></a>"
   ]
  },
  {
   "cell_type": "markdown",
   "metadata": {},
   "source": [
    "Мы не смогли отвергнуть первую гипотезу: Средние пользовательские рейтинги платформ Xbox One и PC одинаковые.\n",
    "\n",
    "И подтвердили вторую: Средние пользовательские рейтинги жанров Action и Sports разные."
   ]
  },
  {
   "cell_type": "markdown",
   "metadata": {},
   "source": [
    "## Вывод\n",
    "<a id='finish'></a>\n",
    "\n",
    "[*Назад к оглавлению*](#content)"
   ]
  },
  {
   "cell_type": "markdown",
   "metadata": {},
   "source": [
    "В результате проделанной работы можно сделать следующие выводы:\n",
    "* Пик выпуска игр пришелся на  2008-2009 годы, дальше начался спад. Скорее всего это связано с тем, что с течением времени игры становились сложнее и дороже в производстве, времени на разработку требуется все больше.\n",
    "* В среднем можно заметить, что платформы устаревают за 8-12 лет.\n",
    "* Самыми перспективными для целей нашего аналиа являются следующие 4 платформы: PS4, 3DS, XOne, PC.\n",
    "* Медианные продажи выше всего на XOne, а ниже всего - на PC. Второе и третье место заняли соответсвенно PS4 и 3DS.\n",
    "* Корреляция между оценками критиков и продажами более выраженная, чем между оценками игроков и продажами. Это можно объяснить тем, что в целом люди доверяют критикам - профессионалам, которые давно работают в сфере игр. Оценки же других игроков, видимо, не столь убедительны.\n",
    "* Определенно лидируют игры жанров Action, Shooter, Role-Playing. Аутсайдером оказывается Puzzle\n",
    "* Игроки из Европы и Северной Америки похожи - им нравятся похожие жанры, они покупают игры с одним и тем же рейтингом. Несколько отличаются предпочтения по платформам, но в топ-5 одни и те же наименования. Игроки предпочитают игры жанра action. Также в топе шутеры, спортивные и ролевые игры. \n",
    "* Игроки из Европы и Северной Америки в основном играют в игры для взрослых. На второе и третье место делят игры для всех и игры без рейтинга.\n",
    "* В Японии ситуация кардинально отличается - японцы предпочитают игровые платформы собственного производства, играют в ролевые игры (в отличие от американцев и европейцев) и не обращают внимания на рейтинги ESRB.\n",
    "* Средние пользовательские рейтинги платформ Xbox One и PC одинаковые.\n",
    "* Средние пользовательские рейтинги жанров Action и Sports различны.\n",
    "\n",
    "Для компании на 2017 год можно посоветовать следующее:\n",
    "* Особый упор следует делать на платформы PS4, 3DS, XOne, PC.\n",
    "* Для регионов Европы и Северной Америки важны жанры Action, Shooter.\n",
    "* Для Японии лучше продвигать игры Role-Playing.\n",
    "* Для регионов Европы и Северной Америки необходимо обратить внимание на рейтинг ESRB - чаще всего играют в игры рейтинга E и M, для Японии рейтинг не так важен.\n",
    "* Больший упор стоит делать на игры с хорошими оценками критиков - люди любят играть в хорошо оцененные игры.\n",
    "* Оценки играков не так важны."
   ]
  }
 ],
 "metadata": {
  "ExecuteTimeLog": [
   {
    "duration": 1432,
    "start_time": "2021-11-01T12:19:17.813Z"
   },
   {
    "duration": 65,
    "start_time": "2021-11-01T12:19:54.433Z"
   },
   {
    "duration": 15,
    "start_time": "2021-11-01T12:20:23.915Z"
   },
   {
    "duration": 1309,
    "start_time": "2021-11-01T12:23:25.722Z"
   },
   {
    "duration": 4,
    "start_time": "2021-11-01T12:24:15.250Z"
   },
   {
    "duration": 14,
    "start_time": "2021-11-01T12:24:17.486Z"
   },
   {
    "duration": 296,
    "start_time": "2021-11-01T12:28:27.357Z"
   },
   {
    "duration": 31,
    "start_time": "2021-11-01T12:30:26.367Z"
   },
   {
    "duration": 20,
    "start_time": "2021-11-01T12:30:45.670Z"
   },
   {
    "duration": 293,
    "start_time": "2021-11-01T12:37:59.779Z"
   },
   {
    "duration": 288,
    "start_time": "2021-11-01T12:38:26.427Z"
   },
   {
    "duration": 2101,
    "start_time": "2021-11-01T12:38:39.889Z"
   },
   {
    "duration": 295,
    "start_time": "2021-11-01T12:38:57.189Z"
   },
   {
    "duration": 354,
    "start_time": "2021-11-01T12:39:05.779Z"
   },
   {
    "duration": 303,
    "start_time": "2021-11-01T12:39:15.707Z"
   },
   {
    "duration": 1490,
    "start_time": "2021-11-01T12:39:24.149Z"
   },
   {
    "duration": 71,
    "start_time": "2021-11-01T12:39:25.642Z"
   },
   {
    "duration": 3,
    "start_time": "2021-11-01T12:39:25.717Z"
   },
   {
    "duration": 18,
    "start_time": "2021-11-01T12:39:25.723Z"
   },
   {
    "duration": 21,
    "start_time": "2021-11-01T12:39:25.768Z"
   },
   {
    "duration": 14,
    "start_time": "2021-11-01T12:39:25.792Z"
   },
   {
    "duration": 15,
    "start_time": "2021-11-01T12:39:25.808Z"
   },
   {
    "duration": 8,
    "start_time": "2021-11-01T12:40:37.027Z"
   },
   {
    "duration": 18,
    "start_time": "2021-11-01T12:40:38.251Z"
   },
   {
    "duration": 7,
    "start_time": "2021-11-01T12:41:37.530Z"
   },
   {
    "duration": 480,
    "start_time": "2021-11-01T12:45:52.388Z"
   },
   {
    "duration": 19,
    "start_time": "2021-11-01T12:46:03.647Z"
   },
   {
    "duration": 41,
    "start_time": "2021-11-01T12:47:54.759Z"
   },
   {
    "duration": 9,
    "start_time": "2021-11-01T12:50:26.729Z"
   },
   {
    "duration": 318,
    "start_time": "2021-11-01T12:52:16.010Z"
   },
   {
    "duration": 4,
    "start_time": "2021-11-01T12:52:23.042Z"
   },
   {
    "duration": 281,
    "start_time": "2021-11-01T12:52:32.237Z"
   },
   {
    "duration": 1499,
    "start_time": "2021-11-01T12:54:35.173Z"
   },
   {
    "duration": 65,
    "start_time": "2021-11-01T12:54:36.674Z"
   },
   {
    "duration": 4,
    "start_time": "2021-11-01T12:54:36.742Z"
   },
   {
    "duration": 31,
    "start_time": "2021-11-01T12:54:36.748Z"
   },
   {
    "duration": 18,
    "start_time": "2021-11-01T12:54:36.782Z"
   },
   {
    "duration": 12,
    "start_time": "2021-11-01T12:54:36.803Z"
   },
   {
    "duration": 49,
    "start_time": "2021-11-01T12:54:36.818Z"
   },
   {
    "duration": 31,
    "start_time": "2021-11-01T12:54:36.870Z"
   },
   {
    "duration": 7,
    "start_time": "2021-11-01T12:54:36.905Z"
   },
   {
    "duration": 15,
    "start_time": "2021-11-01T12:54:36.915Z"
   },
   {
    "duration": 6,
    "start_time": "2021-11-01T12:54:59.458Z"
   },
   {
    "duration": 15,
    "start_time": "2021-11-01T12:55:00.236Z"
   },
   {
    "duration": 90,
    "start_time": "2021-11-01T13:01:23.888Z"
   },
   {
    "duration": 7505,
    "start_time": "2021-11-01T13:01:49.704Z"
   },
   {
    "duration": 7,
    "start_time": "2021-11-01T13:02:02.833Z"
   },
   {
    "duration": 8,
    "start_time": "2021-11-01T13:09:29.757Z"
   },
   {
    "duration": 9,
    "start_time": "2021-11-01T13:09:42.237Z"
   },
   {
    "duration": 12,
    "start_time": "2021-11-01T13:10:55.908Z"
   },
   {
    "duration": 6,
    "start_time": "2021-11-01T13:12:58.912Z"
   },
   {
    "duration": 7,
    "start_time": "2021-11-01T13:17:05.537Z"
   },
   {
    "duration": 1178,
    "start_time": "2021-11-05T08:17:14.549Z"
   },
   {
    "duration": 54,
    "start_time": "2021-11-05T08:17:15.728Z"
   },
   {
    "duration": 2,
    "start_time": "2021-11-05T08:17:15.786Z"
   },
   {
    "duration": 15,
    "start_time": "2021-11-05T08:17:15.790Z"
   },
   {
    "duration": 14,
    "start_time": "2021-11-05T08:17:15.807Z"
   },
   {
    "duration": 7,
    "start_time": "2021-11-05T08:17:15.823Z"
   },
   {
    "duration": 40,
    "start_time": "2021-11-05T08:17:15.833Z"
   },
   {
    "duration": 20,
    "start_time": "2021-11-05T08:17:15.876Z"
   },
   {
    "duration": 4,
    "start_time": "2021-11-05T08:17:15.898Z"
   },
   {
    "duration": 10,
    "start_time": "2021-11-05T08:17:15.904Z"
   },
   {
    "duration": 4,
    "start_time": "2021-11-05T08:17:15.915Z"
   },
   {
    "duration": 14,
    "start_time": "2021-11-05T08:17:15.920Z"
   },
   {
    "duration": 31,
    "start_time": "2021-11-05T08:17:15.935Z"
   },
   {
    "duration": 350,
    "start_time": "2021-11-05T08:17:15.970Z"
   },
   {
    "duration": 6,
    "start_time": "2021-11-05T08:17:46.553Z"
   },
   {
    "duration": 7279,
    "start_time": "2021-11-05T08:26:20.783Z"
   },
   {
    "duration": 417,
    "start_time": "2021-11-05T08:26:49.784Z"
   },
   {
    "duration": 358,
    "start_time": "2021-11-05T08:27:34.638Z"
   },
   {
    "duration": 6,
    "start_time": "2021-11-05T08:28:24.038Z"
   },
   {
    "duration": 380,
    "start_time": "2021-11-05T08:28:55.037Z"
   },
   {
    "duration": 362,
    "start_time": "2021-11-05T08:29:36.407Z"
   },
   {
    "duration": 5,
    "start_time": "2021-11-05T08:29:39.104Z"
   },
   {
    "duration": 5,
    "start_time": "2021-11-05T08:30:29.552Z"
   },
   {
    "duration": 6,
    "start_time": "2021-11-05T08:30:47.161Z"
   },
   {
    "duration": 383,
    "start_time": "2021-11-05T08:31:50.249Z"
   },
   {
    "duration": 5,
    "start_time": "2021-11-05T08:32:58.857Z"
   },
   {
    "duration": 254,
    "start_time": "2021-11-05T08:34:34.747Z"
   },
   {
    "duration": 4,
    "start_time": "2021-11-05T08:34:51.155Z"
   },
   {
    "duration": 504,
    "start_time": "2021-11-05T08:34:58.808Z"
   },
   {
    "duration": 511,
    "start_time": "2021-11-05T08:35:56.740Z"
   },
   {
    "duration": 291,
    "start_time": "2021-11-05T08:36:15.415Z"
   },
   {
    "duration": 5,
    "start_time": "2021-11-05T08:36:37.101Z"
   },
   {
    "duration": 5,
    "start_time": "2021-11-05T08:39:03.073Z"
   },
   {
    "duration": 8,
    "start_time": "2021-11-05T08:40:15.823Z"
   },
   {
    "duration": 6,
    "start_time": "2021-11-05T08:41:00.174Z"
   },
   {
    "duration": 4,
    "start_time": "2021-11-05T08:43:06.713Z"
   },
   {
    "duration": 5,
    "start_time": "2021-11-05T08:43:47.074Z"
   },
   {
    "duration": 13,
    "start_time": "2021-11-05T08:43:58.403Z"
   },
   {
    "duration": 5,
    "start_time": "2021-11-05T08:44:59.286Z"
   },
   {
    "duration": 10,
    "start_time": "2021-11-05T08:45:35.886Z"
   },
   {
    "duration": 6,
    "start_time": "2021-11-05T08:45:37.492Z"
   },
   {
    "duration": 12,
    "start_time": "2021-11-05T08:45:43.494Z"
   },
   {
    "duration": 5,
    "start_time": "2021-11-05T08:46:23.252Z"
   },
   {
    "duration": 80,
    "start_time": "2021-11-05T08:47:02.762Z"
   },
   {
    "duration": 10,
    "start_time": "2021-11-05T08:48:08.971Z"
   },
   {
    "duration": 12,
    "start_time": "2021-11-05T08:48:18.341Z"
   },
   {
    "duration": 19,
    "start_time": "2021-11-05T08:58:45.049Z"
   },
   {
    "duration": 15,
    "start_time": "2021-11-05T09:10:03.246Z"
   },
   {
    "duration": 16,
    "start_time": "2021-11-05T09:11:12.815Z"
   },
   {
    "duration": 6,
    "start_time": "2021-11-05T09:21:47.658Z"
   },
   {
    "duration": 373,
    "start_time": "2021-11-05T09:21:48.463Z"
   },
   {
    "duration": 4,
    "start_time": "2021-11-05T09:25:27.436Z"
   },
   {
    "duration": 338,
    "start_time": "2021-11-05T09:25:28.164Z"
   },
   {
    "duration": 3,
    "start_time": "2021-11-05T09:26:47.603Z"
   },
   {
    "duration": 327,
    "start_time": "2021-11-05T09:26:48.058Z"
   },
   {
    "duration": 4,
    "start_time": "2021-11-05T09:29:35.984Z"
   },
   {
    "duration": 267,
    "start_time": "2021-11-05T09:29:36.525Z"
   },
   {
    "duration": 306,
    "start_time": "2021-11-05T09:30:31.193Z"
   },
   {
    "duration": 315,
    "start_time": "2021-11-05T09:33:49.729Z"
   },
   {
    "duration": 304,
    "start_time": "2021-11-05T09:33:53.642Z"
   },
   {
    "duration": 454,
    "start_time": "2021-11-05T09:33:54.916Z"
   },
   {
    "duration": 263,
    "start_time": "2021-11-05T09:33:58.401Z"
   },
   {
    "duration": 307,
    "start_time": "2021-11-05T09:34:01.505Z"
   },
   {
    "duration": 303,
    "start_time": "2021-11-05T09:34:05.384Z"
   },
   {
    "duration": 307,
    "start_time": "2021-11-05T09:34:13.393Z"
   },
   {
    "duration": 343,
    "start_time": "2021-11-05T09:34:18.136Z"
   },
   {
    "duration": 18,
    "start_time": "2021-11-05T09:48:42.582Z"
   },
   {
    "duration": 319,
    "start_time": "2021-11-05T09:53:42.639Z"
   },
   {
    "duration": 326,
    "start_time": "2021-11-05T09:54:46.832Z"
   },
   {
    "duration": 6,
    "start_time": "2021-11-05T09:59:02.677Z"
   },
   {
    "duration": 2,
    "start_time": "2021-11-05T10:01:40.133Z"
   },
   {
    "duration": 563,
    "start_time": "2021-11-05T10:01:40.926Z"
   },
   {
    "duration": 4,
    "start_time": "2021-11-05T10:01:58.086Z"
   },
   {
    "duration": 129,
    "start_time": "2021-11-05T10:01:59.014Z"
   },
   {
    "duration": 141,
    "start_time": "2021-11-05T10:02:03.734Z"
   },
   {
    "duration": 130,
    "start_time": "2021-11-05T10:02:14.478Z"
   },
   {
    "duration": 145,
    "start_time": "2021-11-05T10:02:19.047Z"
   },
   {
    "duration": 3,
    "start_time": "2021-11-05T10:06:21.345Z"
   },
   {
    "duration": 241,
    "start_time": "2021-11-05T10:06:22.153Z"
   },
   {
    "duration": 585,
    "start_time": "2021-11-05T10:06:43.122Z"
   },
   {
    "duration": 15,
    "start_time": "2021-11-05T10:09:23.998Z"
   },
   {
    "duration": 12,
    "start_time": "2021-11-05T10:10:28.279Z"
   },
   {
    "duration": 5,
    "start_time": "2021-11-05T10:10:49.038Z"
   },
   {
    "duration": 10,
    "start_time": "2021-11-05T10:10:56.949Z"
   },
   {
    "duration": 4,
    "start_time": "2021-11-05T10:10:57.806Z"
   },
   {
    "duration": 191,
    "start_time": "2021-11-05T10:11:07.431Z"
   },
   {
    "duration": 645,
    "start_time": "2021-11-05T10:13:21.759Z"
   },
   {
    "duration": 666,
    "start_time": "2021-11-05T10:13:34.655Z"
   },
   {
    "duration": 197,
    "start_time": "2021-11-05T10:13:49.912Z"
   },
   {
    "duration": 239,
    "start_time": "2021-11-05T10:14:49.250Z"
   },
   {
    "duration": 184,
    "start_time": "2021-11-05T10:14:56.502Z"
   },
   {
    "duration": 197,
    "start_time": "2021-11-05T10:15:03.935Z"
   },
   {
    "duration": 302,
    "start_time": "2021-11-05T13:31:25.463Z"
   },
   {
    "duration": 264,
    "start_time": "2021-11-05T13:31:36.813Z"
   },
   {
    "duration": 271,
    "start_time": "2021-11-05T13:31:43.605Z"
   },
   {
    "duration": 10,
    "start_time": "2021-11-05T13:33:13.799Z"
   },
   {
    "duration": 384,
    "start_time": "2021-11-05T13:51:53.623Z"
   },
   {
    "duration": 10,
    "start_time": "2021-11-05T13:52:31.254Z"
   },
   {
    "duration": 7,
    "start_time": "2021-11-05T14:00:26.535Z"
   },
   {
    "duration": 514,
    "start_time": "2021-11-05T14:00:28.652Z"
   },
   {
    "duration": 6,
    "start_time": "2021-11-05T14:00:58.837Z"
   },
   {
    "duration": 518,
    "start_time": "2021-11-05T14:00:59.539Z"
   },
   {
    "duration": 7,
    "start_time": "2021-11-05T14:08:26.354Z"
   },
   {
    "duration": 529,
    "start_time": "2021-11-05T14:08:27.657Z"
   },
   {
    "duration": 702,
    "start_time": "2021-11-05T14:08:46.890Z"
   },
   {
    "duration": 707,
    "start_time": "2021-11-05T14:09:01.729Z"
   },
   {
    "duration": 514,
    "start_time": "2021-11-05T14:09:21.198Z"
   },
   {
    "duration": 16,
    "start_time": "2021-11-05T14:50:45.866Z"
   },
   {
    "duration": 14,
    "start_time": "2021-11-05T15:10:14.858Z"
   },
   {
    "duration": 15,
    "start_time": "2021-11-05T15:10:29.714Z"
   },
   {
    "duration": 241,
    "start_time": "2021-11-05T15:11:27.439Z"
   },
   {
    "duration": 17,
    "start_time": "2021-11-05T15:11:46.202Z"
   },
   {
    "duration": 15,
    "start_time": "2021-11-05T15:21:20.318Z"
   },
   {
    "duration": 370,
    "start_time": "2021-11-05T15:27:41.779Z"
   },
   {
    "duration": 22,
    "start_time": "2021-11-05T15:29:12.252Z"
   },
   {
    "duration": 251,
    "start_time": "2021-11-05T15:31:45.697Z"
   },
   {
    "duration": 19,
    "start_time": "2021-11-05T15:31:54.575Z"
   },
   {
    "duration": 17,
    "start_time": "2021-11-05T15:35:21.245Z"
   },
   {
    "duration": 16,
    "start_time": "2021-11-05T15:36:22.139Z"
   },
   {
    "duration": 18,
    "start_time": "2021-11-05T15:39:14.384Z"
   },
   {
    "duration": 23,
    "start_time": "2021-11-05T15:40:25.566Z"
   },
   {
    "duration": 80,
    "start_time": "2021-11-05T15:41:27.062Z"
   },
   {
    "duration": 17,
    "start_time": "2021-11-05T15:41:33.285Z"
   },
   {
    "duration": 11,
    "start_time": "2021-11-05T15:54:03.060Z"
   },
   {
    "duration": 10,
    "start_time": "2021-11-05T15:55:21.042Z"
   },
   {
    "duration": 203,
    "start_time": "2021-11-05T15:56:39.225Z"
   },
   {
    "duration": 84,
    "start_time": "2021-11-05T15:58:24.169Z"
   },
   {
    "duration": 12,
    "start_time": "2021-11-05T15:59:19.700Z"
   },
   {
    "duration": 9,
    "start_time": "2021-11-05T16:00:35.739Z"
   },
   {
    "duration": 11,
    "start_time": "2021-11-05T16:01:43.495Z"
   },
   {
    "duration": 188,
    "start_time": "2021-11-05T16:02:02.944Z"
   },
   {
    "duration": 297,
    "start_time": "2021-11-05T16:02:15.187Z"
   },
   {
    "duration": 10,
    "start_time": "2021-11-05T16:10:28.825Z"
   },
   {
    "duration": 15,
    "start_time": "2021-11-05T16:10:59.969Z"
   },
   {
    "duration": 193,
    "start_time": "2021-11-05T16:12:47.854Z"
   },
   {
    "duration": 192,
    "start_time": "2021-11-05T16:12:49.159Z"
   },
   {
    "duration": 410,
    "start_time": "2021-11-09T08:47:27.248Z"
   },
   {
    "duration": 1213,
    "start_time": "2021-11-09T08:47:30.078Z"
   },
   {
    "duration": 53,
    "start_time": "2021-11-09T08:47:33.074Z"
   },
   {
    "duration": 12,
    "start_time": "2021-11-09T08:47:35.575Z"
   },
   {
    "duration": 34,
    "start_time": "2021-11-09T08:47:59.266Z"
   },
   {
    "duration": 32,
    "start_time": "2021-11-09T08:48:21.005Z"
   },
   {
    "duration": 3,
    "start_time": "2021-11-09T08:52:25.614Z"
   },
   {
    "duration": 12,
    "start_time": "2021-11-09T08:52:26.053Z"
   },
   {
    "duration": 15,
    "start_time": "2021-11-09T08:52:28.548Z"
   },
   {
    "duration": 6,
    "start_time": "2021-11-09T08:52:29.691Z"
   },
   {
    "duration": 10,
    "start_time": "2021-11-09T08:52:30.206Z"
   },
   {
    "duration": 22,
    "start_time": "2021-11-09T08:52:31.996Z"
   },
   {
    "duration": 5,
    "start_time": "2021-11-09T08:52:35.180Z"
   },
   {
    "duration": 12,
    "start_time": "2021-11-09T08:52:35.678Z"
   },
   {
    "duration": 5,
    "start_time": "2021-11-09T08:52:36.798Z"
   },
   {
    "duration": 7,
    "start_time": "2021-11-09T08:52:37.996Z"
   },
   {
    "duration": 5,
    "start_time": "2021-11-09T08:52:40.299Z"
   },
   {
    "duration": 7,
    "start_time": "2021-11-09T08:52:41.229Z"
   },
   {
    "duration": 350,
    "start_time": "2021-11-09T08:52:42.405Z"
   },
   {
    "duration": 14,
    "start_time": "2021-11-09T08:52:44.939Z"
   },
   {
    "duration": 6,
    "start_time": "2021-11-09T08:52:45.343Z"
   },
   {
    "duration": 5,
    "start_time": "2021-11-09T08:52:46.405Z"
   },
   {
    "duration": 5,
    "start_time": "2021-11-09T08:52:49.183Z"
   },
   {
    "duration": 10,
    "start_time": "2021-11-09T08:53:07.783Z"
   },
   {
    "duration": 5,
    "start_time": "2021-11-09T08:56:16.128Z"
   },
   {
    "duration": 13,
    "start_time": "2021-11-09T08:56:17.408Z"
   },
   {
    "duration": 16,
    "start_time": "2021-11-09T08:56:22.715Z"
   },
   {
    "duration": 10022,
    "start_time": "2021-11-09T08:57:47.810Z"
   },
   {
    "duration": 9,
    "start_time": "2021-11-09T08:58:45.734Z"
   },
   {
    "duration": 11071,
    "start_time": "2021-11-09T08:58:48.877Z"
   },
   {
    "duration": 195,
    "start_time": "2021-11-09T08:59:56.915Z"
   },
   {
    "duration": 16,
    "start_time": "2021-11-09T09:01:51.217Z"
   },
   {
    "duration": 11957,
    "start_time": "2021-11-09T09:02:37.119Z"
   },
   {
    "duration": 9404,
    "start_time": "2021-11-09T09:03:18.515Z"
   },
   {
    "duration": 9912,
    "start_time": "2021-11-09T09:03:42.934Z"
   },
   {
    "duration": 15,
    "start_time": "2021-11-09T09:05:50.940Z"
   },
   {
    "duration": 268,
    "start_time": "2021-11-09T09:07:28.848Z"
   },
   {
    "duration": 1510,
    "start_time": "2021-11-09T09:15:01.287Z"
   },
   {
    "duration": 4,
    "start_time": "2021-11-09T09:15:47.789Z"
   },
   {
    "duration": 4,
    "start_time": "2021-11-09T09:16:25.633Z"
   },
   {
    "duration": 200,
    "start_time": "2021-11-09T09:16:38.735Z"
   },
   {
    "duration": 17,
    "start_time": "2021-11-09T09:17:04.375Z"
   },
   {
    "duration": 4,
    "start_time": "2021-11-09T09:17:06.375Z"
   },
   {
    "duration": 305,
    "start_time": "2021-11-09T09:17:07.111Z"
   },
   {
    "duration": 15,
    "start_time": "2021-11-09T09:17:25.561Z"
   },
   {
    "duration": 192,
    "start_time": "2021-11-09T09:17:26.559Z"
   },
   {
    "duration": 17,
    "start_time": "2021-11-09T09:20:41.645Z"
   },
   {
    "duration": 187,
    "start_time": "2021-11-09T09:20:56.526Z"
   },
   {
    "duration": 16,
    "start_time": "2021-11-09T09:20:58.466Z"
   },
   {
    "duration": 4,
    "start_time": "2021-11-09T09:20:59.297Z"
   },
   {
    "duration": 320,
    "start_time": "2021-11-09T09:21:00.209Z"
   },
   {
    "duration": 346,
    "start_time": "2021-11-09T09:21:01.298Z"
   },
   {
    "duration": 290,
    "start_time": "2021-11-09T09:21:02.618Z"
   },
   {
    "duration": 301,
    "start_time": "2021-11-09T09:21:02.913Z"
   },
   {
    "duration": 320,
    "start_time": "2021-11-09T09:21:03.216Z"
   },
   {
    "duration": 284,
    "start_time": "2021-11-09T09:21:03.538Z"
   },
   {
    "duration": 313,
    "start_time": "2021-11-09T09:21:03.824Z"
   },
   {
    "duration": 300,
    "start_time": "2021-11-09T09:21:04.140Z"
   },
   {
    "duration": 318,
    "start_time": "2021-11-09T09:21:04.443Z"
   },
   {
    "duration": 312,
    "start_time": "2021-11-09T09:21:04.763Z"
   },
   {
    "duration": 322,
    "start_time": "2021-11-09T09:21:05.077Z"
   },
   {
    "duration": 297,
    "start_time": "2021-11-09T09:21:05.427Z"
   },
   {
    "duration": 16,
    "start_time": "2021-11-09T09:21:17.498Z"
   },
   {
    "duration": 320,
    "start_time": "2021-11-09T09:22:27.699Z"
   },
   {
    "duration": 10,
    "start_time": "2021-11-09T09:22:40.715Z"
   },
   {
    "duration": 9,
    "start_time": "2021-11-09T09:24:27.723Z"
   },
   {
    "duration": 202,
    "start_time": "2021-11-09T09:24:30.406Z"
   },
   {
    "duration": 275,
    "start_time": "2021-11-09T09:24:32.524Z"
   },
   {
    "duration": 7,
    "start_time": "2021-11-09T09:26:56.472Z"
   },
   {
    "duration": 635,
    "start_time": "2021-11-09T09:26:59.091Z"
   },
   {
    "duration": 528,
    "start_time": "2021-11-09T09:27:39.105Z"
   },
   {
    "duration": 510,
    "start_time": "2021-11-09T09:27:41.958Z"
   },
   {
    "duration": 503,
    "start_time": "2021-11-09T09:27:45.863Z"
   },
   {
    "duration": 479,
    "start_time": "2021-11-09T09:27:50.434Z"
   },
   {
    "duration": 16,
    "start_time": "2021-11-09T09:29:56.971Z"
   },
   {
    "duration": 10,
    "start_time": "2021-11-09T09:30:04.320Z"
   },
   {
    "duration": 186,
    "start_time": "2021-11-09T09:30:06.232Z"
   },
   {
    "duration": 194,
    "start_time": "2021-11-09T09:30:07.856Z"
   },
   {
    "duration": 7,
    "start_time": "2021-11-09T09:30:17.703Z"
   },
   {
    "duration": 548,
    "start_time": "2021-11-09T09:30:20.968Z"
   },
   {
    "duration": 657,
    "start_time": "2021-11-09T09:30:25.049Z"
   },
   {
    "duration": 510,
    "start_time": "2021-11-09T09:30:28.050Z"
   },
   {
    "duration": 497,
    "start_time": "2021-11-09T09:30:30.915Z"
   },
   {
    "duration": 16,
    "start_time": "2021-11-09T09:30:37.920Z"
   },
   {
    "duration": 160,
    "start_time": "2021-11-09T09:41:36.786Z"
   },
   {
    "duration": 15,
    "start_time": "2021-11-09T09:41:48.123Z"
   },
   {
    "duration": 163,
    "start_time": "2021-11-09T09:42:01.710Z"
   },
   {
    "duration": 164,
    "start_time": "2021-11-09T09:42:23.347Z"
   },
   {
    "duration": 178,
    "start_time": "2021-11-09T09:42:39.338Z"
   },
   {
    "duration": 15,
    "start_time": "2021-11-09T09:42:46.895Z"
   },
   {
    "duration": 161,
    "start_time": "2021-11-09T09:43:00.860Z"
   },
   {
    "duration": 162,
    "start_time": "2021-11-09T09:43:28.045Z"
   },
   {
    "duration": 384,
    "start_time": "2021-11-09T09:45:42.374Z"
   },
   {
    "duration": 478,
    "start_time": "2021-11-09T09:45:49.777Z"
   },
   {
    "duration": 196,
    "start_time": "2021-11-09T09:46:01.503Z"
   },
   {
    "duration": 156,
    "start_time": "2021-11-09T09:47:28.751Z"
   },
   {
    "duration": 260,
    "start_time": "2021-11-09T09:47:55.858Z"
   },
   {
    "duration": 168,
    "start_time": "2021-11-09T09:48:07.552Z"
   },
   {
    "duration": 156,
    "start_time": "2021-11-09T09:48:19.519Z"
   },
   {
    "duration": 1291,
    "start_time": "2021-11-09T09:48:26.493Z"
   },
   {
    "duration": 54,
    "start_time": "2021-11-09T09:48:27.786Z"
   },
   {
    "duration": 13,
    "start_time": "2021-11-09T09:48:27.845Z"
   },
   {
    "duration": 56,
    "start_time": "2021-11-09T09:48:27.860Z"
   },
   {
    "duration": 3,
    "start_time": "2021-11-09T09:48:27.919Z"
   },
   {
    "duration": 22,
    "start_time": "2021-11-09T09:48:27.923Z"
   },
   {
    "duration": 22,
    "start_time": "2021-11-09T09:48:27.948Z"
   },
   {
    "duration": 14,
    "start_time": "2021-11-09T09:48:27.972Z"
   },
   {
    "duration": 28,
    "start_time": "2021-11-09T09:48:27.987Z"
   },
   {
    "duration": 23,
    "start_time": "2021-11-09T09:48:28.017Z"
   },
   {
    "duration": 6,
    "start_time": "2021-11-09T09:48:28.041Z"
   },
   {
    "duration": 36,
    "start_time": "2021-11-09T09:48:28.049Z"
   },
   {
    "duration": 5,
    "start_time": "2021-11-09T09:48:28.087Z"
   },
   {
    "duration": 11,
    "start_time": "2021-11-09T09:48:28.094Z"
   },
   {
    "duration": 7,
    "start_time": "2021-11-09T09:48:28.107Z"
   },
   {
    "duration": 11,
    "start_time": "2021-11-09T09:48:28.116Z"
   },
   {
    "duration": 303,
    "start_time": "2021-11-09T09:48:28.129Z"
   },
   {
    "duration": 12,
    "start_time": "2021-11-09T09:48:28.434Z"
   },
   {
    "duration": 8,
    "start_time": "2021-11-09T09:48:28.448Z"
   },
   {
    "duration": 7,
    "start_time": "2021-11-09T09:48:28.458Z"
   },
   {
    "duration": 6,
    "start_time": "2021-11-09T09:48:28.467Z"
   },
   {
    "duration": 7,
    "start_time": "2021-11-09T09:48:28.507Z"
   },
   {
    "duration": 13,
    "start_time": "2021-11-09T09:48:28.517Z"
   },
   {
    "duration": 15,
    "start_time": "2021-11-09T09:48:28.532Z"
   },
   {
    "duration": 232,
    "start_time": "2021-11-09T09:48:28.549Z"
   },
   {
    "duration": 24,
    "start_time": "2021-11-09T09:48:28.783Z"
   },
   {
    "duration": 4,
    "start_time": "2021-11-09T09:48:28.809Z"
   },
   {
    "duration": 310,
    "start_time": "2021-11-09T09:48:28.814Z"
   },
   {
    "duration": 289,
    "start_time": "2021-11-09T09:48:29.126Z"
   },
   {
    "duration": 302,
    "start_time": "2021-11-09T09:48:29.416Z"
   },
   {
    "duration": 293,
    "start_time": "2021-11-09T09:48:29.720Z"
   },
   {
    "duration": 317,
    "start_time": "2021-11-09T09:48:30.014Z"
   },
   {
    "duration": 293,
    "start_time": "2021-11-09T09:48:30.333Z"
   },
   {
    "duration": 397,
    "start_time": "2021-11-09T09:48:30.628Z"
   },
   {
    "duration": 304,
    "start_time": "2021-11-09T09:48:31.027Z"
   },
   {
    "duration": 301,
    "start_time": "2021-11-09T09:48:31.332Z"
   },
   {
    "duration": 299,
    "start_time": "2021-11-09T09:48:31.635Z"
   },
   {
    "duration": 288,
    "start_time": "2021-11-09T09:48:31.936Z"
   },
   {
    "duration": 313,
    "start_time": "2021-11-09T09:48:32.226Z"
   },
   {
    "duration": 299,
    "start_time": "2021-11-09T09:48:32.541Z"
   },
   {
    "duration": 15,
    "start_time": "2021-11-09T09:48:32.842Z"
   },
   {
    "duration": 20,
    "start_time": "2021-11-09T09:48:32.859Z"
   },
   {
    "duration": 210,
    "start_time": "2021-11-09T09:48:32.880Z"
   },
   {
    "duration": 203,
    "start_time": "2021-11-09T09:48:33.092Z"
   },
   {
    "duration": 11,
    "start_time": "2021-11-09T09:48:33.297Z"
   },
   {
    "duration": 524,
    "start_time": "2021-11-09T09:48:33.310Z"
   },
   {
    "duration": 585,
    "start_time": "2021-11-09T09:48:33.836Z"
   },
   {
    "duration": 483,
    "start_time": "2021-11-09T09:48:34.423Z"
   },
   {
    "duration": 511,
    "start_time": "2021-11-09T09:48:34.908Z"
   },
   {
    "duration": 16,
    "start_time": "2021-11-09T09:48:35.421Z"
   },
   {
    "duration": 18,
    "start_time": "2021-11-09T09:48:35.439Z"
   },
   {
    "duration": 183,
    "start_time": "2021-11-09T09:48:35.459Z"
   },
   {
    "duration": 17,
    "start_time": "2021-11-09T09:48:35.643Z"
   },
   {
    "duration": 189,
    "start_time": "2021-11-09T09:48:35.662Z"
   },
   {
    "duration": 16,
    "start_time": "2021-11-09T09:48:35.853Z"
   },
   {
    "duration": 182,
    "start_time": "2021-11-09T09:48:35.871Z"
   },
   {
    "duration": 17,
    "start_time": "2021-11-09T09:48:36.055Z"
   },
   {
    "duration": 192,
    "start_time": "2021-11-09T09:48:36.074Z"
   },
   {
    "duration": 17,
    "start_time": "2021-11-09T09:48:36.268Z"
   },
   {
    "duration": 181,
    "start_time": "2021-11-09T09:48:36.287Z"
   },
   {
    "duration": 16,
    "start_time": "2021-11-09T09:48:36.471Z"
   },
   {
    "duration": 187,
    "start_time": "2021-11-09T09:48:36.489Z"
   },
   {
    "duration": 17,
    "start_time": "2021-11-09T09:48:36.678Z"
   },
   {
    "duration": 165,
    "start_time": "2021-11-09T09:48:36.707Z"
   },
   {
    "duration": 16,
    "start_time": "2021-11-09T09:48:36.874Z"
   },
   {
    "duration": 188,
    "start_time": "2021-11-09T09:48:36.892Z"
   },
   {
    "duration": 25,
    "start_time": "2021-11-09T09:48:37.085Z"
   },
   {
    "duration": 246,
    "start_time": "2021-11-09T09:48:37.112Z"
   },
   {
    "duration": 9,
    "start_time": "2021-11-09T09:48:37.360Z"
   },
   {
    "duration": 20,
    "start_time": "2021-11-09T09:48:37.371Z"
   },
   {
    "duration": 204,
    "start_time": "2021-11-09T09:48:37.393Z"
   },
   {
    "duration": 195,
    "start_time": "2021-11-09T09:48:37.599Z"
   },
   {
    "duration": 13,
    "start_time": "2021-11-09T09:48:37.796Z"
   },
   {
    "duration": 16,
    "start_time": "2021-11-09T09:48:37.811Z"
   },
   {
    "duration": 197,
    "start_time": "2021-11-09T09:48:37.829Z"
   },
   {
    "duration": 204,
    "start_time": "2021-11-09T09:48:38.028Z"
   },
   {
    "duration": 17,
    "start_time": "2021-11-09T09:48:58.962Z"
   },
   {
    "duration": 167,
    "start_time": "2021-11-09T09:49:05.525Z"
   },
   {
    "duration": 16,
    "start_time": "2021-11-09T09:50:49.165Z"
   },
   {
    "duration": 163,
    "start_time": "2021-11-09T09:50:52.329Z"
   },
   {
    "duration": 169,
    "start_time": "2021-11-09T09:51:26.058Z"
   },
   {
    "duration": 22,
    "start_time": "2021-11-09T09:51:54.892Z"
   },
   {
    "duration": 160,
    "start_time": "2021-11-09T09:51:56.648Z"
   },
   {
    "duration": 17,
    "start_time": "2021-11-09T09:52:12.011Z"
   },
   {
    "duration": 179,
    "start_time": "2021-11-09T09:52:13.309Z"
   },
   {
    "duration": 17,
    "start_time": "2021-11-09T09:55:06.006Z"
   },
   {
    "duration": 162,
    "start_time": "2021-11-09T09:55:14.374Z"
   },
   {
    "duration": 17,
    "start_time": "2021-11-09T09:56:10.503Z"
   },
   {
    "duration": 157,
    "start_time": "2021-11-09T09:56:18.694Z"
   },
   {
    "duration": 16,
    "start_time": "2021-11-09T09:56:51.999Z"
   },
   {
    "duration": 167,
    "start_time": "2021-11-09T09:57:02.439Z"
   },
   {
    "duration": 15,
    "start_time": "2021-11-09T09:57:39.991Z"
   },
   {
    "duration": 241,
    "start_time": "2021-11-09T09:57:46.986Z"
   },
   {
    "duration": 18,
    "start_time": "2021-11-09T09:58:04.104Z"
   },
   {
    "duration": 172,
    "start_time": "2021-11-09T09:58:10.921Z"
   },
   {
    "duration": 9,
    "start_time": "2021-11-09T09:59:04.184Z"
   },
   {
    "duration": 10,
    "start_time": "2021-11-09T09:59:09.663Z"
   },
   {
    "duration": 192,
    "start_time": "2021-11-09T09:59:18.192Z"
   },
   {
    "duration": 187,
    "start_time": "2021-11-09T09:59:19.774Z"
   },
   {
    "duration": 10,
    "start_time": "2021-11-09T10:03:25.887Z"
   },
   {
    "duration": 10,
    "start_time": "2021-11-09T10:03:30.068Z"
   },
   {
    "duration": 186,
    "start_time": "2021-11-09T10:03:42.843Z"
   },
   {
    "duration": 193,
    "start_time": "2021-11-09T10:03:43.763Z"
   },
   {
    "duration": 1306,
    "start_time": "2021-11-09T10:08:11.975Z"
   },
   {
    "duration": 54,
    "start_time": "2021-11-09T10:08:13.283Z"
   },
   {
    "duration": 12,
    "start_time": "2021-11-09T10:08:13.339Z"
   },
   {
    "duration": 43,
    "start_time": "2021-11-09T10:08:13.353Z"
   },
   {
    "duration": 9,
    "start_time": "2021-11-09T10:08:13.398Z"
   },
   {
    "duration": 30,
    "start_time": "2021-11-09T10:08:13.409Z"
   },
   {
    "duration": 21,
    "start_time": "2021-11-09T10:08:13.441Z"
   },
   {
    "duration": 19,
    "start_time": "2021-11-09T10:08:13.464Z"
   },
   {
    "duration": 25,
    "start_time": "2021-11-09T10:08:13.486Z"
   },
   {
    "duration": 22,
    "start_time": "2021-11-09T10:08:13.513Z"
   },
   {
    "duration": 7,
    "start_time": "2021-11-09T10:08:13.536Z"
   },
   {
    "duration": 14,
    "start_time": "2021-11-09T10:08:13.544Z"
   },
   {
    "duration": 5,
    "start_time": "2021-11-09T10:08:13.560Z"
   },
   {
    "duration": 8,
    "start_time": "2021-11-09T10:08:13.566Z"
   },
   {
    "duration": 33,
    "start_time": "2021-11-09T10:08:13.575Z"
   },
   {
    "duration": 6,
    "start_time": "2021-11-09T10:08:13.611Z"
   },
   {
    "duration": 305,
    "start_time": "2021-11-09T10:08:13.619Z"
   },
   {
    "duration": 11,
    "start_time": "2021-11-09T10:08:13.926Z"
   },
   {
    "duration": 6,
    "start_time": "2021-11-09T10:08:13.940Z"
   },
   {
    "duration": 6,
    "start_time": "2021-11-09T10:08:13.947Z"
   },
   {
    "duration": 8,
    "start_time": "2021-11-09T10:08:13.955Z"
   },
   {
    "duration": 11,
    "start_time": "2021-11-09T10:08:13.965Z"
   },
   {
    "duration": 36,
    "start_time": "2021-11-09T10:08:13.978Z"
   },
   {
    "duration": 14,
    "start_time": "2021-11-09T10:08:14.016Z"
   },
   {
    "duration": 207,
    "start_time": "2021-11-09T10:08:14.032Z"
   },
   {
    "duration": 15,
    "start_time": "2021-11-09T10:08:14.241Z"
   },
   {
    "duration": 3,
    "start_time": "2021-11-09T10:08:14.260Z"
   },
   {
    "duration": 335,
    "start_time": "2021-11-09T10:08:14.265Z"
   },
   {
    "duration": 308,
    "start_time": "2021-11-09T10:08:14.606Z"
   },
   {
    "duration": 294,
    "start_time": "2021-11-09T10:08:14.916Z"
   },
   {
    "duration": 300,
    "start_time": "2021-11-09T10:08:15.212Z"
   },
   {
    "duration": 315,
    "start_time": "2021-11-09T10:08:15.514Z"
   },
   {
    "duration": 294,
    "start_time": "2021-11-09T10:08:15.831Z"
   },
   {
    "duration": 395,
    "start_time": "2021-11-09T10:08:16.127Z"
   },
   {
    "duration": 301,
    "start_time": "2021-11-09T10:08:16.524Z"
   },
   {
    "duration": 311,
    "start_time": "2021-11-09T10:08:16.827Z"
   },
   {
    "duration": 282,
    "start_time": "2021-11-09T10:08:17.140Z"
   },
   {
    "duration": 324,
    "start_time": "2021-11-09T10:08:20.100Z"
   },
   {
    "duration": 300,
    "start_time": "2021-11-09T10:08:20.426Z"
   },
   {
    "duration": 300,
    "start_time": "2021-11-09T10:08:20.729Z"
   },
   {
    "duration": 19,
    "start_time": "2021-11-09T10:08:21.031Z"
   },
   {
    "duration": 25,
    "start_time": "2021-11-09T10:08:21.053Z"
   },
   {
    "duration": 262,
    "start_time": "2021-11-09T10:08:21.080Z"
   },
   {
    "duration": 193,
    "start_time": "2021-11-09T10:08:21.344Z"
   },
   {
    "duration": 7,
    "start_time": "2021-11-09T10:08:21.541Z"
   },
   {
    "duration": 539,
    "start_time": "2021-11-09T10:08:21.550Z"
   },
   {
    "duration": 625,
    "start_time": "2021-11-09T10:08:22.091Z"
   },
   {
    "duration": 492,
    "start_time": "2021-11-09T10:08:22.718Z"
   },
   {
    "duration": 508,
    "start_time": "2021-11-09T10:08:23.212Z"
   },
   {
    "duration": 14,
    "start_time": "2021-11-09T10:08:23.722Z"
   },
   {
    "duration": 14,
    "start_time": "2021-11-09T10:08:23.738Z"
   },
   {
    "duration": 202,
    "start_time": "2021-11-09T10:08:23.754Z"
   },
   {
    "duration": 16,
    "start_time": "2021-11-09T10:08:23.958Z"
   },
   {
    "duration": 193,
    "start_time": "2021-11-09T10:08:23.976Z"
   },
   {
    "duration": 15,
    "start_time": "2021-11-09T10:08:24.171Z"
   },
   {
    "duration": 187,
    "start_time": "2021-11-09T10:08:24.188Z"
   },
   {
    "duration": 16,
    "start_time": "2021-11-09T10:08:24.378Z"
   },
   {
    "duration": 173,
    "start_time": "2021-11-09T10:08:24.396Z"
   },
   {
    "duration": 16,
    "start_time": "2021-11-09T10:08:24.571Z"
   },
   {
    "duration": 193,
    "start_time": "2021-11-09T10:08:24.590Z"
   },
   {
    "duration": 22,
    "start_time": "2021-11-09T10:08:24.786Z"
   },
   {
    "duration": 168,
    "start_time": "2021-11-09T10:08:24.810Z"
   },
   {
    "duration": 28,
    "start_time": "2021-11-09T10:08:24.980Z"
   },
   {
    "duration": 176,
    "start_time": "2021-11-09T10:08:25.010Z"
   },
   {
    "duration": 29,
    "start_time": "2021-11-09T10:08:25.188Z"
   },
   {
    "duration": 173,
    "start_time": "2021-11-09T10:08:25.219Z"
   },
   {
    "duration": 23,
    "start_time": "2021-11-09T10:08:25.394Z"
   },
   {
    "duration": 251,
    "start_time": "2021-11-09T10:08:25.418Z"
   },
   {
    "duration": 9,
    "start_time": "2021-11-09T10:08:25.671Z"
   },
   {
    "duration": 25,
    "start_time": "2021-11-09T10:08:25.682Z"
   },
   {
    "duration": 206,
    "start_time": "2021-11-09T10:08:25.709Z"
   },
   {
    "duration": 191,
    "start_time": "2021-11-09T10:08:25.917Z"
   },
   {
    "duration": 10,
    "start_time": "2021-11-09T10:08:26.110Z"
   },
   {
    "duration": 12,
    "start_time": "2021-11-09T10:08:26.122Z"
   },
   {
    "duration": 207,
    "start_time": "2021-11-09T10:08:26.136Z"
   },
   {
    "duration": 209,
    "start_time": "2021-11-09T10:08:26.346Z"
   },
   {
    "duration": 1259,
    "start_time": "2021-11-09T10:13:00.621Z"
   },
   {
    "duration": 55,
    "start_time": "2021-11-09T10:13:01.882Z"
   },
   {
    "duration": 13,
    "start_time": "2021-11-09T10:13:01.939Z"
   },
   {
    "duration": 43,
    "start_time": "2021-11-09T10:13:01.954Z"
   },
   {
    "duration": 8,
    "start_time": "2021-11-09T10:13:01.999Z"
   },
   {
    "duration": 35,
    "start_time": "2021-11-09T10:13:02.009Z"
   },
   {
    "duration": 40,
    "start_time": "2021-11-09T10:13:02.046Z"
   },
   {
    "duration": 20,
    "start_time": "2021-11-09T10:13:02.089Z"
   },
   {
    "duration": 20,
    "start_time": "2021-11-09T10:13:02.112Z"
   },
   {
    "duration": 49,
    "start_time": "2021-11-09T10:13:02.134Z"
   },
   {
    "duration": 65,
    "start_time": "2021-11-09T10:13:02.185Z"
   },
   {
    "duration": 29,
    "start_time": "2021-11-09T10:13:02.252Z"
   },
   {
    "duration": 42,
    "start_time": "2021-11-09T10:13:02.283Z"
   },
   {
    "duration": 13,
    "start_time": "2021-11-09T10:13:02.327Z"
   },
   {
    "duration": 26,
    "start_time": "2021-11-09T10:13:02.342Z"
   },
   {
    "duration": 16,
    "start_time": "2021-11-09T10:13:02.370Z"
   },
   {
    "duration": 323,
    "start_time": "2021-11-09T10:13:02.388Z"
   },
   {
    "duration": 12,
    "start_time": "2021-11-09T10:13:02.713Z"
   },
   {
    "duration": 6,
    "start_time": "2021-11-09T10:13:02.727Z"
   },
   {
    "duration": 10,
    "start_time": "2021-11-09T10:13:02.735Z"
   },
   {
    "duration": 21,
    "start_time": "2021-11-09T10:13:02.746Z"
   },
   {
    "duration": 20,
    "start_time": "2021-11-09T10:13:02.768Z"
   },
   {
    "duration": 22,
    "start_time": "2021-11-09T10:13:02.790Z"
   },
   {
    "duration": 41,
    "start_time": "2021-11-09T10:13:02.814Z"
   },
   {
    "duration": 194,
    "start_time": "2021-11-09T10:13:02.857Z"
   },
   {
    "duration": 16,
    "start_time": "2021-11-09T10:13:03.055Z"
   },
   {
    "duration": 21,
    "start_time": "2021-11-09T10:13:03.074Z"
   },
   {
    "duration": 323,
    "start_time": "2021-11-09T10:13:03.097Z"
   },
   {
    "duration": 295,
    "start_time": "2021-11-09T10:13:03.422Z"
   },
   {
    "duration": 302,
    "start_time": "2021-11-09T10:13:03.719Z"
   },
   {
    "duration": 300,
    "start_time": "2021-11-09T10:13:04.023Z"
   },
   {
    "duration": 310,
    "start_time": "2021-11-09T10:13:04.325Z"
   },
   {
    "duration": 299,
    "start_time": "2021-11-09T10:13:04.637Z"
   },
   {
    "duration": 413,
    "start_time": "2021-11-09T10:13:04.938Z"
   },
   {
    "duration": 308,
    "start_time": "2021-11-09T10:13:05.353Z"
   },
   {
    "duration": 324,
    "start_time": "2021-11-09T10:13:05.663Z"
   },
   {
    "duration": 349,
    "start_time": "2021-11-09T10:13:05.989Z"
   },
   {
    "duration": 300,
    "start_time": "2021-11-09T10:13:06.340Z"
   },
   {
    "duration": 312,
    "start_time": "2021-11-09T10:13:06.642Z"
   },
   {
    "duration": 315,
    "start_time": "2021-11-09T10:13:06.956Z"
   },
   {
    "duration": 15,
    "start_time": "2021-11-09T10:13:07.273Z"
   },
   {
    "duration": 20,
    "start_time": "2021-11-09T10:13:07.290Z"
   },
   {
    "duration": 196,
    "start_time": "2021-11-09T10:13:07.312Z"
   },
   {
    "duration": 205,
    "start_time": "2021-11-09T10:13:07.510Z"
   },
   {
    "duration": 7,
    "start_time": "2021-11-09T10:13:07.716Z"
   },
   {
    "duration": 523,
    "start_time": "2021-11-09T10:13:07.725Z"
   },
   {
    "duration": 592,
    "start_time": "2021-11-09T10:13:08.250Z"
   },
   {
    "duration": 563,
    "start_time": "2021-11-09T10:13:08.843Z"
   },
   {
    "duration": 515,
    "start_time": "2021-11-09T10:13:09.408Z"
   },
   {
    "duration": 15,
    "start_time": "2021-11-09T10:13:09.925Z"
   },
   {
    "duration": 18,
    "start_time": "2021-11-09T10:13:09.942Z"
   },
   {
    "duration": 188,
    "start_time": "2021-11-09T10:13:09.962Z"
   },
   {
    "duration": 16,
    "start_time": "2021-11-09T10:13:10.153Z"
   },
   {
    "duration": 185,
    "start_time": "2021-11-09T10:13:10.171Z"
   },
   {
    "duration": 15,
    "start_time": "2021-11-09T10:13:10.359Z"
   },
   {
    "duration": 184,
    "start_time": "2021-11-09T10:13:10.376Z"
   },
   {
    "duration": 17,
    "start_time": "2021-11-09T10:13:10.562Z"
   },
   {
    "duration": 184,
    "start_time": "2021-11-09T10:13:10.580Z"
   },
   {
    "duration": 15,
    "start_time": "2021-11-09T10:13:10.765Z"
   },
   {
    "duration": 178,
    "start_time": "2021-11-09T10:13:10.781Z"
   },
   {
    "duration": 15,
    "start_time": "2021-11-09T10:13:10.960Z"
   },
   {
    "duration": 181,
    "start_time": "2021-11-09T10:13:10.977Z"
   },
   {
    "duration": 15,
    "start_time": "2021-11-09T10:13:11.160Z"
   },
   {
    "duration": 178,
    "start_time": "2021-11-09T10:13:11.177Z"
   },
   {
    "duration": 17,
    "start_time": "2021-11-09T10:13:11.358Z"
   },
   {
    "duration": 185,
    "start_time": "2021-11-09T10:13:11.377Z"
   },
   {
    "duration": 16,
    "start_time": "2021-11-09T10:13:11.564Z"
   },
   {
    "duration": 249,
    "start_time": "2021-11-09T10:13:11.582Z"
   },
   {
    "duration": 8,
    "start_time": "2021-11-09T10:13:11.833Z"
   },
   {
    "duration": 13,
    "start_time": "2021-11-09T10:13:11.844Z"
   },
   {
    "duration": 216,
    "start_time": "2021-11-09T10:13:11.859Z"
   },
   {
    "duration": 200,
    "start_time": "2021-11-09T10:13:12.077Z"
   },
   {
    "duration": 10,
    "start_time": "2021-11-09T10:13:12.279Z"
   },
   {
    "duration": 10,
    "start_time": "2021-11-09T10:13:12.307Z"
   },
   {
    "duration": 190,
    "start_time": "2021-11-09T10:13:12.319Z"
   },
   {
    "duration": 205,
    "start_time": "2021-11-09T10:13:12.511Z"
   }
  ],
  "kernelspec": {
   "display_name": "Python 3",
   "language": "python",
   "name": "python3"
  },
  "language_info": {
   "codemirror_mode": {
    "name": "ipython",
    "version": 3
   },
   "file_extension": ".py",
   "mimetype": "text/x-python",
   "name": "python",
   "nbconvert_exporter": "python",
   "pygments_lexer": "ipython3",
   "version": "3.8.5"
  },
  "toc": {
   "base_numbering": 1,
   "nav_menu": {},
   "number_sections": true,
   "sideBar": true,
   "skip_h1_title": true,
   "title_cell": "Table of Contents",
   "title_sidebar": "Contents",
   "toc_cell": false,
   "toc_position": {},
   "toc_section_display": true,
   "toc_window_display": false
  }
 },
 "nbformat": 4,
 "nbformat_minor": 2
}
