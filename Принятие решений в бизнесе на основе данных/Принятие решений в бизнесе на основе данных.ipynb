{
 "cells": [
  {
   "cell_type": "markdown",
   "metadata": {},
   "source": [
    "# Принятие решений в бизнесе на основе данных"
   ]
  },
  {
   "cell_type": "markdown",
   "metadata": {},
   "source": [
    "В данном проекте нам предстоит примерить на себя роль аналитика крупного интернет-магазина. У нас есть список гипотез для увеличения выручки.\n",
    "Наша работа будет проходить в два этапа:\n",
    "* Приоритизация гипотез\n",
    "* Анализ результатов A/B-теста"
   ]
  },
  {
   "cell_type": "markdown",
   "metadata": {},
   "source": [
    "<a id='content'></a>\n",
    "## Оглавление\n",
    "\n",
    "### Приоритизация гипотез \n",
    "* [Рассмотрим 9 гипотез по увеличению выручки интернет-магазина и выберем наиболее приоритетные.](#start)\n",
    "\n",
    "### Анализ A/B-теста\n",
    "* [Анализ и предподготовка данных](#part_1.1)\n",
    "* [Аннализ сырых данных после произведенного теста](#part_1.2)\n",
    "* [Проверка гипотезы \"Распределение конверсии в группе А соответствует распределению конверсии в группе В\" по сырым данным](#part_1.3)\n",
    "* [Проверка гипотезы \"Распределение суммы среднего чека в группе А соответствует распределению суммы среднего чека в группе В\" по сырым данным](#part_1.4)\n",
    "* [Проверка гипотезы \"Распределение конверсии в группе А соответствует распределению конверсии в группе В\" по очищенным от выбросов данным](#part_1.5)\n",
    "* [Проверка гипотезы \"Распределение суммы среднего чека в группе А соответствует распределению суммы среднего чека в группе В\" по очищенным от выбросов данным](#part_1.6)\n",
    "\n",
    "### Вывод\n",
    "* [Сделаем общий вывод ](#finish)"
   ]
  },
  {
   "cell_type": "markdown",
   "metadata": {},
   "source": [
    "## Приоритизация гипотез\n",
    "[*Назад к оглавлению*](#content)"
   ]
  },
  {
   "cell_type": "markdown",
   "metadata": {},
   "source": [
    "Рассмотрим 9 гипотез по увеличению выручки интернет-магазина и выберем наиболее приоритетные. <a id='start'></a>"
   ]
  },
  {
   "cell_type": "code",
   "execution_count": 1,
   "metadata": {},
   "outputs": [],
   "source": [
    "import pandas as pd\n",
    "import scipy.stats as stats\n",
    "import datetime as dt\n",
    "import numpy as np\n",
    "import matplotlib.pyplot as plt\n",
    "from pandas.plotting import register_matplotlib_converters"
   ]
  },
  {
   "cell_type": "code",
   "execution_count": 2,
   "metadata": {},
   "outputs": [],
   "source": [
    "hypothesis = pd.read_csv('/datasets/hypothesis.csv')"
   ]
  },
  {
   "cell_type": "code",
   "execution_count": 3,
   "metadata": {},
   "outputs": [
    {
     "name": "stdout",
     "output_type": "stream",
     "text": [
      "                                          Hypothesis  Reach  Impact  \\\n",
      "0  Добавить два новых канала привлечения трафика,...      3      10   \n",
      "1  Запустить собственную службу доставки, что сок...      2       5   \n",
      "2  Добавить блоки рекомендаций товаров на сайт ин...      8       3   \n",
      "3  Изменить структура категорий, что увеличит кон...      8       3   \n",
      "4  Изменить цвет фона главной страницы, чтобы уве...      3       1   \n",
      "5  Добавить страницу отзывов клиентов о магазине,...      3       2   \n",
      "6  Показать на главной странице баннеры с актуаль...      5       3   \n",
      "7  Добавить форму подписки на все основные страни...     10       7   \n",
      "8  Запустить акцию, дающую скидку на товар в день...      1       9   \n",
      "\n",
      "   Confidence  Efforts  \n",
      "0           8        6  \n",
      "1           4       10  \n",
      "2           7        3  \n",
      "3           3        8  \n",
      "4           1        1  \n",
      "5           2        3  \n",
      "6           8        3  \n",
      "7           8        5  \n",
      "8           9        5  \n"
     ]
    }
   ],
   "source": [
    "print(hypothesis)\n",
    "pd.set_option('display.max_columns', None)\n",
    "pd.options.display.max_colwidth = 150  "
   ]
  },
  {
   "cell_type": "markdown",
   "metadata": {},
   "source": [
    "Применим фреймворки ICE и RICE для приоритизации гипотез."
   ]
  },
  {
   "cell_type": "code",
   "execution_count": 4,
   "metadata": {},
   "outputs": [
    {
     "data": {
      "text/html": [
       "<div>\n",
       "<style scoped>\n",
       "    .dataframe tbody tr th:only-of-type {\n",
       "        vertical-align: middle;\n",
       "    }\n",
       "\n",
       "    .dataframe tbody tr th {\n",
       "        vertical-align: top;\n",
       "    }\n",
       "\n",
       "    .dataframe thead th {\n",
       "        text-align: right;\n",
       "    }\n",
       "</style>\n",
       "<table border=\"1\" class=\"dataframe\">\n",
       "  <thead>\n",
       "    <tr style=\"text-align: right;\">\n",
       "      <th></th>\n",
       "      <th>Hypothesis</th>\n",
       "      <th>ICE</th>\n",
       "    </tr>\n",
       "  </thead>\n",
       "  <tbody>\n",
       "    <tr>\n",
       "      <td>8</td>\n",
       "      <td>Запустить акцию, дающую скидку на товар в день рождения</td>\n",
       "      <td>16.2</td>\n",
       "    </tr>\n",
       "    <tr>\n",
       "      <td>0</td>\n",
       "      <td>Добавить два новых канала привлечения трафика, что позволит привлекать на 30% больше пользователей</td>\n",
       "      <td>13.3</td>\n",
       "    </tr>\n",
       "    <tr>\n",
       "      <td>7</td>\n",
       "      <td>Добавить форму подписки на все основные страницы, чтобы собрать базу клиентов для email-рассылок</td>\n",
       "      <td>11.2</td>\n",
       "    </tr>\n",
       "    <tr>\n",
       "      <td>6</td>\n",
       "      <td>Показать на главной странице баннеры с актуальными акциями и распродажами, чтобы увеличить конверсию</td>\n",
       "      <td>8.0</td>\n",
       "    </tr>\n",
       "    <tr>\n",
       "      <td>2</td>\n",
       "      <td>Добавить блоки рекомендаций товаров на сайт интернет магазина, чтобы повысить конверсию и средний чек заказа</td>\n",
       "      <td>7.0</td>\n",
       "    </tr>\n",
       "    <tr>\n",
       "      <td>1</td>\n",
       "      <td>Запустить собственную службу доставки, что сократит срок доставки заказов</td>\n",
       "      <td>2.0</td>\n",
       "    </tr>\n",
       "    <tr>\n",
       "      <td>5</td>\n",
       "      <td>Добавить страницу отзывов клиентов о магазине, что позволит увеличить количество заказов</td>\n",
       "      <td>1.3</td>\n",
       "    </tr>\n",
       "    <tr>\n",
       "      <td>3</td>\n",
       "      <td>Изменить структура категорий, что увеличит конверсию, т.к. пользователи быстрее найдут нужный товар</td>\n",
       "      <td>1.1</td>\n",
       "    </tr>\n",
       "    <tr>\n",
       "      <td>4</td>\n",
       "      <td>Изменить цвет фона главной страницы, чтобы увеличить вовлеченность пользователей</td>\n",
       "      <td>1.0</td>\n",
       "    </tr>\n",
       "  </tbody>\n",
       "</table>\n",
       "</div>"
      ],
      "text/plain": [
       "                                                                                                     Hypothesis  \\\n",
       "8                                                       Запустить акцию, дающую скидку на товар в день рождения   \n",
       "0            Добавить два новых канала привлечения трафика, что позволит привлекать на 30% больше пользователей   \n",
       "7              Добавить форму подписки на все основные страницы, чтобы собрать базу клиентов для email-рассылок   \n",
       "6          Показать на главной странице баннеры с актуальными акциями и распродажами, чтобы увеличить конверсию   \n",
       "2  Добавить блоки рекомендаций товаров на сайт интернет магазина, чтобы повысить конверсию и средний чек заказа   \n",
       "1                                     Запустить собственную службу доставки, что сократит срок доставки заказов   \n",
       "5                      Добавить страницу отзывов клиентов о магазине, что позволит увеличить количество заказов   \n",
       "3           Изменить структура категорий, что увеличит конверсию, т.к. пользователи быстрее найдут нужный товар   \n",
       "4                              Изменить цвет фона главной страницы, чтобы увеличить вовлеченность пользователей   \n",
       "\n",
       "    ICE  \n",
       "8  16.2  \n",
       "0  13.3  \n",
       "7  11.2  \n",
       "6   8.0  \n",
       "2   7.0  \n",
       "1   2.0  \n",
       "5   1.3  \n",
       "3   1.1  \n",
       "4   1.0  "
      ]
     },
     "execution_count": 4,
     "metadata": {},
     "output_type": "execute_result"
    }
   ],
   "source": [
    "hypothesis['ICE'] = np.round((hypothesis['Impact']*hypothesis['Confidence']) / hypothesis['Efforts'], 1)\n",
    "hypothesis.sort_values(by='ICE', ascending=False).loc[:, ['Hypothesis', 'ICE']]"
   ]
  },
  {
   "cell_type": "code",
   "execution_count": 5,
   "metadata": {},
   "outputs": [
    {
     "data": {
      "text/html": [
       "<div>\n",
       "<style scoped>\n",
       "    .dataframe tbody tr th:only-of-type {\n",
       "        vertical-align: middle;\n",
       "    }\n",
       "\n",
       "    .dataframe tbody tr th {\n",
       "        vertical-align: top;\n",
       "    }\n",
       "\n",
       "    .dataframe thead th {\n",
       "        text-align: right;\n",
       "    }\n",
       "</style>\n",
       "<table border=\"1\" class=\"dataframe\">\n",
       "  <thead>\n",
       "    <tr style=\"text-align: right;\">\n",
       "      <th></th>\n",
       "      <th>Hypothesis</th>\n",
       "      <th>RICE</th>\n",
       "    </tr>\n",
       "  </thead>\n",
       "  <tbody>\n",
       "    <tr>\n",
       "      <td>7</td>\n",
       "      <td>Добавить форму подписки на все основные страницы, чтобы собрать базу клиентов для email-рассылок</td>\n",
       "      <td>112.0</td>\n",
       "    </tr>\n",
       "    <tr>\n",
       "      <td>2</td>\n",
       "      <td>Добавить блоки рекомендаций товаров на сайт интернет магазина, чтобы повысить конверсию и средний чек заказа</td>\n",
       "      <td>56.0</td>\n",
       "    </tr>\n",
       "    <tr>\n",
       "      <td>0</td>\n",
       "      <td>Добавить два новых канала привлечения трафика, что позволит привлекать на 30% больше пользователей</td>\n",
       "      <td>40.0</td>\n",
       "    </tr>\n",
       "    <tr>\n",
       "      <td>6</td>\n",
       "      <td>Показать на главной странице баннеры с актуальными акциями и распродажами, чтобы увеличить конверсию</td>\n",
       "      <td>40.0</td>\n",
       "    </tr>\n",
       "    <tr>\n",
       "      <td>8</td>\n",
       "      <td>Запустить акцию, дающую скидку на товар в день рождения</td>\n",
       "      <td>16.2</td>\n",
       "    </tr>\n",
       "    <tr>\n",
       "      <td>3</td>\n",
       "      <td>Изменить структура категорий, что увеличит конверсию, т.к. пользователи быстрее найдут нужный товар</td>\n",
       "      <td>9.0</td>\n",
       "    </tr>\n",
       "    <tr>\n",
       "      <td>1</td>\n",
       "      <td>Запустить собственную службу доставки, что сократит срок доставки заказов</td>\n",
       "      <td>4.0</td>\n",
       "    </tr>\n",
       "    <tr>\n",
       "      <td>5</td>\n",
       "      <td>Добавить страницу отзывов клиентов о магазине, что позволит увеличить количество заказов</td>\n",
       "      <td>4.0</td>\n",
       "    </tr>\n",
       "    <tr>\n",
       "      <td>4</td>\n",
       "      <td>Изменить цвет фона главной страницы, чтобы увеличить вовлеченность пользователей</td>\n",
       "      <td>3.0</td>\n",
       "    </tr>\n",
       "  </tbody>\n",
       "</table>\n",
       "</div>"
      ],
      "text/plain": [
       "                                                                                                     Hypothesis  \\\n",
       "7              Добавить форму подписки на все основные страницы, чтобы собрать базу клиентов для email-рассылок   \n",
       "2  Добавить блоки рекомендаций товаров на сайт интернет магазина, чтобы повысить конверсию и средний чек заказа   \n",
       "0            Добавить два новых канала привлечения трафика, что позволит привлекать на 30% больше пользователей   \n",
       "6          Показать на главной странице баннеры с актуальными акциями и распродажами, чтобы увеличить конверсию   \n",
       "8                                                       Запустить акцию, дающую скидку на товар в день рождения   \n",
       "3           Изменить структура категорий, что увеличит конверсию, т.к. пользователи быстрее найдут нужный товар   \n",
       "1                                     Запустить собственную службу доставки, что сократит срок доставки заказов   \n",
       "5                      Добавить страницу отзывов клиентов о магазине, что позволит увеличить количество заказов   \n",
       "4                              Изменить цвет фона главной страницы, чтобы увеличить вовлеченность пользователей   \n",
       "\n",
       "    RICE  \n",
       "7  112.0  \n",
       "2   56.0  \n",
       "0   40.0  \n",
       "6   40.0  \n",
       "8   16.2  \n",
       "3    9.0  \n",
       "1    4.0  \n",
       "5    4.0  \n",
       "4    3.0  "
      ]
     },
     "execution_count": 5,
     "metadata": {},
     "output_type": "execute_result"
    }
   ],
   "source": [
    "hypothesis['RICE'] = (hypothesis['Reach']*hypothesis['Impact']*hypothesis['Confidence']) / hypothesis['Efforts']\n",
    "hypothesis.sort_values(by='RICE', ascending=False).loc[:, ['Hypothesis', 'RICE']]"
   ]
  },
  {
   "cell_type": "markdown",
   "metadata": {},
   "source": [
    "Можем заметить, что приоритизация гипотез изменилась - так как RICE также учатывает охват - скольких пользователей затронет изменение, которое мы хотим внести.\n",
    "\n",
    "\n",
    "    \n",
    "Гипотеза \"Запустить акцию, дающую скидку на товар в день рождения\", лидироввавшая в первый раз, спустилась на 5 место. И неудивительно, у нее очень маленький охват.\n",
    "    \n",
    "\n",
    "Стоит обратить внимание на следующие гипотезы:\n",
    "* Добавить два новых канала привлечения трафика, что позволит привлекать на 30% больше пользователей\n",
    "* Добавить форму подписки на все основные страницы, чтобы собрать базу клиентов для email-рассылок\n",
    "    \n",
    "Они в топ-3 обеих приоритезаций.\n",
    "\n"
   ]
  },
  {
   "cell_type": "markdown",
   "metadata": {},
   "source": [
    "## Анализ A/B-теста\n",
    "[*Назад к оглавлению*](#content)"
   ]
  },
  {
   "cell_type": "markdown",
   "metadata": {},
   "source": [
    "Мы провели A/B-тест и получили результаты, рассмотрим их. <a id='part_1.1'></a>"
   ]
  },
  {
   "cell_type": "code",
   "execution_count": 6,
   "metadata": {},
   "outputs": [
    {
     "data": {
      "text/html": [
       "<div>\n",
       "<style scoped>\n",
       "    .dataframe tbody tr th:only-of-type {\n",
       "        vertical-align: middle;\n",
       "    }\n",
       "\n",
       "    .dataframe tbody tr th {\n",
       "        vertical-align: top;\n",
       "    }\n",
       "\n",
       "    .dataframe thead th {\n",
       "        text-align: right;\n",
       "    }\n",
       "</style>\n",
       "<table border=\"1\" class=\"dataframe\">\n",
       "  <thead>\n",
       "    <tr style=\"text-align: right;\">\n",
       "      <th></th>\n",
       "      <th>transactionId</th>\n",
       "      <th>visitorId</th>\n",
       "      <th>date</th>\n",
       "      <th>revenue</th>\n",
       "      <th>group</th>\n",
       "    </tr>\n",
       "  </thead>\n",
       "  <tbody>\n",
       "    <tr>\n",
       "      <td>0</td>\n",
       "      <td>3667963787</td>\n",
       "      <td>3312258926</td>\n",
       "      <td>2019-08-15</td>\n",
       "      <td>1650</td>\n",
       "      <td>B</td>\n",
       "    </tr>\n",
       "    <tr>\n",
       "      <td>1</td>\n",
       "      <td>2804400009</td>\n",
       "      <td>3642806036</td>\n",
       "      <td>2019-08-15</td>\n",
       "      <td>730</td>\n",
       "      <td>B</td>\n",
       "    </tr>\n",
       "    <tr>\n",
       "      <td>2</td>\n",
       "      <td>2961555356</td>\n",
       "      <td>4069496402</td>\n",
       "      <td>2019-08-15</td>\n",
       "      <td>400</td>\n",
       "      <td>A</td>\n",
       "    </tr>\n",
       "    <tr>\n",
       "      <td>3</td>\n",
       "      <td>3797467345</td>\n",
       "      <td>1196621759</td>\n",
       "      <td>2019-08-15</td>\n",
       "      <td>9759</td>\n",
       "      <td>B</td>\n",
       "    </tr>\n",
       "    <tr>\n",
       "      <td>4</td>\n",
       "      <td>2282983706</td>\n",
       "      <td>2322279887</td>\n",
       "      <td>2019-08-15</td>\n",
       "      <td>2308</td>\n",
       "      <td>B</td>\n",
       "    </tr>\n",
       "  </tbody>\n",
       "</table>\n",
       "</div>"
      ],
      "text/plain": [
       "   transactionId   visitorId        date  revenue group\n",
       "0     3667963787  3312258926  2019-08-15     1650     B\n",
       "1     2804400009  3642806036  2019-08-15      730     B\n",
       "2     2961555356  4069496402  2019-08-15      400     A\n",
       "3     3797467345  1196621759  2019-08-15     9759     B\n",
       "4     2282983706  2322279887  2019-08-15     2308     B"
      ]
     },
     "execution_count": 6,
     "metadata": {},
     "output_type": "execute_result"
    }
   ],
   "source": [
    "orders = pd.read_csv('/datasets/orders.csv')\n",
    "orders.head()"
   ]
  },
  {
   "cell_type": "code",
   "execution_count": 7,
   "metadata": {},
   "outputs": [
    {
     "data": {
      "text/html": [
       "<div>\n",
       "<style scoped>\n",
       "    .dataframe tbody tr th:only-of-type {\n",
       "        vertical-align: middle;\n",
       "    }\n",
       "\n",
       "    .dataframe tbody tr th {\n",
       "        vertical-align: top;\n",
       "    }\n",
       "\n",
       "    .dataframe thead th {\n",
       "        text-align: right;\n",
       "    }\n",
       "</style>\n",
       "<table border=\"1\" class=\"dataframe\">\n",
       "  <thead>\n",
       "    <tr style=\"text-align: right;\">\n",
       "      <th></th>\n",
       "      <th>date</th>\n",
       "      <th>group</th>\n",
       "      <th>visitors</th>\n",
       "    </tr>\n",
       "  </thead>\n",
       "  <tbody>\n",
       "    <tr>\n",
       "      <td>0</td>\n",
       "      <td>2019-08-01</td>\n",
       "      <td>A</td>\n",
       "      <td>719</td>\n",
       "    </tr>\n",
       "    <tr>\n",
       "      <td>1</td>\n",
       "      <td>2019-08-02</td>\n",
       "      <td>A</td>\n",
       "      <td>619</td>\n",
       "    </tr>\n",
       "    <tr>\n",
       "      <td>2</td>\n",
       "      <td>2019-08-03</td>\n",
       "      <td>A</td>\n",
       "      <td>507</td>\n",
       "    </tr>\n",
       "    <tr>\n",
       "      <td>3</td>\n",
       "      <td>2019-08-04</td>\n",
       "      <td>A</td>\n",
       "      <td>717</td>\n",
       "    </tr>\n",
       "    <tr>\n",
       "      <td>4</td>\n",
       "      <td>2019-08-05</td>\n",
       "      <td>A</td>\n",
       "      <td>756</td>\n",
       "    </tr>\n",
       "  </tbody>\n",
       "</table>\n",
       "</div>"
      ],
      "text/plain": [
       "         date group  visitors\n",
       "0  2019-08-01     A       719\n",
       "1  2019-08-02     A       619\n",
       "2  2019-08-03     A       507\n",
       "3  2019-08-04     A       717\n",
       "4  2019-08-05     A       756"
      ]
     },
     "execution_count": 7,
     "metadata": {},
     "output_type": "execute_result"
    }
   ],
   "source": [
    "visitors = pd.read_csv('/datasets/visitors.csv')\n",
    "visitors.head()"
   ]
  },
  {
   "cell_type": "markdown",
   "metadata": {},
   "source": [
    "Подготовим данные для работы."
   ]
  },
  {
   "cell_type": "code",
   "execution_count": 8,
   "metadata": {},
   "outputs": [],
   "source": [
    "orders['date'] = orders['date'].map(lambda x: dt.datetime.strptime(x, '%Y-%m-%d'))\n",
    "visitors['date'] = visitors['date'].map(lambda x: dt.datetime.strptime(x, '%Y-%m-%d'))"
   ]
  },
  {
   "cell_type": "code",
   "execution_count": 9,
   "metadata": {},
   "outputs": [
    {
     "name": "stdout",
     "output_type": "stream",
     "text": [
      "<class 'pandas.core.frame.DataFrame'>\n",
      "RangeIndex: 1197 entries, 0 to 1196\n",
      "Data columns (total 5 columns):\n",
      "transactionId    1197 non-null int64\n",
      "visitorId        1197 non-null int64\n",
      "date             1197 non-null datetime64[ns]\n",
      "revenue          1197 non-null int64\n",
      "group            1197 non-null object\n",
      "dtypes: datetime64[ns](1), int64(3), object(1)\n",
      "memory usage: 46.9+ KB\n"
     ]
    }
   ],
   "source": [
    "orders.info()"
   ]
  },
  {
   "cell_type": "code",
   "execution_count": 10,
   "metadata": {},
   "outputs": [
    {
     "name": "stdout",
     "output_type": "stream",
     "text": [
      "<class 'pandas.core.frame.DataFrame'>\n",
      "RangeIndex: 62 entries, 0 to 61\n",
      "Data columns (total 3 columns):\n",
      "date        62 non-null datetime64[ns]\n",
      "group       62 non-null object\n",
      "visitors    62 non-null int64\n",
      "dtypes: datetime64[ns](1), int64(1), object(1)\n",
      "memory usage: 1.6+ KB\n"
     ]
    }
   ],
   "source": [
    "visitors.info()"
   ]
  },
  {
   "cell_type": "markdown",
   "metadata": {},
   "source": [
    "Данные приведены в нужный формат. Теперь поищем дубликаты."
   ]
  },
  {
   "cell_type": "code",
   "execution_count": 11,
   "metadata": {},
   "outputs": [
    {
     "data": {
      "text/plain": [
       "0"
      ]
     },
     "execution_count": 11,
     "metadata": {},
     "output_type": "execute_result"
    }
   ],
   "source": [
    "orders.duplicated().sum()"
   ]
  },
  {
   "cell_type": "code",
   "execution_count": 12,
   "metadata": {},
   "outputs": [
    {
     "data": {
      "text/plain": [
       "0"
      ]
     },
     "execution_count": 12,
     "metadata": {},
     "output_type": "execute_result"
    }
   ],
   "source": [
    "orders['transactionId'].duplicated().sum()"
   ]
  },
  {
   "cell_type": "code",
   "execution_count": 13,
   "metadata": {},
   "outputs": [
    {
     "data": {
      "text/plain": [
       "0"
      ]
     },
     "execution_count": 13,
     "metadata": {},
     "output_type": "execute_result"
    }
   ],
   "source": [
    "visitors.duplicated().sum()"
   ]
  },
  {
   "cell_type": "markdown",
   "metadata": {},
   "source": [
    "Мы не обнаружили полных дубликатов и дубликатов идентификаторов заказа."
   ]
  },
  {
   "cell_type": "markdown",
   "metadata": {},
   "source": [
    "Проверим, за какие даты у нас предоставлены данные."
   ]
  },
  {
   "cell_type": "code",
   "execution_count": 14,
   "metadata": {},
   "outputs": [
    {
     "name": "stdout",
     "output_type": "stream",
     "text": [
      "2019-08-01 00:00:00\n",
      "2019-08-31 00:00:00\n",
      "2019-08-01 00:00:00\n",
      "2019-08-31 00:00:00\n"
     ]
    }
   ],
   "source": [
    "print(orders['date'].min())\n",
    "print(orders['date'].max())\n",
    "print(visitors['date'].min())\n",
    "print(visitors['date'].max())"
   ]
  },
  {
   "cell_type": "markdown",
   "metadata": {},
   "source": [
    "Можем заметить, что и данные о заказах, и даные о пользователях представлены за один период -  август 2019 года. Отлично!\n"
   ]
  },
  {
   "cell_type": "markdown",
   "metadata": {},
   "source": [
    "Проверим, есть ли у нас пользователи, которые попали в две группы одновременно."
   ]
  },
  {
   "cell_type": "code",
   "execution_count": 46,
   "metadata": {},
   "outputs": [
    {
     "data": {
      "text/plain": [
       "58"
      ]
     },
     "execution_count": 46,
     "metadata": {},
     "output_type": "execute_result"
    }
   ],
   "source": [
    "id_a = orders.query('group == \"A\"')['visitorId']\n",
    "len(orders.query('(group == \"B\") and visitorId in @id_a')['visitorId'].drop_duplicates())"
   ]
  },
  {
   "cell_type": "markdown",
   "metadata": {},
   "source": [
    "58 пользователей попадают сразу в обе группы. Это действительно странная ошибка, такого быть не должно. Удалить их мы не можем, так как также придется удалять из визитов, что не представляется возможным. Но об этой ошибке обязательно необходимо рассказать коллегам и выясняить, в чем собственно было дело."
   ]
  },
  {
   "cell_type": "code",
   "execution_count": 15,
   "metadata": {},
   "outputs": [
    {
     "data": {
      "text/html": [
       "<div>\n",
       "<style scoped>\n",
       "    .dataframe tbody tr th:only-of-type {\n",
       "        vertical-align: middle;\n",
       "    }\n",
       "\n",
       "    .dataframe tbody tr th {\n",
       "        vertical-align: top;\n",
       "    }\n",
       "\n",
       "    .dataframe thead th {\n",
       "        text-align: right;\n",
       "    }\n",
       "</style>\n",
       "<table border=\"1\" class=\"dataframe\">\n",
       "  <thead>\n",
       "    <tr style=\"text-align: right;\">\n",
       "      <th></th>\n",
       "      <th>date</th>\n",
       "      <th>ordersPerDateA</th>\n",
       "      <th>revenuePerDateA</th>\n",
       "      <th>ordersPerDateB</th>\n",
       "      <th>revenuePerDateB</th>\n",
       "      <th>ordersCummulativeA</th>\n",
       "      <th>revenueCummulativeA</th>\n",
       "      <th>ordersCummulativeB</th>\n",
       "      <th>revenueCummulativeB</th>\n",
       "      <th>visitorsPerDateA</th>\n",
       "      <th>visitorsPerDateB</th>\n",
       "      <th>visitorsCummulativeA</th>\n",
       "      <th>visitorsCummulativeB</th>\n",
       "    </tr>\n",
       "  </thead>\n",
       "  <tbody>\n",
       "    <tr>\n",
       "      <td>0</td>\n",
       "      <td>2019-08-01</td>\n",
       "      <td>24</td>\n",
       "      <td>148579</td>\n",
       "      <td>21</td>\n",
       "      <td>101217</td>\n",
       "      <td>24</td>\n",
       "      <td>148579</td>\n",
       "      <td>21</td>\n",
       "      <td>101217</td>\n",
       "      <td>719</td>\n",
       "      <td>713</td>\n",
       "      <td>719</td>\n",
       "      <td>713</td>\n",
       "    </tr>\n",
       "    <tr>\n",
       "      <td>1</td>\n",
       "      <td>2019-08-02</td>\n",
       "      <td>20</td>\n",
       "      <td>93822</td>\n",
       "      <td>24</td>\n",
       "      <td>165531</td>\n",
       "      <td>44</td>\n",
       "      <td>242401</td>\n",
       "      <td>45</td>\n",
       "      <td>266748</td>\n",
       "      <td>619</td>\n",
       "      <td>581</td>\n",
       "      <td>1338</td>\n",
       "      <td>1294</td>\n",
       "    </tr>\n",
       "    <tr>\n",
       "      <td>2</td>\n",
       "      <td>2019-08-03</td>\n",
       "      <td>24</td>\n",
       "      <td>112473</td>\n",
       "      <td>16</td>\n",
       "      <td>114248</td>\n",
       "      <td>68</td>\n",
       "      <td>354874</td>\n",
       "      <td>61</td>\n",
       "      <td>380996</td>\n",
       "      <td>507</td>\n",
       "      <td>509</td>\n",
       "      <td>1845</td>\n",
       "      <td>1803</td>\n",
       "    </tr>\n",
       "    <tr>\n",
       "      <td>3</td>\n",
       "      <td>2019-08-04</td>\n",
       "      <td>16</td>\n",
       "      <td>70825</td>\n",
       "      <td>17</td>\n",
       "      <td>108571</td>\n",
       "      <td>84</td>\n",
       "      <td>425699</td>\n",
       "      <td>78</td>\n",
       "      <td>489567</td>\n",
       "      <td>717</td>\n",
       "      <td>770</td>\n",
       "      <td>2562</td>\n",
       "      <td>2573</td>\n",
       "    </tr>\n",
       "    <tr>\n",
       "      <td>4</td>\n",
       "      <td>2019-08-05</td>\n",
       "      <td>25</td>\n",
       "      <td>124218</td>\n",
       "      <td>23</td>\n",
       "      <td>92428</td>\n",
       "      <td>109</td>\n",
       "      <td>549917</td>\n",
       "      <td>101</td>\n",
       "      <td>581995</td>\n",
       "      <td>756</td>\n",
       "      <td>707</td>\n",
       "      <td>3318</td>\n",
       "      <td>3280</td>\n",
       "    </tr>\n",
       "  </tbody>\n",
       "</table>\n",
       "</div>"
      ],
      "text/plain": [
       "        date  ordersPerDateA  revenuePerDateA  ordersPerDateB  \\\n",
       "0 2019-08-01              24           148579              21   \n",
       "1 2019-08-02              20            93822              24   \n",
       "2 2019-08-03              24           112473              16   \n",
       "3 2019-08-04              16            70825              17   \n",
       "4 2019-08-05              25           124218              23   \n",
       "\n",
       "   revenuePerDateB  ordersCummulativeA  revenueCummulativeA  \\\n",
       "0           101217                  24               148579   \n",
       "1           165531                  44               242401   \n",
       "2           114248                  68               354874   \n",
       "3           108571                  84               425699   \n",
       "4            92428                 109               549917   \n",
       "\n",
       "   ordersCummulativeB  revenueCummulativeB  visitorsPerDateA  \\\n",
       "0                  21               101217               719   \n",
       "1                  45               266748               619   \n",
       "2                  61               380996               507   \n",
       "3                  78               489567               717   \n",
       "4                 101               581995               756   \n",
       "\n",
       "   visitorsPerDateB  visitorsCummulativeA  visitorsCummulativeB  \n",
       "0               713                   719                   713  \n",
       "1               581                  1338                  1294  \n",
       "2               509                  1845                  1803  \n",
       "3               770                  2562                  2573  \n",
       "4               707                  3318                  3280  "
      ]
     },
     "execution_count": 15,
     "metadata": {},
     "output_type": "execute_result"
    }
   ],
   "source": [
    "data.head(5)"
   ]
  },
  {
   "cell_type": "markdown",
   "metadata": {},
   "source": [
    "Построим график кумулятивной выручки по группам. <a id='part_1.2'></a>"
   ]
  },
  {
   "cell_type": "code",
   "execution_count": 33,
   "metadata": {},
   "outputs": [
    {
     "data": {
      "image/png": "[encoded data removed]",
      "text/plain": [
       "<Figure size 432x288 with 1 Axes>"
      ]
     },
     "metadata": {
      "needs_background": "light"
     },
     "output_type": "display_data"
    }
   ],
   "source": [
    "plt.plot(data['date'], data['revenueCummulativeA'], label='A')\n",
    "plt.plot(data['date'], data['revenueCummulativeB'], label='B')\n",
    "\n",
    "plt.legend()\n",
    "plt.title(\"Кумулятивная выручка по группам\")\n",
    "plt.xlabel(\"Дата\")\n",
    "plt.ylabel(\"Выручка, руб.\")\n",
    "plt.xticks(rotation=45, ha='right')\n",
    "register_matplotlib_converters()"
   ]
  },
  {
   "cell_type": "markdown",
   "metadata": {},
   "source": [
    "Можем заметить, что группа В почти сразу начинает опережать группу А. Чуть дальше середины наблюдения виден скачек - возможно, из-за выбросов, это будет необходимо проверить."
   ]
  },
  {
   "cell_type": "markdown",
   "metadata": {},
   "source": [
    "Построим график кумулятивного среднего чека по группам."
   ]
  },
  {
   "cell_type": "code",
   "execution_count": 34,
   "metadata": {},
   "outputs": [
    {
     "data": {
      "text/plain": [
       "(array([737272., 737276., 737280., 737284., 737288., 737292., 737296.,\n",
       "        737300., 737303.]),\n",
       " <a list of 9 Text xticklabel objects>)"
      ]
     },
     "execution_count": 34,
     "metadata": {},
     "output_type": "execute_result"
    },
    {
     "data": {
      "image/png": "[encoded data removed]",
      "text/plain": [
       "<Figure size 432x288 with 1 Axes>"
      ]
     },
     "metadata": {
      "needs_background": "light"
     },
     "output_type": "display_data"
    }
   ],
   "source": [
    "plt.plot(data['date'], data['revenueCummulativeA']/data['ordersCummulativeA'], label='A')\n",
    "plt.plot(data['date'], data['revenueCummulativeB']/data['ordersCummulativeB'], label='B')\n",
    "\n",
    "plt.legend()\n",
    "plt.title(\"Кумулятивный средний чек по группам\")\n",
    "plt.xlabel(\"Дата\")\n",
    "plt.ylabel(\"Средний чек, руб.\")\n",
    "plt.xticks(rotation=45, ha='right')"
   ]
  },
  {
   "cell_type": "markdown",
   "metadata": {},
   "source": [
    "Если рассматривать средний чек - можно заметить, что в середине наблюдения группа А ненадолго вырывалась вперед. \n",
    "Также и тут заметен скачек в данных группы В. Изучим это далее."
   ]
  },
  {
   "cell_type": "markdown",
   "metadata": {},
   "source": [
    "Построим график относительного изменения кумулятивного среднего чека группы B к группе A."
   ]
  },
  {
   "cell_type": "code",
   "execution_count": 35,
   "metadata": {},
   "outputs": [
    {
     "data": {
      "text/plain": [
       "(array([737272., 737276., 737280., 737284., 737288., 737292., 737296.,\n",
       "        737300., 737303.]),\n",
       " <a list of 9 Text xticklabel objects>)"
      ]
     },
     "execution_count": 35,
     "metadata": {},
     "output_type": "execute_result"
    },
    {
     "data": {
      "image/png": "[encoded data removed]",
      "text/plain": [
       "<Figure size 432x288 with 1 Axes>"
      ]
     },
     "metadata": {
      "needs_background": "light"
     },
     "output_type": "display_data"
    }
   ],
   "source": [
    "plt.plot(data['date'],\n",
    "         (data['revenueCummulativeB']/data['ordersCummulativeB'])/(data['revenueCummulativeA']/data['ordersCummulativeA'])-1\n",
    "        )\n",
    "plt.axhline(y=0, color='black', linestyle='--')\n",
    "plt.title(\"Относительное изменение кумулятивного среднего чека группы B к группе A\")\n",
    "plt.xlabel(\"Дата\")\n",
    "plt.ylabel(\"Изменение\")\n",
    "plt.xticks(rotation=45, ha='right')"
   ]
  },
  {
   "cell_type": "markdown",
   "metadata": {},
   "source": [
    "В нескольких местах график различия между сегментами резко «скачет». Необходимо будет изучить выбросы."
   ]
  },
  {
   "cell_type": "markdown",
   "metadata": {},
   "source": [
    "Построим график кумулятивной конверсии по группам."
   ]
  },
  {
   "cell_type": "code",
   "execution_count": 36,
   "metadata": {},
   "outputs": [
    {
     "data": {
      "text/plain": [
       "(array([737272., 737276., 737280., 737284., 737288., 737292., 737296.,\n",
       "        737300., 737303.]),\n",
       " <a list of 9 Text xticklabel objects>)"
      ]
     },
     "execution_count": 36,
     "metadata": {},
     "output_type": "execute_result"
    },
    {
     "data": {
      "image/png": "[encoded data removed]",
      "text/plain": [
       "<Figure size 432x288 with 1 Axes>"
      ]
     },
     "metadata": {
      "needs_background": "light"
     },
     "output_type": "display_data"
    }
   ],
   "source": [
    "plt.plot(data['date'], data['ordersCummulativeA']/data['visitorsCummulativeA'], label='A')\n",
    "plt.plot(data['date'], data['ordersCummulativeB']/data['visitorsCummulativeB'], label='B')\n",
    "\n",
    "plt.legend()\n",
    "plt.title(\"Кумулятивная конверсия по группам\")\n",
    "plt.xlabel(\"Дата\")\n",
    "plt.ylabel(\"Конверсия\")\n",
    "plt.xticks(rotation=45, ha='right')"
   ]
  },
  {
   "cell_type": "markdown",
   "metadata": {},
   "source": [
    "Очевидно, что группа B вырывается вперед. Обе конверсии практически стабилизировались, резких скачков не наблюдается."
   ]
  },
  {
   "cell_type": "markdown",
   "metadata": {},
   "source": [
    "Построим график относительного изменения кумулятивной конверсии группы B к группе A."
   ]
  },
  {
   "cell_type": "code",
   "execution_count": 37,
   "metadata": {},
   "outputs": [
    {
     "data": {
      "text/plain": [
       "(array([737272., 737276., 737280., 737284., 737288., 737292., 737296.,\n",
       "        737300., 737303.]),\n",
       " <a list of 9 Text xticklabel objects>)"
      ]
     },
     "execution_count": 37,
     "metadata": {},
     "output_type": "execute_result"
    },
    {
     "data": {
      "image/png": "[encoded data removed]",
      "text/plain": [
       "<Figure size 432x288 with 1 Axes>"
      ]
     },
     "metadata": {
      "needs_background": "light"
     },
     "output_type": "display_data"
    }
   ],
   "source": [
    "plt.plot(data['date'],\n",
    "         (data['ordersCummulativeB']/data['visitorsCummulativeB'])/(data['ordersCummulativeA']/data['visitorsCummulativeA'])-1\n",
    "        )\n",
    "plt.axhline(y=0, color='black', linestyle='--') \n",
    "plt.axhline(y=0.1, color='grey', linestyle='--')\n",
    "plt.title(\"Относительное изменение кумулятивной конверсии группы B к группе A\")\n",
    "plt.xlabel(\"Дата\")\n",
    "plt.ylabel(\"Изменение\")\n",
    "plt.xticks(rotation=45, ha='right')"
   ]
  },
  {
   "cell_type": "markdown",
   "metadata": {},
   "source": [
    "В начале теста группа B значительно проигрывала группе A, затем вырвалась вперёд. Слегка просела ближе к концу, но теперь снова растет. В любом случае, конверсия группы В более чем на 10% лучше группы А."
   ]
  },
  {
   "cell_type": "markdown",
   "metadata": {},
   "source": [
    "Построим точечный график количества заказов по пользователям."
   ]
  },
  {
   "cell_type": "code",
   "execution_count": 21,
   "metadata": {},
   "outputs": [
    {
     "data": {
      "text/plain": [
       "Text(0, 0.5, 'Количество заказов')"
      ]
     },
     "execution_count": 21,
     "metadata": {},
     "output_type": "execute_result"
    },
    {
     "data": {
      "image/png": "[encoded data removed]",
      "text/plain": [
       "<Figure size 432x288 with 1 Axes>"
      ]
     },
     "metadata": {
      "needs_background": "light"
     },
     "output_type": "display_data"
    }
   ],
   "source": [
    "ordersByUsers = (\n",
    "    orders.groupby('visitorId', as_index=False)\n",
    "    .agg({'transactionId': pd.Series.nunique})\n",
    ")\n",
    "\n",
    "ordersByUsers.columns = ['userId', 'orders']\n",
    "\n",
    "x_values = pd.Series(range(0,len(ordersByUsers)))\n",
    "\n",
    "plt.scatter(x_values, ordersByUsers['orders'])\n",
    "plt.title(\"Количество заказов по пользователям\")\n",
    "plt.xlabel(\"Пользователи\")\n",
    "plt.ylabel(\"Количество заказов\")"
   ]
  },
  {
   "cell_type": "markdown",
   "metadata": {},
   "source": [
    "Пользователей с 3 заказами существенно меньше, чем с двумя. Чаще всего клиенты совершают 1 заказ.\n",
    "Скорее всего, все, кто совершают более 2 заказов могут считаться выбросами."
   ]
  },
  {
   "cell_type": "markdown",
   "metadata": {},
   "source": [
    "Проверим это - посчитаем 95-й и 99-й перцентили количества заказов на пользователя."
   ]
  },
  {
   "cell_type": "code",
   "execution_count": 22,
   "metadata": {},
   "outputs": [
    {
     "data": {
      "text/plain": [
       "array([2., 4.])"
      ]
     },
     "execution_count": 22,
     "metadata": {},
     "output_type": "execute_result"
    }
   ],
   "source": [
    "np.percentile(ordersByUsers['orders'], [95, 99])"
   ]
  },
  {
   "cell_type": "markdown",
   "metadata": {},
   "source": [
    "Как и предполагалось, 95% пользователей совершают 1-2 заказа. Будем считать что все значения больше - выбросы."
   ]
  },
  {
   "cell_type": "markdown",
   "metadata": {},
   "source": [
    "Рассмотрим стоимость заказов. Построим точечный график стоимостей заказов."
   ]
  },
  {
   "cell_type": "code",
   "execution_count": 23,
   "metadata": {},
   "outputs": [
    {
     "data": {
      "text/plain": [
       "Text(0, 0.5, 'Сумма заказа, руб.')"
      ]
     },
     "execution_count": 23,
     "metadata": {},
     "output_type": "execute_result"
    },
    {
     "data": {
      "image/png": "[encoded data removed]",
      "text/plain": [
       "<Figure size 432x288 with 1 Axes>"
      ]
     },
     "metadata": {
      "needs_background": "light"
     },
     "output_type": "display_data"
    }
   ],
   "source": [
    "x_values = pd.Series(range(0,len(orders['revenue'])))\n",
    "plt.scatter(x_values, orders['revenue']) \n",
    "plt.title(\"Стоимость заказов пользователей\")\n",
    "plt.xlabel(\"Пользователи\")\n",
    "plt.ylabel(\"Сумма заказа, руб.\")"
   ]
  },
  {
   "cell_type": "markdown",
   "metadata": {},
   "source": [
    "Оказывается, у нас есть заказы более миллиона рублей! Это точно выброс.\n",
    "\n",
    "Проверим, какие же еще заказы считать выбросами."
   ]
  },
  {
   "cell_type": "code",
   "execution_count": 24,
   "metadata": {},
   "outputs": [
    {
     "data": {
      "text/plain": [
       "array([28000. , 58233.2])"
      ]
     },
     "execution_count": 24,
     "metadata": {},
     "output_type": "execute_result"
    }
   ],
   "source": [
    "np.percentile(orders['revenue'], [95, 99])"
   ]
  },
  {
   "cell_type": "markdown",
   "metadata": {},
   "source": [
    "95% пользователей совершают покупки на сумму 28 000 рублей и ниже. Будем считать что все значения больше - выбросы."
   ]
  },
  {
   "cell_type": "markdown",
   "metadata": {},
   "source": [
    "Посчитаем статистическую значимость различий в конверсии между группами по «сырым» данным. "
   ]
  },
  {
   "cell_type": "markdown",
   "metadata": {},
   "source": [
    "<a id='part_1.3'></a>\n",
    "Сформулируем нулевую и обратные гипотезы:\n",
    "\n",
    "Нулевая: ***Распределение конверсии в группе А соответствует распределению конверсии в группе В.***\n",
    "    \n",
    "Обратная: ***Распределение конверсии в группе А не соответствует распределению конверсии в группе В.***\n"
   ]
  },
  {
   "cell_type": "code",
   "execution_count": 25,
   "metadata": {},
   "outputs": [
    {
     "name": "stdout",
     "output_type": "stream",
     "text": [
      "0.017\n",
      "0.138\n",
      "Отвергаем нулевую теорию\n"
     ]
    }
   ],
   "source": [
    "ordersByUsersA = (\n",
    "    orders[orders['group'] == 'A']\n",
    "    .groupby('visitorId', as_index=False)\n",
    "    .agg({'transactionId': pd.Series.nunique})\n",
    ")\n",
    "ordersByUsersA.columns = ['userId', 'orders']\n",
    "\n",
    "ordersByUsersB = (\n",
    "    orders[orders['group'] == 'B']\n",
    "    .groupby('visitorId', as_index=False)\n",
    "    .agg({'transactionId': pd.Series.nunique})\n",
    ")\n",
    "ordersByUsersB.columns = ['userId', 'orders'] \n",
    "\n",
    "sampleA = pd.concat(\n",
    "    [\n",
    "        ordersByUsersA['orders'],\n",
    "        pd.Series(\n",
    "            0,\n",
    "            index=np.arange(\n",
    "                data['visitorsPerDateA'].sum() - len(ordersByUsersA['orders'])\n",
    "            ),\n",
    "            name='orders',\n",
    "        ),\n",
    "    ],\n",
    "    axis=0,\n",
    ")\n",
    "\n",
    "sampleB = pd.concat(\n",
    "    [\n",
    "        ordersByUsersB['orders'],\n",
    "        pd.Series(\n",
    "            0,\n",
    "            index=np.arange(\n",
    "                data['visitorsPerDateB'].sum() - len(ordersByUsersB['orders'])\n",
    "            ),\n",
    "            name='orders',\n",
    "        ),\n",
    "    ],\n",
    "    axis=0,\n",
    ")\n",
    "\n",
    "a = 0.05\n",
    "\n",
    "print(\"{0:.3f}\".format(stats.mannwhitneyu(sampleA, sampleB, alternative='two-sided')[1]))\n",
    "\n",
    "print(\"{0:.3f}\".format(sampleB.mean() / sampleA.mean() - 1))\n",
    "\n",
    "if stats.mannwhitneyu(sampleA, sampleB, alternative='two-sided')[1] < a:\n",
    "    print('Отвергаем нулевую теорию')\n",
    "else:\n",
    "    print('Не получилось отвергнуть нулевую теорию')"
   ]
  },
  {
   "cell_type": "markdown",
   "metadata": {},
   "source": [
    "Значит, мы можем сказать, что в конверсии между группами есть статистически значимые различия.\n",
    "Также можем заметить, что относительный выигрыш группы В составляет 13,8%."
   ]
  },
  {
   "cell_type": "markdown",
   "metadata": {},
   "source": [
    "Посчитаем статистическую значимость различий в среднем чеке заказа между группами по «сырым» данным."
   ]
  },
  {
   "cell_type": "markdown",
   "metadata": {},
   "source": [
    "<a id='part_1.4'></a>\n",
    "Сформулируем нулевую и обратные гипотезы:\n",
    "\n",
    "Нулевая: ***Распределение суммы среднего чека в группе А соответствует распределению суммы среднего чека в группе В.***\n",
    "    \n",
    "Обратная: ***Распределение суммы среднего чека в группе А не соответствует распределению суммы среднего чека в группе В.***"
   ]
  },
  {
   "cell_type": "code",
   "execution_count": 26,
   "metadata": {},
   "outputs": [
    {
     "name": "stdout",
     "output_type": "stream",
     "text": [
      "0.729\n",
      "0.259\n",
      "Не получилось отвергнуть нулевую теорию\n"
     ]
    }
   ],
   "source": [
    "print('{0:.3f}'.format(stats.mannwhitneyu(orders[orders['group']=='A']['revenue'], \n",
    "                                          orders[orders['group']=='B']['revenue'],alternative='two-sided')[1]))\n",
    "print('{0:.3f}'.format(orders[orders['group']=='B']['revenue'].mean()/orders[orders['group']=='A']['revenue'].mean()-1)) \n",
    "\n",
    "if stats.mannwhitneyu(orders[orders['group']=='A']['revenue'], orders[orders['group']=='B']['revenue'],\n",
    "                      alternative='two-sided')[1] < a:\n",
    "    print('Отвергаем нулевую теорию')\n",
    "else:\n",
    "    print('Не получилось отвергнуть нулевую теорию')"
   ]
  },
  {
   "cell_type": "markdown",
   "metadata": {},
   "source": [
    "P-value значительно больше 0.05. Значит, причин отвергать нулевую гипотезу и считать, что в среднем чеке есть различия, нет. Впрочем, средний чек группы B значительно больше среднего чека группы A (на 26%)."
   ]
  },
  {
   "cell_type": "markdown",
   "metadata": {},
   "source": [
    "<a id='part_1.4'></a>\n",
    "Посчитаем статистическую значимость различий в конверсии между группами по «очищенным» данным.\n",
    "Для этого сначала соберем все выбросы."
   ]
  },
  {
   "cell_type": "code",
   "execution_count": 27,
   "metadata": {},
   "outputs": [
    {
     "name": "stdout",
     "output_type": "stream",
     "text": [
      "1099    148427295\n",
      "18      199603092\n",
      "928     204675465\n",
      "23      237748145\n",
      "37      249864742\n",
      "dtype: int64\n",
      "(74,)\n"
     ]
    }
   ],
   "source": [
    "usersWithManyOrders = pd.concat(\n",
    "    [\n",
    "        ordersByUsersA[ordersByUsersA['orders'] > 2]['userId'],\n",
    "        ordersByUsersB[ordersByUsersB['orders'] > 2]['userId'],\n",
    "    ],\n",
    "    axis=0,\n",
    ")\n",
    "usersWithExpensiveOrders = orders[orders['revenue'] > 28000]['visitorId']\n",
    "abnormalUsers = (\n",
    "    pd.concat([usersWithManyOrders, usersWithExpensiveOrders], axis=0)\n",
    "    .drop_duplicates()\n",
    "    .sort_values()\n",
    ")\n",
    "print(abnormalUsers.head(5))\n",
    "print(abnormalUsers.shape) "
   ]
  },
  {
   "cell_type": "markdown",
   "metadata": {},
   "source": [
    "Получаем 74 анамальных пользователя.\n",
    "\n",
    "Теперь можем очистить данные от этих значений."
   ]
  },
  {
   "cell_type": "code",
   "execution_count": 28,
   "metadata": {},
   "outputs": [
    {
     "name": "stdout",
     "output_type": "stream",
     "text": [
      "0.013\n",
      "0.173\n",
      "Отвергаем нулевую теорию\n"
     ]
    }
   ],
   "source": [
    "sampleAFiltered = pd.concat(\n",
    "    [\n",
    "        ordersByUsersA[\n",
    "            np.logical_not(ordersByUsersA['userId'].isin(abnormalUsers))\n",
    "        ]['orders'],\n",
    "        pd.Series(\n",
    "            0,\n",
    "            index=np.arange(\n",
    "                data['visitorsPerDateA'].sum() - len(ordersByUsersA['orders'])\n",
    "            ),\n",
    "            name='orders',\n",
    "        ),\n",
    "    ],\n",
    "    axis=0,\n",
    ")\n",
    "\n",
    "sampleBFiltered = pd.concat(\n",
    "    [\n",
    "        ordersByUsersB[\n",
    "            np.logical_not(ordersByUsersB['userId'].isin(abnormalUsers))\n",
    "        ]['orders'],\n",
    "        pd.Series(\n",
    "            0,\n",
    "            index=np.arange(\n",
    "                data['visitorsPerDateB'].sum() - len(ordersByUsersB['orders'])\n",
    "            ),\n",
    "            name='orders',\n",
    "        ),\n",
    "    ],\n",
    "    axis=0,\n",
    ") \n",
    "\n",
    "print('{0:.3f}'.format(stats.mannwhitneyu(sampleAFiltered, sampleBFiltered, alternative='two-sided')[1]))\n",
    "print('{0:.3f}'.format(sampleBFiltered.mean()/sampleAFiltered.mean()-1)) \n",
    "\n",
    "if stats.mannwhitneyu(sampleAFiltered, sampleBFiltered, alternative='two-sided')[1] < a:\n",
    "    print('Отвергаем нулевую теорию')\n",
    "else:\n",
    "    print('Не получилось отвергнуть нулевую теорию')"
   ]
  },
  {
   "cell_type": "markdown",
   "metadata": {},
   "source": [
    "Вспомним нулевую и обратные гипотезы:\n",
    "\n",
    "Нулевая: ***Распределение конверсии в группе А соответствует распределению конверсии в группе В.***\n",
    "    \n",
    "Обратная: ***Распределение конверсии в группе А не соответствует распределению конверсии в группе В.***"
   ]
  },
  {
   "cell_type": "markdown",
   "metadata": {},
   "source": [
    "В конверсии между группами все еще сть есть статистически значимые различия, это логично.\n",
    "Правда изменился относительный выигрыш группы В: теперь он составляет составляет 17,3%."
   ]
  },
  {
   "cell_type": "markdown",
   "metadata": {},
   "source": [
    "<a id='part_1.5'></a>\n",
    "Посчитаем статистическую значимость различий в среднем чеке заказа между группами по «очищенным» данным. "
   ]
  },
  {
   "cell_type": "code",
   "execution_count": 29,
   "metadata": {},
   "outputs": [
    {
     "name": "stdout",
     "output_type": "stream",
     "text": [
      "0.738\n",
      "-0.020\n",
      "Не получилось отвергнуть нулевую теорию\n"
     ]
    }
   ],
   "source": [
    "print(\n",
    "    '{0:.3f}'.format(\n",
    "        stats.mannwhitneyu(\n",
    "            orders[\n",
    "                np.logical_and(\n",
    "                    orders['group'] == 'A',\n",
    "                    np.logical_not(orders['visitorId'].isin(abnormalUsers)),\n",
    "                )\n",
    "            ]['revenue'],\n",
    "            orders[\n",
    "                np.logical_and(\n",
    "                    orders['group'] == 'B',\n",
    "                    np.logical_not(orders['visitorId'].isin(abnormalUsers)),\n",
    "                )\n",
    "            ]['revenue'],\n",
    "            alternative='two-sided',\n",
    "        )[1]\n",
    "    )\n",
    ")\n",
    "\n",
    "print(\n",
    "    \"{0:.3f}\".format(\n",
    "        orders[\n",
    "            np.logical_and(\n",
    "                orders['group'] == 'B',\n",
    "                np.logical_not(orders['visitorId'].isin(abnormalUsers)),\n",
    "            )\n",
    "        ]['revenue'].mean()\n",
    "        / orders[\n",
    "            np.logical_and(\n",
    "                orders['group'] == 'A',\n",
    "                np.logical_not(orders['visitorId'].isin(abnormalUsers)),\n",
    "            )\n",
    "        ]['revenue'].mean()\n",
    "        - 1\n",
    "    )\n",
    ") \n",
    "\n",
    "if stats.mannwhitneyu(\n",
    "            orders[\n",
    "                np.logical_and(\n",
    "                    orders['group'] == 'A',\n",
    "                    np.logical_not(orders['visitorId'].isin(abnormalUsers)),\n",
    "                )\n",
    "            ]['revenue'],\n",
    "            orders[\n",
    "                np.logical_and(\n",
    "                    orders['group'] == 'B',\n",
    "                    np.logical_not(orders['visitorId'].isin(abnormalUsers)),\n",
    "                )\n",
    "            ]['revenue'],\n",
    "    alternative='two-sided',\n",
    "        )[1] < a:\n",
    "    print('Отвергаем нулевую теорию')\n",
    "else:\n",
    "    print('Не получилось отвергнуть нулевую теорию')"
   ]
  },
  {
   "cell_type": "markdown",
   "metadata": {},
   "source": [
    "Наши гипотезы звучали следующим образом:\n",
    "\n",
    "Нулевая: ***Распределение суммы среднего чека в группе А соответствует распределению суммы среднего чека в группе В.***\n",
    "    \n",
    "Обратная: ***Распределение суммы среднего чека в группе А не соответствует распределению суммы среднего чека в группе В.***"
   ]
  },
  {
   "cell_type": "markdown",
   "metadata": {},
   "source": [
    "Мы все еще не можем отвергнуть нулевую теорию - то есть статистически значемых различий между средними чеками разных групп нет.\n",
    "Однако теперь средние чеки групп почти одинаковы - группа В отстает всего на 2%."
   ]
  },
  {
   "cell_type": "markdown",
   "metadata": {},
   "source": [
    "## Вывод <a id='finish'></a>\n",
    "[*Назад к оглавлению*](#content)"
   ]
  },
  {
   "cell_type": "markdown",
   "metadata": {},
   "source": [
    "По результатам предобработки данных была обнаружена очень серьезная ошибка:\n",
    "    \n",
    "58 пользователей попадают сразу в обе группы. Необходимо выяснить, в чем собственно дело."
   ]
  },
  {
   "cell_type": "markdown",
   "metadata": {},
   "source": [
    "По результатам проритизации гипотез мы выбрали две наиболее перспективные:\n",
    "* Добавить два новых канала привлечения трафика, что позволит привлекать на 30% больше пользователей\n",
    "* Добавить форму подписки на все основные страницы, чтобы собрать базу клиентов для email-рассылок   \n",
    "\n",
    "По результатм анализа данных в результате А/В-теста мы можем сделать следующие выводы:\n",
    "\n",
    "* Есть статистически значимое различие по конверсии между группами и по «сырым», и по данным после фильтрации аномалий;\n",
    "* Нет статистически значимого различия по среднему чеку между группами ни по «сырым», ни по данным после фильтрации аномалий;\n",
    "* График различия конверсии между группами сообщает, что результаты группы B лучше группы A и конверсия практически стабилизировалась.\n",
    "* Относительный выигрыш конверсии группы В по \"сырым\" данным составляет - 13,8%, по очищенным - 17,3%.\n",
    "* Относительный выигрыш среднего чека группы В по \"сырым\" данным составляет - 26%, по очищенным - -2%.\n",
    "\n",
    "Можно сказать, что группа B определенно лучше конверсируется, чем группа B. Однако средний чек, хоть и больше, чем у группы А, но только благодаря выбросам - разовым нетипично большим покупкам.\n",
    "\n",
    "В целом, мы можем остановить тест и присудить победу группе В - клиенты значительно часто стали переходить из состояния \"я только посмотрю\" в \"я куплю\", при том, что на средний чек это практически не повлияло.    "
   ]
  },
  {
   "cell_type": "markdown",
   "metadata": {},
   "source": [
    "Победа группы В в данном случае скорее всего будет означать, что количество заказов должно вырасти, однако суммы заказов останутся прежними."
   ]
  }
 ],
 "metadata": {
  "ExecuteTimeLog": [
   {
    "duration": 1519,
    "start_time": "2021-12-17T08:45:23.552Z"
   },
   {
    "duration": 21,
    "start_time": "2021-12-17T08:45:25.709Z"
   },
   {
    "duration": 21,
    "start_time": "2021-12-17T08:45:35.343Z"
   },
   {
    "duration": 18,
    "start_time": "2021-12-17T08:49:13.509Z"
   },
   {
    "duration": 17,
    "start_time": "2021-12-17T08:49:35.060Z"
   },
   {
    "duration": 475,
    "start_time": "2021-12-17T08:50:18.491Z"
   },
   {
    "duration": 19,
    "start_time": "2021-12-17T08:50:33.763Z"
   },
   {
    "duration": 15,
    "start_time": "2021-12-17T08:50:34.643Z"
   },
   {
    "duration": 13,
    "start_time": "2021-12-17T08:50:43.522Z"
   },
   {
    "duration": 22,
    "start_time": "2021-12-17T09:11:01.517Z"
   },
   {
    "duration": 46,
    "start_time": "2021-12-17T09:11:08.017Z"
   },
   {
    "duration": 30,
    "start_time": "2021-12-17T09:11:55.006Z"
   },
   {
    "duration": 59,
    "start_time": "2021-12-17T09:12:51.643Z"
   },
   {
    "duration": 29,
    "start_time": "2021-12-17T09:12:57.035Z"
   },
   {
    "duration": 51,
    "start_time": "2021-12-17T09:13:25.820Z"
   },
   {
    "duration": 25,
    "start_time": "2021-12-17T09:13:27.420Z"
   },
   {
    "duration": 21,
    "start_time": "2021-12-17T09:14:02.891Z"
   },
   {
    "duration": 9461,
    "start_time": "2021-12-17T09:23:38.812Z"
   },
   {
    "duration": 441,
    "start_time": "2021-12-17T09:25:09.069Z"
   },
   {
    "duration": 173,
    "start_time": "2021-12-17T13:07:42.295Z"
   },
   {
    "duration": 343,
    "start_time": "2021-12-17T13:09:49.657Z"
   },
   {
    "duration": 316,
    "start_time": "2021-12-17T13:10:22.282Z"
   },
   {
    "duration": 310,
    "start_time": "2021-12-17T13:13:47.213Z"
   },
   {
    "duration": 113,
    "start_time": "2021-12-17T13:21:09.146Z"
   },
   {
    "duration": 372,
    "start_time": "2021-12-17T13:22:18.891Z"
   },
   {
    "duration": 307,
    "start_time": "2021-12-17T13:28:13.719Z"
   },
   {
    "duration": 329,
    "start_time": "2021-12-17T13:29:14.631Z"
   },
   {
    "duration": 423,
    "start_time": "2021-12-17T13:32:54.731Z"
   },
   {
    "duration": 409,
    "start_time": "2021-12-17T13:33:32.954Z"
   },
   {
    "duration": 123,
    "start_time": "2021-12-17T13:35:50.131Z"
   },
   {
    "duration": 643,
    "start_time": "2021-12-17T13:38:04.206Z"
   },
   {
    "duration": 7,
    "start_time": "2021-12-17T13:40:49.423Z"
   },
   {
    "duration": 415,
    "start_time": "2021-12-17T13:42:49.762Z"
   },
   {
    "duration": 6,
    "start_time": "2021-12-17T13:44:39.309Z"
   },
   {
    "duration": 438,
    "start_time": "2021-12-20T07:51:57.357Z"
   },
   {
    "duration": 1367,
    "start_time": "2021-12-20T07:52:05.509Z"
   },
   {
    "duration": 16,
    "start_time": "2021-12-20T07:52:06.879Z"
   },
   {
    "duration": 23,
    "start_time": "2021-12-20T07:52:06.899Z"
   },
   {
    "duration": 17,
    "start_time": "2021-12-20T07:52:06.925Z"
   },
   {
    "duration": 15,
    "start_time": "2021-12-20T07:52:06.945Z"
   },
   {
    "duration": 57,
    "start_time": "2021-12-20T07:52:06.963Z"
   },
   {
    "duration": 23,
    "start_time": "2021-12-20T07:52:07.023Z"
   },
   {
    "duration": 21,
    "start_time": "2021-12-20T07:52:07.049Z"
   },
   {
    "duration": 431,
    "start_time": "2021-12-20T07:52:07.074Z"
   },
   {
    "duration": 344,
    "start_time": "2021-12-20T07:52:07.508Z"
   },
   {
    "duration": 335,
    "start_time": "2021-12-20T07:52:07.854Z"
   },
   {
    "duration": 449,
    "start_time": "2021-12-20T07:52:08.192Z"
   },
   {
    "duration": 343,
    "start_time": "2021-12-20T07:52:08.643Z"
   },
   {
    "duration": 423,
    "start_time": "2021-12-20T07:52:08.989Z"
   },
   {
    "duration": 592,
    "start_time": "2021-12-20T07:52:09.415Z"
   },
   {
    "duration": 15,
    "start_time": "2021-12-20T07:52:10.010Z"
   },
   {
    "duration": 445,
    "start_time": "2021-12-20T07:52:10.028Z"
   },
   {
    "duration": 5,
    "start_time": "2021-12-20T07:52:10.476Z"
   },
   {
    "duration": 518,
    "start_time": "2021-12-20T07:52:10.483Z"
   },
   {
    "duration": 228,
    "start_time": "2021-12-20T07:54:37.432Z"
   },
   {
    "duration": 223,
    "start_time": "2021-12-20T08:05:18.688Z"
   },
   {
    "duration": 264,
    "start_time": "2021-12-20T08:11:11.770Z"
   },
   {
    "duration": 20,
    "start_time": "2021-12-20T08:11:38.187Z"
   },
   {
    "duration": 269,
    "start_time": "2021-12-20T08:12:10.496Z"
   },
   {
    "duration": 9039,
    "start_time": "2021-12-20T08:18:27.743Z"
   },
   {
    "duration": 8707,
    "start_time": "2021-12-20T08:19:00.823Z"
   },
   {
    "duration": 14,
    "start_time": "2021-12-20T08:19:49.809Z"
   },
   {
    "duration": 24,
    "start_time": "2021-12-20T08:21:06.369Z"
   },
   {
    "duration": 17686,
    "start_time": "2021-12-20T08:25:17.998Z"
   },
   {
    "duration": 36,
    "start_time": "2021-12-20T08:26:13.933Z"
   },
   {
    "duration": 24,
    "start_time": "2021-12-20T08:27:18.639Z"
   },
   {
    "duration": 29,
    "start_time": "2021-12-20T08:27:40.463Z"
   },
   {
    "duration": 1374,
    "start_time": "2021-12-20T08:54:40.332Z"
   },
   {
    "duration": 19,
    "start_time": "2021-12-20T08:54:41.709Z"
   },
   {
    "duration": 25,
    "start_time": "2021-12-20T08:54:41.731Z"
   },
   {
    "duration": 18,
    "start_time": "2021-12-20T08:54:41.759Z"
   },
   {
    "duration": 16,
    "start_time": "2021-12-20T08:54:41.779Z"
   },
   {
    "duration": 94,
    "start_time": "2021-12-20T08:54:41.797Z"
   },
   {
    "duration": 26,
    "start_time": "2021-12-20T08:54:41.894Z"
   },
   {
    "duration": 27,
    "start_time": "2021-12-20T08:54:41.925Z"
   },
   {
    "duration": 567,
    "start_time": "2021-12-20T08:54:41.956Z"
   },
   {
    "duration": 346,
    "start_time": "2021-12-20T08:54:42.525Z"
   },
   {
    "duration": 360,
    "start_time": "2021-12-20T08:54:42.874Z"
   },
   {
    "duration": 451,
    "start_time": "2021-12-20T08:54:43.238Z"
   },
   {
    "duration": 401,
    "start_time": "2021-12-20T08:54:43.692Z"
   },
   {
    "duration": 472,
    "start_time": "2021-12-20T08:54:44.096Z"
   },
   {
    "duration": 655,
    "start_time": "2021-12-20T08:54:44.571Z"
   },
   {
    "duration": 8,
    "start_time": "2021-12-20T08:54:45.229Z"
   },
   {
    "duration": 426,
    "start_time": "2021-12-20T08:54:45.240Z"
   },
   {
    "duration": 6,
    "start_time": "2021-12-20T08:54:45.669Z"
   },
   {
    "duration": 294,
    "start_time": "2021-12-20T08:54:45.678Z"
   },
   {
    "duration": 23,
    "start_time": "2021-12-20T08:54:45.975Z"
   },
   {
    "duration": 33,
    "start_time": "2021-12-20T08:54:46.001Z"
   },
   {
    "duration": 27,
    "start_time": "2021-12-20T08:54:46.037Z"
   },
   {
    "duration": 69,
    "start_time": "2021-12-20T08:54:46.070Z"
   },
   {
    "duration": 1408,
    "start_time": "2021-12-20T16:12:01.532Z"
   },
   {
    "duration": 42,
    "start_time": "2021-12-20T16:12:02.943Z"
   },
   {
    "duration": 15,
    "start_time": "2021-12-20T16:12:02.991Z"
   },
   {
    "duration": 15,
    "start_time": "2021-12-20T16:12:03.008Z"
   },
   {
    "duration": 16,
    "start_time": "2021-12-20T16:12:03.025Z"
   },
   {
    "duration": 65,
    "start_time": "2021-12-20T16:12:03.043Z"
   },
   {
    "duration": 41,
    "start_time": "2021-12-20T16:12:03.112Z"
   },
   {
    "duration": 21,
    "start_time": "2021-12-20T16:12:03.157Z"
   },
   {
    "duration": 462,
    "start_time": "2021-12-20T16:12:03.181Z"
   },
   {
    "duration": 347,
    "start_time": "2021-12-20T16:12:03.645Z"
   },
   {
    "duration": 320,
    "start_time": "2021-12-20T16:12:03.994Z"
   },
   {
    "duration": 443,
    "start_time": "2021-12-20T16:12:04.316Z"
   },
   {
    "duration": 455,
    "start_time": "2021-12-20T16:12:04.761Z"
   },
   {
    "duration": 448,
    "start_time": "2021-12-20T16:12:05.219Z"
   },
   {
    "duration": 601,
    "start_time": "2021-12-20T16:12:05.670Z"
   },
   {
    "duration": 6,
    "start_time": "2021-12-20T16:12:06.274Z"
   },
   {
    "duration": 476,
    "start_time": "2021-12-20T16:12:06.283Z"
   },
   {
    "duration": 8,
    "start_time": "2021-12-20T16:12:06.762Z"
   },
   {
    "duration": 293,
    "start_time": "2021-12-20T16:12:06.773Z"
   },
   {
    "duration": 19,
    "start_time": "2021-12-20T16:12:07.069Z"
   },
   {
    "duration": 13,
    "start_time": "2021-12-20T16:12:07.091Z"
   },
   {
    "duration": 54,
    "start_time": "2021-12-20T16:12:07.109Z"
   },
   {
    "duration": 30,
    "start_time": "2021-12-20T16:12:07.166Z"
   },
   {
    "duration": 391,
    "start_time": "2021-12-24T08:56:21.431Z"
   },
   {
    "duration": 1359,
    "start_time": "2021-12-24T08:56:35.373Z"
   },
   {
    "duration": 20,
    "start_time": "2021-12-24T08:56:38.776Z"
   },
   {
    "duration": 4,
    "start_time": "2021-12-24T08:56:39.825Z"
   },
   {
    "duration": 9,
    "start_time": "2021-12-24T08:56:50.053Z"
   },
   {
    "duration": 403,
    "start_time": "2021-12-24T09:17:47.117Z"
   },
   {
    "duration": 19,
    "start_time": "2021-12-24T09:18:08.873Z"
   },
   {
    "duration": 16,
    "start_time": "2021-12-24T09:21:52.109Z"
   },
   {
    "duration": 15,
    "start_time": "2021-12-24T09:21:57.507Z"
   },
   {
    "duration": 364,
    "start_time": "2021-12-24T09:22:50.283Z"
   },
   {
    "duration": 1512,
    "start_time": "2021-12-24T09:23:00.439Z"
   },
   {
    "duration": 25,
    "start_time": "2021-12-24T09:23:01.954Z"
   },
   {
    "duration": 13,
    "start_time": "2021-12-24T09:23:01.982Z"
   },
   {
    "duration": 26,
    "start_time": "2021-12-24T09:23:01.997Z"
   },
   {
    "duration": 16,
    "start_time": "2021-12-24T09:23:02.025Z"
   },
   {
    "duration": 64,
    "start_time": "2021-12-24T09:23:02.043Z"
   },
   {
    "duration": 25,
    "start_time": "2021-12-24T09:23:02.110Z"
   },
   {
    "duration": 32,
    "start_time": "2021-12-24T09:23:02.137Z"
   },
   {
    "duration": 472,
    "start_time": "2021-12-24T09:23:02.176Z"
   },
   {
    "duration": 431,
    "start_time": "2021-12-24T09:23:02.651Z"
   },
   {
    "duration": 341,
    "start_time": "2021-12-24T09:23:03.084Z"
   },
   {
    "duration": 439,
    "start_time": "2021-12-24T09:23:03.428Z"
   },
   {
    "duration": 374,
    "start_time": "2021-12-24T09:23:03.870Z"
   },
   {
    "duration": 434,
    "start_time": "2021-12-24T09:23:04.247Z"
   },
   {
    "duration": 807,
    "start_time": "2021-12-24T09:23:04.684Z"
   },
   {
    "duration": 7,
    "start_time": "2021-12-24T09:23:05.494Z"
   },
   {
    "duration": 444,
    "start_time": "2021-12-24T09:23:05.504Z"
   },
   {
    "duration": 16,
    "start_time": "2021-12-24T09:23:05.951Z"
   },
   {
    "duration": 271,
    "start_time": "2021-12-24T09:23:05.971Z"
   },
   {
    "duration": 35,
    "start_time": "2021-12-24T09:23:06.245Z"
   },
   {
    "duration": 14,
    "start_time": "2021-12-24T09:23:06.283Z"
   },
   {
    "duration": 31,
    "start_time": "2021-12-24T09:23:06.300Z"
   },
   {
    "duration": 54,
    "start_time": "2021-12-24T09:23:06.333Z"
   },
   {
    "duration": 9,
    "start_time": "2021-12-24T09:23:56.813Z"
   },
   {
    "duration": 11,
    "start_time": "2021-12-24T09:24:10.160Z"
   },
   {
    "duration": 120,
    "start_time": "2021-12-24T09:25:26.390Z"
   },
   {
    "duration": 454,
    "start_time": "2021-12-24T09:25:31.973Z"
   },
   {
    "duration": 301,
    "start_time": "2021-12-24T09:25:58.796Z"
   },
   {
    "duration": 5,
    "start_time": "2021-12-24T09:26:24.098Z"
   },
   {
    "duration": 361,
    "start_time": "2021-12-24T09:26:39.836Z"
   },
   {
    "duration": 8,
    "start_time": "2021-12-24T09:28:27.710Z"
   },
   {
    "duration": 10,
    "start_time": "2021-12-24T09:30:57.950Z"
   },
   {
    "duration": 9,
    "start_time": "2021-12-24T09:31:12.226Z"
   },
   {
    "duration": 8,
    "start_time": "2021-12-24T09:31:24.327Z"
   },
   {
    "duration": 6,
    "start_time": "2021-12-24T09:32:03.414Z"
   },
   {
    "duration": 6,
    "start_time": "2021-12-24T09:32:33.392Z"
   },
   {
    "duration": 9,
    "start_time": "2021-12-24T09:33:05.305Z"
   },
   {
    "duration": 7,
    "start_time": "2021-12-24T09:36:42.588Z"
   },
   {
    "duration": 8,
    "start_time": "2021-12-24T09:37:21.223Z"
   },
   {
    "duration": 5,
    "start_time": "2021-12-24T09:37:29.202Z"
   },
   {
    "duration": 117,
    "start_time": "2021-12-24T09:38:59.555Z"
   },
   {
    "duration": 114,
    "start_time": "2021-12-24T09:39:20.081Z"
   },
   {
    "duration": 12,
    "start_time": "2021-12-24T09:39:37.148Z"
   },
   {
    "duration": 106,
    "start_time": "2021-12-24T09:40:14.495Z"
   },
   {
    "duration": 7,
    "start_time": "2021-12-24T09:40:19.759Z"
   },
   {
    "duration": 315,
    "start_time": "2021-12-24T09:43:32.239Z"
   },
   {
    "duration": 324,
    "start_time": "2021-12-24T09:44:38.391Z"
   },
   {
    "duration": 330,
    "start_time": "2021-12-24T09:44:54.024Z"
   },
   {
    "duration": 492,
    "start_time": "2021-12-24T09:45:51.097Z"
   },
   {
    "duration": 512,
    "start_time": "2021-12-24T09:46:01.207Z"
   },
   {
    "duration": 336,
    "start_time": "2021-12-24T09:46:11.162Z"
   },
   {
    "duration": 336,
    "start_time": "2021-12-24T09:47:23.866Z"
   },
   {
    "duration": 457,
    "start_time": "2021-12-24T09:48:07.409Z"
   },
   {
    "duration": 350,
    "start_time": "2021-12-24T09:48:55.270Z"
   },
   {
    "duration": 437,
    "start_time": "2021-12-24T09:49:23.461Z"
   },
   {
    "duration": 619,
    "start_time": "2021-12-24T09:50:48.458Z"
   },
   {
    "duration": 416,
    "start_time": "2021-12-24T09:51:25.304Z"
   },
   {
    "duration": 108,
    "start_time": "2021-12-24T09:51:45.825Z"
   },
   {
    "duration": 439,
    "start_time": "2021-12-24T09:51:55.853Z"
   },
   {
    "duration": 714,
    "start_time": "2021-12-24T09:52:09.648Z"
   },
   {
    "duration": 30,
    "start_time": "2021-12-24T10:02:57.626Z"
   },
   {
    "duration": 28,
    "start_time": "2021-12-24T10:03:33.570Z"
   },
   {
    "duration": 29,
    "start_time": "2021-12-24T10:03:44.825Z"
   },
   {
    "duration": 24,
    "start_time": "2021-12-24T10:04:16.803Z"
   },
   {
    "duration": 20,
    "start_time": "2021-12-24T10:04:51.739Z"
   },
   {
    "duration": 237,
    "start_time": "2021-12-24T10:05:52.047Z"
   },
   {
    "duration": 158,
    "start_time": "2021-12-24T10:21:57.397Z"
   },
   {
    "duration": 13,
    "start_time": "2021-12-24T10:27:20.376Z"
   },
   {
    "duration": 1695,
    "start_time": "2021-12-24T10:27:30.647Z"
   },
   {
    "duration": 25,
    "start_time": "2021-12-24T10:27:32.344Z"
   },
   {
    "duration": 11,
    "start_time": "2021-12-24T10:27:32.376Z"
   },
   {
    "duration": 24,
    "start_time": "2021-12-24T10:27:32.390Z"
   },
   {
    "duration": 49,
    "start_time": "2021-12-24T10:27:32.416Z"
   },
   {
    "duration": 55,
    "start_time": "2021-12-24T10:27:32.468Z"
   },
   {
    "duration": 25,
    "start_time": "2021-12-24T10:27:32.525Z"
   },
   {
    "duration": 27,
    "start_time": "2021-12-24T10:27:32.554Z"
   },
   {
    "duration": 9,
    "start_time": "2021-12-24T10:27:32.584Z"
   },
   {
    "duration": 11,
    "start_time": "2021-12-24T10:27:32.595Z"
   },
   {
    "duration": 7,
    "start_time": "2021-12-24T10:27:32.609Z"
   },
   {
    "duration": 8,
    "start_time": "2021-12-24T10:27:32.618Z"
   },
   {
    "duration": 7,
    "start_time": "2021-12-24T10:27:32.660Z"
   },
   {
    "duration": 15,
    "start_time": "2021-12-24T10:27:32.669Z"
   },
   {
    "duration": 493,
    "start_time": "2021-12-24T10:27:32.686Z"
   },
   {
    "duration": 374,
    "start_time": "2021-12-24T10:27:33.181Z"
   },
   {
    "duration": 349,
    "start_time": "2021-12-24T10:27:33.559Z"
   },
   {
    "duration": 490,
    "start_time": "2021-12-24T10:27:33.910Z"
   },
   {
    "duration": 374,
    "start_time": "2021-12-24T10:27:34.403Z"
   },
   {
    "duration": 421,
    "start_time": "2021-12-24T10:27:34.780Z"
   },
   {
    "duration": 630,
    "start_time": "2021-12-24T10:27:35.205Z"
   },
   {
    "duration": 7,
    "start_time": "2021-12-24T10:27:35.838Z"
   },
   {
    "duration": 432,
    "start_time": "2021-12-24T10:27:35.859Z"
   },
   {
    "duration": 7,
    "start_time": "2021-12-24T10:27:36.294Z"
   },
   {
    "duration": 265,
    "start_time": "2021-12-24T10:27:36.304Z"
   },
   {
    "duration": 21,
    "start_time": "2021-12-24T10:27:36.574Z"
   },
   {
    "duration": 15,
    "start_time": "2021-12-24T10:27:36.598Z"
   },
   {
    "duration": 61,
    "start_time": "2021-12-24T10:27:36.615Z"
   },
   {
    "duration": 30,
    "start_time": "2021-12-24T10:27:36.679Z"
   },
   {
    "duration": 147,
    "start_time": "2021-12-24T10:45:24.337Z"
   },
   {
    "duration": 480,
    "start_time": "2021-12-24T10:46:11.572Z"
   },
   {
    "duration": 400,
    "start_time": "2021-12-24T10:46:40.004Z"
   },
   {
    "duration": 346,
    "start_time": "2021-12-24T10:46:54.612Z"
   },
   {
    "duration": 373,
    "start_time": "2021-12-24T10:47:40.806Z"
   },
   {
    "duration": 348,
    "start_time": "2021-12-24T10:48:08.812Z"
   },
   {
    "duration": 1580,
    "start_time": "2021-12-24T10:49:02.304Z"
   },
   {
    "duration": 1744,
    "start_time": "2021-12-24T10:49:24.173Z"
   },
   {
    "duration": 26,
    "start_time": "2021-12-24T10:49:25.920Z"
   },
   {
    "duration": 15,
    "start_time": "2021-12-24T10:49:25.951Z"
   },
   {
    "duration": 34,
    "start_time": "2021-12-24T10:49:25.969Z"
   },
   {
    "duration": 19,
    "start_time": "2021-12-24T10:49:26.006Z"
   },
   {
    "duration": 68,
    "start_time": "2021-12-24T10:49:26.028Z"
   },
   {
    "duration": 25,
    "start_time": "2021-12-24T10:49:26.098Z"
   },
   {
    "duration": 22,
    "start_time": "2021-12-24T10:49:26.128Z"
   },
   {
    "duration": 16,
    "start_time": "2021-12-24T10:49:26.154Z"
   },
   {
    "duration": 19,
    "start_time": "2021-12-24T10:49:26.173Z"
   },
   {
    "duration": 9,
    "start_time": "2021-12-24T10:49:26.195Z"
   },
   {
    "duration": 6,
    "start_time": "2021-12-24T10:49:26.206Z"
   },
   {
    "duration": 10,
    "start_time": "2021-12-24T10:49:26.214Z"
   },
   {
    "duration": 12,
    "start_time": "2021-12-24T10:49:26.259Z"
   },
   {
    "duration": 473,
    "start_time": "2021-12-24T10:49:26.274Z"
   },
   {
    "duration": 379,
    "start_time": "2021-12-24T10:49:26.750Z"
   },
   {
    "duration": 375,
    "start_time": "2021-12-24T10:49:27.132Z"
   },
   {
    "duration": 520,
    "start_time": "2021-12-24T10:49:27.511Z"
   },
   {
    "duration": 384,
    "start_time": "2021-12-24T10:49:28.034Z"
   },
   {
    "duration": 490,
    "start_time": "2021-12-24T10:49:28.421Z"
   },
   {
    "duration": 634,
    "start_time": "2021-12-24T10:49:28.913Z"
   },
   {
    "duration": 11,
    "start_time": "2021-12-24T10:49:29.550Z"
   },
   {
    "duration": 536,
    "start_time": "2021-12-24T10:49:29.569Z"
   },
   {
    "duration": 8,
    "start_time": "2021-12-24T10:49:30.108Z"
   },
   {
    "duration": 263,
    "start_time": "2021-12-24T10:49:30.119Z"
   },
   {
    "duration": 23,
    "start_time": "2021-12-24T10:49:30.385Z"
   },
   {
    "duration": 16,
    "start_time": "2021-12-24T10:49:30.410Z"
   },
   {
    "duration": 30,
    "start_time": "2021-12-24T10:49:30.465Z"
   },
   {
    "duration": 31,
    "start_time": "2021-12-24T10:49:30.497Z"
   },
   {
    "duration": 605,
    "start_time": "2021-12-24T10:51:28.873Z"
   },
   {
    "duration": 18,
    "start_time": "2021-12-24T10:51:34.889Z"
   },
   {
    "duration": 125,
    "start_time": "2021-12-24T10:53:03.609Z"
   },
   {
    "duration": 1311,
    "start_time": "2021-12-27T04:12:39.749Z"
   },
   {
    "duration": 17,
    "start_time": "2021-12-27T04:12:41.063Z"
   },
   {
    "duration": 9,
    "start_time": "2021-12-27T04:12:41.084Z"
   },
   {
    "duration": 32,
    "start_time": "2021-12-27T04:12:41.096Z"
   },
   {
    "duration": 15,
    "start_time": "2021-12-27T04:12:41.131Z"
   },
   {
    "duration": 55,
    "start_time": "2021-12-27T04:12:41.149Z"
   },
   {
    "duration": 21,
    "start_time": "2021-12-27T04:12:41.207Z"
   },
   {
    "duration": 20,
    "start_time": "2021-12-27T04:12:41.232Z"
   },
   {
    "duration": 9,
    "start_time": "2021-12-27T04:12:41.255Z"
   },
   {
    "duration": 7,
    "start_time": "2021-12-27T04:12:41.267Z"
   },
   {
    "duration": 10,
    "start_time": "2021-12-27T04:12:41.277Z"
   },
   {
    "duration": 39,
    "start_time": "2021-12-27T04:12:41.289Z"
   },
   {
    "duration": 10,
    "start_time": "2021-12-27T04:12:41.331Z"
   },
   {
    "duration": 7,
    "start_time": "2021-12-27T04:12:41.344Z"
   },
   {
    "duration": 450,
    "start_time": "2021-12-27T04:12:41.353Z"
   },
   {
    "duration": 350,
    "start_time": "2021-12-27T04:12:41.805Z"
   },
   {
    "duration": 318,
    "start_time": "2021-12-27T04:12:42.158Z"
   },
   {
    "duration": 442,
    "start_time": "2021-12-27T04:12:42.479Z"
   },
   {
    "duration": 391,
    "start_time": "2021-12-27T04:12:42.923Z"
   },
   {
    "duration": 415,
    "start_time": "2021-12-27T04:12:43.316Z"
   },
   {
    "duration": 569,
    "start_time": "2021-12-27T04:12:43.733Z"
   },
   {
    "duration": 19,
    "start_time": "2021-12-27T04:12:44.304Z"
   },
   {
    "duration": 400,
    "start_time": "2021-12-27T04:12:44.327Z"
   },
   {
    "duration": 6,
    "start_time": "2021-12-27T04:12:44.730Z"
   },
   {
    "duration": 266,
    "start_time": "2021-12-27T04:12:44.739Z"
   },
   {
    "duration": 27,
    "start_time": "2021-12-27T04:12:45.008Z"
   },
   {
    "duration": 27,
    "start_time": "2021-12-27T04:12:45.038Z"
   },
   {
    "duration": 26,
    "start_time": "2021-12-27T04:12:45.068Z"
   },
   {
    "duration": 45,
    "start_time": "2021-12-27T04:12:45.096Z"
   },
   {
    "duration": 319,
    "start_time": "2021-12-27T04:13:10.420Z"
   },
   {
    "duration": 303,
    "start_time": "2021-12-27T04:13:24.381Z"
   },
   {
    "duration": 339,
    "start_time": "2021-12-27T04:14:05.922Z"
   },
   {
    "duration": 316,
    "start_time": "2021-12-27T04:16:00.091Z"
   },
   {
    "duration": 393,
    "start_time": "2021-12-27T04:16:14.141Z"
   },
   {
    "duration": 575,
    "start_time": "2021-12-27T04:16:20.404Z"
   },
   {
    "duration": 333,
    "start_time": "2021-12-27T04:16:25.510Z"
   },
   {
    "duration": 419,
    "start_time": "2021-12-27T04:16:30.563Z"
   },
   {
    "duration": 480,
    "start_time": "2021-12-27T04:19:49.645Z"
   },
   {
    "duration": 419,
    "start_time": "2021-12-27T04:20:21.920Z"
   },
   {
    "duration": 18,
    "start_time": "2021-12-27T04:20:30.408Z"
   },
   {
    "duration": 338,
    "start_time": "2021-12-27T04:22:03.585Z"
   },
   {
    "duration": 358,
    "start_time": "2021-12-27T04:22:12.872Z"
   },
   {
    "duration": 346,
    "start_time": "2021-12-27T04:22:29.865Z"
   },
   {
    "duration": 6,
    "start_time": "2021-12-27T04:22:32.399Z"
   },
   {
    "duration": 335,
    "start_time": "2021-12-27T04:32:25.679Z"
   },
   {
    "duration": 14,
    "start_time": "2021-12-27T04:34:06.369Z"
   },
   {
    "duration": 6,
    "start_time": "2021-12-27T17:38:04.157Z"
   }
  ],
  "kernelspec": {
   "display_name": "Python 3",
   "language": "python",
   "name": "python3"
  },
  "language_info": {
   "codemirror_mode": {
    "name": "ipython",
    "version": 3
   },
   "file_extension": ".py",
   "mimetype": "text/x-python",
   "name": "python",
   "nbconvert_exporter": "python",
   "pygments_lexer": "ipython3",
   "version": "3.8.5"
  },
  "toc": {
   "base_numbering": 1,
   "nav_menu": {},
   "number_sections": true,
   "sideBar": true,
   "skip_h1_title": true,
   "title_cell": "Table of Contents",
   "title_sidebar": "Contents",
   "toc_cell": false,
   "toc_position": {},
   "toc_section_display": true,
   "toc_window_display": false
  }
 },
 "nbformat": 4,
 "nbformat_minor": 2
}
