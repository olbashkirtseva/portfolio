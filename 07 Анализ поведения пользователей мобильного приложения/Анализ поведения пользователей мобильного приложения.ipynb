{
 "cells": [
  {
   "cell_type": "markdown",
   "metadata": {},
   "source": [
    "# Анализ поведения пользователей мобильного приложения"
   ]
  },
  {
   "cell_type": "markdown",
   "metadata": {},
   "source": [
    "Мы работаем в стартапе, который продаёт продукты питания. Нужно разобраться, как ведут себя пользователи нашего мобильного приложения.\n",
    "\n",
    "Изучим воронку продаж. Узнаем, как пользователи доходят до покупки. Сколько пользователей доходит до покупки, а сколько — «застревает» на предыдущих шагах? На каких именно?\n",
    "\n",
    "После этого исследуем результаты A/A/B-эксперимента. Дизайнеры захотели поменять шрифты во всём приложении, а менеджеры испугались, что пользователям будет непривычно. Договорились принять решение по результатам A/A/B-теста. Пользователей разбили на 3 группы: 2 контрольные со старыми шрифтами и одну экспериментальную — с новыми. Выясним, какой шрифт лучше."
   ]
  },
  {
   "cell_type": "markdown",
   "metadata": {},
   "source": [
    "<a id='content'></a>\n",
    "## Оглавление\n",
    "\n",
    "### Открытие и предобработка данных \n",
    "* [Загрузка датасета и проверка его на наличие дубликатов, пропусков и соответствие типам данных, а также правильность выгрузки](#start)\n",
    "\n",
    "### Изучение и проверка данных\n",
    "* [Сколько всего событий в логе? Сколько всего пользователей в логе? Сколько в среднем событий приходится на пользователя?](#part_1.1)\n",
    "* [Данными за какой период мы располагаем? Найдем максимальную и минимальную дату. Построим гистограмму по дате и времени. Отбросим старые данные](#part_1.2)\n",
    "* [Много ли событий и пользователей мы потеряли, отбросив старые данные?](#part_1.3)\n",
    "* [Вывод](#part_1.4)\n",
    "\n",
    "### Воронка событий\n",
    "* [Посмотрим, какие события есть в логах, как часто они встречаются. Отсортируйем события по частоте.](#part_2.1)\n",
    "* [Посчитаем, сколько пользователей совершали каждое из этих событий. Отсортируем события по числу пользователей. Посчитаем долю пользователей, которые хоть раз совершали событие.](#part_2.2)\n",
    "* [Предположим, в каком порядке происходят события.](#part_2.3)\n",
    "* [По воронке событий посчитем, какая доля пользователей проходит на следующий шаг воронки](#part_2.4)\n",
    "* [На каком шаге теряете больше всего пользователей?](#part_2.5)\n",
    "* [Какая доля пользователей доходит от первого события до оплаты?](#part_2.6)\n",
    "\n",
    "### Результаты эксперимента\n",
    "* [Сколько пользователей в каждой экспериментальной группе](#part_3.1)\n",
    "* [Проверим, находят ли статистические критерии разницу между выборками 246 и 247.](#part_3.2)\n",
    "* [Проверим, находят ли статистические критерии разницу между выборками 246 и 248.](#part_3.3)\n",
    "* [Проверим, находят ли статистические критерии разницу между выборками 247 и 248.](#part_3.4)\n",
    "\n",
    "### Вывод\n",
    "* [Сделаем общий вывод и решим, какой шрифт лучше](#finish)\n"
   ]
  },
  {
   "cell_type": "markdown",
   "metadata": {},
   "source": [
    "# Открытие и предобработка данных \n",
    "<a id='start'></a>\n",
    "Загрузка датасета и проверка его на наличие дубликатов, пропусков и соответствие типам данных, а также правильность выгрузки\n",
    "\n",
    "[*Назад к оглавлению*](#content)"
   ]
  },
  {
   "cell_type": "code",
   "execution_count": 1,
   "metadata": {},
   "outputs": [],
   "source": [
    "import pandas as pd\n",
    "import matplotlib.pyplot as plt\n",
    "import datetime\n",
    "from scipy import stats as st\n",
    "import numpy as np\n",
    "import math as mth"
   ]
  },
  {
   "cell_type": "code",
   "execution_count": 2,
   "metadata": {},
   "outputs": [
    {
     "data": {
      "text/html": [
       "<div>\n",
       "<style scoped>\n",
       "    .dataframe tbody tr th:only-of-type {\n",
       "        vertical-align: middle;\n",
       "    }\n",
       "\n",
       "    .dataframe tbody tr th {\n",
       "        vertical-align: top;\n",
       "    }\n",
       "\n",
       "    .dataframe thead th {\n",
       "        text-align: right;\n",
       "    }\n",
       "</style>\n",
       "<table border=\"1\" class=\"dataframe\">\n",
       "  <thead>\n",
       "    <tr style=\"text-align: right;\">\n",
       "      <th></th>\n",
       "      <th>EventName</th>\n",
       "      <th>DeviceIDHash</th>\n",
       "      <th>EventTimestamp</th>\n",
       "      <th>ExpId</th>\n",
       "    </tr>\n",
       "  </thead>\n",
       "  <tbody>\n",
       "    <tr>\n",
       "      <td>0</td>\n",
       "      <td>MainScreenAppear</td>\n",
       "      <td>4575588528974610257</td>\n",
       "      <td>1564029816</td>\n",
       "      <td>246</td>\n",
       "    </tr>\n",
       "    <tr>\n",
       "      <td>1</td>\n",
       "      <td>MainScreenAppear</td>\n",
       "      <td>7416695313311560658</td>\n",
       "      <td>1564053102</td>\n",
       "      <td>246</td>\n",
       "    </tr>\n",
       "    <tr>\n",
       "      <td>2</td>\n",
       "      <td>PaymentScreenSuccessful</td>\n",
       "      <td>3518123091307005509</td>\n",
       "      <td>1564054127</td>\n",
       "      <td>248</td>\n",
       "    </tr>\n",
       "    <tr>\n",
       "      <td>3</td>\n",
       "      <td>CartScreenAppear</td>\n",
       "      <td>3518123091307005509</td>\n",
       "      <td>1564054127</td>\n",
       "      <td>248</td>\n",
       "    </tr>\n",
       "    <tr>\n",
       "      <td>4</td>\n",
       "      <td>PaymentScreenSuccessful</td>\n",
       "      <td>6217807653094995999</td>\n",
       "      <td>1564055322</td>\n",
       "      <td>248</td>\n",
       "    </tr>\n",
       "  </tbody>\n",
       "</table>\n",
       "</div>"
      ],
      "text/plain": [
       "                 EventName         DeviceIDHash  EventTimestamp  ExpId\n",
       "0         MainScreenAppear  4575588528974610257      1564029816    246\n",
       "1         MainScreenAppear  7416695313311560658      1564053102    246\n",
       "2  PaymentScreenSuccessful  3518123091307005509      1564054127    248\n",
       "3         CartScreenAppear  3518123091307005509      1564054127    248\n",
       "4  PaymentScreenSuccessful  6217807653094995999      1564055322    248"
      ]
     },
     "execution_count": 2,
     "metadata": {},
     "output_type": "execute_result"
    }
   ],
   "source": [
    "data = pd.read_csv('/datasets/logs_exp.csv', sep='\\s+')\n",
    "data.head()"
   ]
  },
  {
   "cell_type": "code",
   "execution_count": 3,
   "metadata": {},
   "outputs": [],
   "source": [
    "data.columns = ['event', 'id', 'event_time', 'experiment']"
   ]
  },
  {
   "cell_type": "code",
   "execution_count": 4,
   "metadata": {},
   "outputs": [
    {
     "name": "stdout",
     "output_type": "stream",
     "text": [
      "<class 'pandas.core.frame.DataFrame'>\n",
      "RangeIndex: 244126 entries, 0 to 244125\n",
      "Data columns (total 4 columns):\n",
      "event         244126 non-null object\n",
      "id            244126 non-null int64\n",
      "event_time    244126 non-null int64\n",
      "experiment    244126 non-null int64\n",
      "dtypes: int64(3), object(1)\n",
      "memory usage: 7.5+ MB\n"
     ]
    }
   ],
   "source": [
    "data.info()"
   ]
  },
  {
   "cell_type": "markdown",
   "metadata": {},
   "source": [
    "Приведем дату к удобному формату, а также выделем в отдельные столбцы дату и время."
   ]
  },
  {
   "cell_type": "code",
   "execution_count": 5,
   "metadata": {},
   "outputs": [
    {
     "data": {
      "text/html": [
       "<div>\n",
       "<style scoped>\n",
       "    .dataframe tbody tr th:only-of-type {\n",
       "        vertical-align: middle;\n",
       "    }\n",
       "\n",
       "    .dataframe tbody tr th {\n",
       "        vertical-align: top;\n",
       "    }\n",
       "\n",
       "    .dataframe thead th {\n",
       "        text-align: right;\n",
       "    }\n",
       "</style>\n",
       "<table border=\"1\" class=\"dataframe\">\n",
       "  <thead>\n",
       "    <tr style=\"text-align: right;\">\n",
       "      <th></th>\n",
       "      <th>event</th>\n",
       "      <th>id</th>\n",
       "      <th>event_time</th>\n",
       "      <th>experiment</th>\n",
       "      <th>date_time</th>\n",
       "      <th>date</th>\n",
       "      <th>time</th>\n",
       "    </tr>\n",
       "  </thead>\n",
       "  <tbody>\n",
       "    <tr>\n",
       "      <td>0</td>\n",
       "      <td>MainScreenAppear</td>\n",
       "      <td>4575588528974610257</td>\n",
       "      <td>1564029816</td>\n",
       "      <td>246</td>\n",
       "      <td>2019-07-25 04:43:36</td>\n",
       "      <td>2019-07-25</td>\n",
       "      <td>04:43:36</td>\n",
       "    </tr>\n",
       "    <tr>\n",
       "      <td>1</td>\n",
       "      <td>MainScreenAppear</td>\n",
       "      <td>7416695313311560658</td>\n",
       "      <td>1564053102</td>\n",
       "      <td>246</td>\n",
       "      <td>2019-07-25 11:11:42</td>\n",
       "      <td>2019-07-25</td>\n",
       "      <td>11:11:42</td>\n",
       "    </tr>\n",
       "    <tr>\n",
       "      <td>2</td>\n",
       "      <td>PaymentScreenSuccessful</td>\n",
       "      <td>3518123091307005509</td>\n",
       "      <td>1564054127</td>\n",
       "      <td>248</td>\n",
       "      <td>2019-07-25 11:28:47</td>\n",
       "      <td>2019-07-25</td>\n",
       "      <td>11:28:47</td>\n",
       "    </tr>\n",
       "    <tr>\n",
       "      <td>3</td>\n",
       "      <td>CartScreenAppear</td>\n",
       "      <td>3518123091307005509</td>\n",
       "      <td>1564054127</td>\n",
       "      <td>248</td>\n",
       "      <td>2019-07-25 11:28:47</td>\n",
       "      <td>2019-07-25</td>\n",
       "      <td>11:28:47</td>\n",
       "    </tr>\n",
       "    <tr>\n",
       "      <td>4</td>\n",
       "      <td>PaymentScreenSuccessful</td>\n",
       "      <td>6217807653094995999</td>\n",
       "      <td>1564055322</td>\n",
       "      <td>248</td>\n",
       "      <td>2019-07-25 11:48:42</td>\n",
       "      <td>2019-07-25</td>\n",
       "      <td>11:48:42</td>\n",
       "    </tr>\n",
       "  </tbody>\n",
       "</table>\n",
       "</div>"
      ],
      "text/plain": [
       "                     event                   id  event_time  experiment  \\\n",
       "0         MainScreenAppear  4575588528974610257  1564029816         246   \n",
       "1         MainScreenAppear  7416695313311560658  1564053102         246   \n",
       "2  PaymentScreenSuccessful  3518123091307005509  1564054127         248   \n",
       "3         CartScreenAppear  3518123091307005509  1564054127         248   \n",
       "4  PaymentScreenSuccessful  6217807653094995999  1564055322         248   \n",
       "\n",
       "            date_time        date      time  \n",
       "0 2019-07-25 04:43:36  2019-07-25  04:43:36  \n",
       "1 2019-07-25 11:11:42  2019-07-25  11:11:42  \n",
       "2 2019-07-25 11:28:47  2019-07-25  11:28:47  \n",
       "3 2019-07-25 11:28:47  2019-07-25  11:28:47  \n",
       "4 2019-07-25 11:48:42  2019-07-25  11:48:42  "
      ]
     },
     "execution_count": 5,
     "metadata": {},
     "output_type": "execute_result"
    }
   ],
   "source": [
    "data['date_time'] = pd.to_datetime(data['event_time'], unit='s')\n",
    "data['date'] = pd.DatetimeIndex(data['date_time']).date\n",
    "data['time'] = pd.DatetimeIndex(data['date_time']).time\n",
    "data.head()"
   ]
  },
  {
   "cell_type": "markdown",
   "metadata": {},
   "source": [
    "Посмотрим на наличие дубликатов и пропусков в данных."
   ]
  },
  {
   "cell_type": "code",
   "execution_count": 6,
   "metadata": {},
   "outputs": [
    {
     "data": {
      "text/plain": [
       "413"
      ]
     },
     "execution_count": 6,
     "metadata": {},
     "output_type": "execute_result"
    }
   ],
   "source": [
    "data.duplicated().sum()"
   ]
  },
  {
   "cell_type": "code",
   "execution_count": 7,
   "metadata": {},
   "outputs": [
    {
     "data": {
      "text/plain": [
       "event         0\n",
       "id            0\n",
       "event_time    0\n",
       "experiment    0\n",
       "date_time     0\n",
       "date          0\n",
       "time          0\n",
       "dtype: int64"
      ]
     },
     "execution_count": 7,
     "metadata": {},
     "output_type": "execute_result"
    }
   ],
   "source": [
    "data.isnull().sum()"
   ]
  },
  {
   "cell_type": "markdown",
   "metadata": {},
   "source": [
    "Пропусков нет - это хорошо. Однако мы нашли 413 дублирующихся строк. Необходимо будет уточнить у коллег, действительно ли это ошибки или же особенности учета."
   ]
  },
  {
   "cell_type": "markdown",
   "metadata": {},
   "source": [
    "# Изучение и проверка данных\n",
    "\n",
    "[*Назад к оглавлению*](#content)"
   ]
  },
  {
   "cell_type": "markdown",
   "metadata": {},
   "source": [
    "Сколько всего событий в логе? Сколько всего пользователей в логе? Сколько в среднем событий приходится на пользователя? <a id='part_1.1'></a>"
   ]
  },
  {
   "cell_type": "code",
   "execution_count": 8,
   "metadata": {},
   "outputs": [
    {
     "data": {
      "text/plain": [
       "244126"
      ]
     },
     "execution_count": 8,
     "metadata": {},
     "output_type": "execute_result"
    }
   ],
   "source": [
    "data['event'].count()"
   ]
  },
  {
   "cell_type": "code",
   "execution_count": 9,
   "metadata": {},
   "outputs": [
    {
     "data": {
      "text/plain": [
       "7551"
      ]
     },
     "execution_count": 9,
     "metadata": {},
     "output_type": "execute_result"
    }
   ],
   "source": [
    "data['id'].nunique()"
   ]
  },
  {
   "cell_type": "code",
   "execution_count": 10,
   "metadata": {},
   "outputs": [
    {
     "data": {
      "text/plain": [
       "event  count    32.330287\n",
       "dtype: float64"
      ]
     },
     "execution_count": 10,
     "metadata": {},
     "output_type": "execute_result"
    }
   ],
   "source": [
    "data.groupby('id').agg({'event': ['count']}).mean()"
   ]
  },
  {
   "cell_type": "markdown",
   "metadata": {},
   "source": [
    "Мы имеем 244 126 событий совершенных 7 551 пользователями. В среднем на одного пользователя приходится 32,3 события."
   ]
  },
  {
   "cell_type": "markdown",
   "metadata": {},
   "source": [
    "Данными за какой период мы располагаем? Найдем максимальную и минимальную дату. Построим гистограмму по дате и времени. <a id='part_1.2'></a>"
   ]
  },
  {
   "cell_type": "code",
   "execution_count": 11,
   "metadata": {},
   "outputs": [
    {
     "data": {
      "text/plain": [
       "datetime.date(2019, 7, 25)"
      ]
     },
     "execution_count": 11,
     "metadata": {},
     "output_type": "execute_result"
    }
   ],
   "source": [
    "data['date'].min()"
   ]
  },
  {
   "cell_type": "code",
   "execution_count": 12,
   "metadata": {},
   "outputs": [
    {
     "data": {
      "text/plain": [
       "datetime.date(2019, 8, 7)"
      ]
     },
     "execution_count": 12,
     "metadata": {},
     "output_type": "execute_result"
    }
   ],
   "source": [
    "data['date'].max()"
   ]
  },
  {
   "cell_type": "markdown",
   "metadata": {},
   "source": [
    "В нашем распоряжении данные с 25 июля 2019 года по 7 августа 2019 года."
   ]
  },
  {
   "cell_type": "code",
   "execution_count": 13,
   "metadata": {},
   "outputs": [
    {
     "name": "stderr",
     "output_type": "stream",
     "text": [
      "/opt/conda/lib/python3.7/site-packages/pandas/plotting/_matplotlib/converter.py:103: FutureWarning: Using an implicitly registered datetime converter for a matplotlib plotting method. The converter was registered by pandas on import. Future versions of pandas will require you to explicitly register matplotlib converters.\n",
      "\n",
      "To register the converters:\n",
      "\t>>> from pandas.plotting import register_matplotlib_converters\n",
      "\t>>> register_matplotlib_converters()\n",
      "  warnings.warn(msg, FutureWarning)\n"
     ]
    },
    {
     "data": {
      "image/png": "[encoded data removed]",
      "text/plain": [
       "<Figure size 432x288 with 1 Axes>"
      ]
     },
     "metadata": {
      "needs_background": "light"
     },
     "output_type": "display_data"
    }
   ],
   "source": [
    "plt.hist(data['date_time'])\n",
    "plt.xlabel('Дата')\n",
    "plt.ylabel('Частота')\n",
    "plt.title('Гистограмма по дате и времени')\n",
    "plt.xticks(rotation=45, ha='right')\n",
    "plt.grid(True)\n",
    "plt.show()"
   ]
  },
  {
   "cell_type": "markdown",
   "metadata": {},
   "source": [
    "Можно заметить, что полноценные данные мы имеем только начиная с 1 августа 2019 года. Отбросим остальные."
   ]
  },
  {
   "cell_type": "code",
   "execution_count": 14,
   "metadata": {},
   "outputs": [
    {
     "data": {
      "text/html": [
       "<div>\n",
       "<style scoped>\n",
       "    .dataframe tbody tr th:only-of-type {\n",
       "        vertical-align: middle;\n",
       "    }\n",
       "\n",
       "    .dataframe tbody tr th {\n",
       "        vertical-align: top;\n",
       "    }\n",
       "\n",
       "    .dataframe thead th {\n",
       "        text-align: right;\n",
       "    }\n",
       "</style>\n",
       "<table border=\"1\" class=\"dataframe\">\n",
       "  <thead>\n",
       "    <tr style=\"text-align: right;\">\n",
       "      <th></th>\n",
       "      <th>event</th>\n",
       "      <th>id</th>\n",
       "      <th>event_time</th>\n",
       "      <th>experiment</th>\n",
       "      <th>date_time</th>\n",
       "      <th>date</th>\n",
       "      <th>time</th>\n",
       "    </tr>\n",
       "  </thead>\n",
       "  <tbody>\n",
       "    <tr>\n",
       "      <td>2828</td>\n",
       "      <td>Tutorial</td>\n",
       "      <td>3737462046622621720</td>\n",
       "      <td>1564618048</td>\n",
       "      <td>246</td>\n",
       "      <td>2019-08-01 00:07:28</td>\n",
       "      <td>2019-08-01</td>\n",
       "      <td>00:07:28</td>\n",
       "    </tr>\n",
       "    <tr>\n",
       "      <td>2829</td>\n",
       "      <td>MainScreenAppear</td>\n",
       "      <td>3737462046622621720</td>\n",
       "      <td>1564618080</td>\n",
       "      <td>246</td>\n",
       "      <td>2019-08-01 00:08:00</td>\n",
       "      <td>2019-08-01</td>\n",
       "      <td>00:08:00</td>\n",
       "    </tr>\n",
       "    <tr>\n",
       "      <td>2830</td>\n",
       "      <td>MainScreenAppear</td>\n",
       "      <td>3737462046622621720</td>\n",
       "      <td>1564618135</td>\n",
       "      <td>246</td>\n",
       "      <td>2019-08-01 00:08:55</td>\n",
       "      <td>2019-08-01</td>\n",
       "      <td>00:08:55</td>\n",
       "    </tr>\n",
       "    <tr>\n",
       "      <td>2831</td>\n",
       "      <td>OffersScreenAppear</td>\n",
       "      <td>3737462046622621720</td>\n",
       "      <td>1564618138</td>\n",
       "      <td>246</td>\n",
       "      <td>2019-08-01 00:08:58</td>\n",
       "      <td>2019-08-01</td>\n",
       "      <td>00:08:58</td>\n",
       "    </tr>\n",
       "    <tr>\n",
       "      <td>2832</td>\n",
       "      <td>MainScreenAppear</td>\n",
       "      <td>1433840883824088890</td>\n",
       "      <td>1564618139</td>\n",
       "      <td>247</td>\n",
       "      <td>2019-08-01 00:08:59</td>\n",
       "      <td>2019-08-01</td>\n",
       "      <td>00:08:59</td>\n",
       "    </tr>\n",
       "  </tbody>\n",
       "</table>\n",
       "</div>"
      ],
      "text/plain": [
       "                   event                   id  event_time  experiment  \\\n",
       "2828            Tutorial  3737462046622621720  1564618048         246   \n",
       "2829    MainScreenAppear  3737462046622621720  1564618080         246   \n",
       "2830    MainScreenAppear  3737462046622621720  1564618135         246   \n",
       "2831  OffersScreenAppear  3737462046622621720  1564618138         246   \n",
       "2832    MainScreenAppear  1433840883824088890  1564618139         247   \n",
       "\n",
       "               date_time        date      time  \n",
       "2828 2019-08-01 00:07:28  2019-08-01  00:07:28  \n",
       "2829 2019-08-01 00:08:00  2019-08-01  00:08:00  \n",
       "2830 2019-08-01 00:08:55  2019-08-01  00:08:55  \n",
       "2831 2019-08-01 00:08:58  2019-08-01  00:08:58  \n",
       "2832 2019-08-01 00:08:59  2019-08-01  00:08:59  "
      ]
     },
     "execution_count": 14,
     "metadata": {},
     "output_type": "execute_result"
    }
   ],
   "source": [
    "data_cut = data[(data['date'] > datetime.date(2019,7,31))]\n",
    "data_cut.head()"
   ]
  },
  {
   "cell_type": "code",
   "execution_count": 15,
   "metadata": {},
   "outputs": [
    {
     "data": {
      "text/plain": [
       "datetime.date(2019, 8, 1)"
      ]
     },
     "execution_count": 15,
     "metadata": {},
     "output_type": "execute_result"
    }
   ],
   "source": [
    "data_cut['date'].min()"
   ]
  },
  {
   "cell_type": "code",
   "execution_count": 16,
   "metadata": {},
   "outputs": [
    {
     "data": {
      "text/plain": [
       "datetime.date(2019, 8, 7)"
      ]
     },
     "execution_count": 16,
     "metadata": {},
     "output_type": "execute_result"
    }
   ],
   "source": [
    "data_cut['date'].max()"
   ]
  },
  {
   "cell_type": "markdown",
   "metadata": {},
   "source": [
    "Много ли событий и пользователей мы потеряли, отбросив старые данные? <a id='part_1.3'></a>"
   ]
  },
  {
   "cell_type": "code",
   "execution_count": 17,
   "metadata": {},
   "outputs": [
    {
     "data": {
      "text/plain": [
       "2828"
      ]
     },
     "execution_count": 17,
     "metadata": {},
     "output_type": "execute_result"
    }
   ],
   "source": [
    "data['event'].count() - data_cut['event'].count()"
   ]
  },
  {
   "cell_type": "code",
   "execution_count": 18,
   "metadata": {},
   "outputs": [
    {
     "data": {
      "text/plain": [
       "17"
      ]
     },
     "execution_count": 18,
     "metadata": {},
     "output_type": "execute_result"
    }
   ],
   "source": [
    "len(data['id'].unique()) - len(data_cut['id'].unique())"
   ]
  },
  {
   "cell_type": "markdown",
   "metadata": {},
   "source": [
    "Обрезав данные мы потеряли 2 828 событий и 17 уникальных пользователей, что составляет 1,16% и 0,23% от всего числа событий и пользователей соответвтенно."
   ]
  },
  {
   "cell_type": "markdown",
   "metadata": {},
   "source": [
    "Проверим, что у нас есть пользователи всех трех групп."
   ]
  },
  {
   "cell_type": "code",
   "execution_count": 19,
   "metadata": {},
   "outputs": [
    {
     "data": {
      "text/plain": [
       "experiment\n",
       "246    79425\n",
       "247    77147\n",
       "248    84726\n",
       "Name: id, dtype: int64"
      ]
     },
     "execution_count": 19,
     "metadata": {},
     "output_type": "execute_result"
    }
   ],
   "source": [
    "data_cut.groupby('experiment')['id'].count()"
   ]
  },
  {
   "cell_type": "markdown",
   "metadata": {},
   "source": [
    "<a id='part_1.4'></a>\n",
    "В нашем распоряжении данные с 25 июля 2019 года по 7 августа 2019 года, однако полноценные данные мы имеем только начиная с 1 августа 2019 года.\n",
    "\n",
    "Обрезав данные мы потеряли 2 828 событий и 17 уникальных пользователей, что составляет 1,16% и 0,23% от всего числа событий и пользователей соответвтенно."
   ]
  },
  {
   "cell_type": "markdown",
   "metadata": {},
   "source": [
    "Проверим, что у нас нет пользователей, попавших в несколько групп одновременно."
   ]
  },
  {
   "cell_type": "code",
   "execution_count": 20,
   "metadata": {},
   "outputs": [],
   "source": [
    "id_246 = data_cut.query('experiment == 246')['id']\n",
    "id_247 = data_cut.query('experiment == 247')['id']\n",
    "id_248 = data_cut.query('experiment == 248')['id']"
   ]
  },
  {
   "cell_type": "code",
   "execution_count": 21,
   "metadata": {},
   "outputs": [
    {
     "name": "stdout",
     "output_type": "stream",
     "text": [
      "0\n",
      "0\n",
      "0\n"
     ]
    }
   ],
   "source": [
    "print(len(data_cut.query('(experiment == 248) and id in @id_246')['id'].drop_duplicates()))\n",
    "print(len(data_cut.query('(experiment == 248) and id in @id_247')['id'].drop_duplicates()))\n",
    "print(len(data_cut.query('(experiment == 246) and id in @id_247')['id'].drop_duplicates()))"
   ]
  },
  {
   "cell_type": "markdown",
   "metadata": {},
   "source": [
    "# Воронка событий\n",
    "\n",
    "[*Назад к оглавлению*](#content)"
   ]
  },
  {
   "cell_type": "markdown",
   "metadata": {},
   "source": [
    "Посмотрим, какие события есть в логах, как часто они встречаются. Отсортируйем события по частоте. <a id='part_2.1'></a>"
   ]
  },
  {
   "cell_type": "code",
   "execution_count": 22,
   "metadata": {},
   "outputs": [
    {
     "data": {
      "text/plain": [
       "event\n",
       "MainScreenAppear           117431\n",
       "OffersScreenAppear          46350\n",
       "CartScreenAppear            42365\n",
       "PaymentScreenSuccessful     34113\n",
       "Tutorial                     1039\n",
       "Name: id, dtype: int64"
      ]
     },
     "execution_count": 22,
     "metadata": {},
     "output_type": "execute_result"
    }
   ],
   "source": [
    "data_cut.groupby('event')['id'].count().sort_values(ascending=False)"
   ]
  },
  {
   "cell_type": "markdown",
   "metadata": {},
   "source": [
    "Посчитаем, сколько пользователей совершали каждое из этих событий. Отсортируем события по числу пользователей. Посчитаем долю пользователей, которые хоть раз совершали событие. <a id='part_2.2'></a>"
   ]
  },
  {
   "cell_type": "code",
   "execution_count": 23,
   "metadata": {},
   "outputs": [
    {
     "data": {
      "text/html": [
       "<div>\n",
       "<style scoped>\n",
       "    .dataframe tbody tr th:only-of-type {\n",
       "        vertical-align: middle;\n",
       "    }\n",
       "\n",
       "    .dataframe tbody tr th {\n",
       "        vertical-align: top;\n",
       "    }\n",
       "\n",
       "    .dataframe thead th {\n",
       "        text-align: right;\n",
       "    }\n",
       "</style>\n",
       "<table border=\"1\" class=\"dataframe\">\n",
       "  <thead>\n",
       "    <tr style=\"text-align: right;\">\n",
       "      <th></th>\n",
       "      <th>id_unique</th>\n",
       "      <th>part</th>\n",
       "    </tr>\n",
       "    <tr>\n",
       "      <th>event</th>\n",
       "      <th></th>\n",
       "      <th></th>\n",
       "    </tr>\n",
       "  </thead>\n",
       "  <tbody>\n",
       "    <tr>\n",
       "      <td>MainScreenAppear</td>\n",
       "      <td>7419</td>\n",
       "      <td>0.98</td>\n",
       "    </tr>\n",
       "    <tr>\n",
       "      <td>OffersScreenAppear</td>\n",
       "      <td>4593</td>\n",
       "      <td>0.61</td>\n",
       "    </tr>\n",
       "    <tr>\n",
       "      <td>CartScreenAppear</td>\n",
       "      <td>3734</td>\n",
       "      <td>0.50</td>\n",
       "    </tr>\n",
       "    <tr>\n",
       "      <td>PaymentScreenSuccessful</td>\n",
       "      <td>3539</td>\n",
       "      <td>0.47</td>\n",
       "    </tr>\n",
       "    <tr>\n",
       "      <td>Tutorial</td>\n",
       "      <td>840</td>\n",
       "      <td>0.11</td>\n",
       "    </tr>\n",
       "  </tbody>\n",
       "</table>\n",
       "</div>"
      ],
      "text/plain": [
       "                         id_unique  part\n",
       "event                                   \n",
       "MainScreenAppear              7419  0.98\n",
       "OffersScreenAppear            4593  0.61\n",
       "CartScreenAppear              3734  0.50\n",
       "PaymentScreenSuccessful       3539  0.47\n",
       "Tutorial                       840  0.11"
      ]
     },
     "execution_count": 23,
     "metadata": {},
     "output_type": "execute_result"
    }
   ],
   "source": [
    "data_user = data_cut.groupby('event').agg({'id': ['nunique']}).sort_values(by=('id','nunique'),\n",
    "                                                               ascending=False)\n",
    "data_user.columns = ['id_unique']\n",
    "data_user['part'] = round(data_user['id_unique']/len(data_cut['id'].unique()), 2)\n",
    "data_user"
   ]
  },
  {
   "cell_type": "markdown",
   "metadata": {},
   "source": [
    "Предположим, в каком порядке происходят события. <a id='part_2.3'></a>"
   ]
  },
  {
   "cell_type": "markdown",
   "metadata": {},
   "source": [
    "Судя по всему цепочка событий следующая: \n",
    "* Пользователь попадает на главный экран\n",
    "* Пользователь попадает на экран с предложениями\n",
    "* Пользователь попадает на экран корзины\n",
    "* Успешный заказ\n",
    "\n",
    "Из всей цепочки выбывается туториал, хоть их и меньше всего, но это не потому, что до него доходят лишь те немногие, кто оформил заказ. Скорее всего, просто совсем небольшое число пользователей смотрят туториалы, так как остальные могут и так разобраться с приложением.\n",
    "\n",
    "Далее мы не будем учитывать туториалы в воронке событий."
   ]
  },
  {
   "cell_type": "code",
   "execution_count": 24,
   "metadata": {},
   "outputs": [
    {
     "data": {
      "text/html": [
       "<div>\n",
       "<style scoped>\n",
       "    .dataframe tbody tr th:only-of-type {\n",
       "        vertical-align: middle;\n",
       "    }\n",
       "\n",
       "    .dataframe tbody tr th {\n",
       "        vertical-align: top;\n",
       "    }\n",
       "\n",
       "    .dataframe thead th {\n",
       "        text-align: right;\n",
       "    }\n",
       "</style>\n",
       "<table border=\"1\" class=\"dataframe\">\n",
       "  <thead>\n",
       "    <tr style=\"text-align: right;\">\n",
       "      <th></th>\n",
       "      <th>id_unique</th>\n",
       "      <th>part</th>\n",
       "    </tr>\n",
       "    <tr>\n",
       "      <th>event</th>\n",
       "      <th></th>\n",
       "      <th></th>\n",
       "    </tr>\n",
       "  </thead>\n",
       "  <tbody>\n",
       "    <tr>\n",
       "      <td>MainScreenAppear</td>\n",
       "      <td>7419</td>\n",
       "      <td>0.98</td>\n",
       "    </tr>\n",
       "    <tr>\n",
       "      <td>OffersScreenAppear</td>\n",
       "      <td>4593</td>\n",
       "      <td>0.61</td>\n",
       "    </tr>\n",
       "    <tr>\n",
       "      <td>CartScreenAppear</td>\n",
       "      <td>3734</td>\n",
       "      <td>0.50</td>\n",
       "    </tr>\n",
       "    <tr>\n",
       "      <td>PaymentScreenSuccessful</td>\n",
       "      <td>3539</td>\n",
       "      <td>0.47</td>\n",
       "    </tr>\n",
       "  </tbody>\n",
       "</table>\n",
       "</div>"
      ],
      "text/plain": [
       "                         id_unique  part\n",
       "event                                   \n",
       "MainScreenAppear              7419  0.98\n",
       "OffersScreenAppear            4593  0.61\n",
       "CartScreenAppear              3734  0.50\n",
       "PaymentScreenSuccessful       3539  0.47"
      ]
     },
     "execution_count": 24,
     "metadata": {},
     "output_type": "execute_result"
    }
   ],
   "source": [
    "data_user = data_user.drop(axis=0, index='Tutorial')\n",
    "data_user"
   ]
  },
  {
   "cell_type": "markdown",
   "metadata": {},
   "source": [
    "По воронке событий посчитем, какая доля пользователей проходит на следующий шаг воронки. <a id='part_2.4'></a>"
   ]
  },
  {
   "cell_type": "code",
   "execution_count": 25,
   "metadata": {},
   "outputs": [
    {
     "data": {
      "text/html": [
       "<div>\n",
       "<style scoped>\n",
       "    .dataframe tbody tr th:only-of-type {\n",
       "        vertical-align: middle;\n",
       "    }\n",
       "\n",
       "    .dataframe tbody tr th {\n",
       "        vertical-align: top;\n",
       "    }\n",
       "\n",
       "    .dataframe thead th {\n",
       "        text-align: right;\n",
       "    }\n",
       "</style>\n",
       "<table border=\"1\" class=\"dataframe\">\n",
       "  <thead>\n",
       "    <tr style=\"text-align: right;\">\n",
       "      <th></th>\n",
       "      <th>id_unique</th>\n",
       "      <th>part</th>\n",
       "      <th>conversion</th>\n",
       "    </tr>\n",
       "    <tr>\n",
       "      <th>event</th>\n",
       "      <th></th>\n",
       "      <th></th>\n",
       "      <th></th>\n",
       "    </tr>\n",
       "  </thead>\n",
       "  <tbody>\n",
       "    <tr>\n",
       "      <td>MainScreenAppear</td>\n",
       "      <td>7419</td>\n",
       "      <td>0.98</td>\n",
       "      <td>1.00</td>\n",
       "    </tr>\n",
       "    <tr>\n",
       "      <td>OffersScreenAppear</td>\n",
       "      <td>4593</td>\n",
       "      <td>0.61</td>\n",
       "      <td>0.62</td>\n",
       "    </tr>\n",
       "    <tr>\n",
       "      <td>CartScreenAppear</td>\n",
       "      <td>3734</td>\n",
       "      <td>0.50</td>\n",
       "      <td>0.81</td>\n",
       "    </tr>\n",
       "    <tr>\n",
       "      <td>PaymentScreenSuccessful</td>\n",
       "      <td>3539</td>\n",
       "      <td>0.47</td>\n",
       "      <td>0.95</td>\n",
       "    </tr>\n",
       "  </tbody>\n",
       "</table>\n",
       "</div>"
      ],
      "text/plain": [
       "                         id_unique  part  conversion\n",
       "event                                               \n",
       "MainScreenAppear              7419  0.98        1.00\n",
       "OffersScreenAppear            4593  0.61        0.62\n",
       "CartScreenAppear              3734  0.50        0.81\n",
       "PaymentScreenSuccessful       3539  0.47        0.95"
      ]
     },
     "execution_count": 25,
     "metadata": {},
     "output_type": "execute_result"
    }
   ],
   "source": [
    "data_user['conversion'] = round(1 + data_user['id_unique'].pct_change(), 2)\n",
    "data_user.loc['MainScreenAppear', 'conversion'] = 1\n",
    "data_user"
   ]
  },
  {
   "cell_type": "markdown",
   "metadata": {},
   "source": [
    "Больше всего пользователей теряется при переходе от главного экрана к экрау с предложениями - 38%. <a id='part_2.5'></a>"
   ]
  },
  {
   "cell_type": "markdown",
   "metadata": {},
   "source": [
    "Посмотрим, какая доля пользователей доходит от первого события до оплаты. <a id='part_2.6'></a>"
   ]
  },
  {
   "cell_type": "code",
   "execution_count": 26,
   "metadata": {},
   "outputs": [
    {
     "data": {
      "text/plain": [
       "0.48"
      ]
     },
     "execution_count": 26,
     "metadata": {},
     "output_type": "execute_result"
    }
   ],
   "source": [
    "round(data_user.loc['PaymentScreenSuccessful', 'id_unique']/data_user.loc['MainScreenAppear', 'id_unique'], 2)"
   ]
  },
  {
   "cell_type": "markdown",
   "metadata": {},
   "source": [
    "Почти половина пользователей все-таки оплачивает покупку!"
   ]
  },
  {
   "cell_type": "markdown",
   "metadata": {},
   "source": [
    "Визиуализируем воронку событий."
   ]
  },
  {
   "cell_type": "code",
   "execution_count": 27,
   "metadata": {},
   "outputs": [
    {
     "data": {
      "image/png": "[encoded data removed]",
      "text/plain": [
       "<Figure size 432x288 with 1 Axes>"
      ]
     },
     "metadata": {
      "needs_background": "light"
     },
     "output_type": "display_data"
    }
   ],
   "source": [
    "fig, ax = plt.subplots()\n",
    "\n",
    "ax.barh([4,3,2,1], data_user['id_unique'])\n",
    "\n",
    "#  Устанавливаем позиции тиков:\n",
    "ax.set_yticks([4,3,2,1])\n",
    "\n",
    "#  Устанавливаем подписи тиков\n",
    "ax.set_yticklabels(data_user.index,\n",
    "                   fontsize = 15)\n",
    "\n",
    "ax.set_xlabel('Число пользователей на каждои шаге')\n",
    "ax.set_title('Воронка событий')\n",
    "ax.grid(True)\n",
    "\n",
    "plt.show()"
   ]
  },
  {
   "cell_type": "markdown",
   "metadata": {},
   "source": [
    "# Результаты эксперимента\n",
    "\n",
    "[*Назад к оглавлению*](#content)"
   ]
  },
  {
   "cell_type": "markdown",
   "metadata": {},
   "source": [
    "Посмотрим сколько пользователей в каждой экспериментальной группе. <a id='part_3.1'></a>"
   ]
  },
  {
   "cell_type": "code",
   "execution_count": 28,
   "metadata": {},
   "outputs": [
    {
     "data": {
      "text/html": [
       "<div>\n",
       "<style scoped>\n",
       "    .dataframe tbody tr th:only-of-type {\n",
       "        vertical-align: middle;\n",
       "    }\n",
       "\n",
       "    .dataframe tbody tr th {\n",
       "        vertical-align: top;\n",
       "    }\n",
       "\n",
       "    .dataframe thead tr th {\n",
       "        text-align: left;\n",
       "    }\n",
       "\n",
       "    .dataframe thead tr:last-of-type th {\n",
       "        text-align: right;\n",
       "    }\n",
       "</style>\n",
       "<table border=\"1\" class=\"dataframe\">\n",
       "  <thead>\n",
       "    <tr>\n",
       "      <th></th>\n",
       "      <th>id</th>\n",
       "    </tr>\n",
       "    <tr>\n",
       "      <th></th>\n",
       "      <th>nunique</th>\n",
       "    </tr>\n",
       "    <tr>\n",
       "      <th>experiment</th>\n",
       "      <th></th>\n",
       "    </tr>\n",
       "  </thead>\n",
       "  <tbody>\n",
       "    <tr>\n",
       "      <td>246</td>\n",
       "      <td>2484</td>\n",
       "    </tr>\n",
       "    <tr>\n",
       "      <td>247</td>\n",
       "      <td>2513</td>\n",
       "    </tr>\n",
       "    <tr>\n",
       "      <td>248</td>\n",
       "      <td>2537</td>\n",
       "    </tr>\n",
       "  </tbody>\n",
       "</table>\n",
       "</div>"
      ],
      "text/plain": [
       "                id\n",
       "           nunique\n",
       "experiment        \n",
       "246           2484\n",
       "247           2513\n",
       "248           2537"
      ]
     },
     "execution_count": 28,
     "metadata": {},
     "output_type": "execute_result"
    }
   ],
   "source": [
    "data_cut.groupby('experiment').agg({'id': ['nunique']})"
   ]
  },
  {
   "cell_type": "markdown",
   "metadata": {},
   "source": [
    "Проверим, находят ли статистические критерии разницу между выборками 246 и 247. <a id='part_3.2'></a>"
   ]
  },
  {
   "cell_type": "markdown",
   "metadata": {},
   "source": [
    "Рассмотрим доли пользователей из групп 246 и 247 (А/А тест), которые совершили покупку.\n",
    "\n",
    "Сформулируем нулевую гипотезу: ***Доли совершивших покупку в выборках 246 и 247 одинаковы.***\n",
    "\n",
    "Тогда альтернативная гипотеза будет звучать следующим образом: ***Доли совершивших покупку в выборках 246 и 247 различны***"
   ]
  },
  {
   "cell_type": "code",
   "execution_count": 29,
   "metadata": {},
   "outputs": [],
   "source": [
    "def stat_difference(group1, group2, event):\n",
    "    alpha = .05\n",
    "    p1 = (data_cut.query('(experiment == @group1) & (event == @event)')['id'].nunique()/\n",
    "          data_cut.groupby('experiment').agg({'id': ['nunique']}).loc[group1,('id', 'nunique')])\n",
    "    p2 = (data_cut.query('(experiment == @group2) & (event == @event)')['id'].nunique()/\n",
    "          data_cut.groupby('experiment').agg({'id': ['nunique']}).loc[group2,('id', 'nunique')])\n",
    "    p_combined = ((data_cut.query('(experiment == @group1) & (event == @event)')['id'].nunique() +\n",
    "                  data_cut.query('(experiment == @group2) & (event == @event)')['id'].nunique()) /\n",
    "                  (data_cut.groupby('experiment').agg({'id': ['nunique']}).loc[group1,('id', 'nunique')] + \n",
    "                   data_cut.groupby('experiment').agg({'id': ['nunique']}).loc[group2,('id', 'nunique')]))\n",
    "    \n",
    "    difference = p1 - p2 \n",
    "    z_value = difference / mth.sqrt(p_combined * (1 - p_combined) *\n",
    "                                    (1 / data_cut.groupby('experiment').agg({'id': ['nunique']}).loc[group1,('id', 'nunique')] + \n",
    "                                     1 / data_cut.groupby('experiment').agg({'id': ['nunique']}).loc[group2,('id', 'nunique')]))\n",
    "    distr = st.norm(0, 1)\n",
    "    p_value = (1 - distr.cdf(abs(z_value))) * 2\n",
    "    print('p-значение: ', p_value)\n",
    "    \n",
    "    if p_value < alpha:\n",
    "        print('Отвергаем нулевую гипотезу: между долями есть значимая разница')\n",
    "    else:\n",
    "        print('Не получилось отвергнуть нулевую гипотезу, нет оснований считать доли разными') \n",
    "                  "
   ]
  },
  {
   "cell_type": "code",
   "execution_count": 30,
   "metadata": {},
   "outputs": [
    {
     "name": "stdout",
     "output_type": "stream",
     "text": [
      "p-значение:  0.11456679313141849\n",
      "Не получилось отвергнуть нулевую гипотезу, нет оснований считать доли разными\n"
     ]
    }
   ],
   "source": [
    "stat_difference(246, 247, 'PaymentScreenSuccessful')"
   ]
  },
  {
   "cell_type": "markdown",
   "metadata": {},
   "source": [
    "Проверим также и остальные события."
   ]
  },
  {
   "cell_type": "code",
   "execution_count": 31,
   "metadata": {},
   "outputs": [
    {
     "name": "stdout",
     "output_type": "stream",
     "text": [
      "p-значение:  0.7570597232046099\n",
      "Не получилось отвергнуть нулевую гипотезу, нет оснований считать доли разными\n"
     ]
    }
   ],
   "source": [
    "stat_difference(246, 247, 'MainScreenAppear')"
   ]
  },
  {
   "cell_type": "code",
   "execution_count": 32,
   "metadata": {},
   "outputs": [
    {
     "name": "stdout",
     "output_type": "stream",
     "text": [
      "p-значение:  0.2480954578522181\n",
      "Не получилось отвергнуть нулевую гипотезу, нет оснований считать доли разными\n"
     ]
    }
   ],
   "source": [
    "stat_difference(246, 247, 'OffersScreenAppear')"
   ]
  },
  {
   "cell_type": "code",
   "execution_count": 33,
   "metadata": {},
   "outputs": [
    {
     "name": "stdout",
     "output_type": "stream",
     "text": [
      "p-значение:  0.22883372237997213\n",
      "Не получилось отвергнуть нулевую гипотезу, нет оснований считать доли разными\n"
     ]
    }
   ],
   "source": [
    "stat_difference(246, 247, 'CartScreenAppear')"
   ]
  },
  {
   "cell_type": "markdown",
   "metadata": {},
   "source": [
    "По результатам всех наших проверок нулевую теорию отвергнуть не удалось, то есть можно сказать, что разбиение на группы работает корректно."
   ]
  },
  {
   "cell_type": "markdown",
   "metadata": {},
   "source": [
    "Проверим, находят ли статистические критерии разницу между выборками 246 и 248. <a id='part_3.3'></a>"
   ]
  },
  {
   "cell_type": "code",
   "execution_count": 34,
   "metadata": {},
   "outputs": [
    {
     "name": "stdout",
     "output_type": "stream",
     "text": [
      "p-значение:  0.2122553275697796\n",
      "Не получилось отвергнуть нулевую гипотезу, нет оснований считать доли разными\n"
     ]
    }
   ],
   "source": [
    "stat_difference(246, 248, 'PaymentScreenSuccessful')"
   ]
  },
  {
   "cell_type": "code",
   "execution_count": 35,
   "metadata": {},
   "outputs": [
    {
     "name": "stdout",
     "output_type": "stream",
     "text": [
      "p-значение:  0.2949721933554552\n",
      "Не получилось отвергнуть нулевую гипотезу, нет оснований считать доли разными\n"
     ]
    }
   ],
   "source": [
    "stat_difference(246, 248, 'MainScreenAppear')"
   ]
  },
  {
   "cell_type": "code",
   "execution_count": 36,
   "metadata": {},
   "outputs": [
    {
     "name": "stdout",
     "output_type": "stream",
     "text": [
      "p-значение:  0.20836205402738917\n",
      "Не получилось отвергнуть нулевую гипотезу, нет оснований считать доли разными\n"
     ]
    }
   ],
   "source": [
    "stat_difference(246, 248, 'OffersScreenAppear')"
   ]
  },
  {
   "cell_type": "code",
   "execution_count": 37,
   "metadata": {},
   "outputs": [
    {
     "name": "stdout",
     "output_type": "stream",
     "text": [
      "p-значение:  0.07842923237520116\n",
      "Не получилось отвергнуть нулевую гипотезу, нет оснований считать доли разными\n"
     ]
    }
   ],
   "source": [
    "stat_difference(246, 248, 'CartScreenAppear')"
   ]
  },
  {
   "cell_type": "markdown",
   "metadata": {},
   "source": [
    "В результате проверок оказалось, что статистической значимости между группами 246 и 248 нет.\n",
    "\n",
    "Однако стоит заметить, что если бы мы изменили порог на 0,1 (сейчас он 0,05), то по результатам последней проверки с корзиной мы бы смогли отвергнуть нулевую теорию и признали различие долей."
   ]
  },
  {
   "cell_type": "markdown",
   "metadata": {},
   "source": [
    "Проверим, находят ли статистические критерии разницу между выборками 246 и 248. <a id='part_3.4'></a>"
   ]
  },
  {
   "cell_type": "code",
   "execution_count": 38,
   "metadata": {},
   "outputs": [
    {
     "name": "stdout",
     "output_type": "stream",
     "text": [
      "p-значение:  0.7373415053803964\n",
      "Не получилось отвергнуть нулевую гипотезу, нет оснований считать доли разными\n"
     ]
    }
   ],
   "source": [
    "stat_difference(247, 248, 'PaymentScreenSuccessful')"
   ]
  },
  {
   "cell_type": "code",
   "execution_count": 39,
   "metadata": {},
   "outputs": [
    {
     "name": "stdout",
     "output_type": "stream",
     "text": [
      "p-значение:  0.4587053616621515\n",
      "Не получилось отвергнуть нулевую гипотезу, нет оснований считать доли разными\n"
     ]
    }
   ],
   "source": [
    "stat_difference(247, 248, 'MainScreenAppear')"
   ]
  },
  {
   "cell_type": "code",
   "execution_count": 40,
   "metadata": {},
   "outputs": [
    {
     "name": "stdout",
     "output_type": "stream",
     "text": [
      "p-значение:  0.9197817830592261\n",
      "Не получилось отвергнуть нулевую гипотезу, нет оснований считать доли разными\n"
     ]
    }
   ],
   "source": [
    "stat_difference(247, 248, 'OffersScreenAppear')"
   ]
  },
  {
   "cell_type": "code",
   "execution_count": 41,
   "metadata": {},
   "outputs": [
    {
     "name": "stdout",
     "output_type": "stream",
     "text": [
      "p-значение:  0.5786197879539783\n",
      "Не получилось отвергнуть нулевую гипотезу, нет оснований считать доли разными\n"
     ]
    }
   ],
   "source": [
    "stat_difference(247, 248, 'CartScreenAppear')"
   ]
  },
  {
   "cell_type": "markdown",
   "metadata": {},
   "source": [
    "В результате проверок оказалось, что статистической значимости между группами 247 и 248 нет."
   ]
  },
  {
   "cell_type": "markdown",
   "metadata": {},
   "source": [
    "Теперь результаты с объединенными группами 246 и 247."
   ]
  },
  {
   "cell_type": "code",
   "execution_count": 42,
   "metadata": {},
   "outputs": [],
   "source": [
    "def stat_difference_both(event):\n",
    "    alpha = .05\n",
    "    p1 = ((data_cut.query('(experiment == 246) & (event == @event)')['id'].nunique() + \n",
    "           data_cut.query('(experiment == 247) & (event == @event)')['id'].nunique())/(\n",
    "          data_cut.groupby('experiment').agg({'id': ['nunique']}).loc[246,('id', 'nunique')]+\n",
    "          data_cut.groupby('experiment').agg({'id': ['nunique']}).loc[247,('id', 'nunique')]))\n",
    "    p2 = (data_cut.query('(experiment == 248) & (event == @event)')['id'].nunique()/\n",
    "          data_cut.groupby('experiment').agg({'id': ['nunique']}).loc[248,('id', 'nunique')])\n",
    "    p_combined = ((data_cut.query('(experiment == 246) & (event == @event)')['id'].nunique() +\n",
    "                   data_cut.query('(experiment == 247) & (event == @event)')['id'].nunique() +\n",
    "                   data_cut.query('(experiment == 248) & (event == @event)')['id'].nunique()) /\n",
    "                  (data_cut.groupby('experiment').agg({'id': ['nunique']}).loc[246,('id', 'nunique')] +\n",
    "                   data_cut.groupby('experiment').agg({'id': ['nunique']}).loc[247,('id', 'nunique')] +\n",
    "                   data_cut.groupby('experiment').agg({'id': ['nunique']}).loc[248,('id', 'nunique')]))\n",
    "    \n",
    "    difference = p1 - p2 \n",
    "    z_value = difference / mth.sqrt(p_combined * (1 - p_combined) *\n",
    "                                    (1 / (data_cut.groupby('experiment').agg({'id': ['nunique']}).loc[246,('id', 'nunique')]+\n",
    "                                          data_cut.groupby('experiment').agg({'id': ['nunique']}).loc[247,('id', 'nunique')])+ \n",
    "                                     1 / data_cut.groupby('experiment').agg({'id': ['nunique']}).loc[248,('id', 'nunique')]))\n",
    "    distr = st.norm(0, 1)\n",
    "    p_value = (1 - distr.cdf(abs(z_value))) * 2\n",
    "    print('p-значение: ', p_value)\n",
    "    \n",
    "    if p_value < alpha:\n",
    "        print('Отвергаем нулевую гипотезу: между долями есть значимая разница')\n",
    "    else:\n",
    "        print('Не получилось отвергнуть нулевую гипотезу, нет оснований считать доли разными') "
   ]
  },
  {
   "cell_type": "code",
   "execution_count": 43,
   "metadata": {},
   "outputs": [
    {
     "name": "stdout",
     "output_type": "stream",
     "text": [
      "p-значение:  0.6004294282308704\n",
      "Не получилось отвергнуть нулевую гипотезу, нет оснований считать доли разными\n"
     ]
    }
   ],
   "source": [
    "stat_difference_both('PaymentScreenSuccessful')"
   ]
  },
  {
   "cell_type": "code",
   "execution_count": 44,
   "metadata": {},
   "outputs": [
    {
     "name": "stdout",
     "output_type": "stream",
     "text": [
      "p-значение:  0.29424526837179577\n",
      "Не получилось отвергнуть нулевую гипотезу, нет оснований считать доли разными\n"
     ]
    }
   ],
   "source": [
    "stat_difference_both('MainScreenAppear')"
   ]
  },
  {
   "cell_type": "code",
   "execution_count": 45,
   "metadata": {},
   "outputs": [
    {
     "name": "stdout",
     "output_type": "stream",
     "text": [
      "p-значение:  0.43425549655188256\n",
      "Не получилось отвергнуть нулевую гипотезу, нет оснований считать доли разными\n"
     ]
    }
   ],
   "source": [
    "stat_difference_both('OffersScreenAppear')"
   ]
  },
  {
   "cell_type": "code",
   "execution_count": 46,
   "metadata": {},
   "outputs": [
    {
     "name": "stdout",
     "output_type": "stream",
     "text": [
      "p-значение:  0.18175875284404386\n",
      "Не получилось отвергнуть нулевую гипотезу, нет оснований считать доли разными\n"
     ]
    }
   ],
   "source": [
    "stat_difference_both('CartScreenAppear')"
   ]
  },
  {
   "cell_type": "markdown",
   "metadata": {},
   "source": [
    "Картина не меняется - статистической значимости между группами 246+247 и 248 не"
   ]
  },
  {
   "cell_type": "markdown",
   "metadata": {},
   "source": [
    "В связи с тем, что мы проводим достаточно много проверок статистических гипотез, возможно, стоит задуматься об уменьшении порога статистической значимости. Сейчас у нас принят 0,05 - это возможные ложные результаты в каждом 20 случае.\n",
    "    \n",
    "    \n",
    "Мы сделали 16 проверок. Если бы первоначально был выбор порога статистической значимости в размере 0,1 - мы могли бы уже получить ложный результат.\n",
    "    "
   ]
  },
  {
   "cell_type": "markdown",
   "metadata": {},
   "source": [
    "# Вывод <a id='part_3.4'></a>\n",
    "\n",
    "[*Назад к оглавлению*](#content)"
   ]
  },
  {
   "cell_type": "markdown",
   "metadata": {},
   "source": [
    "По результатм первоначального анализа данных можно сделать следующие выводы:\n",
    "1. Мы нашли 413 дублирующихся строк. Необходимо будет уточнить у коллег, действительно ли это ошибки или же особенности учета.\n",
    "\n",
    "2. В нашем распоряжении данные с 25 июля 2019 года по 7 августа 2019 года, однако полноценные данные мы имеем только начиная с 1 августа 2019 года. Обрезав данные мы потеряли 2 828 событий и 17 уникальных пользователей, что составляет 1,16% и 0,23% от всего числа событий и пользователей соответвтенно.\n",
    "\n",
    "3. Цепочка событий пользователя приложения следующая:\n",
    "* Пользователь попадает на главный экран\n",
    "* Пользователь попадает на экран с предложениями\n",
    "* Пользователь попадает на экран корзины\n",
    "* Успешный заказ\n",
    "4. Из всей цепочки выбывается туториал. Хотя их и меньше всего, но это не потому, что до него доходят лишь те немногие, кто оформил заказ. Скорее всего, просто совсем небольшое число пользователей смотрят туториалы, так как остальные могут и так разобраться с приложением.\n",
    "\n",
    "5. Доли пользователей, переходящих к каждому следующему событию:\n",
    "* Пользователь попадает на главный экран - 100%\n",
    "* Пользователь попадает на экран с предложениями - 62%\n",
    "* Пользователь попадает на экран корзины - 81%\n",
    "* Успешный заказ - 95%\n",
    "6. Больше всего пользователей теряется при переходе от главного экрана к экрау с предложениями - 38%.\n",
    "\n",
    "7. Почти половина пользователей (48%) все-таки оплачивает покупку.\n",
    "\n",
    "8. По результатам всех наших проверок нулевую теорию отвергнуть не удалось, то есть можно сказать, что разбиение на группы для А/А теста (группы 246, 247) работает корректно.\n",
    "\n",
    "9. В результате проверок оказалось, что статистической значимости между группами 246 и 248 (А/В тест) нет.\n",
    "\n",
    "10. В результате проверок оказалось, что статистической значимости между группами 247 и 248 (А/В тест) нет.\n",
    "\n",
    "11. Если увеличить порог статистической значимости с 0,05 до 0,1, то между группами 246 и 248 по результатам проверки с долей пользователей попавших на страницу корзины мы бы смогли отвергнуть нулевую теорию и признали различие долей. Однако исходя из того, что мы проводили большое число проверок, это могло бы привести к ложному результату.\n",
    "\n",
    "12. В результате проверок оказалось, что статистической значимости между группами 246+247 и 248 (А/В тест) нет.\n"
   ]
  },
  {
   "cell_type": "markdown",
   "metadata": {},
   "source": [
    "В результате нашего анализа можно сказать, что разницы, какой выбирать шрифт, нет - пользователи одинаково взаимодействуют с приложением."
   ]
  }
 ],
 "metadata": {
  "ExecuteTimeLog": [
   {
    "duration": 2036,
    "start_time": "2022-01-19T07:44:00.496Z"
   },
   {
    "duration": 356,
    "start_time": "2022-01-19T07:44:46.205Z"
   },
   {
    "duration": 124,
    "start_time": "2022-01-19T07:45:03.146Z"
   },
   {
    "duration": 111,
    "start_time": "2022-01-19T07:48:24.547Z"
   },
   {
    "duration": 345,
    "start_time": "2022-01-19T07:48:33.730Z"
   },
   {
    "duration": 189,
    "start_time": "2022-01-19T07:48:58.574Z"
   },
   {
    "duration": 5,
    "start_time": "2022-01-19T07:50:56.331Z"
   },
   {
    "duration": 22,
    "start_time": "2022-01-19T07:51:16.532Z"
   },
   {
    "duration": 341,
    "start_time": "2022-01-19T07:51:44.636Z"
   },
   {
    "duration": 185,
    "start_time": "2022-01-19T07:52:16.838Z"
   },
   {
    "duration": 8021,
    "start_time": "2022-01-19T07:56:02.583Z"
   },
   {
    "duration": 187,
    "start_time": "2022-01-19T08:02:13.217Z"
   },
   {
    "duration": 4,
    "start_time": "2022-01-19T08:02:14.274Z"
   },
   {
    "duration": 21,
    "start_time": "2022-01-19T08:02:14.979Z"
   },
   {
    "duration": 18,
    "start_time": "2022-01-19T08:02:16.211Z"
   },
   {
    "duration": 188,
    "start_time": "2022-01-19T08:03:28.485Z"
   },
   {
    "duration": 4,
    "start_time": "2022-01-19T08:03:29.291Z"
   },
   {
    "duration": 23,
    "start_time": "2022-01-19T08:03:29.987Z"
   },
   {
    "duration": -690,
    "start_time": "2022-01-19T08:03:44.785Z"
   },
   {
    "duration": 126,
    "start_time": "2022-01-19T08:04:35.246Z"
   },
   {
    "duration": 1995,
    "start_time": "2022-01-19T08:05:04.599Z"
   },
   {
    "duration": 193,
    "start_time": "2022-01-19T08:05:06.596Z"
   },
   {
    "duration": 4,
    "start_time": "2022-01-19T08:05:06.792Z"
   },
   {
    "duration": 26,
    "start_time": "2022-01-19T08:05:06.799Z"
   },
   {
    "duration": 239,
    "start_time": "2022-01-19T08:05:06.828Z"
   },
   {
    "duration": 241,
    "start_time": "2022-01-19T08:06:30.411Z"
   },
   {
    "duration": 63,
    "start_time": "2022-01-19T08:07:52.413Z"
   },
   {
    "duration": 41,
    "start_time": "2022-01-19T08:07:58.549Z"
   },
   {
    "duration": 16,
    "start_time": "2022-01-19T08:19:06.843Z"
   },
   {
    "duration": 6,
    "start_time": "2022-01-19T08:19:08.162Z"
   },
   {
    "duration": 569,
    "start_time": "2022-01-19T08:19:24.115Z"
   },
   {
    "duration": 8,
    "start_time": "2022-01-19T08:19:32.774Z"
   },
   {
    "duration": 9,
    "start_time": "2022-01-19T08:19:37.668Z"
   },
   {
    "duration": 9,
    "start_time": "2022-01-19T08:19:45.796Z"
   },
   {
    "duration": 21,
    "start_time": "2022-01-19T08:19:52.675Z"
   },
   {
    "duration": 34,
    "start_time": "2022-01-19T08:21:20.989Z"
   },
   {
    "duration": 29,
    "start_time": "2022-01-19T08:21:50.591Z"
   },
   {
    "duration": 43,
    "start_time": "2022-01-19T08:23:58.611Z"
   },
   {
    "duration": 16,
    "start_time": "2022-01-19T08:26:16.646Z"
   },
   {
    "duration": 27,
    "start_time": "2022-01-19T08:31:46.957Z"
   },
   {
    "duration": 26,
    "start_time": "2022-01-19T08:31:48.350Z"
   },
   {
    "duration": 302,
    "start_time": "2022-01-19T08:34:07.186Z"
   },
   {
    "duration": 314,
    "start_time": "2022-01-19T08:35:38.334Z"
   },
   {
    "duration": 330,
    "start_time": "2022-01-19T08:36:01.368Z"
   },
   {
    "duration": 102,
    "start_time": "2022-01-19T08:38:56.688Z"
   },
   {
    "duration": 1379,
    "start_time": "2022-01-19T08:39:05.356Z"
   },
   {
    "duration": 1421,
    "start_time": "2022-01-19T08:39:34.864Z"
   },
   {
    "duration": 122,
    "start_time": "2022-01-19T08:39:50.582Z"
   },
   {
    "duration": 107,
    "start_time": "2022-01-19T08:42:19.148Z"
   },
   {
    "duration": 1991,
    "start_time": "2022-01-19T08:42:30.058Z"
   },
   {
    "duration": 441,
    "start_time": "2022-01-19T08:51:09.152Z"
   },
   {
    "duration": 328,
    "start_time": "2022-01-19T08:52:59.867Z"
   },
   {
    "duration": 301,
    "start_time": "2022-01-19T08:53:13.705Z"
   },
   {
    "duration": 310,
    "start_time": "2022-01-19T08:53:18.856Z"
   },
   {
    "duration": 4,
    "start_time": "2022-01-19T08:53:46.722Z"
   },
   {
    "duration": 5,
    "start_time": "2022-01-19T08:53:51.290Z"
   },
   {
    "duration": 49,
    "start_time": "2022-01-19T08:53:54.922Z"
   },
   {
    "duration": 24,
    "start_time": "2022-01-19T08:54:32.002Z"
   },
   {
    "duration": 27,
    "start_time": "2022-01-19T08:54:35.042Z"
   },
   {
    "duration": 26,
    "start_time": "2022-01-19T08:57:42.933Z"
   },
   {
    "duration": 12,
    "start_time": "2022-01-19T08:57:44.672Z"
   },
   {
    "duration": 5,
    "start_time": "2022-01-19T08:58:54.085Z"
   },
   {
    "duration": 73,
    "start_time": "2022-01-19T09:01:46.454Z"
   },
   {
    "duration": 19,
    "start_time": "2022-01-19T09:02:00.984Z"
   },
   {
    "duration": 28,
    "start_time": "2022-01-19T09:15:44.270Z"
   },
   {
    "duration": 30,
    "start_time": "2022-01-19T09:16:03.016Z"
   },
   {
    "duration": 89,
    "start_time": "2022-01-19T09:21:19.709Z"
   },
   {
    "duration": 368,
    "start_time": "2022-01-19T09:21:36.067Z"
   },
   {
    "duration": 115,
    "start_time": "2022-01-19T09:22:05.724Z"
   },
   {
    "duration": 66,
    "start_time": "2022-01-19T09:22:14.028Z"
   },
   {
    "duration": 67,
    "start_time": "2022-01-19T09:26:17.684Z"
   },
   {
    "duration": 7551,
    "start_time": "2022-01-19T09:27:05.743Z"
   },
   {
    "duration": 7743,
    "start_time": "2022-01-19T09:27:30.413Z"
   },
   {
    "duration": 15,
    "start_time": "2022-01-19T09:27:46.831Z"
   },
   {
    "duration": 349,
    "start_time": "2022-01-19T09:28:12.390Z"
   },
   {
    "duration": 17,
    "start_time": "2022-01-19T09:29:06.958Z"
   },
   {
    "duration": 100,
    "start_time": "2022-01-19T09:36:05.642Z"
   },
   {
    "duration": 74,
    "start_time": "2022-01-19T09:36:33.571Z"
   },
   {
    "duration": 97,
    "start_time": "2022-01-19T09:42:32.960Z"
   },
   {
    "duration": 72,
    "start_time": "2022-01-19T09:47:35.523Z"
   },
   {
    "duration": 14,
    "start_time": "2022-01-19T09:56:35.289Z"
   },
   {
    "duration": 13,
    "start_time": "2022-01-19T09:56:57.126Z"
   },
   {
    "duration": 13,
    "start_time": "2022-01-19T09:59:40.963Z"
   },
   {
    "duration": 1849,
    "start_time": "2022-01-19T09:59:55.719Z"
   },
   {
    "duration": 199,
    "start_time": "2022-01-19T09:59:57.571Z"
   },
   {
    "duration": 4,
    "start_time": "2022-01-19T09:59:57.773Z"
   },
   {
    "duration": 23,
    "start_time": "2022-01-19T09:59:57.780Z"
   },
   {
    "duration": 242,
    "start_time": "2022-01-19T09:59:57.805Z"
   },
   {
    "duration": 343,
    "start_time": "2022-01-19T09:59:58.049Z"
   },
   {
    "duration": 74,
    "start_time": "2022-01-19T09:59:58.395Z"
   },
   {
    "duration": 41,
    "start_time": "2022-01-19T09:59:58.472Z"
   },
   {
    "duration": 15,
    "start_time": "2022-01-19T09:59:58.516Z"
   },
   {
    "duration": 36,
    "start_time": "2022-01-19T09:59:58.533Z"
   },
   {
    "duration": 28,
    "start_time": "2022-01-19T09:59:58.572Z"
   },
   {
    "duration": 23,
    "start_time": "2022-01-19T09:59:58.602Z"
   },
   {
    "duration": 49,
    "start_time": "2022-01-19T09:59:58.627Z"
   },
   {
    "duration": 354,
    "start_time": "2022-01-19T09:59:58.678Z"
   },
   {
    "duration": 59,
    "start_time": "2022-01-19T09:59:59.035Z"
   },
   {
    "duration": 25,
    "start_time": "2022-01-19T09:59:59.097Z"
   },
   {
    "duration": 53,
    "start_time": "2022-01-19T09:59:59.124Z"
   },
   {
    "duration": 25,
    "start_time": "2022-01-19T09:59:59.180Z"
   },
   {
    "duration": 10,
    "start_time": "2022-01-19T09:59:59.207Z"
   },
   {
    "duration": 12,
    "start_time": "2022-01-19T09:59:59.219Z"
   },
   {
    "duration": 62,
    "start_time": "2022-01-19T09:59:59.233Z"
   },
   {
    "duration": 124,
    "start_time": "2022-01-19T09:59:59.297Z"
   },
   {
    "duration": 10,
    "start_time": "2022-01-19T09:59:59.427Z"
   },
   {
    "duration": 34,
    "start_time": "2022-01-19T09:59:59.440Z"
   },
   {
    "duration": 15,
    "start_time": "2022-01-19T10:01:03.387Z"
   },
   {
    "duration": 97,
    "start_time": "2022-01-19T10:05:19.688Z"
   },
   {
    "duration": 8295,
    "start_time": "2022-01-19T10:06:02.007Z"
   },
   {
    "duration": 6,
    "start_time": "2022-01-19T10:06:12.961Z"
   },
   {
    "duration": 7,
    "start_time": "2022-01-19T10:06:29.899Z"
   },
   {
    "duration": 6,
    "start_time": "2022-01-19T10:06:40.737Z"
   },
   {
    "duration": 12,
    "start_time": "2022-01-19T10:16:34.235Z"
   },
   {
    "duration": 45,
    "start_time": "2022-01-19T10:21:47.143Z"
   },
   {
    "duration": 4,
    "start_time": "2022-01-19T10:25:14.136Z"
   },
   {
    "duration": 43,
    "start_time": "2022-01-19T11:33:19.680Z"
   },
   {
    "duration": 46,
    "start_time": "2022-01-19T11:34:15.887Z"
   },
   {
    "duration": 23,
    "start_time": "2022-01-19T11:34:38.392Z"
   },
   {
    "duration": 50,
    "start_time": "2022-01-19T11:36:39.011Z"
   },
   {
    "duration": 10,
    "start_time": "2022-01-19T11:47:06.209Z"
   },
   {
    "duration": 838,
    "start_time": "2022-01-19T11:47:07.823Z"
   },
   {
    "duration": 14,
    "start_time": "2022-01-19T11:47:19.332Z"
   },
   {
    "duration": 1059,
    "start_time": "2022-01-19T11:47:20.298Z"
   },
   {
    "duration": 1384,
    "start_time": "2022-01-19T11:47:55.449Z"
   },
   {
    "duration": 191,
    "start_time": "2022-01-19T11:47:56.836Z"
   },
   {
    "duration": 4,
    "start_time": "2022-01-19T11:47:57.030Z"
   },
   {
    "duration": 42,
    "start_time": "2022-01-19T11:47:57.036Z"
   },
   {
    "duration": 242,
    "start_time": "2022-01-19T11:47:57.080Z"
   },
   {
    "duration": 261,
    "start_time": "2022-01-19T11:47:57.324Z"
   },
   {
    "duration": 63,
    "start_time": "2022-01-19T11:47:57.587Z"
   },
   {
    "duration": 43,
    "start_time": "2022-01-19T11:47:57.673Z"
   },
   {
    "duration": 17,
    "start_time": "2022-01-19T11:47:57.720Z"
   },
   {
    "duration": 33,
    "start_time": "2022-01-19T11:47:57.740Z"
   },
   {
    "duration": 33,
    "start_time": "2022-01-19T11:47:57.775Z"
   },
   {
    "duration": 31,
    "start_time": "2022-01-19T11:47:57.810Z"
   },
   {
    "duration": 53,
    "start_time": "2022-01-19T11:47:57.844Z"
   },
   {
    "duration": 372,
    "start_time": "2022-01-19T11:47:57.900Z"
   },
   {
    "duration": 48,
    "start_time": "2022-01-19T11:47:58.274Z"
   },
   {
    "duration": 45,
    "start_time": "2022-01-19T11:47:58.324Z"
   },
   {
    "duration": 27,
    "start_time": "2022-01-19T11:47:58.371Z"
   },
   {
    "duration": 26,
    "start_time": "2022-01-19T11:47:58.400Z"
   },
   {
    "duration": 43,
    "start_time": "2022-01-19T11:47:58.428Z"
   },
   {
    "duration": 12,
    "start_time": "2022-01-19T11:47:58.473Z"
   },
   {
    "duration": 29,
    "start_time": "2022-01-19T11:47:58.487Z"
   },
   {
    "duration": 131,
    "start_time": "2022-01-19T11:47:58.518Z"
   },
   {
    "duration": 17,
    "start_time": "2022-01-19T11:47:58.653Z"
   },
   {
    "duration": 12,
    "start_time": "2022-01-19T11:47:58.673Z"
   },
   {
    "duration": 12,
    "start_time": "2022-01-19T11:47:58.688Z"
   },
   {
    "duration": 77,
    "start_time": "2022-01-19T11:47:58.702Z"
   },
   {
    "duration": 27,
    "start_time": "2022-01-19T11:47:58.781Z"
   },
   {
    "duration": 61,
    "start_time": "2022-01-19T11:47:58.810Z"
   },
   {
    "duration": 436,
    "start_time": "2022-01-19T11:47:58.873Z"
   },
   {
    "duration": -566,
    "start_time": "2022-01-19T11:47:59.877Z"
   },
   {
    "duration": -571,
    "start_time": "2022-01-19T11:47:59.884Z"
   },
   {
    "duration": 11,
    "start_time": "2022-01-19T11:48:44.728Z"
   },
   {
    "duration": 1189,
    "start_time": "2022-01-19T11:48:45.647Z"
   },
   {
    "duration": 365,
    "start_time": "2022-01-19T12:53:13.472Z"
   },
   {
    "duration": 4,
    "start_time": "2022-01-19T12:55:46.428Z"
   },
   {
    "duration": 300,
    "start_time": "2022-01-19T12:55:51.435Z"
   },
   {
    "duration": 11,
    "start_time": "2022-01-19T12:56:35.099Z"
   },
   {
    "duration": 955,
    "start_time": "2022-01-19T12:56:36.763Z"
   },
   {
    "duration": 10,
    "start_time": "2022-01-19T12:57:07.691Z"
   },
   {
    "duration": 500,
    "start_time": "2022-01-19T12:57:09.556Z"
   },
   {
    "duration": 303,
    "start_time": "2022-01-19T13:03:34.866Z"
   },
   {
    "duration": 451,
    "start_time": "2022-01-19T13:04:06.473Z"
   },
   {
    "duration": 281,
    "start_time": "2022-01-19T13:04:25.151Z"
   },
   {
    "duration": 101,
    "start_time": "2022-01-19T13:28:38.429Z"
   },
   {
    "duration": 297,
    "start_time": "2022-01-19T13:29:12.010Z"
   },
   {
    "duration": 292,
    "start_time": "2022-01-19T13:29:14.479Z"
   },
   {
    "duration": 290,
    "start_time": "2022-01-19T13:29:15.918Z"
   },
   {
    "duration": 271,
    "start_time": "2022-01-19T13:29:17.031Z"
   },
   {
    "duration": 286,
    "start_time": "2022-01-19T13:30:07.899Z"
   },
   {
    "duration": 298,
    "start_time": "2022-01-19T13:30:09.238Z"
   },
   {
    "duration": 286,
    "start_time": "2022-01-19T13:30:10.504Z"
   },
   {
    "duration": 269,
    "start_time": "2022-01-19T13:30:11.543Z"
   },
   {
    "duration": 93,
    "start_time": "2022-01-19T13:43:09.107Z"
   },
   {
    "duration": 1437,
    "start_time": "2022-01-19T13:56:48.389Z"
   },
   {
    "duration": 202,
    "start_time": "2022-01-19T13:56:49.829Z"
   },
   {
    "duration": 4,
    "start_time": "2022-01-19T13:56:50.034Z"
   },
   {
    "duration": 43,
    "start_time": "2022-01-19T13:56:50.041Z"
   },
   {
    "duration": 237,
    "start_time": "2022-01-19T13:56:50.087Z"
   },
   {
    "duration": 267,
    "start_time": "2022-01-19T13:56:50.326Z"
   },
   {
    "duration": 74,
    "start_time": "2022-01-19T13:56:50.595Z"
   },
   {
    "duration": 42,
    "start_time": "2022-01-19T13:56:50.673Z"
   },
   {
    "duration": 15,
    "start_time": "2022-01-19T13:56:50.718Z"
   },
   {
    "duration": 37,
    "start_time": "2022-01-19T13:56:50.735Z"
   },
   {
    "duration": 32,
    "start_time": "2022-01-19T13:56:50.775Z"
   },
   {
    "duration": 31,
    "start_time": "2022-01-19T13:56:50.809Z"
   },
   {
    "duration": 26,
    "start_time": "2022-01-19T13:56:50.869Z"
   },
   {
    "duration": 396,
    "start_time": "2022-01-19T13:56:50.897Z"
   },
   {
    "duration": 48,
    "start_time": "2022-01-19T13:56:51.295Z"
   },
   {
    "duration": 41,
    "start_time": "2022-01-19T13:56:51.346Z"
   },
   {
    "duration": 25,
    "start_time": "2022-01-19T13:56:51.389Z"
   },
   {
    "duration": 54,
    "start_time": "2022-01-19T13:56:51.416Z"
   },
   {
    "duration": 12,
    "start_time": "2022-01-19T13:56:51.473Z"
   },
   {
    "duration": 11,
    "start_time": "2022-01-19T13:56:51.487Z"
   },
   {
    "duration": 28,
    "start_time": "2022-01-19T13:56:51.501Z"
   },
   {
    "duration": 141,
    "start_time": "2022-01-19T13:56:51.531Z"
   },
   {
    "duration": 10,
    "start_time": "2022-01-19T13:56:51.676Z"
   },
   {
    "duration": 15,
    "start_time": "2022-01-19T13:56:51.688Z"
   },
   {
    "duration": 7,
    "start_time": "2022-01-19T13:56:51.705Z"
   },
   {
    "duration": 83,
    "start_time": "2022-01-19T13:56:51.714Z"
   },
   {
    "duration": 10,
    "start_time": "2022-01-19T13:56:51.799Z"
   },
   {
    "duration": 303,
    "start_time": "2022-01-19T13:56:51.812Z"
   },
   {
    "duration": 323,
    "start_time": "2022-01-19T13:56:52.117Z"
   },
   {
    "duration": 307,
    "start_time": "2022-01-19T13:56:52.442Z"
   },
   {
    "duration": 305,
    "start_time": "2022-01-19T13:56:52.752Z"
   },
   {
    "duration": 316,
    "start_time": "2022-01-19T13:56:53.060Z"
   },
   {
    "duration": 312,
    "start_time": "2022-01-19T13:56:53.378Z"
   },
   {
    "duration": 303,
    "start_time": "2022-01-19T13:56:53.693Z"
   },
   {
    "duration": 302,
    "start_time": "2022-01-19T13:56:53.999Z"
   },
   {
    "duration": 308,
    "start_time": "2022-01-19T13:56:54.304Z"
   },
   {
    "duration": 312,
    "start_time": "2022-01-19T13:56:54.615Z"
   },
   {
    "duration": 299,
    "start_time": "2022-01-19T13:56:54.930Z"
   },
   {
    "duration": 296,
    "start_time": "2022-01-19T13:56:55.232Z"
   },
   {
    "duration": 1039,
    "start_time": "2022-01-19T15:43:44.704Z"
   },
   {
    "duration": 134,
    "start_time": "2022-01-19T15:43:45.745Z"
   },
   {
    "duration": 4,
    "start_time": "2022-01-19T15:43:45.881Z"
   },
   {
    "duration": 17,
    "start_time": "2022-01-19T15:43:45.887Z"
   },
   {
    "duration": 168,
    "start_time": "2022-01-19T15:43:45.905Z"
   },
   {
    "duration": 144,
    "start_time": "2022-01-19T15:43:46.075Z"
   },
   {
    "duration": 52,
    "start_time": "2022-01-19T15:43:46.220Z"
   },
   {
    "duration": 29,
    "start_time": "2022-01-19T15:43:46.275Z"
   },
   {
    "duration": 10,
    "start_time": "2022-01-19T15:43:46.306Z"
   },
   {
    "duration": 5,
    "start_time": "2022-01-19T15:43:46.318Z"
   },
   {
    "duration": 19,
    "start_time": "2022-01-19T15:43:46.325Z"
   },
   {
    "duration": 41,
    "start_time": "2022-01-19T15:43:46.345Z"
   },
   {
    "duration": 16,
    "start_time": "2022-01-19T15:43:46.387Z"
   },
   {
    "duration": 209,
    "start_time": "2022-01-19T15:43:46.404Z"
   },
   {
    "duration": 30,
    "start_time": "2022-01-19T15:43:46.614Z"
   },
   {
    "duration": 28,
    "start_time": "2022-01-19T15:43:46.646Z"
   },
   {
    "duration": 16,
    "start_time": "2022-01-19T15:43:46.676Z"
   },
   {
    "duration": 20,
    "start_time": "2022-01-19T15:43:46.693Z"
   },
   {
    "duration": 7,
    "start_time": "2022-01-19T15:43:46.714Z"
   },
   {
    "duration": 7,
    "start_time": "2022-01-19T15:43:46.723Z"
   },
   {
    "duration": 46,
    "start_time": "2022-01-19T15:43:46.732Z"
   },
   {
    "duration": 60,
    "start_time": "2022-01-19T15:43:46.780Z"
   },
   {
    "duration": 6,
    "start_time": "2022-01-19T15:43:46.844Z"
   },
   {
    "duration": 27,
    "start_time": "2022-01-19T15:43:46.852Z"
   },
   {
    "duration": 5,
    "start_time": "2022-01-19T15:43:46.881Z"
   },
   {
    "duration": 32,
    "start_time": "2022-01-19T15:43:46.887Z"
   },
   {
    "duration": 7,
    "start_time": "2022-01-19T15:43:46.920Z"
   },
   {
    "duration": 212,
    "start_time": "2022-01-19T15:43:46.929Z"
   },
   {
    "duration": 202,
    "start_time": "2022-01-19T15:43:47.143Z"
   },
   {
    "duration": 188,
    "start_time": "2022-01-19T15:43:47.347Z"
   },
   {
    "duration": 198,
    "start_time": "2022-01-19T15:43:47.536Z"
   },
   {
    "duration": 192,
    "start_time": "2022-01-19T15:43:47.735Z"
   },
   {
    "duration": 199,
    "start_time": "2022-01-19T15:43:47.928Z"
   },
   {
    "duration": 198,
    "start_time": "2022-01-19T15:43:48.129Z"
   },
   {
    "duration": 202,
    "start_time": "2022-01-19T15:43:48.329Z"
   },
   {
    "duration": 192,
    "start_time": "2022-01-19T15:43:48.533Z"
   },
   {
    "duration": 203,
    "start_time": "2022-01-19T15:43:48.727Z"
   },
   {
    "duration": 197,
    "start_time": "2022-01-19T15:43:48.931Z"
   },
   {
    "duration": 196,
    "start_time": "2022-01-19T15:43:49.130Z"
   },
   {
    "duration": 609,
    "start_time": "2022-01-20T08:06:32.922Z"
   },
   {
    "duration": 1318,
    "start_time": "2022-01-20T08:06:41.074Z"
   },
   {
    "duration": 783,
    "start_time": "2022-01-20T08:06:42.395Z"
   },
   {
    "duration": 4,
    "start_time": "2022-01-20T08:06:43.182Z"
   },
   {
    "duration": 43,
    "start_time": "2022-01-20T08:06:43.190Z"
   },
   {
    "duration": 254,
    "start_time": "2022-01-20T08:06:43.236Z"
   },
   {
    "duration": 248,
    "start_time": "2022-01-20T08:06:43.494Z"
   },
   {
    "duration": 62,
    "start_time": "2022-01-20T08:06:43.745Z"
   },
   {
    "duration": 16,
    "start_time": "2022-01-20T08:06:43.834Z"
   },
   {
    "duration": 11,
    "start_time": "2022-01-20T08:06:43.854Z"
   },
   {
    "duration": 29,
    "start_time": "2022-01-20T08:06:43.868Z"
   },
   {
    "duration": 53,
    "start_time": "2022-01-20T08:06:43.900Z"
   },
   {
    "duration": 23,
    "start_time": "2022-01-20T08:06:43.955Z"
   },
   {
    "duration": 367,
    "start_time": "2022-01-20T08:06:43.980Z"
   },
   {
    "duration": 48,
    "start_time": "2022-01-20T08:06:44.349Z"
   },
   {
    "duration": 41,
    "start_time": "2022-01-20T08:06:44.400Z"
   },
   {
    "duration": 27,
    "start_time": "2022-01-20T08:06:44.444Z"
   },
   {
    "duration": 27,
    "start_time": "2022-01-20T08:06:44.474Z"
   },
   {
    "duration": 11,
    "start_time": "2022-01-20T08:06:44.533Z"
   },
   {
    "duration": 11,
    "start_time": "2022-01-20T08:06:44.547Z"
   },
   {
    "duration": 29,
    "start_time": "2022-01-20T08:06:44.561Z"
   },
   {
    "duration": 131,
    "start_time": "2022-01-20T08:06:44.592Z"
   },
   {
    "duration": 14,
    "start_time": "2022-01-20T08:06:44.725Z"
   },
   {
    "duration": 14,
    "start_time": "2022-01-20T08:06:44.744Z"
   },
   {
    "duration": 7,
    "start_time": "2022-01-20T08:06:44.761Z"
   },
   {
    "duration": 80,
    "start_time": "2022-01-20T08:06:44.770Z"
   },
   {
    "duration": 10,
    "start_time": "2022-01-20T08:06:44.852Z"
   },
   {
    "duration": 294,
    "start_time": "2022-01-20T08:06:44.864Z"
   },
   {
    "duration": 304,
    "start_time": "2022-01-20T08:06:45.161Z"
   },
   {
    "duration": 275,
    "start_time": "2022-01-20T08:06:45.468Z"
   },
   {
    "duration": 275,
    "start_time": "2022-01-20T08:06:45.746Z"
   },
   {
    "duration": 282,
    "start_time": "2022-01-20T08:06:46.024Z"
   },
   {
    "duration": 306,
    "start_time": "2022-01-20T08:06:46.309Z"
   },
   {
    "duration": 267,
    "start_time": "2022-01-20T08:06:46.617Z"
   },
   {
    "duration": 278,
    "start_time": "2022-01-20T08:06:46.886Z"
   },
   {
    "duration": 301,
    "start_time": "2022-01-20T08:06:47.167Z"
   },
   {
    "duration": 289,
    "start_time": "2022-01-20T08:06:47.470Z"
   },
   {
    "duration": 282,
    "start_time": "2022-01-20T08:06:47.761Z"
   },
   {
    "duration": 281,
    "start_time": "2022-01-20T08:06:48.047Z"
   },
   {
    "duration": 476,
    "start_time": "2022-01-20T08:16:59.079Z"
   },
   {
    "duration": 48,
    "start_time": "2022-01-20T08:17:09.232Z"
   },
   {
    "duration": 46,
    "start_time": "2022-01-20T08:18:08.386Z"
   },
   {
    "duration": 35,
    "start_time": "2022-01-20T08:18:09.598Z"
   },
   {
    "duration": 15,
    "start_time": "2022-01-20T08:29:44.081Z"
   },
   {
    "duration": 264,
    "start_time": "2022-01-20T08:29:53.541Z"
   },
   {
    "duration": 281,
    "start_time": "2022-01-20T08:30:08.309Z"
   },
   {
    "duration": 268,
    "start_time": "2022-01-20T08:31:57.852Z"
   },
   {
    "duration": 281,
    "start_time": "2022-01-20T08:33:41.985Z"
   },
   {
    "duration": 257,
    "start_time": "2022-01-20T08:36:29.273Z"
   },
   {
    "duration": 250,
    "start_time": "2022-01-20T08:37:03.002Z"
   },
   {
    "duration": 5,
    "start_time": "2022-01-20T08:37:49.489Z"
   },
   {
    "duration": 247,
    "start_time": "2022-01-20T08:39:59.252Z"
   },
   {
    "duration": 691,
    "start_time": "2022-01-20T08:41:22.661Z"
   },
   {
    "duration": 868,
    "start_time": "2022-01-20T08:43:24.146Z"
   },
   {
    "duration": 609,
    "start_time": "2022-01-20T08:44:09.438Z"
   },
   {
    "duration": 427,
    "start_time": "2022-01-20T08:44:19.217Z"
   },
   {
    "duration": 8,
    "start_time": "2022-01-20T08:44:31.279Z"
   },
   {
    "duration": 352,
    "start_time": "2022-01-20T08:44:51.135Z"
   },
   {
    "duration": 11,
    "start_time": "2022-01-20T09:05:00.190Z"
   },
   {
    "duration": 338,
    "start_time": "2022-01-20T09:08:45.408Z"
   },
   {
    "duration": 1440,
    "start_time": "2022-01-20T09:09:10.670Z"
   },
   {
    "duration": 210,
    "start_time": "2022-01-20T09:09:12.113Z"
   },
   {
    "duration": 7,
    "start_time": "2022-01-20T09:09:12.333Z"
   },
   {
    "duration": 30,
    "start_time": "2022-01-20T09:09:12.345Z"
   },
   {
    "duration": 270,
    "start_time": "2022-01-20T09:09:12.378Z"
   },
   {
    "duration": 253,
    "start_time": "2022-01-20T09:09:12.650Z"
   },
   {
    "duration": 81,
    "start_time": "2022-01-20T09:09:12.905Z"
   },
   {
    "duration": 15,
    "start_time": "2022-01-20T09:09:12.990Z"
   },
   {
    "duration": 26,
    "start_time": "2022-01-20T09:09:13.008Z"
   },
   {
    "duration": 34,
    "start_time": "2022-01-20T09:09:13.038Z"
   },
   {
    "duration": 59,
    "start_time": "2022-01-20T09:09:13.075Z"
   },
   {
    "duration": 30,
    "start_time": "2022-01-20T09:09:13.138Z"
   },
   {
    "duration": 377,
    "start_time": "2022-01-20T09:09:13.171Z"
   },
   {
    "duration": 51,
    "start_time": "2022-01-20T09:09:13.552Z"
   },
   {
    "duration": 51,
    "start_time": "2022-01-20T09:09:13.605Z"
   },
   {
    "duration": 26,
    "start_time": "2022-01-20T09:09:13.658Z"
   },
   {
    "duration": 58,
    "start_time": "2022-01-20T09:09:13.686Z"
   },
   {
    "duration": 10,
    "start_time": "2022-01-20T09:09:13.748Z"
   },
   {
    "duration": 10,
    "start_time": "2022-01-20T09:09:13.761Z"
   },
   {
    "duration": 89,
    "start_time": "2022-01-20T09:09:13.773Z"
   },
   {
    "duration": 35,
    "start_time": "2022-01-20T09:09:13.864Z"
   },
   {
    "duration": 53,
    "start_time": "2022-01-20T09:09:13.901Z"
   },
   {
    "duration": 122,
    "start_time": "2022-01-20T09:09:13.959Z"
   },
   {
    "duration": 11,
    "start_time": "2022-01-20T09:09:14.084Z"
   },
   {
    "duration": 37,
    "start_time": "2022-01-20T09:09:14.098Z"
   },
   {
    "duration": 19,
    "start_time": "2022-01-20T09:09:14.139Z"
   },
   {
    "duration": 322,
    "start_time": "2022-01-20T09:09:14.160Z"
   },
   {
    "duration": 335,
    "start_time": "2022-01-20T09:09:14.485Z"
   },
   {
    "duration": 19,
    "start_time": "2022-01-20T09:09:14.822Z"
   },
   {
    "duration": 50,
    "start_time": "2022-01-20T09:09:14.845Z"
   },
   {
    "duration": 10,
    "start_time": "2022-01-20T09:09:14.898Z"
   },
   {
    "duration": 342,
    "start_time": "2022-01-20T09:09:14.933Z"
   },
   {
    "duration": 366,
    "start_time": "2022-01-20T09:09:15.277Z"
   },
   {
    "duration": 334,
    "start_time": "2022-01-20T09:09:15.647Z"
   },
   {
    "duration": 339,
    "start_time": "2022-01-20T09:09:15.984Z"
   },
   {
    "duration": 335,
    "start_time": "2022-01-20T09:09:16.333Z"
   },
   {
    "duration": 362,
    "start_time": "2022-01-20T09:09:16.671Z"
   },
   {
    "duration": 339,
    "start_time": "2022-01-20T09:09:17.036Z"
   },
   {
    "duration": 351,
    "start_time": "2022-01-20T09:09:17.378Z"
   },
   {
    "duration": 339,
    "start_time": "2022-01-20T09:09:17.735Z"
   },
   {
    "duration": 369,
    "start_time": "2022-01-20T09:09:18.077Z"
   },
   {
    "duration": 341,
    "start_time": "2022-01-20T09:09:18.448Z"
   },
   {
    "duration": 339,
    "start_time": "2022-01-20T09:09:18.791Z"
   },
   {
    "duration": 6,
    "start_time": "2022-01-20T09:10:26.746Z"
   },
   {
    "duration": 458,
    "start_time": "2022-01-20T09:11:19.945Z"
   },
   {
    "duration": 281,
    "start_time": "2022-01-20T09:11:31.820Z"
   },
   {
    "duration": 285,
    "start_time": "2022-01-20T09:12:58.867Z"
   },
   {
    "duration": 794,
    "start_time": "2022-01-20T09:15:20.261Z"
   },
   {
    "duration": 802,
    "start_time": "2022-01-20T09:15:36.677Z"
   },
   {
    "duration": 559,
    "start_time": "2022-01-20T09:17:52.785Z"
   },
   {
    "duration": 253,
    "start_time": "2022-01-20T09:18:01.259Z"
   },
   {
    "duration": 334,
    "start_time": "2022-01-20T09:18:06.969Z"
   },
   {
    "duration": 336,
    "start_time": "2022-01-20T09:18:32.545Z"
   },
   {
    "duration": 110,
    "start_time": "2022-01-20T09:21:10.234Z"
   },
   {
    "duration": 12,
    "start_time": "2022-01-20T09:40:38.004Z"
   },
   {
    "duration": 421,
    "start_time": "2022-01-20T09:41:26.732Z"
   },
   {
    "duration": 448,
    "start_time": "2022-01-20T09:41:30.945Z"
   },
   {
    "duration": 380,
    "start_time": "2022-01-20T09:41:32.360Z"
   },
   {
    "duration": 390,
    "start_time": "2022-01-20T09:41:33.705Z"
   },
   {
    "duration": 1421,
    "start_time": "2022-01-20T09:58:38.054Z"
   },
   {
    "duration": 767,
    "start_time": "2022-01-20T09:58:39.478Z"
   },
   {
    "duration": 4,
    "start_time": "2022-01-20T09:58:40.248Z"
   },
   {
    "duration": 34,
    "start_time": "2022-01-20T09:58:40.255Z"
   },
   {
    "duration": 222,
    "start_time": "2022-01-20T09:58:40.292Z"
   },
   {
    "duration": 221,
    "start_time": "2022-01-20T09:58:40.516Z"
   },
   {
    "duration": 57,
    "start_time": "2022-01-20T09:58:40.739Z"
   },
   {
    "duration": 35,
    "start_time": "2022-01-20T09:58:40.799Z"
   },
   {
    "duration": 7,
    "start_time": "2022-01-20T09:58:40.837Z"
   },
   {
    "duration": 30,
    "start_time": "2022-01-20T09:58:40.846Z"
   },
   {
    "duration": 59,
    "start_time": "2022-01-20T09:58:40.879Z"
   },
   {
    "duration": 22,
    "start_time": "2022-01-20T09:58:40.940Z"
   },
   {
    "duration": 355,
    "start_time": "2022-01-20T09:58:40.964Z"
   },
   {
    "duration": 53,
    "start_time": "2022-01-20T09:58:41.323Z"
   },
   {
    "duration": 27,
    "start_time": "2022-01-20T09:58:41.378Z"
   },
   {
    "duration": 25,
    "start_time": "2022-01-20T09:58:41.433Z"
   },
   {
    "duration": 27,
    "start_time": "2022-01-20T09:58:41.461Z"
   },
   {
    "duration": 43,
    "start_time": "2022-01-20T09:58:41.491Z"
   },
   {
    "duration": 13,
    "start_time": "2022-01-20T09:58:41.537Z"
   },
   {
    "duration": 82,
    "start_time": "2022-01-20T09:58:41.553Z"
   },
   {
    "duration": 37,
    "start_time": "2022-01-20T09:58:41.638Z"
   },
   {
    "duration": 55,
    "start_time": "2022-01-20T09:58:41.678Z"
   },
   {
    "duration": 103,
    "start_time": "2022-01-20T09:58:41.739Z"
   },
   {
    "duration": 10,
    "start_time": "2022-01-20T09:58:41.845Z"
   },
   {
    "duration": 19,
    "start_time": "2022-01-20T09:58:41.858Z"
   },
   {
    "duration": 12,
    "start_time": "2022-01-20T09:58:41.879Z"
   },
   {
    "duration": 278,
    "start_time": "2022-01-20T09:58:41.893Z"
   },
   {
    "duration": 43,
    "start_time": "2022-01-20T09:58:42.173Z"
   },
   {
    "duration": 22,
    "start_time": "2022-01-20T09:58:42.218Z"
   },
   {
    "duration": 272,
    "start_time": "2022-01-20T09:58:42.242Z"
   },
   {
    "duration": 282,
    "start_time": "2022-01-20T09:58:42.516Z"
   },
   {
    "duration": 273,
    "start_time": "2022-01-20T09:58:42.800Z"
   },
   {
    "duration": 284,
    "start_time": "2022-01-20T09:58:43.075Z"
   },
   {
    "duration": 269,
    "start_time": "2022-01-20T09:58:43.362Z"
   },
   {
    "duration": 278,
    "start_time": "2022-01-20T09:58:43.634Z"
   },
   {
    "duration": 268,
    "start_time": "2022-01-20T09:58:43.914Z"
   },
   {
    "duration": 268,
    "start_time": "2022-01-20T09:58:44.184Z"
   },
   {
    "duration": 263,
    "start_time": "2022-01-20T09:58:44.455Z"
   },
   {
    "duration": 282,
    "start_time": "2022-01-20T09:58:44.721Z"
   },
   {
    "duration": 273,
    "start_time": "2022-01-20T09:58:45.006Z"
   },
   {
    "duration": 258,
    "start_time": "2022-01-20T09:58:45.282Z"
   },
   {
    "duration": 13,
    "start_time": "2022-01-20T09:58:45.542Z"
   },
   {
    "duration": 394,
    "start_time": "2022-01-20T09:58:45.557Z"
   },
   {
    "duration": 462,
    "start_time": "2022-01-20T09:58:45.954Z"
   },
   {
    "duration": 390,
    "start_time": "2022-01-20T09:58:46.419Z"
   },
   {
    "duration": 389,
    "start_time": "2022-01-20T09:58:46.811Z"
   }
  ],
  "kernelspec": {
   "display_name": "Python 3",
   "language": "python",
   "name": "python3"
  },
  "language_info": {
   "codemirror_mode": {
    "name": "ipython",
    "version": 3
   },
   "file_extension": ".py",
   "mimetype": "text/x-python",
   "name": "python",
   "nbconvert_exporter": "python",
   "pygments_lexer": "ipython3",
   "version": "3.8.5"
  },
  "toc": {
   "base_numbering": 1,
   "nav_menu": {},
   "number_sections": true,
   "sideBar": true,
   "skip_h1_title": true,
   "title_cell": "Table of Contents",
   "title_sidebar": "Contents",
   "toc_cell": false,
   "toc_position": {},
   "toc_section_display": true,
   "toc_window_display": false
  }
 },
 "nbformat": 4,
 "nbformat_minor": 2
}
