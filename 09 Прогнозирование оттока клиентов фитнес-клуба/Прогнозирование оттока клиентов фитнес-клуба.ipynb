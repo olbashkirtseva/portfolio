{
 "cells": [
  {
   "cell_type": "markdown",
   "metadata": {},
   "source": [
    "# Прогнозирование оттока клиентов фитнес-клуба"
   ]
  },
  {
   "cell_type": "markdown",
   "metadata": {},
   "source": [
    "Распространённая проблема фитнес-клубов и других сервисов — отток клиентов.\n",
    "\n",
    "Наша задача — провести анализ и подготовить план действий по удержанию клиентов:\n",
    "\n",
    "* научиться прогнозировать вероятность оттока (на уровне следующего месяца) для каждого клиента;\n",
    "* сформировать типичные портреты клиентов: выделить несколько наиболее ярких групп и охарактеризовать их основные свойства;\n",
    "* проанализировать основные признаки, наиболее сильно влияющие на отток;\n",
    "* сформулировать основные выводы и разработать рекомендации по повышению качества работы с клиентами:\n",
    "    1. выделить целевые группы клиентов;\n",
    "    2. предложить меры по снижению оттока;\n",
    "    3. определить другие особенности взаимодействия с клиентами."
   ]
  },
  {
   "cell_type": "markdown",
   "metadata": {},
   "source": [
    "<a id='content'></a>\n",
    "## Оглавление\n",
    "\n",
    "### Исследовательский анализ данных (EDA)  \n",
    "* [Посмотрим на датасет: есть ли в нем отсутствующие признаки, изучим средние значения и стандартные отклонения](#part_0.1)\n",
    "* [Рассмотрим средние показатели для двух групп - тех, кто ушел в отток и тех, кто остался](#part_0.2)\n",
    "* [Построим столбчатые гистограммы и распределения признаков для тех, кто ушёл (отток) и тех, кто остался (не попали в отток)](#part_0.3)\n",
    "* [Построим матрицу корреляций](#part_0.4)\n",
    "\n",
    "### Модель прогнозирования оттока клиентов\n",
    "* [Построим модель бинарной классификации клиентов, где целевой признак — факт оттока клиента в следующем месяце](#part_1.0)\n",
    "* [Логистическая регрессия](#part_1.1)\n",
    "* [Случайный лес](#part_1.2)\n",
    "* [Вывод](#part_1.3)\n",
    "\n",
    "### Кластеризация клиентов\n",
    "* [Стандартизируем данные](#part_2.1)\n",
    "* [Построим дендрограмму](#part_2.2)\n",
    "* [Алгоритм K-Means](#part_2.3)\n",
    "* [Распределения признаков по кластерам](#part_2.4)\n",
    "\n",
    "\n",
    "### Вывод\n",
    "* [Сделаем общий вывод](#finish)"
   ]
  },
  {
   "cell_type": "markdown",
   "metadata": {},
   "source": [
    "# Исследовательский анализ данных (EDA) \n",
    "<a id='part_0.1'></a>\n",
    "Посмотрим на датасет: есть ли в нем отсутствующие признаки, изучим средние значения и стандартные отклонения\n",
    "\n",
    "[*Назад к оглавлению*](#content)"
   ]
  },
  {
   "cell_type": "code",
   "execution_count": 1,
   "metadata": {},
   "outputs": [],
   "source": [
    "import pandas as pd\n",
    "import numpy as np\n",
    "from matplotlib import pyplot as plt\n",
    "import seaborn as sns\n",
    "\n",
    "from sklearn.model_selection import train_test_split\n",
    "from sklearn.linear_model import LogisticRegression\n",
    "from sklearn.ensemble import RandomForestClassifier\n",
    "from sklearn.metrics import accuracy_score, precision_score, recall_score, f1_score\n",
    "\n",
    "from sklearn.preprocessing import StandardScaler\n",
    "from scipy.cluster.hierarchy import dendrogram, linkage \n",
    "from sklearn.cluster import KMeans"
   ]
  },
  {
   "cell_type": "code",
   "execution_count": 2,
   "metadata": {},
   "outputs": [],
   "source": [
    "data = pd.read_csv('/datasets/gym_churn.csv')"
   ]
  },
  {
   "cell_type": "code",
   "execution_count": 3,
   "metadata": {},
   "outputs": [
    {
     "data": {
      "text/html": [
       "<div>\n",
       "<style scoped>\n",
       "    .dataframe tbody tr th:only-of-type {\n",
       "        vertical-align: middle;\n",
       "    }\n",
       "\n",
       "    .dataframe tbody tr th {\n",
       "        vertical-align: top;\n",
       "    }\n",
       "\n",
       "    .dataframe thead th {\n",
       "        text-align: right;\n",
       "    }\n",
       "</style>\n",
       "<table border=\"1\" class=\"dataframe\">\n",
       "  <thead>\n",
       "    <tr style=\"text-align: right;\">\n",
       "      <th></th>\n",
       "      <th>gender</th>\n",
       "      <th>Near_Location</th>\n",
       "      <th>Partner</th>\n",
       "      <th>Promo_friends</th>\n",
       "      <th>Phone</th>\n",
       "      <th>Contract_period</th>\n",
       "      <th>Group_visits</th>\n",
       "      <th>Age</th>\n",
       "      <th>Avg_additional_charges_total</th>\n",
       "      <th>Month_to_end_contract</th>\n",
       "      <th>Lifetime</th>\n",
       "      <th>Avg_class_frequency_total</th>\n",
       "      <th>Avg_class_frequency_current_month</th>\n",
       "      <th>Churn</th>\n",
       "    </tr>\n",
       "  </thead>\n",
       "  <tbody>\n",
       "    <tr>\n",
       "      <td>0</td>\n",
       "      <td>1</td>\n",
       "      <td>1</td>\n",
       "      <td>1</td>\n",
       "      <td>1</td>\n",
       "      <td>0</td>\n",
       "      <td>6</td>\n",
       "      <td>1</td>\n",
       "      <td>29</td>\n",
       "      <td>14.227470</td>\n",
       "      <td>5.0</td>\n",
       "      <td>3</td>\n",
       "      <td>0.020398</td>\n",
       "      <td>0.000000</td>\n",
       "      <td>0</td>\n",
       "    </tr>\n",
       "    <tr>\n",
       "      <td>1</td>\n",
       "      <td>0</td>\n",
       "      <td>1</td>\n",
       "      <td>0</td>\n",
       "      <td>0</td>\n",
       "      <td>1</td>\n",
       "      <td>12</td>\n",
       "      <td>1</td>\n",
       "      <td>31</td>\n",
       "      <td>113.202938</td>\n",
       "      <td>12.0</td>\n",
       "      <td>7</td>\n",
       "      <td>1.922936</td>\n",
       "      <td>1.910244</td>\n",
       "      <td>0</td>\n",
       "    </tr>\n",
       "    <tr>\n",
       "      <td>2</td>\n",
       "      <td>0</td>\n",
       "      <td>1</td>\n",
       "      <td>1</td>\n",
       "      <td>0</td>\n",
       "      <td>1</td>\n",
       "      <td>1</td>\n",
       "      <td>0</td>\n",
       "      <td>28</td>\n",
       "      <td>129.448479</td>\n",
       "      <td>1.0</td>\n",
       "      <td>2</td>\n",
       "      <td>1.859098</td>\n",
       "      <td>1.736502</td>\n",
       "      <td>0</td>\n",
       "    </tr>\n",
       "    <tr>\n",
       "      <td>3</td>\n",
       "      <td>0</td>\n",
       "      <td>1</td>\n",
       "      <td>1</td>\n",
       "      <td>1</td>\n",
       "      <td>1</td>\n",
       "      <td>12</td>\n",
       "      <td>1</td>\n",
       "      <td>33</td>\n",
       "      <td>62.669863</td>\n",
       "      <td>12.0</td>\n",
       "      <td>2</td>\n",
       "      <td>3.205633</td>\n",
       "      <td>3.357215</td>\n",
       "      <td>0</td>\n",
       "    </tr>\n",
       "    <tr>\n",
       "      <td>4</td>\n",
       "      <td>1</td>\n",
       "      <td>1</td>\n",
       "      <td>1</td>\n",
       "      <td>1</td>\n",
       "      <td>1</td>\n",
       "      <td>1</td>\n",
       "      <td>0</td>\n",
       "      <td>26</td>\n",
       "      <td>198.362265</td>\n",
       "      <td>1.0</td>\n",
       "      <td>3</td>\n",
       "      <td>1.113884</td>\n",
       "      <td>1.120078</td>\n",
       "      <td>0</td>\n",
       "    </tr>\n",
       "  </tbody>\n",
       "</table>\n",
       "</div>"
      ],
      "text/plain": [
       "   gender  Near_Location  Partner  Promo_friends  Phone  Contract_period  \\\n",
       "0       1              1        1              1      0                6   \n",
       "1       0              1        0              0      1               12   \n",
       "2       0              1        1              0      1                1   \n",
       "3       0              1        1              1      1               12   \n",
       "4       1              1        1              1      1                1   \n",
       "\n",
       "   Group_visits  Age  Avg_additional_charges_total  Month_to_end_contract  \\\n",
       "0             1   29                     14.227470                    5.0   \n",
       "1             1   31                    113.202938                   12.0   \n",
       "2             0   28                    129.448479                    1.0   \n",
       "3             1   33                     62.669863                   12.0   \n",
       "4             0   26                    198.362265                    1.0   \n",
       "\n",
       "   Lifetime  Avg_class_frequency_total  Avg_class_frequency_current_month  \\\n",
       "0         3                   0.020398                           0.000000   \n",
       "1         7                   1.922936                           1.910244   \n",
       "2         2                   1.859098                           1.736502   \n",
       "3         2                   3.205633                           3.357215   \n",
       "4         3                   1.113884                           1.120078   \n",
       "\n",
       "   Churn  \n",
       "0      0  \n",
       "1      0  \n",
       "2      0  \n",
       "3      0  \n",
       "4      0  "
      ]
     },
     "execution_count": 3,
     "metadata": {},
     "output_type": "execute_result"
    }
   ],
   "source": [
    "data.head()"
   ]
  },
  {
   "cell_type": "code",
   "execution_count": 4,
   "metadata": {},
   "outputs": [
    {
     "name": "stdout",
     "output_type": "stream",
     "text": [
      "<class 'pandas.core.frame.DataFrame'>\n",
      "RangeIndex: 4000 entries, 0 to 3999\n",
      "Data columns (total 14 columns):\n",
      "gender                               4000 non-null int64\n",
      "Near_Location                        4000 non-null int64\n",
      "Partner                              4000 non-null int64\n",
      "Promo_friends                        4000 non-null int64\n",
      "Phone                                4000 non-null int64\n",
      "Contract_period                      4000 non-null int64\n",
      "Group_visits                         4000 non-null int64\n",
      "Age                                  4000 non-null int64\n",
      "Avg_additional_charges_total         4000 non-null float64\n",
      "Month_to_end_contract                4000 non-null float64\n",
      "Lifetime                             4000 non-null int64\n",
      "Avg_class_frequency_total            4000 non-null float64\n",
      "Avg_class_frequency_current_month    4000 non-null float64\n",
      "Churn                                4000 non-null int64\n",
      "dtypes: float64(4), int64(10)\n",
      "memory usage: 437.6 KB\n"
     ]
    }
   ],
   "source": [
    "data.info()"
   ]
  },
  {
   "cell_type": "markdown",
   "metadata": {},
   "source": [
    "Можем заметить, что пропусков в данных нет."
   ]
  },
  {
   "cell_type": "code",
   "execution_count": 5,
   "metadata": {},
   "outputs": [
    {
     "data": {
      "text/html": [
       "<div>\n",
       "<style scoped>\n",
       "    .dataframe tbody tr th:only-of-type {\n",
       "        vertical-align: middle;\n",
       "    }\n",
       "\n",
       "    .dataframe tbody tr th {\n",
       "        vertical-align: top;\n",
       "    }\n",
       "\n",
       "    .dataframe thead th {\n",
       "        text-align: right;\n",
       "    }\n",
       "</style>\n",
       "<table border=\"1\" class=\"dataframe\">\n",
       "  <thead>\n",
       "    <tr style=\"text-align: right;\">\n",
       "      <th></th>\n",
       "      <th>gender</th>\n",
       "      <th>Near_Location</th>\n",
       "      <th>Partner</th>\n",
       "      <th>Promo_friends</th>\n",
       "      <th>Phone</th>\n",
       "      <th>Contract_period</th>\n",
       "      <th>Group_visits</th>\n",
       "      <th>Age</th>\n",
       "      <th>Avg_additional_charges_total</th>\n",
       "      <th>Month_to_end_contract</th>\n",
       "      <th>Lifetime</th>\n",
       "      <th>Avg_class_frequency_total</th>\n",
       "      <th>Avg_class_frequency_current_month</th>\n",
       "      <th>Churn</th>\n",
       "    </tr>\n",
       "  </thead>\n",
       "  <tbody>\n",
       "    <tr>\n",
       "      <td>count</td>\n",
       "      <td>4000.000000</td>\n",
       "      <td>4000.000000</td>\n",
       "      <td>4000.000000</td>\n",
       "      <td>4000.000000</td>\n",
       "      <td>4000.000000</td>\n",
       "      <td>4000.000000</td>\n",
       "      <td>4000.000000</td>\n",
       "      <td>4000.000000</td>\n",
       "      <td>4000.000000</td>\n",
       "      <td>4000.000000</td>\n",
       "      <td>4000.000000</td>\n",
       "      <td>4000.000000</td>\n",
       "      <td>4000.000000</td>\n",
       "      <td>4000.000000</td>\n",
       "    </tr>\n",
       "    <tr>\n",
       "      <td>mean</td>\n",
       "      <td>0.510250</td>\n",
       "      <td>0.845250</td>\n",
       "      <td>0.486750</td>\n",
       "      <td>0.308500</td>\n",
       "      <td>0.903500</td>\n",
       "      <td>4.681250</td>\n",
       "      <td>0.412250</td>\n",
       "      <td>29.184250</td>\n",
       "      <td>146.943728</td>\n",
       "      <td>4.322750</td>\n",
       "      <td>3.724750</td>\n",
       "      <td>1.879020</td>\n",
       "      <td>1.767052</td>\n",
       "      <td>0.265250</td>\n",
       "    </tr>\n",
       "    <tr>\n",
       "      <td>std</td>\n",
       "      <td>0.499957</td>\n",
       "      <td>0.361711</td>\n",
       "      <td>0.499887</td>\n",
       "      <td>0.461932</td>\n",
       "      <td>0.295313</td>\n",
       "      <td>4.549706</td>\n",
       "      <td>0.492301</td>\n",
       "      <td>3.258367</td>\n",
       "      <td>96.355602</td>\n",
       "      <td>4.191297</td>\n",
       "      <td>3.749267</td>\n",
       "      <td>0.972245</td>\n",
       "      <td>1.052906</td>\n",
       "      <td>0.441521</td>\n",
       "    </tr>\n",
       "    <tr>\n",
       "      <td>min</td>\n",
       "      <td>0.000000</td>\n",
       "      <td>0.000000</td>\n",
       "      <td>0.000000</td>\n",
       "      <td>0.000000</td>\n",
       "      <td>0.000000</td>\n",
       "      <td>1.000000</td>\n",
       "      <td>0.000000</td>\n",
       "      <td>18.000000</td>\n",
       "      <td>0.148205</td>\n",
       "      <td>1.000000</td>\n",
       "      <td>0.000000</td>\n",
       "      <td>0.000000</td>\n",
       "      <td>0.000000</td>\n",
       "      <td>0.000000</td>\n",
       "    </tr>\n",
       "    <tr>\n",
       "      <td>25%</td>\n",
       "      <td>0.000000</td>\n",
       "      <td>1.000000</td>\n",
       "      <td>0.000000</td>\n",
       "      <td>0.000000</td>\n",
       "      <td>1.000000</td>\n",
       "      <td>1.000000</td>\n",
       "      <td>0.000000</td>\n",
       "      <td>27.000000</td>\n",
       "      <td>68.868830</td>\n",
       "      <td>1.000000</td>\n",
       "      <td>1.000000</td>\n",
       "      <td>1.180875</td>\n",
       "      <td>0.963003</td>\n",
       "      <td>0.000000</td>\n",
       "    </tr>\n",
       "    <tr>\n",
       "      <td>50%</td>\n",
       "      <td>1.000000</td>\n",
       "      <td>1.000000</td>\n",
       "      <td>0.000000</td>\n",
       "      <td>0.000000</td>\n",
       "      <td>1.000000</td>\n",
       "      <td>1.000000</td>\n",
       "      <td>0.000000</td>\n",
       "      <td>29.000000</td>\n",
       "      <td>136.220159</td>\n",
       "      <td>1.000000</td>\n",
       "      <td>3.000000</td>\n",
       "      <td>1.832768</td>\n",
       "      <td>1.719574</td>\n",
       "      <td>0.000000</td>\n",
       "    </tr>\n",
       "    <tr>\n",
       "      <td>75%</td>\n",
       "      <td>1.000000</td>\n",
       "      <td>1.000000</td>\n",
       "      <td>1.000000</td>\n",
       "      <td>1.000000</td>\n",
       "      <td>1.000000</td>\n",
       "      <td>6.000000</td>\n",
       "      <td>1.000000</td>\n",
       "      <td>31.000000</td>\n",
       "      <td>210.949625</td>\n",
       "      <td>6.000000</td>\n",
       "      <td>5.000000</td>\n",
       "      <td>2.536078</td>\n",
       "      <td>2.510336</td>\n",
       "      <td>1.000000</td>\n",
       "    </tr>\n",
       "    <tr>\n",
       "      <td>max</td>\n",
       "      <td>1.000000</td>\n",
       "      <td>1.000000</td>\n",
       "      <td>1.000000</td>\n",
       "      <td>1.000000</td>\n",
       "      <td>1.000000</td>\n",
       "      <td>12.000000</td>\n",
       "      <td>1.000000</td>\n",
       "      <td>41.000000</td>\n",
       "      <td>552.590740</td>\n",
       "      <td>12.000000</td>\n",
       "      <td>31.000000</td>\n",
       "      <td>6.023668</td>\n",
       "      <td>6.146783</td>\n",
       "      <td>1.000000</td>\n",
       "    </tr>\n",
       "  </tbody>\n",
       "</table>\n",
       "</div>"
      ],
      "text/plain": [
       "            gender  Near_Location      Partner  Promo_friends        Phone  \\\n",
       "count  4000.000000    4000.000000  4000.000000    4000.000000  4000.000000   \n",
       "mean      0.510250       0.845250     0.486750       0.308500     0.903500   \n",
       "std       0.499957       0.361711     0.499887       0.461932     0.295313   \n",
       "min       0.000000       0.000000     0.000000       0.000000     0.000000   \n",
       "25%       0.000000       1.000000     0.000000       0.000000     1.000000   \n",
       "50%       1.000000       1.000000     0.000000       0.000000     1.000000   \n",
       "75%       1.000000       1.000000     1.000000       1.000000     1.000000   \n",
       "max       1.000000       1.000000     1.000000       1.000000     1.000000   \n",
       "\n",
       "       Contract_period  Group_visits          Age  \\\n",
       "count      4000.000000   4000.000000  4000.000000   \n",
       "mean          4.681250      0.412250    29.184250   \n",
       "std           4.549706      0.492301     3.258367   \n",
       "min           1.000000      0.000000    18.000000   \n",
       "25%           1.000000      0.000000    27.000000   \n",
       "50%           1.000000      0.000000    29.000000   \n",
       "75%           6.000000      1.000000    31.000000   \n",
       "max          12.000000      1.000000    41.000000   \n",
       "\n",
       "       Avg_additional_charges_total  Month_to_end_contract     Lifetime  \\\n",
       "count                   4000.000000            4000.000000  4000.000000   \n",
       "mean                     146.943728               4.322750     3.724750   \n",
       "std                       96.355602               4.191297     3.749267   \n",
       "min                        0.148205               1.000000     0.000000   \n",
       "25%                       68.868830               1.000000     1.000000   \n",
       "50%                      136.220159               1.000000     3.000000   \n",
       "75%                      210.949625               6.000000     5.000000   \n",
       "max                      552.590740              12.000000    31.000000   \n",
       "\n",
       "       Avg_class_frequency_total  Avg_class_frequency_current_month  \\\n",
       "count                4000.000000                        4000.000000   \n",
       "mean                    1.879020                           1.767052   \n",
       "std                     0.972245                           1.052906   \n",
       "min                     0.000000                           0.000000   \n",
       "25%                     1.180875                           0.963003   \n",
       "50%                     1.832768                           1.719574   \n",
       "75%                     2.536078                           2.510336   \n",
       "max                     6.023668                           6.146783   \n",
       "\n",
       "             Churn  \n",
       "count  4000.000000  \n",
       "mean      0.265250  \n",
       "std       0.441521  \n",
       "min       0.000000  \n",
       "25%       0.000000  \n",
       "50%       0.000000  \n",
       "75%       1.000000  \n",
       "max       1.000000  "
      ]
     },
     "execution_count": 5,
     "metadata": {},
     "output_type": "execute_result"
    }
   ],
   "source": [
    "data.describe()"
   ]
  },
  {
   "cell_type": "code",
   "execution_count": 6,
   "metadata": {},
   "outputs": [
    {
     "data": {
      "text/plain": [
       "array([[<matplotlib.axes._subplots.AxesSubplot object at 0x7f24ef2842d0>,\n",
       "        <matplotlib.axes._subplots.AxesSubplot object at 0x7f24e71eff90>],\n",
       "       [<matplotlib.axes._subplots.AxesSubplot object at 0x7f24e71a7a50>,\n",
       "        <matplotlib.axes._subplots.AxesSubplot object at 0x7f24e7165d50>]],\n",
       "      dtype=object)"
      ]
     },
     "execution_count": 6,
     "metadata": {},
     "output_type": "execute_result"
    },
    {
     "data": {
      "image/png": "[encoded data removed]",
      "text/plain": [
       "<Figure size 1080x720 with 4 Axes>"
      ]
     },
     "metadata": {
      "needs_background": "light"
     },
     "output_type": "display_data"
    }
   ],
   "source": [
    "data[['Contract_period', 'Month_to_end_contract', 'Lifetime']].hist(figsize=(15,10))"
   ]
  },
  {
   "cell_type": "markdown",
   "metadata": {},
   "source": [
    "Пока мы можем сделать следующие выводы:\n",
    "* по полу выборка достаточно равномерная: мужчины и женщины распределились почти в равных долях\n",
    "* большинство (85%) клиентов живут или работают в локаци, где находится фитнес-клуб\n",
    "* около половины клиентов - сотрудники компаний-партнеров клуба\n",
    "* около 31% клиентов привели их друзья\n",
    "* большинство клиентов (90%) оставили свой номер телефона\n",
    "* 41% клиентов посещают групповые занятия\n",
    "* средний и медианный возраст - 29 лет, стандартное отклонение всего 3,25 - так что разброс возраста не очень большой.\n",
    "* в среднем клиенты тратят на другие услуги клуба около 150, однако стандартное отклонение состоявляет почти 100 - это очень большое разброс в данных. Кто-то из клиентов потратил более 550\n",
    "* Больше половины клиентов заключили контракт на 1 месяц, остальные и по четверти клиентов контракты на 6 и 12 месяцев\n",
    "* Также можно заметить, что у большинства клиентов до конца контрактв остались 1, 5-6 или 11-12 месяцев. Значит в основная часть клиентов совсем недавно заключали свои контракты.\n",
    "* Это подтверждает и среднее время с момента первого обращения в фитнес-центр - для большинства клиентов это срок до 5 месяцев.\n",
    "* Отток составляет около 26,5%."
   ]
  },
  {
   "cell_type": "markdown",
   "metadata": {},
   "source": [
    "<a id='part_0.2'></a>\n",
    "Рассмотрим средние показатели для двух групп - тех, кто ушел в отток и тех, кто остался."
   ]
  },
  {
   "cell_type": "code",
   "execution_count": 7,
   "metadata": {},
   "outputs": [
    {
     "data": {
      "text/html": [
       "<div>\n",
       "<style scoped>\n",
       "    .dataframe tbody tr th:only-of-type {\n",
       "        vertical-align: middle;\n",
       "    }\n",
       "\n",
       "    .dataframe tbody tr th {\n",
       "        vertical-align: top;\n",
       "    }\n",
       "\n",
       "    .dataframe thead th {\n",
       "        text-align: right;\n",
       "    }\n",
       "</style>\n",
       "<table border=\"1\" class=\"dataframe\">\n",
       "  <thead>\n",
       "    <tr style=\"text-align: right;\">\n",
       "      <th></th>\n",
       "      <th>gender</th>\n",
       "      <th>Near_Location</th>\n",
       "      <th>Partner</th>\n",
       "      <th>Promo_friends</th>\n",
       "      <th>Phone</th>\n",
       "      <th>Contract_period</th>\n",
       "      <th>Group_visits</th>\n",
       "      <th>Age</th>\n",
       "      <th>Avg_additional_charges_total</th>\n",
       "      <th>Month_to_end_contract</th>\n",
       "      <th>Lifetime</th>\n",
       "      <th>Avg_class_frequency_total</th>\n",
       "      <th>Avg_class_frequency_current_month</th>\n",
       "    </tr>\n",
       "    <tr>\n",
       "      <th>Churn</th>\n",
       "      <th></th>\n",
       "      <th></th>\n",
       "      <th></th>\n",
       "      <th></th>\n",
       "      <th></th>\n",
       "      <th></th>\n",
       "      <th></th>\n",
       "      <th></th>\n",
       "      <th></th>\n",
       "      <th></th>\n",
       "      <th></th>\n",
       "      <th></th>\n",
       "      <th></th>\n",
       "    </tr>\n",
       "  </thead>\n",
       "  <tbody>\n",
       "    <tr>\n",
       "      <td>0</td>\n",
       "      <td>0.510037</td>\n",
       "      <td>0.873086</td>\n",
       "      <td>0.534195</td>\n",
       "      <td>0.353522</td>\n",
       "      <td>0.903709</td>\n",
       "      <td>5.747193</td>\n",
       "      <td>0.464103</td>\n",
       "      <td>29.976523</td>\n",
       "      <td>158.445715</td>\n",
       "      <td>5.283089</td>\n",
       "      <td>4.711807</td>\n",
       "      <td>2.024876</td>\n",
       "      <td>2.027882</td>\n",
       "    </tr>\n",
       "    <tr>\n",
       "      <td>1</td>\n",
       "      <td>0.510839</td>\n",
       "      <td>0.768143</td>\n",
       "      <td>0.355325</td>\n",
       "      <td>0.183789</td>\n",
       "      <td>0.902922</td>\n",
       "      <td>1.728558</td>\n",
       "      <td>0.268615</td>\n",
       "      <td>26.989632</td>\n",
       "      <td>115.082899</td>\n",
       "      <td>1.662582</td>\n",
       "      <td>0.990575</td>\n",
       "      <td>1.474995</td>\n",
       "      <td>1.044546</td>\n",
       "    </tr>\n",
       "  </tbody>\n",
       "</table>\n",
       "</div>"
      ],
      "text/plain": [
       "         gender  Near_Location   Partner  Promo_friends     Phone  \\\n",
       "Churn                                                               \n",
       "0      0.510037       0.873086  0.534195       0.353522  0.903709   \n",
       "1      0.510839       0.768143  0.355325       0.183789  0.902922   \n",
       "\n",
       "       Contract_period  Group_visits        Age  Avg_additional_charges_total  \\\n",
       "Churn                                                                           \n",
       "0             5.747193      0.464103  29.976523                    158.445715   \n",
       "1             1.728558      0.268615  26.989632                    115.082899   \n",
       "\n",
       "       Month_to_end_contract  Lifetime  Avg_class_frequency_total  \\\n",
       "Churn                                                               \n",
       "0                   5.283089  4.711807                   2.024876   \n",
       "1                   1.662582  0.990575                   1.474995   \n",
       "\n",
       "       Avg_class_frequency_current_month  \n",
       "Churn                                     \n",
       "0                               2.027882  \n",
       "1                               1.044546  "
      ]
     },
     "execution_count": 7,
     "metadata": {},
     "output_type": "execute_result"
    }
   ],
   "source": [
    "data.groupby('Churn').mean()"
   ]
  },
  {
   "cell_type": "markdown",
   "metadata": {},
   "source": [
    "На этом этапе ясно, что:\n",
    "* Мужчины и женщины уходят в отток одинакого - структура практически не поменялась\n",
    "* Те, кто остаются в клубе, в основном живут в локации клуба (87%). Среди тех, кто уходит в отток таких всего 77%.\n",
    "* Большая часть тех, кто остается в клубе являются сотрудниками компаний-партнеров. Из тех, кто ушел в отток, таких только 35%.\n",
    "* Продолжающие занимаьться куда чаще ходят на групповые тренировки - 46% против 27%."
   ]
  },
  {
   "cell_type": "markdown",
   "metadata": {},
   "source": [
    "<a id='part_0.3'></a>\n",
    "Построим столбчатые гистограммы и распределения признаков для тех, кто ушёл (отток) и тех, кто остался (не попали в отток)"
   ]
  },
  {
   "cell_type": "code",
   "execution_count": 8,
   "metadata": {
    "scrolled": false
   },
   "outputs": [
    {
     "data": {
      "text/plain": [
       "Text(0.5, 1.0, 'средняя частота посещений в неделю за предыдущий месяц')"
      ]
     },
     "execution_count": 8,
     "metadata": {},
     "output_type": "execute_result"
    },
    {
     "data": {
      "image/png": "[encoded data removed]",
      "text/plain": [
       "<Figure size 1080x1800 with 14 Axes>"
      ]
     },
     "metadata": {
      "needs_background": "light"
     },
     "output_type": "display_data"
    }
   ],
   "source": [
    "fig, axs = plt.subplots(7,2)\n",
    "fig.suptitle('Распределения признаков для тех, кто ушёл (отток) и тех, кто остался (не попали в отток)')\n",
    "fig.set_figheight(25)\n",
    "fig.set_figwidth(15)\n",
    "data.groupby('Churn')['gender'].plot.hist(ax=axs[0][0], alpha=0.5)\n",
    "axs[0][0].set_title('пол')\n",
    "data.groupby('Churn')['Near_Location'].plot.hist(ax=axs[0][1], alpha=0.5)\n",
    "axs[0][1].set_title('проживание или работа в районе, где находится фитнес-центр')\n",
    "data.groupby('Churn')['Partner'].plot.hist(ax=axs[1][0], alpha=0.5)\n",
    "axs[1][0].set_title('сотрудник компании-партнёра клуба')\n",
    "data.groupby('Churn')['Promo_friends'].plot.hist(ax=axs[1][1], alpha=0.5)\n",
    "axs[1][1].set_title('факт первоначальной записи в рамках акции «приведи друга»')\n",
    "data.groupby('Churn')['Phone'].plot.hist(ax=axs[2][0], alpha=0.5)\n",
    "axs[2][0].set_title('наличие контактного телефона')\n",
    "data.groupby('Churn')['Contract_period'].plot.hist(ax=axs[2][1], alpha=0.5)\n",
    "axs[2][1].set_title('длительность текущего действующего абонемента')\n",
    "data.groupby('Churn')['Group_visits'].plot.hist(ax=axs[3][0], alpha=0.5)\n",
    "axs[3][0].set_title('факт посещения групповых занятий')\n",
    "data.groupby('Churn')['Age'].plot.hist(ax=axs[3][1], alpha=0.5)\n",
    "axs[3][1].set_title('возраст')\n",
    "data.groupby('Churn')['Avg_additional_charges_total'].plot.hist(ax=axs[4][0], alpha=0.5)\n",
    "axs[4][0].set_title('суммарная выручка от других услуг фитнес-центра')\n",
    "data.groupby('Churn')['Month_to_end_contract'].plot.hist(ax=axs[4][1], alpha=0.5)\n",
    "axs[4][1].set_title(' срок до окончания текущего действующего абонемента')\n",
    "data.groupby('Churn')['Lifetime'].plot.hist(ax=axs[5][0], alpha=0.5)\n",
    "axs[5][0].set_title('время с момента первого обращения в фитнес-центр')\n",
    "data.groupby('Churn')['Avg_class_frequency_total'].plot.hist(ax=axs[5][1], alpha=0.5)\n",
    "axs[5][1].set_title('средняя частота посещений в неделю за все время с начала действия')\n",
    "data.groupby('Churn')['Avg_class_frequency_current_month'].plot.hist(ax=axs[6][0], alpha=0.5)\n",
    "axs[6][0].set_title('средняя частота посещений в неделю за предыдущий месяц')"
   ]
  },
  {
   "cell_type": "markdown",
   "metadata": {},
   "source": [
    "* Средний возраст оставшихся в фитнес-центре и оттока отличается не так сильно - 30 лет против 27.\n",
    "* Можно заметить, что среди тех, кто не ходил на групповые тренировки крайне мало клиентов, которые в дальнейшем продолжили заниматься в клубе. Возможно, они зря не ходили?\n",
    "* покупками в клучбе занимались примерно одинаково, вряд ли это сильно влияет на отток.\n",
    "* Подавляющее число клиентов попавших в отток брали контракт всего на один месяц, видимо. попробовали и им не понравилось. По продолжающим заниматься ситуация намного лучше, контрактов на 1 месяц все-таки большинство, но 12 месяцев не сильно отстают. Да и желающих заниматься полгода достаточно.\n",
    "* Сильно отличаются сроки до конца контракта (что логично, так как и сама длительность контрактов отличается).\n",
    "* Зато можно заметить, что в основном уходят люди слегка не доходя первый месяц. Те, кто остаются, в среднем имеют более длительные отношения с фитнес-центром - около 4,7 месяцев.\n",
    "* Частота посещения клуба за все время примерно похожа для тех, кто уходит, и тех, кто остается (хотя в среднем те, кто остаются заниматься все же ходят почаще).\n",
    "* А вот ситуация в последний месяц резко отличается: те, кто планирует уходить, почти не посещают клуб."
   ]
  },
  {
   "cell_type": "markdown",
   "metadata": {},
   "source": [
    "<a id='part_0.4'></a>\n",
    "Построим матрицу корреляций."
   ]
  },
  {
   "cell_type": "code",
   "execution_count": 9,
   "metadata": {},
   "outputs": [
    {
     "data": {
      "text/plain": [
       "<matplotlib.axes._subplots.AxesSubplot at 0x7f2575266390>"
      ]
     },
     "execution_count": 9,
     "metadata": {},
     "output_type": "execute_result"
    },
    {
     "data": {
      "image/png": "[encoded data removed]",
      "text/plain": [
       "<Figure size 1080x1080 with 2 Axes>"
      ]
     },
     "metadata": {
      "needs_background": "light"
     },
     "output_type": "display_data"
    }
   ],
   "source": [
    "plt.figure(figsize=(15, 15)) \n",
    "sns.heatmap(data.corr(), annot = True, square=True)"
   ]
  },
  {
   "cell_type": "markdown",
   "metadata": {},
   "source": [
    "Сразу можно заметить несклько пар признаков, имеющих наибольшую корреляцию между собой:\n",
    "1. Длина контракта и Число месяцев до конца контракта\n",
    "2. Частота посещений фитнес центра за все время и за последний месяц.\n",
    "\n",
    "Также достаточно сильно между собой коррелируют акция \"приведи друга\" и клиенты-сотрудники компаний-партнеров."
   ]
  },
  {
   "cell_type": "markdown",
   "metadata": {},
   "source": [
    "С целевой переменной (отток) достаточно сильную обратную корреляцию имеют следующие признаки:\n",
    "* длина контракта\n",
    "* возраст\n",
    "* период до конца контракта\n",
    "* длительность отношений с клубом\n",
    "* частота почсещения клуба в последний месяц."
   ]
  },
  {
   "cell_type": "markdown",
   "metadata": {},
   "source": [
    "# Модель прогнозирования оттока клиентов\n",
    "\n",
    "[*Назад к оглавлению*](#content)\n",
    "\n",
    "<a id='part_1.0'></a>\n",
    "Построим модель бинарной классификации клиентов, где целевой признак — факт оттока клиента в следующем месяце"
   ]
  },
  {
   "cell_type": "code",
   "execution_count": 10,
   "metadata": {},
   "outputs": [],
   "source": [
    "X = data.drop(columns=['Churn'])\n",
    "y = data['Churn']"
   ]
  },
  {
   "cell_type": "code",
   "execution_count": 11,
   "metadata": {},
   "outputs": [],
   "source": [
    "X_train, X_test, y_train, y_test = train_test_split(X, y, test_size=0.2, random_state=0, stratify = y)"
   ]
  },
  {
   "cell_type": "code",
   "execution_count": 12,
   "metadata": {},
   "outputs": [],
   "source": [
    "def print_all_metrics(y_true, y_pred, y_proba, title='Метрики классификации'):\n",
    "    print(title)\n",
    "    print('\\tAccuracy: {:.2f}'.format(accuracy_score(y_true, y_pred)))\n",
    "    print('\\tPrecision: {:.2f}'.format(precision_score(y_true, y_pred)))\n",
    "    print('\\tRecall: {:.2f}'.format(recall_score(y_true, y_pred)))\n",
    "    print('\\tF1: {:.2f}'.format(f1_score(y_true, y_pred)))"
   ]
  },
  {
   "cell_type": "markdown",
   "metadata": {},
   "source": [
    "<a id='part_1.1'></a>\n",
    "Логистическая регрессия."
   ]
  },
  {
   "cell_type": "code",
   "execution_count": 13,
   "metadata": {},
   "outputs": [],
   "source": [
    "model_lr = LogisticRegression(solver='liblinear')\n",
    "model_lr.fit(X_train, y_train)\n",
    "predictions_lr = model_lr.predict(X_test)\n",
    "probabilities_lr = model_lr.predict_proba(X_test)[:,1]"
   ]
  },
  {
   "cell_type": "code",
   "execution_count": 14,
   "metadata": {},
   "outputs": [
    {
     "name": "stdout",
     "output_type": "stream",
     "text": [
      "Метрики для модели логистической регрессии:\n",
      "\tAccuracy: 0.93\n",
      "\tPrecision: 0.89\n",
      "\tRecall: 0.84\n",
      "\tF1: 0.87\n"
     ]
    }
   ],
   "source": [
    "print_all_metrics(\n",
    "    y_test,\n",
    "    predictions_lr,\n",
    "    probabilities_lr,\n",
    "    title='Метрики для модели логистической регрессии:',\n",
    ")"
   ]
  },
  {
   "cell_type": "markdown",
   "metadata": {},
   "source": [
    "<a id='part_1.2'></a>\n",
    "Случайный лес."
   ]
  },
  {
   "cell_type": "code",
   "execution_count": 15,
   "metadata": {},
   "outputs": [],
   "source": [
    "model_rf = RandomForestClassifier(n_estimators = 100, random_state = 0)\n",
    "model_rf.fit(X_train, y_train)\n",
    "predictions_rf = model_rf.predict(X_test)\n",
    "probabilities_rf = model_rf.predict_proba(X_test)[:,1]"
   ]
  },
  {
   "cell_type": "code",
   "execution_count": 16,
   "metadata": {},
   "outputs": [
    {
     "name": "stdout",
     "output_type": "stream",
     "text": [
      "Метрики для модели случайного леса:\n",
      "\tAccuracy: 0.92\n",
      "\tPrecision: 0.88\n",
      "\tRecall: 0.83\n",
      "\tF1: 0.85\n"
     ]
    }
   ],
   "source": [
    "print_all_metrics(\n",
    "    y_test,\n",
    "    predictions_rf,\n",
    "    probabilities_rf,\n",
    "    title='Метрики для модели случайного леса:',\n",
    ")"
   ]
  },
  {
   "cell_type": "markdown",
   "metadata": {},
   "source": [
    "<a id='part_1.3'></a>\n",
    "\n",
    "По результатам проверки метрик можно заметить, что логистическая регрессия на наших данных работает несколько лучше случайного леса."
   ]
  },
  {
   "cell_type": "markdown",
   "metadata": {},
   "source": [
    "# Кластеризация клиентов\n",
    "\n",
    "[*Назад к оглавлению*](#content)\n",
    "\n",
    "<a id='part_2.1'></a>\n",
    "Стандартизируем данные."
   ]
  },
  {
   "cell_type": "code",
   "execution_count": 17,
   "metadata": {},
   "outputs": [],
   "source": [
    "sc = StandardScaler()\n",
    "X_sc = sc.fit_transform(X)"
   ]
  },
  {
   "cell_type": "markdown",
   "metadata": {},
   "source": [
    "<a id='part_2.2'></a>\n",
    "Построим дендрограмму."
   ]
  },
  {
   "cell_type": "code",
   "execution_count": 18,
   "metadata": {},
   "outputs": [
    {
     "data": {
      "image/png": "[encoded data removed]",
      "text/plain": [
       "<Figure size 1080x720 with 1 Axes>"
      ]
     },
     "metadata": {
      "needs_background": "light"
     },
     "output_type": "display_data"
    }
   ],
   "source": [
    "linked = linkage(X_sc, method = 'ward') \n",
    "plt.figure(figsize=(15, 10))  \n",
    "dendrogram(linked, orientation='top')\n",
    "plt.show() "
   ]
  },
  {
   "cell_type": "markdown",
   "metadata": {},
   "source": [
    "В целом можно разделить данные на разное число кластеров - от 4 до 6.\n",
    "\n",
    "Далее будем рассматривать 5 кластеров."
   ]
  },
  {
   "cell_type": "markdown",
   "metadata": {},
   "source": [
    "<a id='part_2.3'></a>\n",
    "Алгоритм K-Means."
   ]
  },
  {
   "cell_type": "code",
   "execution_count": 19,
   "metadata": {},
   "outputs": [],
   "source": [
    "km = KMeans(n_clusters = 5, random_state = 0)\n",
    "labels = km.fit_predict(X_sc)\n",
    "data['cluster'] = labels"
   ]
  },
  {
   "cell_type": "code",
   "execution_count": 20,
   "metadata": {},
   "outputs": [
    {
     "data": {
      "text/html": [
       "<div>\n",
       "<style scoped>\n",
       "    .dataframe tbody tr th:only-of-type {\n",
       "        vertical-align: middle;\n",
       "    }\n",
       "\n",
       "    .dataframe tbody tr th {\n",
       "        vertical-align: top;\n",
       "    }\n",
       "\n",
       "    .dataframe thead th {\n",
       "        text-align: right;\n",
       "    }\n",
       "</style>\n",
       "<table border=\"1\" class=\"dataframe\">\n",
       "  <thead>\n",
       "    <tr style=\"text-align: right;\">\n",
       "      <th></th>\n",
       "      <th>gender</th>\n",
       "      <th>Near_Location</th>\n",
       "      <th>Partner</th>\n",
       "      <th>Promo_friends</th>\n",
       "      <th>Phone</th>\n",
       "      <th>Contract_period</th>\n",
       "      <th>Group_visits</th>\n",
       "      <th>Age</th>\n",
       "      <th>Avg_additional_charges_total</th>\n",
       "      <th>Month_to_end_contract</th>\n",
       "      <th>Lifetime</th>\n",
       "      <th>Avg_class_frequency_total</th>\n",
       "      <th>Avg_class_frequency_current_month</th>\n",
       "      <th>Churn</th>\n",
       "    </tr>\n",
       "    <tr>\n",
       "      <th>cluster</th>\n",
       "      <th></th>\n",
       "      <th></th>\n",
       "      <th></th>\n",
       "      <th></th>\n",
       "      <th></th>\n",
       "      <th></th>\n",
       "      <th></th>\n",
       "      <th></th>\n",
       "      <th></th>\n",
       "      <th></th>\n",
       "      <th></th>\n",
       "      <th></th>\n",
       "      <th></th>\n",
       "      <th></th>\n",
       "    </tr>\n",
       "  </thead>\n",
       "  <tbody>\n",
       "    <tr>\n",
       "      <td>0</td>\n",
       "      <td>0.502473</td>\n",
       "      <td>0.959446</td>\n",
       "      <td>0.783383</td>\n",
       "      <td>0.574679</td>\n",
       "      <td>1.000000</td>\n",
       "      <td>10.884273</td>\n",
       "      <td>0.543027</td>\n",
       "      <td>29.980218</td>\n",
       "      <td>160.706969</td>\n",
       "      <td>9.950544</td>\n",
       "      <td>4.738872</td>\n",
       "      <td>1.983305</td>\n",
       "      <td>1.976225</td>\n",
       "      <td>0.027695</td>\n",
       "    </tr>\n",
       "    <tr>\n",
       "      <td>1</td>\n",
       "      <td>0.522078</td>\n",
       "      <td>0.862338</td>\n",
       "      <td>0.470130</td>\n",
       "      <td>0.306494</td>\n",
       "      <td>0.000000</td>\n",
       "      <td>4.787013</td>\n",
       "      <td>0.425974</td>\n",
       "      <td>29.301299</td>\n",
       "      <td>143.957664</td>\n",
       "      <td>4.475325</td>\n",
       "      <td>3.924675</td>\n",
       "      <td>1.847220</td>\n",
       "      <td>1.716369</td>\n",
       "      <td>0.267532</td>\n",
       "    </tr>\n",
       "    <tr>\n",
       "      <td>2</td>\n",
       "      <td>0.495050</td>\n",
       "      <td>0.000000</td>\n",
       "      <td>0.463366</td>\n",
       "      <td>0.079208</td>\n",
       "      <td>1.000000</td>\n",
       "      <td>2.352475</td>\n",
       "      <td>0.215842</td>\n",
       "      <td>28.477228</td>\n",
       "      <td>135.457501</td>\n",
       "      <td>2.198020</td>\n",
       "      <td>2.809901</td>\n",
       "      <td>1.660461</td>\n",
       "      <td>1.477324</td>\n",
       "      <td>0.443564</td>\n",
       "    </tr>\n",
       "    <tr>\n",
       "      <td>3</td>\n",
       "      <td>0.485737</td>\n",
       "      <td>1.000000</td>\n",
       "      <td>0.350238</td>\n",
       "      <td>0.240095</td>\n",
       "      <td>1.000000</td>\n",
       "      <td>1.948494</td>\n",
       "      <td>0.341521</td>\n",
       "      <td>28.167987</td>\n",
       "      <td>131.622204</td>\n",
       "      <td>1.856577</td>\n",
       "      <td>2.440571</td>\n",
       "      <td>1.247634</td>\n",
       "      <td>1.012983</td>\n",
       "      <td>0.514263</td>\n",
       "    </tr>\n",
       "    <tr>\n",
       "      <td>4</td>\n",
       "      <td>0.560335</td>\n",
       "      <td>0.976105</td>\n",
       "      <td>0.356033</td>\n",
       "      <td>0.229391</td>\n",
       "      <td>0.998805</td>\n",
       "      <td>2.665472</td>\n",
       "      <td>0.473118</td>\n",
       "      <td>30.127838</td>\n",
       "      <td>161.724258</td>\n",
       "      <td>2.455197</td>\n",
       "      <td>4.896057</td>\n",
       "      <td>2.851531</td>\n",
       "      <td>2.849473</td>\n",
       "      <td>0.068100</td>\n",
       "    </tr>\n",
       "  </tbody>\n",
       "</table>\n",
       "</div>"
      ],
      "text/plain": [
       "           gender  Near_Location   Partner  Promo_friends     Phone  \\\n",
       "cluster                                                               \n",
       "0        0.502473       0.959446  0.783383       0.574679  1.000000   \n",
       "1        0.522078       0.862338  0.470130       0.306494  0.000000   \n",
       "2        0.495050       0.000000  0.463366       0.079208  1.000000   \n",
       "3        0.485737       1.000000  0.350238       0.240095  1.000000   \n",
       "4        0.560335       0.976105  0.356033       0.229391  0.998805   \n",
       "\n",
       "         Contract_period  Group_visits        Age  \\\n",
       "cluster                                             \n",
       "0              10.884273      0.543027  29.980218   \n",
       "1               4.787013      0.425974  29.301299   \n",
       "2               2.352475      0.215842  28.477228   \n",
       "3               1.948494      0.341521  28.167987   \n",
       "4               2.665472      0.473118  30.127838   \n",
       "\n",
       "         Avg_additional_charges_total  Month_to_end_contract  Lifetime  \\\n",
       "cluster                                                                  \n",
       "0                          160.706969               9.950544  4.738872   \n",
       "1                          143.957664               4.475325  3.924675   \n",
       "2                          135.457501               2.198020  2.809901   \n",
       "3                          131.622204               1.856577  2.440571   \n",
       "4                          161.724258               2.455197  4.896057   \n",
       "\n",
       "         Avg_class_frequency_total  Avg_class_frequency_current_month  \\\n",
       "cluster                                                                 \n",
       "0                         1.983305                           1.976225   \n",
       "1                         1.847220                           1.716369   \n",
       "2                         1.660461                           1.477324   \n",
       "3                         1.247634                           1.012983   \n",
       "4                         2.851531                           2.849473   \n",
       "\n",
       "            Churn  \n",
       "cluster            \n",
       "0        0.027695  \n",
       "1        0.267532  \n",
       "2        0.443564  \n",
       "3        0.514263  \n",
       "4        0.068100  "
      ]
     },
     "execution_count": 20,
     "metadata": {},
     "output_type": "execute_result"
    }
   ],
   "source": [
    "data.groupby('cluster').mean()"
   ]
  },
  {
   "cell_type": "markdown",
   "metadata": {},
   "source": [
    "По результатам кластеризации можем заметить следующее:\n",
    "* Группа 0 самая надежная - у нее меньше всего процент отттока. Это объясняется стаблильностью клиентов - они работают в компании-партнере, их дом или работа находится близко к фитнес-центру, они заключают длительные договоры, лучше всех ходят на групповые занятия, тратят больше всего денег, часто ходят на тренировки (и в целом, и за последний месяц) и имеют длительные отношения с клубом.\n",
    "* Следующей является группа 4. Они не является партнерами и не приходят по акции. Зато живут или работают рядом и очень любят заниматься (чаще остальных групп ходят на тренировки в целом и за последний месяц).\n",
    "* Далее идут группа 1. Они уверенные среднячки - с значениями, очень похожими на общую картину по всей выборке.\n",
    "* Наихудшими групами является группы 2 и 3. В группе 2 нет ни одного клиента, проживающего или работающего поблизости (возможно поэтому они и перестают ходить - долгая дорога до клуба никогда не вызывает желания позаниматься). В группе 3 наоборот все живут поблизости, но очень плохо ходят на тренировки (худший результат из всех групп). Возможно, фитнес-центр - это просто не для них."
   ]
  },
  {
   "cell_type": "markdown",
   "metadata": {},
   "source": [
    "<a id='part_2.4'></a>\n",
    "Распределения признаков по кластерам."
   ]
  },
  {
   "cell_type": "code",
   "execution_count": 21,
   "metadata": {
    "scrolled": false
   },
   "outputs": [
    {
     "data": {
      "text/plain": [
       "Text(0.5, 1.0, 'отток')"
      ]
     },
     "execution_count": 21,
     "metadata": {},
     "output_type": "execute_result"
    },
    {
     "data": {
      "image/png": "[encoded data removed]",
      "text/plain": [
       "<Figure size 1080x2520 with 14 Axes>"
      ]
     },
     "metadata": {
      "needs_background": "light"
     },
     "output_type": "display_data"
    }
   ],
   "source": [
    "fig, axs = plt.subplots(7,2)\n",
    "fig.suptitle('Распределения признаков по кластерам')\n",
    "fig.set_figheight(35)\n",
    "fig.set_figwidth(15)\n",
    "sns.countplot(ax=axs[0][0], data = data[['cluster','gender']], x = 'gender', hue = 'cluster')\n",
    "axs[0][0].set_title('пол')\n",
    "\n",
    "sns.countplot(ax=axs[0][1], data = data[['cluster','Near_Location']], x = 'Near_Location', hue = 'cluster')\n",
    "axs[0][1].set_title('проживание или работа в районе, где находится фитнес-центр')\n",
    "\n",
    "sns.countplot(ax=axs[1][0], data = data[['cluster','Partner']], x = 'Partner', hue = 'cluster')\n",
    "axs[1][0].set_title('сотрудник компании-партнёра клуба')\n",
    "\n",
    "sns.countplot(ax=axs[1][1], data = data[['cluster','Promo_friends']], x = 'Promo_friends', hue = 'cluster')\n",
    "axs[1][1].set_title('факт первоначальной записи в рамках акции «приведи друга»')\n",
    "\n",
    "sns.countplot(ax=axs[2][0], data = data[['cluster','Phone']], x = 'Phone', hue = 'cluster')\n",
    "axs[2][0].set_title('наличие контактного телефона')\n",
    "\n",
    "sns.countplot(ax=axs[2][1], data = data[['cluster','Contract_period']], x = 'Contract_period', hue = 'cluster')\n",
    "axs[2][1].set_title('длительность текущего действующего абонемента')\n",
    "\n",
    "sns.countplot(ax=axs[3][0], data = data[['cluster','Group_visits']], x = 'Group_visits', hue = 'cluster')\n",
    "axs[3][0].set_title('факт посещения групповых занятий')\n",
    "\n",
    "sns.boxplot(ax=axs[3][1], x ='cluster',y = 'Age', data = data[['cluster','Age']])\n",
    "axs[3][1].set_title('возраст')\n",
    "\n",
    "sns.boxplot(ax=axs[4][0], x ='cluster',y = 'Avg_additional_charges_total', \n",
    "            data = data[['cluster','Avg_additional_charges_total']])\n",
    "axs[4][0].set_title('суммарная выручка от других услуг фитнес-центра')\n",
    "\n",
    "sns.boxplot(ax=axs[4][1], x ='cluster',y = 'Month_to_end_contract', data = data[['cluster','Month_to_end_contract']])\n",
    "axs[4][1].set_title(' срок до окончания текущего действующего абонемента')\n",
    "\n",
    "sns.boxplot(ax=axs[5][0], x ='cluster',y = 'Lifetime', data = data[['cluster','Lifetime']])\n",
    "axs[5][0].set_title('время с момента первого обращения в фитнес-центр')\n",
    "\n",
    "sns.boxplot(ax=axs[5][1], x ='cluster',y = 'Avg_class_frequency_total', \n",
    "            data = data[['cluster','Avg_class_frequency_total']])\n",
    "axs[5][1].set_title('средняя частота посещений в неделю за все время с начала действия')\n",
    "\n",
    "sns.boxplot(ax=axs[6][0], x ='cluster',y = 'Avg_class_frequency_current_month', \n",
    "            data = data[['cluster','Avg_class_frequency_current_month']])\n",
    "axs[6][0].set_title('средняя частота посещений в неделю за предыдущий месяц')\n",
    "\n",
    "sns.boxplot(ax=axs[6][1], x ='cluster',y = 'Churn', data = data[['cluster','Churn']])\n",
    "axs[6][1].set_title('отток')"
   ]
  },
  {
   "cell_type": "markdown",
   "metadata": {},
   "source": [
    "По графикам мы можем подтвердить наши наблюдения:\n",
    "* Группа 0 живет/работает в районе фитнес-центра, является сотрудником компании-партнера, берет сразу длительные абонементы и достаточно хорошо ходит на тренировки (второй результат по всем группам)\n",
    "* Группа 4 - энтузиасты спортзала. Они живут неподалеку и очень любят заниматься (лидируют со значительным отрывом среди всех групп).\n",
    "* Группа 1 - среднячки, но без контактного телефона. Наверное, не любят узнавать новости от своего фитнес клуба.\n",
    "* Группа 2 - не живут и не работают в районе клуба, приходят по акции \"приведи друга\" и берут короткие абонементы. На тренировки почти не ходят.\n",
    "* Группа 3 - наихудшая. Хоть и живут рядом, но почти не ходят на тренировки. А зачем платить за абонемент, если ты им не пользуешься?"
   ]
  },
  {
   "cell_type": "markdown",
   "metadata": {},
   "source": [
    "# Вывод\n",
    "\n",
    "[*Назад к оглавлению*](#content)\n",
    "\n",
    "<a id='finish'></a>"
   ]
  },
  {
   "cell_type": "markdown",
   "metadata": {},
   "source": [
    "По общим данным мы можем сделать следующие выводы:\n",
    "* по полу выборка достаточно равномерная: мужчины и женщины распределились почти в равных долях\n",
    "* большинство (85%) клиентов живут или работают в локаци, где находится фитнес-клуб\n",
    "* около половины клиентов - сотрудники компаний-партнеров клуба\n",
    "* около 31% клиентов привели их друзья\n",
    "* большинство клиентов (90%) оставили свой номер телефона\n",
    "* 41% клиентов посещают групповые занятия\n",
    "* средний и медианный возраст - 29 лет, стандартное отклонение всего 3,25 - так что разброс возраста не очень большой.\n",
    "* в среднем клиенты тратят на другие услуги клуба около 150, однако стандартное отклонение состоявляет почти 100 - это очень большое разброс в данных. Кто-то из клиентов потратил более 550\n",
    "* Больше половины клиентов заключили контракт на 1 месяц, остальные и по четверти клиентов контракты на 6 и 12 месяцев\n",
    "* Также можно заметить, что у большинства клиентов до конца контрактв остались 1, 5-6 или 11-12 месяцев. Значит в основная часть клиентов совсем недавно заключали свои контракты.\n",
    "* Это подтверждает и среднее время с момента первого обращения в фитнес-центр - для большинства клиентов это срок до 5 месяцев.\n",
    "* Отток составляет около 26,5%."
   ]
  },
  {
   "cell_type": "markdown",
   "metadata": {},
   "source": [
    "В разбивке на оставшихся клиентов и отток ясно следующее:\n",
    "* Мужчины и женщины уходят в отток одинакого - структура практически не поменялась\n",
    "* Те, кто остаются в клубе, в основном живут в локации клуба (87%). Среди тех, кто уходит в отток таких всего 77%.\n",
    "* Большая часть тех, кто остается в клубе являются сотрудниками компаний-партнеров. Из тех, кто ушел в отток, таких только 35%.\n",
    "* Продолжающие заниматься куда чаще ходят на групповые тренировки - 46% против 27%.\n",
    "* Подавляющее число клиентов попавших в отток брали контракт всего на один месяц, видимо, попробовали и им не понравилось. По продолжающим заниматься ситуация намного лучше, контрактов на 1 месяц все-таки большинство, но 12 месяцев не сильно отстают. Да и желающих заниматься полгода достаточно.\n",
    "* Зато можно заметить, что в основном уходят люди слегка не доходя первый месяц. Те, кто остаются, в среднем имеют более длительные отношения с фитнес-центром - около 4,7 месяцев.\n",
    "* Частота посещения клуба за все время примерно похожа для тех, кто уходит, и тех, кто остается (хотя в среднем те, кто остаются заниматься все же ходят почаще).\n",
    "* А вот ситуация в последний месяц резко отличается: те, кто планирует уходить, почти не посещают клуб."
   ]
  },
  {
   "cell_type": "markdown",
   "metadata": {},
   "source": [
    "Для маркетингового отдела можно сделать следующие рекомендации:\n",
    "* Делать упор на групповые тренировки. Те, кто на них ходит, куда реже уходят из клуба.\n",
    "* Продолжать работу с акцией \"приведи друга\". Скорее всего заниматься со своими друзьями куда приятней (к тому же, вы можете стимулировать друг друга)\n",
    "* Возможно стоит предлагать клиентам сразу более длинные контракты - так не будет искушения перестать ходить после одного месяца тренировок.\n",
    "* Стоит рассмотреть группу потенциальных клиентов в близлежайшей к фитнес-центру локации. Может быть предложить акции при переходе из других ближайших клубов.\n",
    "* Но не стоит забывать о клиентах, работающих в компаниях-партнерах, они достаточно охотно ходят на тренировки."
   ]
  }
 ],
 "metadata": {
  "ExecuteTimeLog": [
   {
    "duration": 875,
    "start_time": "2022-02-25T09:13:06.364Z"
   },
   {
    "duration": 28,
    "start_time": "2022-02-25T09:13:11.326Z"
   },
   {
    "duration": 22,
    "start_time": "2022-02-25T09:13:18.340Z"
   },
   {
    "duration": 11,
    "start_time": "2022-02-25T09:15:56.294Z"
   },
   {
    "duration": 71,
    "start_time": "2022-02-25T09:23:11.980Z"
   },
   {
    "duration": 7,
    "start_time": "2022-02-25T09:45:18.947Z"
   },
   {
    "duration": 411,
    "start_time": "2022-02-25T09:46:21.554Z"
   },
   {
    "duration": 19,
    "start_time": "2022-02-25T09:46:29.250Z"
   },
   {
    "duration": 9,
    "start_time": "2022-02-25T09:46:49.738Z"
   },
   {
    "duration": 208,
    "start_time": "2022-02-28T09:10:14.545Z"
   },
   {
    "duration": 665,
    "start_time": "2022-02-28T09:10:23.325Z"
   },
   {
    "duration": 19,
    "start_time": "2022-02-28T09:10:23.992Z"
   },
   {
    "duration": 16,
    "start_time": "2022-02-28T09:10:24.014Z"
   },
   {
    "duration": 12,
    "start_time": "2022-02-28T09:10:24.032Z"
   },
   {
    "duration": 68,
    "start_time": "2022-02-28T09:10:24.046Z"
   },
   {
    "duration": 7,
    "start_time": "2022-02-28T09:10:24.116Z"
   },
   {
    "duration": 7,
    "start_time": "2022-02-28T09:10:24.125Z"
   },
   {
    "duration": 8,
    "start_time": "2022-02-28T09:13:26.312Z"
   },
   {
    "duration": 4168,
    "start_time": "2022-02-28T09:14:52.448Z"
   },
   {
    "duration": 653,
    "start_time": "2022-02-28T09:15:06.955Z"
   },
   {
    "duration": 787,
    "start_time": "2022-02-28T09:16:04.019Z"
   },
   {
    "duration": 5,
    "start_time": "2022-02-28T09:47:12.246Z"
   },
   {
    "duration": 17,
    "start_time": "2022-02-28T09:47:27.585Z"
   },
   {
    "duration": 6,
    "start_time": "2022-02-28T10:14:57.951Z"
   },
   {
    "duration": 6208,
    "start_time": "2022-02-28T10:15:38.200Z"
   },
   {
    "duration": 8,
    "start_time": "2022-02-28T10:15:51.592Z"
   },
   {
    "duration": 3,
    "start_time": "2022-02-28T10:18:35.605Z"
   },
   {
    "duration": 390,
    "start_time": "2022-02-28T10:18:49.641Z"
   },
   {
    "duration": 4,
    "start_time": "2022-02-28T10:19:47.225Z"
   },
   {
    "duration": 386,
    "start_time": "2022-02-28T10:19:47.231Z"
   },
   {
    "duration": 5,
    "start_time": "2022-02-28T10:20:14.107Z"
   },
   {
    "duration": 363,
    "start_time": "2022-02-28T10:20:14.885Z"
   },
   {
    "duration": 358,
    "start_time": "2022-02-28T10:20:29.928Z"
   },
   {
    "duration": 344,
    "start_time": "2022-02-28T10:20:54.124Z"
   },
   {
    "duration": 4,
    "start_time": "2022-02-28T10:22:46.214Z"
   },
   {
    "duration": 221,
    "start_time": "2022-02-28T10:22:46.758Z"
   },
   {
    "duration": 241,
    "start_time": "2022-02-28T10:22:48.630Z"
   },
   {
    "duration": 225,
    "start_time": "2022-02-28T10:22:49.580Z"
   },
   {
    "duration": 236,
    "start_time": "2022-02-28T10:22:52.126Z"
   },
   {
    "duration": 311,
    "start_time": "2022-02-28T10:23:05.366Z"
   },
   {
    "duration": 237,
    "start_time": "2022-02-28T10:23:19.357Z"
   },
   {
    "duration": 249,
    "start_time": "2022-02-28T10:25:46.256Z"
   },
   {
    "duration": 1481,
    "start_time": "2022-02-28T10:35:13.974Z"
   },
   {
    "duration": 1663,
    "start_time": "2022-02-28T10:35:28.476Z"
   },
   {
    "duration": 1545,
    "start_time": "2022-02-28T10:35:50.919Z"
   },
   {
    "duration": 1261,
    "start_time": "2022-02-28T10:36:30.479Z"
   },
   {
    "duration": 1779,
    "start_time": "2022-02-28T10:37:59.356Z"
   },
   {
    "duration": 1691,
    "start_time": "2022-02-28T10:39:50.079Z"
   },
   {
    "duration": 1852,
    "start_time": "2022-02-28T10:40:53.625Z"
   },
   {
    "duration": 1923,
    "start_time": "2022-02-28T10:41:52.715Z"
   },
   {
    "duration": 1970,
    "start_time": "2022-02-28T10:42:01.850Z"
   },
   {
    "duration": 1844,
    "start_time": "2022-02-28T10:44:19.514Z"
   },
   {
    "duration": 1555,
    "start_time": "2022-02-28T10:54:00.722Z"
   },
   {
    "duration": 1328,
    "start_time": "2022-02-28T10:54:19.353Z"
   },
   {
    "duration": 1381,
    "start_time": "2022-02-28T10:54:37.953Z"
   },
   {
    "duration": 1290,
    "start_time": "2022-02-28T10:54:55.989Z"
   },
   {
    "duration": 1869,
    "start_time": "2022-02-28T10:55:48.323Z"
   },
   {
    "duration": 1804,
    "start_time": "2022-02-28T10:56:01.146Z"
   },
   {
    "duration": 1855,
    "start_time": "2022-02-28T10:56:14.898Z"
   },
   {
    "duration": 1889,
    "start_time": "2022-02-28T10:56:27.127Z"
   },
   {
    "duration": 1564,
    "start_time": "2022-02-28T10:56:35.019Z"
   },
   {
    "duration": 1756,
    "start_time": "2022-02-28T10:56:45.835Z"
   },
   {
    "duration": 2369,
    "start_time": "2022-02-28T10:59:27.172Z"
   },
   {
    "duration": 185,
    "start_time": "2022-02-28T11:09:12.588Z"
   },
   {
    "duration": 445,
    "start_time": "2022-02-28T11:09:29.178Z"
   },
   {
    "duration": 1077,
    "start_time": "2022-02-28T11:09:34.146Z"
   },
   {
    "duration": 676,
    "start_time": "2022-02-28T11:11:43.812Z"
   },
   {
    "duration": 655,
    "start_time": "2022-02-28T11:11:52.237Z"
   },
   {
    "duration": 164,
    "start_time": "2022-02-28T11:12:01.366Z"
   },
   {
    "duration": 1025,
    "start_time": "2022-02-28T11:12:13.444Z"
   },
   {
    "duration": 66,
    "start_time": "2022-02-28T11:13:44.422Z"
   },
   {
    "duration": 1121,
    "start_time": "2022-02-28T11:14:23.784Z"
   },
   {
    "duration": 1327,
    "start_time": "2022-02-28T11:14:33.430Z"
   },
   {
    "duration": 1314,
    "start_time": "2022-02-28T11:14:43.174Z"
   },
   {
    "duration": 5,
    "start_time": "2022-02-28T12:37:25.887Z"
   },
   {
    "duration": 214,
    "start_time": "2022-02-28T12:37:26.733Z"
   },
   {
    "duration": 58,
    "start_time": "2022-02-28T12:39:17.373Z"
   },
   {
    "duration": 4,
    "start_time": "2022-02-28T12:39:50.584Z"
   },
   {
    "duration": 7,
    "start_time": "2022-02-28T12:40:06.637Z"
   },
   {
    "duration": 7,
    "start_time": "2022-02-28T12:41:59.208Z"
   },
   {
    "duration": 28,
    "start_time": "2022-02-28T12:44:16.586Z"
   },
   {
    "duration": 56,
    "start_time": "2022-02-28T12:47:57.278Z"
   },
   {
    "duration": 28,
    "start_time": "2022-02-28T12:48:55.119Z"
   },
   {
    "duration": 196,
    "start_time": "2022-02-28T12:50:00.591Z"
   },
   {
    "duration": 24,
    "start_time": "2022-02-28T12:50:21.462Z"
   },
   {
    "duration": 379,
    "start_time": "2022-02-28T12:50:25.736Z"
   },
   {
    "duration": 4,
    "start_time": "2022-02-28T12:51:56.576Z"
   },
   {
    "duration": 2377,
    "start_time": "2022-02-28T12:52:32.168Z"
   },
   {
    "duration": 4,
    "start_time": "2022-02-28T12:53:13.281Z"
   },
   {
    "duration": 8,
    "start_time": "2022-02-28T12:53:18.170Z"
   },
   {
    "duration": 393,
    "start_time": "2022-02-28T12:53:59.896Z"
   },
   {
    "duration": 10,
    "start_time": "2022-02-28T12:54:10.546Z"
   },
   {
    "duration": 1322,
    "start_time": "2022-02-28T12:55:36.900Z"
   },
   {
    "duration": 19,
    "start_time": "2022-02-28T12:55:38.225Z"
   },
   {
    "duration": 36,
    "start_time": "2022-02-28T12:55:38.247Z"
   },
   {
    "duration": 20,
    "start_time": "2022-02-28T12:55:38.285Z"
   },
   {
    "duration": 69,
    "start_time": "2022-02-28T12:55:38.308Z"
   },
   {
    "duration": 677,
    "start_time": "2022-02-28T12:55:38.379Z"
   },
   {
    "duration": 18,
    "start_time": "2022-02-28T12:55:39.058Z"
   },
   {
    "duration": 2207,
    "start_time": "2022-02-28T12:55:39.078Z"
   },
   {
    "duration": 1745,
    "start_time": "2022-02-28T12:55:41.290Z"
   },
   {
    "duration": 5,
    "start_time": "2022-02-28T12:55:43.037Z"
   },
   {
    "duration": 17,
    "start_time": "2022-02-28T12:55:43.045Z"
   },
   {
    "duration": 6,
    "start_time": "2022-02-28T12:55:43.064Z"
   },
   {
    "duration": 228,
    "start_time": "2022-02-28T12:55:43.073Z"
   },
   {
    "duration": 99,
    "start_time": "2022-02-28T12:55:43.304Z"
   },
   {
    "duration": 462,
    "start_time": "2022-02-28T12:55:43.405Z"
   },
   {
    "duration": 10,
    "start_time": "2022-02-28T12:55:43.869Z"
   },
   {
    "duration": 4,
    "start_time": "2022-02-28T13:01:19.551Z"
   },
   {
    "duration": 571,
    "start_time": "2022-02-28T13:01:21.958Z"
   },
   {
    "duration": 4,
    "start_time": "2022-02-28T13:01:29.632Z"
   },
   {
    "duration": 9,
    "start_time": "2022-02-28T13:01:36.383Z"
   },
   {
    "duration": 11,
    "start_time": "2022-02-28T13:01:40.447Z"
   },
   {
    "duration": 54,
    "start_time": "2022-02-28T13:09:56.797Z"
   },
   {
    "duration": 4,
    "start_time": "2022-02-28T13:10:09.907Z"
   },
   {
    "duration": 19,
    "start_time": "2022-02-28T13:11:24.820Z"
   },
   {
    "duration": 9,
    "start_time": "2022-02-28T13:11:31.491Z"
   },
   {
    "duration": 5,
    "start_time": "2022-02-28T13:13:09.868Z"
   },
   {
    "duration": 559,
    "start_time": "2022-02-28T13:13:36.487Z"
   },
   {
    "duration": 94562,
    "start_time": "2022-02-28T13:13:38.685Z"
   },
   {
    "duration": 1962,
    "start_time": "2022-02-28T13:22:41.853Z"
   },
   {
    "duration": 20,
    "start_time": "2022-02-28T13:22:45.618Z"
   },
   {
    "duration": 1439,
    "start_time": "2022-02-28T13:25:11.503Z"
   },
   {
    "duration": 17,
    "start_time": "2022-02-28T13:25:12.945Z"
   },
   {
    "duration": 18,
    "start_time": "2022-02-28T13:25:12.965Z"
   },
   {
    "duration": 22,
    "start_time": "2022-02-28T13:25:12.985Z"
   },
   {
    "duration": 91,
    "start_time": "2022-02-28T13:25:13.010Z"
   },
   {
    "duration": 946,
    "start_time": "2022-02-28T13:25:13.104Z"
   },
   {
    "duration": 25,
    "start_time": "2022-02-28T13:25:14.053Z"
   },
   {
    "duration": 2315,
    "start_time": "2022-02-28T13:25:14.080Z"
   },
   {
    "duration": 1404,
    "start_time": "2022-02-28T13:25:16.398Z"
   },
   {
    "duration": 5,
    "start_time": "2022-02-28T13:25:17.804Z"
   },
   {
    "duration": 15,
    "start_time": "2022-02-28T13:25:17.811Z"
   },
   {
    "duration": 6,
    "start_time": "2022-02-28T13:25:17.829Z"
   },
   {
    "duration": 72,
    "start_time": "2022-02-28T13:25:17.837Z"
   },
   {
    "duration": 99,
    "start_time": "2022-02-28T13:25:18.003Z"
   },
   {
    "duration": 403,
    "start_time": "2022-02-28T13:25:18.104Z"
   },
   {
    "duration": 10,
    "start_time": "2022-02-28T13:25:18.509Z"
   },
   {
    "duration": 6,
    "start_time": "2022-02-28T13:25:18.521Z"
   },
   {
    "duration": 95126,
    "start_time": "2022-02-28T13:25:18.529Z"
   },
   {
    "duration": 1951,
    "start_time": "2022-02-28T13:26:53.657Z"
   },
   {
    "duration": 20,
    "start_time": "2022-02-28T13:26:55.610Z"
   },
   {
    "duration": 2786,
    "start_time": "2022-02-28T13:27:39.184Z"
   },
   {
    "duration": 2654,
    "start_time": "2022-02-28T13:29:08.777Z"
   },
   {
    "duration": 2505,
    "start_time": "2022-02-28T13:30:50.257Z"
   },
   {
    "duration": 2505,
    "start_time": "2022-02-28T13:33:17.139Z"
   },
   {
    "duration": 1843,
    "start_time": "2022-02-28T13:33:45.460Z"
   },
   {
    "duration": 1755,
    "start_time": "2022-02-28T13:34:27.548Z"
   },
   {
    "duration": 1890,
    "start_time": "2022-02-28T13:38:38.590Z"
   },
   {
    "duration": 2372,
    "start_time": "2022-02-28T13:50:19.953Z"
   },
   {
    "duration": 53,
    "start_time": "2022-02-28T13:50:59.798Z"
   },
   {
    "duration": 5,
    "start_time": "2022-02-28T13:51:43.919Z"
   },
   {
    "duration": 5,
    "start_time": "2022-02-28T13:52:10.558Z"
   },
   {
    "duration": 2904,
    "start_time": "2022-02-28T13:54:03.762Z"
   },
   {
    "duration": 2655,
    "start_time": "2022-02-28T13:54:26.129Z"
   },
   {
    "duration": 2931,
    "start_time": "2022-02-28T13:55:54.258Z"
   },
   {
    "duration": 2127,
    "start_time": "2022-02-28T13:56:05.196Z"
   },
   {
    "duration": 1984,
    "start_time": "2022-02-28T13:56:19.274Z"
   },
   {
    "duration": 14183,
    "start_time": "2022-02-28T13:57:46.477Z"
   },
   {
    "duration": 14798,
    "start_time": "2022-02-28T13:58:45.531Z"
   },
   {
    "duration": 1263,
    "start_time": "2022-02-28T13:59:58.792Z"
   },
   {
    "duration": 23,
    "start_time": "2022-02-28T14:00:00.058Z"
   },
   {
    "duration": 20,
    "start_time": "2022-02-28T14:00:00.083Z"
   },
   {
    "duration": 30,
    "start_time": "2022-02-28T14:00:00.105Z"
   },
   {
    "duration": 13117,
    "start_time": "2022-02-28T14:00:00.137Z"
   },
   {
    "duration": 62,
    "start_time": "2022-02-28T14:00:13.257Z"
   },
   {
    "duration": 705,
    "start_time": "2022-02-28T14:00:13.321Z"
   },
   {
    "duration": 18,
    "start_time": "2022-02-28T14:00:14.028Z"
   },
   {
    "duration": 2425,
    "start_time": "2022-02-28T14:00:14.049Z"
   },
   {
    "duration": 1412,
    "start_time": "2022-02-28T14:00:16.477Z"
   },
   {
    "duration": 10,
    "start_time": "2022-02-28T14:00:17.891Z"
   },
   {
    "duration": 17,
    "start_time": "2022-02-28T14:00:17.903Z"
   },
   {
    "duration": 13,
    "start_time": "2022-02-28T14:00:17.922Z"
   },
   {
    "duration": 165,
    "start_time": "2022-02-28T14:00:17.937Z"
   },
   {
    "duration": 99,
    "start_time": "2022-02-28T14:00:18.104Z"
   },
   {
    "duration": 399,
    "start_time": "2022-02-28T14:00:18.205Z"
   },
   {
    "duration": 9,
    "start_time": "2022-02-28T14:00:18.606Z"
   },
   {
    "duration": 6,
    "start_time": "2022-02-28T14:00:18.617Z"
   },
   {
    "duration": 88668,
    "start_time": "2022-02-28T14:00:18.625Z"
   },
   {
    "duration": 1500,
    "start_time": "2022-02-28T14:01:47.301Z"
   },
   {
    "duration": 20,
    "start_time": "2022-02-28T14:01:48.803Z"
   },
   {
    "duration": 1869,
    "start_time": "2022-02-28T14:01:48.825Z"
   },
   {
    "duration": 2150,
    "start_time": "2022-02-28T14:01:50.695Z"
   },
   {
    "duration": 5,
    "start_time": "2022-02-28T14:02:45.672Z"
   },
   {
    "duration": 5,
    "start_time": "2022-02-28T14:03:20.198Z"
   },
   {
    "duration": 13232,
    "start_time": "2022-02-28T14:04:02.376Z"
   },
   {
    "duration": 5,
    "start_time": "2022-02-28T14:09:10.499Z"
   },
   {
    "duration": 1219,
    "start_time": "2022-02-28T14:09:43.146Z"
   },
   {
    "duration": 366,
    "start_time": "2022-02-28T14:10:47.419Z"
   },
   {
    "duration": 229,
    "start_time": "2022-02-28T14:14:55.447Z"
   },
   {
    "duration": 12559,
    "start_time": "2022-02-28T14:15:06.632Z"
   },
   {
    "duration": 2225,
    "start_time": "2022-02-28T14:15:40.039Z"
   },
   {
    "duration": 2544,
    "start_time": "2022-02-28T14:15:47.963Z"
   },
   {
    "duration": 2077,
    "start_time": "2022-02-28T14:15:58.463Z"
   },
   {
    "duration": 2084,
    "start_time": "2022-02-28T14:16:06.799Z"
   },
   {
    "duration": 3128,
    "start_time": "2022-02-28T14:20:52.538Z"
   },
   {
    "duration": 3113,
    "start_time": "2022-02-28T14:22:20.183Z"
   },
   {
    "duration": 3235,
    "start_time": "2022-02-28T14:23:33.924Z"
   },
   {
    "duration": 2541,
    "start_time": "2022-02-28T14:25:13.175Z"
   },
   {
    "duration": 3549,
    "start_time": "2022-02-28T14:26:11.188Z"
   },
   {
    "duration": 2915,
    "start_time": "2022-02-28T14:26:26.926Z"
   },
   {
    "duration": 2956,
    "start_time": "2022-02-28T14:26:46.118Z"
   },
   {
    "duration": 3416,
    "start_time": "2022-02-28T14:30:11.815Z"
   },
   {
    "duration": 3434,
    "start_time": "2022-02-28T14:32:18.194Z"
   },
   {
    "duration": 3092,
    "start_time": "2022-02-28T14:32:27.289Z"
   },
   {
    "duration": 3088,
    "start_time": "2022-02-28T14:33:02.123Z"
   },
   {
    "duration": 2911,
    "start_time": "2022-02-28T14:33:53.459Z"
   },
   {
    "duration": 50,
    "start_time": "2022-02-28T14:35:28.941Z"
   },
   {
    "duration": 14,
    "start_time": "2022-02-28T14:49:52.040Z"
   },
   {
    "duration": 1218,
    "start_time": "2022-02-28T15:09:17.630Z"
   },
   {
    "duration": 19,
    "start_time": "2022-02-28T15:09:18.850Z"
   },
   {
    "duration": 30,
    "start_time": "2022-02-28T15:09:18.872Z"
   },
   {
    "duration": 9,
    "start_time": "2022-02-28T15:09:18.905Z"
   },
   {
    "duration": 49,
    "start_time": "2022-02-28T15:09:18.917Z"
   },
   {
    "duration": 634,
    "start_time": "2022-02-28T15:09:18.969Z"
   },
   {
    "duration": 16,
    "start_time": "2022-02-28T15:09:19.605Z"
   },
   {
    "duration": 3098,
    "start_time": "2022-02-28T15:09:19.623Z"
   },
   {
    "duration": 1318,
    "start_time": "2022-02-28T15:09:22.725Z"
   },
   {
    "duration": 4,
    "start_time": "2022-02-28T15:09:24.046Z"
   },
   {
    "duration": 34,
    "start_time": "2022-02-28T15:09:24.052Z"
   },
   {
    "duration": 28,
    "start_time": "2022-02-28T15:09:24.088Z"
   },
   {
    "duration": 45,
    "start_time": "2022-02-28T15:09:24.118Z"
   },
   {
    "duration": 40,
    "start_time": "2022-02-28T15:09:24.166Z"
   },
   {
    "duration": 472,
    "start_time": "2022-02-28T15:09:24.208Z"
   },
   {
    "duration": 19,
    "start_time": "2022-02-28T15:09:24.682Z"
   },
   {
    "duration": 9,
    "start_time": "2022-02-28T15:09:24.703Z"
   },
   {
    "duration": 87811,
    "start_time": "2022-02-28T15:09:24.714Z"
   },
   {
    "duration": 1381,
    "start_time": "2022-02-28T15:10:52.527Z"
   },
   {
    "duration": 104,
    "start_time": "2022-02-28T15:10:53.911Z"
   },
   {
    "duration": 3173,
    "start_time": "2022-02-28T15:10:54.017Z"
   },
   {
    "duration": 1551,
    "start_time": "2022-03-01T13:01:25.005Z"
   },
   {
    "duration": 21,
    "start_time": "2022-03-01T13:01:26.558Z"
   },
   {
    "duration": 24,
    "start_time": "2022-03-01T13:01:26.586Z"
   },
   {
    "duration": 11,
    "start_time": "2022-03-01T13:01:26.613Z"
   },
   {
    "duration": 108,
    "start_time": "2022-03-01T13:01:26.627Z"
   },
   {
    "duration": 1025,
    "start_time": "2022-03-01T13:01:26.737Z"
   },
   {
    "duration": 42,
    "start_time": "2022-03-01T13:01:27.765Z"
   },
   {
    "duration": 4947,
    "start_time": "2022-03-01T13:01:27.812Z"
   },
   {
    "duration": 2146,
    "start_time": "2022-03-01T13:01:32.762Z"
   },
   {
    "duration": 6,
    "start_time": "2022-03-01T13:01:34.910Z"
   },
   {
    "duration": 12,
    "start_time": "2022-03-01T13:01:34.919Z"
   },
   {
    "duration": 7,
    "start_time": "2022-03-01T13:01:34.933Z"
   },
   {
    "duration": 88,
    "start_time": "2022-03-01T13:01:34.942Z"
   },
   {
    "duration": 67,
    "start_time": "2022-03-01T13:01:35.033Z"
   },
   {
    "duration": 670,
    "start_time": "2022-03-01T13:01:35.188Z"
   },
   {
    "duration": 27,
    "start_time": "2022-03-01T13:01:35.860Z"
   },
   {
    "duration": 10,
    "start_time": "2022-03-01T13:01:35.890Z"
   },
   {
    "duration": 149567,
    "start_time": "2022-03-01T13:01:35.903Z"
   },
   {
    "duration": 1817,
    "start_time": "2022-03-01T13:04:05.472Z"
   },
   {
    "duration": 112,
    "start_time": "2022-03-01T13:04:07.298Z"
   },
   {
    "duration": 5033,
    "start_time": "2022-03-01T13:04:07.413Z"
   },
   {
    "duration": 1144,
    "start_time": "2022-03-01T13:12:50.182Z"
   },
   {
    "duration": 15,
    "start_time": "2022-03-01T13:12:51.328Z"
   },
   {
    "duration": 19,
    "start_time": "2022-03-01T13:12:51.345Z"
   },
   {
    "duration": 7,
    "start_time": "2022-03-01T13:12:51.366Z"
   },
   {
    "duration": 41,
    "start_time": "2022-03-01T13:12:51.375Z"
   },
   {
    "duration": 560,
    "start_time": "2022-03-01T13:12:51.417Z"
   },
   {
    "duration": 14,
    "start_time": "2022-03-01T13:12:51.978Z"
   },
   {
    "duration": 2723,
    "start_time": "2022-03-01T13:12:51.994Z"
   },
   {
    "duration": 1245,
    "start_time": "2022-03-01T13:12:54.720Z"
   },
   {
    "duration": 4,
    "start_time": "2022-03-01T13:12:55.968Z"
   },
   {
    "duration": 9,
    "start_time": "2022-03-01T13:12:55.974Z"
   },
   {
    "duration": 4,
    "start_time": "2022-03-01T13:12:55.984Z"
   },
   {
    "duration": 74,
    "start_time": "2022-03-01T13:12:55.990Z"
   },
   {
    "duration": 100,
    "start_time": "2022-03-01T13:12:56.066Z"
   },
   {
    "duration": 426,
    "start_time": "2022-03-01T13:12:56.168Z"
   },
   {
    "duration": 8,
    "start_time": "2022-03-01T13:12:56.595Z"
   },
   {
    "duration": 7,
    "start_time": "2022-03-01T13:12:56.605Z"
   },
   {
    "duration": 79672,
    "start_time": "2022-03-01T13:12:56.613Z"
   },
   {
    "duration": 1578,
    "start_time": "2022-03-01T13:14:16.287Z"
   },
   {
    "duration": 17,
    "start_time": "2022-03-01T13:14:17.867Z"
   },
   {
    "duration": 2953,
    "start_time": "2022-03-01T13:14:17.886Z"
   },
   {
    "duration": 9,
    "start_time": "2022-03-01T13:16:43.275Z"
   },
   {
    "duration": 4,
    "start_time": "2022-03-01T13:16:50.573Z"
   },
   {
    "duration": 28,
    "start_time": "2022-03-01T13:16:51.835Z"
   },
   {
    "duration": 8,
    "start_time": "2022-03-01T13:16:55.124Z"
   },
   {
    "duration": 354,
    "start_time": "2022-03-01T13:16:58.852Z"
   },
   {
    "duration": 11,
    "start_time": "2022-03-01T13:17:00.699Z"
   },
   {
    "duration": 1327,
    "start_time": "2022-03-01T13:21:48.638Z"
   },
   {
    "duration": 327,
    "start_time": "2022-03-01T13:21:58.022Z"
   },
   {
    "duration": 9,
    "start_time": "2022-03-01T13:21:59.436Z"
   },
   {
    "duration": 6,
    "start_time": "2022-03-01T13:22:01.934Z"
   },
   {
    "duration": 1338,
    "start_time": "2022-03-01T13:22:08.630Z"
   },
   {
    "duration": 17,
    "start_time": "2022-03-01T13:22:11.159Z"
   },
   {
    "duration": 14,
    "start_time": "2022-03-01T13:28:51.691Z"
   },
   {
    "duration": 6,
    "start_time": "2022-03-01T13:29:18.738Z"
   },
   {
    "duration": 2597,
    "start_time": "2022-03-01T13:32:43.690Z"
   },
   {
    "duration": 2643,
    "start_time": "2022-03-01T13:33:18.476Z"
   },
   {
    "duration": 4,
    "start_time": "2022-03-01T13:38:46.928Z"
   },
   {
    "duration": 255,
    "start_time": "2022-03-01T13:39:45.960Z"
   },
   {
    "duration": 163,
    "start_time": "2022-03-01T13:40:04.284Z"
   },
   {
    "duration": 3824,
    "start_time": "2022-03-01T13:41:34.699Z"
   },
   {
    "duration": 10,
    "start_time": "2022-03-01T13:41:47.472Z"
   },
   {
    "duration": 145,
    "start_time": "2022-03-01T13:42:35.523Z"
   },
   {
    "duration": 160,
    "start_time": "2022-03-01T13:44:00.115Z"
   },
   {
    "duration": 2561,
    "start_time": "2022-03-01T13:44:41.590Z"
   },
   {
    "duration": 3131,
    "start_time": "2022-03-01T13:47:00.701Z"
   },
   {
    "duration": 2406,
    "start_time": "2022-03-01T13:47:35.182Z"
   },
   {
    "duration": 178,
    "start_time": "2022-03-01T13:50:59.448Z"
   },
   {
    "duration": 2678,
    "start_time": "2022-03-01T13:51:26.601Z"
   },
   {
    "duration": 2672,
    "start_time": "2022-03-01T13:51:40.529Z"
   },
   {
    "duration": 3067,
    "start_time": "2022-03-01T13:51:51.578Z"
   },
   {
    "duration": 2879,
    "start_time": "2022-03-01T13:55:29.499Z"
   },
   {
    "duration": 3093,
    "start_time": "2022-03-01T13:56:40.615Z"
   },
   {
    "duration": 1131,
    "start_time": "2022-03-01T13:59:07.760Z"
   },
   {
    "duration": 18,
    "start_time": "2022-03-01T13:59:08.893Z"
   },
   {
    "duration": 15,
    "start_time": "2022-03-01T13:59:08.914Z"
   },
   {
    "duration": 9,
    "start_time": "2022-03-01T13:59:08.931Z"
   },
   {
    "duration": 62,
    "start_time": "2022-03-01T13:59:08.941Z"
   },
   {
    "duration": 576,
    "start_time": "2022-03-01T13:59:09.006Z"
   },
   {
    "duration": 16,
    "start_time": "2022-03-01T13:59:09.584Z"
   },
   {
    "duration": 2749,
    "start_time": "2022-03-01T13:59:09.601Z"
   },
   {
    "duration": 1209,
    "start_time": "2022-03-01T13:59:12.354Z"
   },
   {
    "duration": 5,
    "start_time": "2022-03-01T13:59:13.565Z"
   },
   {
    "duration": 11,
    "start_time": "2022-03-01T13:59:13.572Z"
   },
   {
    "duration": 4,
    "start_time": "2022-03-01T13:59:13.584Z"
   },
   {
    "duration": 77,
    "start_time": "2022-03-01T13:59:13.590Z"
   },
   {
    "duration": 100,
    "start_time": "2022-03-01T13:59:13.669Z"
   },
   {
    "duration": 378,
    "start_time": "2022-03-01T13:59:13.771Z"
   },
   {
    "duration": 15,
    "start_time": "2022-03-01T13:59:14.150Z"
   },
   {
    "duration": 5,
    "start_time": "2022-03-01T13:59:14.166Z"
   },
   {
    "duration": 80867,
    "start_time": "2022-03-01T13:59:14.173Z"
   },
   {
    "duration": 1531,
    "start_time": "2022-03-01T14:00:35.041Z"
   },
   {
    "duration": 17,
    "start_time": "2022-03-01T14:00:36.664Z"
   },
   {
    "duration": 6,
    "start_time": "2022-03-01T14:00:36.682Z"
   },
   {
    "duration": 3091,
    "start_time": "2022-03-01T14:00:36.689Z"
   },
   {
    "duration": 1077,
    "start_time": "2022-03-01T14:21:21.107Z"
   },
   {
    "duration": 17,
    "start_time": "2022-03-01T14:21:22.186Z"
   },
   {
    "duration": 14,
    "start_time": "2022-03-01T14:21:22.205Z"
   },
   {
    "duration": 9,
    "start_time": "2022-03-01T14:21:22.221Z"
   },
   {
    "duration": 53,
    "start_time": "2022-03-01T14:21:22.231Z"
   },
   {
    "duration": 552,
    "start_time": "2022-03-01T14:21:22.286Z"
   },
   {
    "duration": 28,
    "start_time": "2022-03-01T14:21:22.839Z"
   },
   {
    "duration": 2783,
    "start_time": "2022-03-01T14:21:22.869Z"
   },
   {
    "duration": 1247,
    "start_time": "2022-03-01T14:21:25.655Z"
   },
   {
    "duration": 4,
    "start_time": "2022-03-01T14:21:26.904Z"
   },
   {
    "duration": 20,
    "start_time": "2022-03-01T14:21:26.909Z"
   },
   {
    "duration": 4,
    "start_time": "2022-03-01T14:21:26.930Z"
   },
   {
    "duration": 46,
    "start_time": "2022-03-01T14:21:26.935Z"
   },
   {
    "duration": 99,
    "start_time": "2022-03-01T14:21:27.064Z"
   },
   {
    "duration": 339,
    "start_time": "2022-03-01T14:21:27.165Z"
   },
   {
    "duration": 8,
    "start_time": "2022-03-01T14:21:27.506Z"
   },
   {
    "duration": 6,
    "start_time": "2022-03-01T14:21:27.516Z"
   },
   {
    "duration": 82541,
    "start_time": "2022-03-01T14:21:27.523Z"
   },
   {
    "duration": 1505,
    "start_time": "2022-03-01T14:22:50.066Z"
   },
   {
    "duration": 16,
    "start_time": "2022-03-01T14:22:51.664Z"
   },
   {
    "duration": 2936,
    "start_time": "2022-03-01T14:22:51.681Z"
   }
  ],
  "kernelspec": {
   "display_name": "Python 3",
   "language": "python",
   "name": "python3"
  },
  "language_info": {
   "codemirror_mode": {
    "name": "ipython",
    "version": 3
   },
   "file_extension": ".py",
   "mimetype": "text/x-python",
   "name": "python",
   "nbconvert_exporter": "python",
   "pygments_lexer": "ipython3",
   "version": "3.8.5"
  },
  "toc": {
   "base_numbering": 1,
   "nav_menu": {},
   "number_sections": true,
   "sideBar": true,
   "skip_h1_title": true,
   "title_cell": "Table of Contents",
   "title_sidebar": "Contents",
   "toc_cell": false,
   "toc_position": {},
   "toc_section_display": true,
   "toc_window_display": false
  }
 },
 "nbformat": 4,
 "nbformat_minor": 2
}
