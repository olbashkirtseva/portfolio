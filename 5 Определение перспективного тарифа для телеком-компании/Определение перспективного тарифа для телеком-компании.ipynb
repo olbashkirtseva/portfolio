{
 "cells": [
  {
   "cell_type": "markdown",
   "metadata": {},
   "source": [
    "# Определение перспективного тарифа для телеком-компании"
   ]
  },
  {
   "cell_type": "markdown",
   "metadata": {},
   "source": [
    "Клиентам предлагают два тарифных плана: «Смарт» и «Ультра». Чтобы скорректировать рекламный бюджет, коммерческий департамент хочет понять, какой тариф приносит больше денег.\n",
    "Нам предстоит сделать предварительный анализ тарифов на небольшой выборке клиентов. В нашем распоряжении данные 500 пользователей «Мегалайна»: кто они, откуда, каким тарифом пользуются, сколько звонков и сообщений каждый отправил за 2018 год. Нужно проанализировать поведение клиентов и сделать вывод — какой тариф лучше."
   ]
  },
  {
   "cell_type": "markdown",
   "metadata": {},
   "source": [
    "Нам будет необходимо:\n",
    "* Подготовить данные: привести данные к нужным типам, найти и исправить ошибки.\n",
    "* Проанализировать данные: описать поведение клиентов оператора, исходя из выборки.\n",
    "* Проверить гипотезы о выручке пользователей разных тарифов, а также разных регионов.\n",
    "* Сделать общий вывод о том, какой тариф выгоднее продвигать для компании."
   ]
  },
  {
   "cell_type": "markdown",
   "metadata": {},
   "source": [
    "<a id='content'></a>\n",
    "## Оглавление\n",
    "\n",
    "### Открытие и предобработка данных \n",
    "* [Загрузка датасета и проверка его на наличие дубликатов, пропусков и соответствие типам данных, а также правильность выгрузки](#start)\n",
    "\n",
    "### Анализ данных\n",
    "* [Оценка среднего пользователя тарифа Смарт](#part_1.1)\n",
    "* [Оценка среднего пользователя тарифа Ультра](#part_1.2)\n",
    "* [Сравнение тарифов Смарт и Ультра](#part_1.3)\n",
    "* [Вывод](#part_1.4)\n",
    "\n",
    "### Проверка гипотез\n",
    "* [Средняя выручка пользователей тарифов «Ультра» и «Смарт» различаются](#part_2.1)\n",
    "* [Средняя выручка пользователей из Москвы отличается от выручки пользователей из других регионов.](#part_2.2)\n",
    "* [Вывод](#part_2.3)\n",
    "\n",
    "### Вывод\n",
    "* [Сделаем общий вывод](#finish)\n"
   ]
  },
  {
   "cell_type": "markdown",
   "metadata": {},
   "source": [
    "## Открытие и предобработка данных \n",
    "<a id='start'></a>\n",
    "Загрузка датасетов и проверка их на пропусков и соответствие типам данных, а также правильность выгрузки.\n",
    "Предобработка данных.\n",
    "\n",
    "[*Назад к оглавлению*](#content)"
   ]
  },
  {
   "cell_type": "code",
   "execution_count": 1,
   "metadata": {},
   "outputs": [],
   "source": [
    "import pandas as pd\n",
    "import matplotlib.pyplot as plt\n",
    "import numpy as np\n",
    "import seaborn as sns\n",
    "from scipy import stats as st\n",
    "import warnings"
   ]
  },
  {
   "cell_type": "code",
   "execution_count": 2,
   "metadata": {},
   "outputs": [],
   "source": [
    "warnings.filterwarnings('ignore')"
   ]
  },
  {
   "cell_type": "code",
   "execution_count": 3,
   "metadata": {},
   "outputs": [],
   "source": [
    "data_calls = pd.read_csv('calls.csv')\n",
    "data_internet = pd.read_csv('internet.csv')\n",
    "data_messages = pd.read_csv('messages.csv')\n",
    "data_tariffs = pd.read_csv('tariffs.csv')\n",
    "data_users = pd.read_csv('users.csv')"
   ]
  },
  {
   "cell_type": "code",
   "execution_count": 4,
   "metadata": {},
   "outputs": [
    {
     "data": {
      "text/html": [
       "<div>\n",
       "<style scoped>\n",
       "    .dataframe tbody tr th:only-of-type {\n",
       "        vertical-align: middle;\n",
       "    }\n",
       "\n",
       "    .dataframe tbody tr th {\n",
       "        vertical-align: top;\n",
       "    }\n",
       "\n",
       "    .dataframe thead th {\n",
       "        text-align: right;\n",
       "    }\n",
       "</style>\n",
       "<table border=\"1\" class=\"dataframe\">\n",
       "  <thead>\n",
       "    <tr style=\"text-align: right;\">\n",
       "      <th></th>\n",
       "      <th>id</th>\n",
       "      <th>call_date</th>\n",
       "      <th>duration</th>\n",
       "      <th>user_id</th>\n",
       "    </tr>\n",
       "  </thead>\n",
       "  <tbody>\n",
       "    <tr>\n",
       "      <th>0</th>\n",
       "      <td>1000_0</td>\n",
       "      <td>2018-07-25</td>\n",
       "      <td>0.00</td>\n",
       "      <td>1000</td>\n",
       "    </tr>\n",
       "    <tr>\n",
       "      <th>1</th>\n",
       "      <td>1000_1</td>\n",
       "      <td>2018-08-17</td>\n",
       "      <td>0.00</td>\n",
       "      <td>1000</td>\n",
       "    </tr>\n",
       "    <tr>\n",
       "      <th>2</th>\n",
       "      <td>1000_2</td>\n",
       "      <td>2018-06-11</td>\n",
       "      <td>2.85</td>\n",
       "      <td>1000</td>\n",
       "    </tr>\n",
       "    <tr>\n",
       "      <th>3</th>\n",
       "      <td>1000_3</td>\n",
       "      <td>2018-09-21</td>\n",
       "      <td>13.80</td>\n",
       "      <td>1000</td>\n",
       "    </tr>\n",
       "    <tr>\n",
       "      <th>4</th>\n",
       "      <td>1000_4</td>\n",
       "      <td>2018-12-15</td>\n",
       "      <td>5.18</td>\n",
       "      <td>1000</td>\n",
       "    </tr>\n",
       "  </tbody>\n",
       "</table>\n",
       "</div>"
      ],
      "text/plain": [
       "       id   call_date  duration  user_id\n",
       "0  1000_0  2018-07-25      0.00     1000\n",
       "1  1000_1  2018-08-17      0.00     1000\n",
       "2  1000_2  2018-06-11      2.85     1000\n",
       "3  1000_3  2018-09-21     13.80     1000\n",
       "4  1000_4  2018-12-15      5.18     1000"
      ]
     },
     "execution_count": 4,
     "metadata": {},
     "output_type": "execute_result"
    }
   ],
   "source": [
    "data_calls.head()"
   ]
  },
  {
   "cell_type": "code",
   "execution_count": 5,
   "metadata": {},
   "outputs": [
    {
     "data": {
      "text/html": [
       "<div>\n",
       "<style scoped>\n",
       "    .dataframe tbody tr th:only-of-type {\n",
       "        vertical-align: middle;\n",
       "    }\n",
       "\n",
       "    .dataframe tbody tr th {\n",
       "        vertical-align: top;\n",
       "    }\n",
       "\n",
       "    .dataframe thead th {\n",
       "        text-align: right;\n",
       "    }\n",
       "</style>\n",
       "<table border=\"1\" class=\"dataframe\">\n",
       "  <thead>\n",
       "    <tr style=\"text-align: right;\">\n",
       "      <th></th>\n",
       "      <th>Unnamed: 0</th>\n",
       "      <th>id</th>\n",
       "      <th>mb_used</th>\n",
       "      <th>session_date</th>\n",
       "      <th>user_id</th>\n",
       "    </tr>\n",
       "  </thead>\n",
       "  <tbody>\n",
       "    <tr>\n",
       "      <th>0</th>\n",
       "      <td>0</td>\n",
       "      <td>1000_0</td>\n",
       "      <td>112.95</td>\n",
       "      <td>2018-11-25</td>\n",
       "      <td>1000</td>\n",
       "    </tr>\n",
       "    <tr>\n",
       "      <th>1</th>\n",
       "      <td>1</td>\n",
       "      <td>1000_1</td>\n",
       "      <td>1052.81</td>\n",
       "      <td>2018-09-07</td>\n",
       "      <td>1000</td>\n",
       "    </tr>\n",
       "    <tr>\n",
       "      <th>2</th>\n",
       "      <td>2</td>\n",
       "      <td>1000_2</td>\n",
       "      <td>1197.26</td>\n",
       "      <td>2018-06-25</td>\n",
       "      <td>1000</td>\n",
       "    </tr>\n",
       "    <tr>\n",
       "      <th>3</th>\n",
       "      <td>3</td>\n",
       "      <td>1000_3</td>\n",
       "      <td>550.27</td>\n",
       "      <td>2018-08-22</td>\n",
       "      <td>1000</td>\n",
       "    </tr>\n",
       "    <tr>\n",
       "      <th>4</th>\n",
       "      <td>4</td>\n",
       "      <td>1000_4</td>\n",
       "      <td>302.56</td>\n",
       "      <td>2018-09-24</td>\n",
       "      <td>1000</td>\n",
       "    </tr>\n",
       "  </tbody>\n",
       "</table>\n",
       "</div>"
      ],
      "text/plain": [
       "   Unnamed: 0      id  mb_used session_date  user_id\n",
       "0           0  1000_0   112.95   2018-11-25     1000\n",
       "1           1  1000_1  1052.81   2018-09-07     1000\n",
       "2           2  1000_2  1197.26   2018-06-25     1000\n",
       "3           3  1000_3   550.27   2018-08-22     1000\n",
       "4           4  1000_4   302.56   2018-09-24     1000"
      ]
     },
     "execution_count": 5,
     "metadata": {},
     "output_type": "execute_result"
    }
   ],
   "source": [
    "data_internet.head()"
   ]
  },
  {
   "cell_type": "code",
   "execution_count": 6,
   "metadata": {},
   "outputs": [
    {
     "data": {
      "text/html": [
       "<div>\n",
       "<style scoped>\n",
       "    .dataframe tbody tr th:only-of-type {\n",
       "        vertical-align: middle;\n",
       "    }\n",
       "\n",
       "    .dataframe tbody tr th {\n",
       "        vertical-align: top;\n",
       "    }\n",
       "\n",
       "    .dataframe thead th {\n",
       "        text-align: right;\n",
       "    }\n",
       "</style>\n",
       "<table border=\"1\" class=\"dataframe\">\n",
       "  <thead>\n",
       "    <tr style=\"text-align: right;\">\n",
       "      <th></th>\n",
       "      <th>id</th>\n",
       "      <th>message_date</th>\n",
       "      <th>user_id</th>\n",
       "    </tr>\n",
       "  </thead>\n",
       "  <tbody>\n",
       "    <tr>\n",
       "      <th>0</th>\n",
       "      <td>1000_0</td>\n",
       "      <td>2018-06-27</td>\n",
       "      <td>1000</td>\n",
       "    </tr>\n",
       "    <tr>\n",
       "      <th>1</th>\n",
       "      <td>1000_1</td>\n",
       "      <td>2018-10-08</td>\n",
       "      <td>1000</td>\n",
       "    </tr>\n",
       "    <tr>\n",
       "      <th>2</th>\n",
       "      <td>1000_2</td>\n",
       "      <td>2018-08-04</td>\n",
       "      <td>1000</td>\n",
       "    </tr>\n",
       "    <tr>\n",
       "      <th>3</th>\n",
       "      <td>1000_3</td>\n",
       "      <td>2018-06-16</td>\n",
       "      <td>1000</td>\n",
       "    </tr>\n",
       "    <tr>\n",
       "      <th>4</th>\n",
       "      <td>1000_4</td>\n",
       "      <td>2018-12-05</td>\n",
       "      <td>1000</td>\n",
       "    </tr>\n",
       "  </tbody>\n",
       "</table>\n",
       "</div>"
      ],
      "text/plain": [
       "       id message_date  user_id\n",
       "0  1000_0   2018-06-27     1000\n",
       "1  1000_1   2018-10-08     1000\n",
       "2  1000_2   2018-08-04     1000\n",
       "3  1000_3   2018-06-16     1000\n",
       "4  1000_4   2018-12-05     1000"
      ]
     },
     "execution_count": 6,
     "metadata": {},
     "output_type": "execute_result"
    }
   ],
   "source": [
    "data_messages.head()"
   ]
  },
  {
   "cell_type": "code",
   "execution_count": 7,
   "metadata": {},
   "outputs": [
    {
     "data": {
      "text/html": [
       "<div>\n",
       "<style scoped>\n",
       "    .dataframe tbody tr th:only-of-type {\n",
       "        vertical-align: middle;\n",
       "    }\n",
       "\n",
       "    .dataframe tbody tr th {\n",
       "        vertical-align: top;\n",
       "    }\n",
       "\n",
       "    .dataframe thead th {\n",
       "        text-align: right;\n",
       "    }\n",
       "</style>\n",
       "<table border=\"1\" class=\"dataframe\">\n",
       "  <thead>\n",
       "    <tr style=\"text-align: right;\">\n",
       "      <th></th>\n",
       "      <th>messages_included</th>\n",
       "      <th>mb_per_month_included</th>\n",
       "      <th>minutes_included</th>\n",
       "      <th>rub_monthly_fee</th>\n",
       "      <th>rub_per_gb</th>\n",
       "      <th>rub_per_message</th>\n",
       "      <th>rub_per_minute</th>\n",
       "      <th>tariff_name</th>\n",
       "    </tr>\n",
       "  </thead>\n",
       "  <tbody>\n",
       "    <tr>\n",
       "      <th>0</th>\n",
       "      <td>50</td>\n",
       "      <td>15360</td>\n",
       "      <td>500</td>\n",
       "      <td>550</td>\n",
       "      <td>200</td>\n",
       "      <td>3</td>\n",
       "      <td>3</td>\n",
       "      <td>smart</td>\n",
       "    </tr>\n",
       "    <tr>\n",
       "      <th>1</th>\n",
       "      <td>1000</td>\n",
       "      <td>30720</td>\n",
       "      <td>3000</td>\n",
       "      <td>1950</td>\n",
       "      <td>150</td>\n",
       "      <td>1</td>\n",
       "      <td>1</td>\n",
       "      <td>ultra</td>\n",
       "    </tr>\n",
       "  </tbody>\n",
       "</table>\n",
       "</div>"
      ],
      "text/plain": [
       "   messages_included  mb_per_month_included  minutes_included  \\\n",
       "0                 50                  15360               500   \n",
       "1               1000                  30720              3000   \n",
       "\n",
       "   rub_monthly_fee  rub_per_gb  rub_per_message  rub_per_minute tariff_name  \n",
       "0              550         200                3               3       smart  \n",
       "1             1950         150                1               1       ultra  "
      ]
     },
     "execution_count": 7,
     "metadata": {},
     "output_type": "execute_result"
    }
   ],
   "source": [
    "data_tariffs.head()"
   ]
  },
  {
   "cell_type": "code",
   "execution_count": 8,
   "metadata": {},
   "outputs": [
    {
     "data": {
      "text/html": [
       "<div>\n",
       "<style scoped>\n",
       "    .dataframe tbody tr th:only-of-type {\n",
       "        vertical-align: middle;\n",
       "    }\n",
       "\n",
       "    .dataframe tbody tr th {\n",
       "        vertical-align: top;\n",
       "    }\n",
       "\n",
       "    .dataframe thead th {\n",
       "        text-align: right;\n",
       "    }\n",
       "</style>\n",
       "<table border=\"1\" class=\"dataframe\">\n",
       "  <thead>\n",
       "    <tr style=\"text-align: right;\">\n",
       "      <th></th>\n",
       "      <th>messages_included</th>\n",
       "      <th>mb_per_month_included</th>\n",
       "      <th>minutes_included</th>\n",
       "      <th>rub_monthly_fee</th>\n",
       "      <th>rub_per_gb</th>\n",
       "      <th>rub_per_message</th>\n",
       "      <th>rub_per_minute</th>\n",
       "      <th>tariff</th>\n",
       "    </tr>\n",
       "  </thead>\n",
       "  <tbody>\n",
       "    <tr>\n",
       "      <th>0</th>\n",
       "      <td>50</td>\n",
       "      <td>15360</td>\n",
       "      <td>500</td>\n",
       "      <td>550</td>\n",
       "      <td>200</td>\n",
       "      <td>3</td>\n",
       "      <td>3</td>\n",
       "      <td>smart</td>\n",
       "    </tr>\n",
       "    <tr>\n",
       "      <th>1</th>\n",
       "      <td>1000</td>\n",
       "      <td>30720</td>\n",
       "      <td>3000</td>\n",
       "      <td>1950</td>\n",
       "      <td>150</td>\n",
       "      <td>1</td>\n",
       "      <td>1</td>\n",
       "      <td>ultra</td>\n",
       "    </tr>\n",
       "  </tbody>\n",
       "</table>\n",
       "</div>"
      ],
      "text/plain": [
       "   messages_included  mb_per_month_included  minutes_included  \\\n",
       "0                 50                  15360               500   \n",
       "1               1000                  30720              3000   \n",
       "\n",
       "   rub_monthly_fee  rub_per_gb  rub_per_message  rub_per_minute tariff  \n",
       "0              550         200                3               3  smart  \n",
       "1             1950         150                1               1  ultra  "
      ]
     },
     "execution_count": 8,
     "metadata": {},
     "output_type": "execute_result"
    }
   ],
   "source": [
    "data_tariffs.columns = ['messages_included', 'mb_per_month_included', 'minutes_included', 'rub_monthly_fee',\n",
    "                        'rub_per_gb', 'rub_per_message', 'rub_per_minute', 'tariff']\n",
    "data_tariffs.head()"
   ]
  },
  {
   "cell_type": "code",
   "execution_count": 9,
   "metadata": {},
   "outputs": [
    {
     "data": {
      "text/html": [
       "<div>\n",
       "<style scoped>\n",
       "    .dataframe tbody tr th:only-of-type {\n",
       "        vertical-align: middle;\n",
       "    }\n",
       "\n",
       "    .dataframe tbody tr th {\n",
       "        vertical-align: top;\n",
       "    }\n",
       "\n",
       "    .dataframe thead th {\n",
       "        text-align: right;\n",
       "    }\n",
       "</style>\n",
       "<table border=\"1\" class=\"dataframe\">\n",
       "  <thead>\n",
       "    <tr style=\"text-align: right;\">\n",
       "      <th></th>\n",
       "      <th>user_id</th>\n",
       "      <th>age</th>\n",
       "      <th>churn_date</th>\n",
       "      <th>city</th>\n",
       "      <th>first_name</th>\n",
       "      <th>last_name</th>\n",
       "      <th>reg_date</th>\n",
       "      <th>tariff</th>\n",
       "    </tr>\n",
       "  </thead>\n",
       "  <tbody>\n",
       "    <tr>\n",
       "      <th>0</th>\n",
       "      <td>1000</td>\n",
       "      <td>52</td>\n",
       "      <td>NaN</td>\n",
       "      <td>Краснодар</td>\n",
       "      <td>Рафаил</td>\n",
       "      <td>Верещагин</td>\n",
       "      <td>2018-05-25</td>\n",
       "      <td>ultra</td>\n",
       "    </tr>\n",
       "    <tr>\n",
       "      <th>1</th>\n",
       "      <td>1001</td>\n",
       "      <td>41</td>\n",
       "      <td>NaN</td>\n",
       "      <td>Москва</td>\n",
       "      <td>Иван</td>\n",
       "      <td>Ежов</td>\n",
       "      <td>2018-11-01</td>\n",
       "      <td>smart</td>\n",
       "    </tr>\n",
       "    <tr>\n",
       "      <th>2</th>\n",
       "      <td>1002</td>\n",
       "      <td>59</td>\n",
       "      <td>NaN</td>\n",
       "      <td>Стерлитамак</td>\n",
       "      <td>Евгений</td>\n",
       "      <td>Абрамович</td>\n",
       "      <td>2018-06-17</td>\n",
       "      <td>smart</td>\n",
       "    </tr>\n",
       "    <tr>\n",
       "      <th>3</th>\n",
       "      <td>1003</td>\n",
       "      <td>23</td>\n",
       "      <td>NaN</td>\n",
       "      <td>Москва</td>\n",
       "      <td>Белла</td>\n",
       "      <td>Белякова</td>\n",
       "      <td>2018-08-17</td>\n",
       "      <td>ultra</td>\n",
       "    </tr>\n",
       "    <tr>\n",
       "      <th>4</th>\n",
       "      <td>1004</td>\n",
       "      <td>68</td>\n",
       "      <td>NaN</td>\n",
       "      <td>Новокузнецк</td>\n",
       "      <td>Татьяна</td>\n",
       "      <td>Авдеенко</td>\n",
       "      <td>2018-05-14</td>\n",
       "      <td>ultra</td>\n",
       "    </tr>\n",
       "  </tbody>\n",
       "</table>\n",
       "</div>"
      ],
      "text/plain": [
       "   user_id  age churn_date         city first_name  last_name    reg_date  \\\n",
       "0     1000   52        NaN    Краснодар     Рафаил  Верещагин  2018-05-25   \n",
       "1     1001   41        NaN       Москва       Иван       Ежов  2018-11-01   \n",
       "2     1002   59        NaN  Стерлитамак    Евгений  Абрамович  2018-06-17   \n",
       "3     1003   23        NaN       Москва      Белла   Белякова  2018-08-17   \n",
       "4     1004   68        NaN  Новокузнецк    Татьяна   Авдеенко  2018-05-14   \n",
       "\n",
       "  tariff  \n",
       "0  ultra  \n",
       "1  smart  \n",
       "2  smart  \n",
       "3  ultra  \n",
       "4  ultra  "
      ]
     },
     "execution_count": 9,
     "metadata": {},
     "output_type": "execute_result"
    }
   ],
   "source": [
    "data_users.head()"
   ]
  },
  {
   "cell_type": "markdown",
   "metadata": {},
   "source": [
    "Необходимо объединить все данные, которые могут нам понадобиться для дальнейших расчетов, в общую таблицу.\n",
    "\n",
    "Также необходимо перевести данные из столбцов *call_date*, *session_date*, *message_date*, *reg_date*, *churn_date* в формат даты для более удобного взаимодействия."
   ]
  },
  {
   "cell_type": "markdown",
   "metadata": {},
   "source": [
    "Приведем все столбцы с датами к формату даты для облегчения работы с ними."
   ]
  },
  {
   "cell_type": "code",
   "execution_count": 10,
   "metadata": {},
   "outputs": [],
   "source": [
    "data_calls['call_date'] = pd.to_datetime(data_calls['call_date'], format='%Y-%m-%d')\n",
    "data_internet['session_date'] = pd.to_datetime(data_internet['session_date'], format='%Y-%m-%d')\n",
    "data_messages['message_date'] = pd.to_datetime(data_messages['message_date'], format='%Y-%m-%d')\n",
    "data_users['reg_date'] = pd.to_datetime(data_users['reg_date'], format='%Y-%m-%d')\n",
    "data_users['churn_date'] = pd.to_datetime(data_users['churn_date'], format='%Y-%m-%d')"
   ]
  },
  {
   "cell_type": "markdown",
   "metadata": {},
   "source": [
    "Проверим данные на наличие ошибок. Начнем с информации о пользовании интернетом. Проверим, возможно есть нулевые или отрицательные значения потраченых мб."
   ]
  },
  {
   "cell_type": "code",
   "execution_count": 11,
   "metadata": {},
   "outputs": [
    {
     "name": "stdout",
     "output_type": "stream",
     "text": [
      "<class 'pandas.core.frame.DataFrame'>\n",
      "RangeIndex: 149396 entries, 0 to 149395\n",
      "Data columns (total 5 columns):\n",
      " #   Column        Non-Null Count   Dtype         \n",
      "---  ------        --------------   -----         \n",
      " 0   Unnamed: 0    149396 non-null  int64         \n",
      " 1   id            149396 non-null  object        \n",
      " 2   mb_used       149396 non-null  float64       \n",
      " 3   session_date  149396 non-null  datetime64[ns]\n",
      " 4   user_id       149396 non-null  int64         \n",
      "dtypes: datetime64[ns](1), float64(1), int64(2), object(1)\n",
      "memory usage: 5.7+ MB\n"
     ]
    }
   ],
   "source": [
    "data_internet.info()"
   ]
  },
  {
   "cell_type": "code",
   "execution_count": 12,
   "metadata": {},
   "outputs": [
    {
     "data": {
      "text/plain": [
       "0.0"
      ]
     },
     "execution_count": 12,
     "metadata": {},
     "output_type": "execute_result"
    }
   ],
   "source": [
    "data_internet['mb_used'].min()"
   ]
  },
  {
   "cell_type": "markdown",
   "metadata": {},
   "source": [
    "Действительно, можем видеть, что у нас есть сессии с нулевым значением потреченых мб. Возможно, выход в интернет по какимто причинам неудался. Удалим данную информацию."
   ]
  },
  {
   "cell_type": "code",
   "execution_count": 13,
   "metadata": {},
   "outputs": [
    {
     "name": "stdout",
     "output_type": "stream",
     "text": [
      "<class 'pandas.core.frame.DataFrame'>\n",
      "Int64Index: 129798 entries, 0 to 149395\n",
      "Data columns (total 5 columns):\n",
      " #   Column        Non-Null Count   Dtype         \n",
      "---  ------        --------------   -----         \n",
      " 0   Unnamed: 0    129798 non-null  int64         \n",
      " 1   id            129798 non-null  object        \n",
      " 2   mb_used       129798 non-null  float64       \n",
      " 3   session_date  129798 non-null  datetime64[ns]\n",
      " 4   user_id       129798 non-null  int64         \n",
      "dtypes: datetime64[ns](1), float64(1), int64(2), object(1)\n",
      "memory usage: 5.9+ MB\n"
     ]
    }
   ],
   "source": [
    "data_internet = data_internet.query('mb_used != 0')\n",
    "data_internet.info()"
   ]
  },
  {
   "cell_type": "markdown",
   "metadata": {},
   "source": [
    "Посчитаем для каждого пользователя:\n",
    "* количество сделанных звонков и израсходованных минут разговора по месяцам;\n",
    "* количество отправленных сообщений по месяцам;\n",
    "* объем израсходованного интернет-трафика по месяцам;\n",
    "* помесячную выручку с каждого пользователя"
   ]
  },
  {
   "cell_type": "code",
   "execution_count": 14,
   "metadata": {},
   "outputs": [
    {
     "data": {
      "text/html": [
       "<div>\n",
       "<style scoped>\n",
       "    .dataframe tbody tr th:only-of-type {\n",
       "        vertical-align: middle;\n",
       "    }\n",
       "\n",
       "    .dataframe tbody tr th {\n",
       "        vertical-align: top;\n",
       "    }\n",
       "\n",
       "    .dataframe thead th {\n",
       "        text-align: right;\n",
       "    }\n",
       "</style>\n",
       "<table border=\"1\" class=\"dataframe\">\n",
       "  <thead>\n",
       "    <tr style=\"text-align: right;\">\n",
       "      <th></th>\n",
       "      <th>(calls_count, 1)</th>\n",
       "      <th>(calls_count, 2)</th>\n",
       "      <th>(calls_count, 3)</th>\n",
       "      <th>(calls_count, 4)</th>\n",
       "      <th>(calls_count, 5)</th>\n",
       "      <th>(calls_count, 6)</th>\n",
       "      <th>(calls_count, 7)</th>\n",
       "      <th>(calls_count, 8)</th>\n",
       "      <th>(calls_count, 9)</th>\n",
       "      <th>(calls_count, 10)</th>\n",
       "      <th>...</th>\n",
       "      <th>(calls_sum, 3)</th>\n",
       "      <th>(calls_sum, 4)</th>\n",
       "      <th>(calls_sum, 5)</th>\n",
       "      <th>(calls_sum, 6)</th>\n",
       "      <th>(calls_sum, 7)</th>\n",
       "      <th>(calls_sum, 8)</th>\n",
       "      <th>(calls_sum, 9)</th>\n",
       "      <th>(calls_sum, 10)</th>\n",
       "      <th>(calls_sum, 11)</th>\n",
       "      <th>(calls_sum, 12)</th>\n",
       "    </tr>\n",
       "    <tr>\n",
       "      <th>user_id</th>\n",
       "      <th></th>\n",
       "      <th></th>\n",
       "      <th></th>\n",
       "      <th></th>\n",
       "      <th></th>\n",
       "      <th></th>\n",
       "      <th></th>\n",
       "      <th></th>\n",
       "      <th></th>\n",
       "      <th></th>\n",
       "      <th></th>\n",
       "      <th></th>\n",
       "      <th></th>\n",
       "      <th></th>\n",
       "      <th></th>\n",
       "      <th></th>\n",
       "      <th></th>\n",
       "      <th></th>\n",
       "      <th></th>\n",
       "      <th></th>\n",
       "      <th></th>\n",
       "    </tr>\n",
       "  </thead>\n",
       "  <tbody>\n",
       "    <tr>\n",
       "      <th>1000</th>\n",
       "      <td>NaN</td>\n",
       "      <td>NaN</td>\n",
       "      <td>NaN</td>\n",
       "      <td>NaN</td>\n",
       "      <td>22.0</td>\n",
       "      <td>43.0</td>\n",
       "      <td>47.0</td>\n",
       "      <td>52.0</td>\n",
       "      <td>58.0</td>\n",
       "      <td>57.0</td>\n",
       "      <td>...</td>\n",
       "      <td>NaN</td>\n",
       "      <td>NaN</td>\n",
       "      <td>159.0</td>\n",
       "      <td>172.0</td>\n",
       "      <td>340.0</td>\n",
       "      <td>408.0</td>\n",
       "      <td>466.0</td>\n",
       "      <td>350.0</td>\n",
       "      <td>338.0</td>\n",
       "      <td>333.0</td>\n",
       "    </tr>\n",
       "    <tr>\n",
       "      <th>1001</th>\n",
       "      <td>NaN</td>\n",
       "      <td>NaN</td>\n",
       "      <td>NaN</td>\n",
       "      <td>NaN</td>\n",
       "      <td>NaN</td>\n",
       "      <td>NaN</td>\n",
       "      <td>NaN</td>\n",
       "      <td>NaN</td>\n",
       "      <td>NaN</td>\n",
       "      <td>NaN</td>\n",
       "      <td>...</td>\n",
       "      <td>NaN</td>\n",
       "      <td>NaN</td>\n",
       "      <td>NaN</td>\n",
       "      <td>NaN</td>\n",
       "      <td>NaN</td>\n",
       "      <td>NaN</td>\n",
       "      <td>NaN</td>\n",
       "      <td>NaN</td>\n",
       "      <td>430.0</td>\n",
       "      <td>414.0</td>\n",
       "    </tr>\n",
       "    <tr>\n",
       "      <th>1002</th>\n",
       "      <td>NaN</td>\n",
       "      <td>NaN</td>\n",
       "      <td>NaN</td>\n",
       "      <td>NaN</td>\n",
       "      <td>NaN</td>\n",
       "      <td>15.0</td>\n",
       "      <td>26.0</td>\n",
       "      <td>42.0</td>\n",
       "      <td>36.0</td>\n",
       "      <td>33.0</td>\n",
       "      <td>...</td>\n",
       "      <td>NaN</td>\n",
       "      <td>NaN</td>\n",
       "      <td>NaN</td>\n",
       "      <td>117.0</td>\n",
       "      <td>214.0</td>\n",
       "      <td>289.0</td>\n",
       "      <td>206.0</td>\n",
       "      <td>212.0</td>\n",
       "      <td>243.0</td>\n",
       "      <td>236.0</td>\n",
       "    </tr>\n",
       "    <tr>\n",
       "      <th>1003</th>\n",
       "      <td>NaN</td>\n",
       "      <td>NaN</td>\n",
       "      <td>NaN</td>\n",
       "      <td>NaN</td>\n",
       "      <td>NaN</td>\n",
       "      <td>NaN</td>\n",
       "      <td>NaN</td>\n",
       "      <td>55.0</td>\n",
       "      <td>134.0</td>\n",
       "      <td>108.0</td>\n",
       "      <td>...</td>\n",
       "      <td>NaN</td>\n",
       "      <td>NaN</td>\n",
       "      <td>NaN</td>\n",
       "      <td>NaN</td>\n",
       "      <td>NaN</td>\n",
       "      <td>380.0</td>\n",
       "      <td>961.0</td>\n",
       "      <td>855.0</td>\n",
       "      <td>824.0</td>\n",
       "      <td>802.0</td>\n",
       "    </tr>\n",
       "    <tr>\n",
       "      <th>1004</th>\n",
       "      <td>NaN</td>\n",
       "      <td>NaN</td>\n",
       "      <td>NaN</td>\n",
       "      <td>NaN</td>\n",
       "      <td>9.0</td>\n",
       "      <td>31.0</td>\n",
       "      <td>22.0</td>\n",
       "      <td>19.0</td>\n",
       "      <td>26.0</td>\n",
       "      <td>29.0</td>\n",
       "      <td>...</td>\n",
       "      <td>NaN</td>\n",
       "      <td>NaN</td>\n",
       "      <td>35.0</td>\n",
       "      <td>171.0</td>\n",
       "      <td>135.0</td>\n",
       "      <td>137.0</td>\n",
       "      <td>117.0</td>\n",
       "      <td>145.0</td>\n",
       "      <td>117.0</td>\n",
       "      <td>130.0</td>\n",
       "    </tr>\n",
       "  </tbody>\n",
       "</table>\n",
       "<p>5 rows × 24 columns</p>\n",
       "</div>"
      ],
      "text/plain": [
       "         (calls_count, 1)  (calls_count, 2)  (calls_count, 3)  \\\n",
       "user_id                                                         \n",
       "1000                  NaN               NaN               NaN   \n",
       "1001                  NaN               NaN               NaN   \n",
       "1002                  NaN               NaN               NaN   \n",
       "1003                  NaN               NaN               NaN   \n",
       "1004                  NaN               NaN               NaN   \n",
       "\n",
       "         (calls_count, 4)  (calls_count, 5)  (calls_count, 6)  \\\n",
       "user_id                                                         \n",
       "1000                  NaN              22.0              43.0   \n",
       "1001                  NaN               NaN               NaN   \n",
       "1002                  NaN               NaN              15.0   \n",
       "1003                  NaN               NaN               NaN   \n",
       "1004                  NaN               9.0              31.0   \n",
       "\n",
       "         (calls_count, 7)  (calls_count, 8)  (calls_count, 9)  \\\n",
       "user_id                                                         \n",
       "1000                 47.0              52.0              58.0   \n",
       "1001                  NaN               NaN               NaN   \n",
       "1002                 26.0              42.0              36.0   \n",
       "1003                  NaN              55.0             134.0   \n",
       "1004                 22.0              19.0              26.0   \n",
       "\n",
       "         (calls_count, 10)  ...  (calls_sum, 3)  (calls_sum, 4)  \\\n",
       "user_id                     ...                                   \n",
       "1000                  57.0  ...             NaN             NaN   \n",
       "1001                   NaN  ...             NaN             NaN   \n",
       "1002                  33.0  ...             NaN             NaN   \n",
       "1003                 108.0  ...             NaN             NaN   \n",
       "1004                  29.0  ...             NaN             NaN   \n",
       "\n",
       "         (calls_sum, 5)  (calls_sum, 6)  (calls_sum, 7)  (calls_sum, 8)  \\\n",
       "user_id                                                                   \n",
       "1000              159.0           172.0           340.0           408.0   \n",
       "1001                NaN             NaN             NaN             NaN   \n",
       "1002                NaN           117.0           214.0           289.0   \n",
       "1003                NaN             NaN             NaN           380.0   \n",
       "1004               35.0           171.0           135.0           137.0   \n",
       "\n",
       "         (calls_sum, 9)  (calls_sum, 10)  (calls_sum, 11)  (calls_sum, 12)  \n",
       "user_id                                                                     \n",
       "1000              466.0            350.0            338.0            333.0  \n",
       "1001                NaN              NaN            430.0            414.0  \n",
       "1002              206.0            212.0            243.0            236.0  \n",
       "1003              961.0            855.0            824.0            802.0  \n",
       "1004              117.0            145.0            117.0            130.0  \n",
       "\n",
       "[5 rows x 24 columns]"
      ]
     },
     "execution_count": 14,
     "metadata": {},
     "output_type": "execute_result"
    }
   ],
   "source": [
    "data_calls['month'] = pd.DatetimeIndex(data_calls['call_date']).month\n",
    "data_calls['calls_rounded'] = np.ceil(data_calls['duration'])\n",
    "data_calls_pivot = data_calls.pivot_table(index=['user_id'], columns=['month'], values=['calls_rounded'], aggfunc=['count','sum'])\n",
    "\n",
    "columns_calls =[]\n",
    "\n",
    "for i in range(1,13):\n",
    "    columns_calls.append(('calls_count', i))\n",
    "\n",
    "for i in range(1,13):\n",
    "    columns_calls.append(('calls_sum', i))\n",
    "\n",
    "data_calls_pivot.columns = columns_calls\n",
    "\n",
    "data_calls_pivot.head()"
   ]
  },
  {
   "cell_type": "code",
   "execution_count": 15,
   "metadata": {},
   "outputs": [
    {
     "data": {
      "text/html": [
       "<div>\n",
       "<style scoped>\n",
       "    .dataframe tbody tr th:only-of-type {\n",
       "        vertical-align: middle;\n",
       "    }\n",
       "\n",
       "    .dataframe tbody tr th {\n",
       "        vertical-align: top;\n",
       "    }\n",
       "\n",
       "    .dataframe thead th {\n",
       "        text-align: right;\n",
       "    }\n",
       "</style>\n",
       "<table border=\"1\" class=\"dataframe\">\n",
       "  <thead>\n",
       "    <tr style=\"text-align: right;\">\n",
       "      <th></th>\n",
       "      <th>(messages, 1)</th>\n",
       "      <th>(messages, 2)</th>\n",
       "      <th>(messages, 3)</th>\n",
       "      <th>(messages, 4)</th>\n",
       "      <th>(messages, 5)</th>\n",
       "      <th>(messages, 6)</th>\n",
       "      <th>(messages, 7)</th>\n",
       "      <th>(messages, 8)</th>\n",
       "      <th>(messages, 9)</th>\n",
       "      <th>(messages, 10)</th>\n",
       "      <th>(messages, 11)</th>\n",
       "      <th>(messages, 12)</th>\n",
       "    </tr>\n",
       "    <tr>\n",
       "      <th>user_id</th>\n",
       "      <th></th>\n",
       "      <th></th>\n",
       "      <th></th>\n",
       "      <th></th>\n",
       "      <th></th>\n",
       "      <th></th>\n",
       "      <th></th>\n",
       "      <th></th>\n",
       "      <th></th>\n",
       "      <th></th>\n",
       "      <th></th>\n",
       "      <th></th>\n",
       "    </tr>\n",
       "  </thead>\n",
       "  <tbody>\n",
       "    <tr>\n",
       "      <th>1000</th>\n",
       "      <td>NaN</td>\n",
       "      <td>NaN</td>\n",
       "      <td>NaN</td>\n",
       "      <td>NaN</td>\n",
       "      <td>22.0</td>\n",
       "      <td>60.0</td>\n",
       "      <td>75.0</td>\n",
       "      <td>81.0</td>\n",
       "      <td>57.0</td>\n",
       "      <td>73.0</td>\n",
       "      <td>58.0</td>\n",
       "      <td>70.0</td>\n",
       "    </tr>\n",
       "    <tr>\n",
       "      <th>1002</th>\n",
       "      <td>NaN</td>\n",
       "      <td>NaN</td>\n",
       "      <td>NaN</td>\n",
       "      <td>NaN</td>\n",
       "      <td>NaN</td>\n",
       "      <td>4.0</td>\n",
       "      <td>11.0</td>\n",
       "      <td>13.0</td>\n",
       "      <td>4.0</td>\n",
       "      <td>10.0</td>\n",
       "      <td>16.0</td>\n",
       "      <td>12.0</td>\n",
       "    </tr>\n",
       "    <tr>\n",
       "      <th>1003</th>\n",
       "      <td>NaN</td>\n",
       "      <td>NaN</td>\n",
       "      <td>NaN</td>\n",
       "      <td>NaN</td>\n",
       "      <td>NaN</td>\n",
       "      <td>NaN</td>\n",
       "      <td>NaN</td>\n",
       "      <td>37.0</td>\n",
       "      <td>91.0</td>\n",
       "      <td>83.0</td>\n",
       "      <td>94.0</td>\n",
       "      <td>75.0</td>\n",
       "    </tr>\n",
       "    <tr>\n",
       "      <th>1004</th>\n",
       "      <td>NaN</td>\n",
       "      <td>NaN</td>\n",
       "      <td>NaN</td>\n",
       "      <td>NaN</td>\n",
       "      <td>95.0</td>\n",
       "      <td>134.0</td>\n",
       "      <td>181.0</td>\n",
       "      <td>151.0</td>\n",
       "      <td>146.0</td>\n",
       "      <td>165.0</td>\n",
       "      <td>158.0</td>\n",
       "      <td>162.0</td>\n",
       "    </tr>\n",
       "    <tr>\n",
       "      <th>1005</th>\n",
       "      <td>7.0</td>\n",
       "      <td>38.0</td>\n",
       "      <td>56.0</td>\n",
       "      <td>41.0</td>\n",
       "      <td>42.0</td>\n",
       "      <td>47.0</td>\n",
       "      <td>56.0</td>\n",
       "      <td>64.0</td>\n",
       "      <td>52.0</td>\n",
       "      <td>44.0</td>\n",
       "      <td>51.0</td>\n",
       "      <td>54.0</td>\n",
       "    </tr>\n",
       "  </tbody>\n",
       "</table>\n",
       "</div>"
      ],
      "text/plain": [
       "         (messages, 1)  (messages, 2)  (messages, 3)  (messages, 4)  \\\n",
       "user_id                                                               \n",
       "1000               NaN            NaN            NaN            NaN   \n",
       "1002               NaN            NaN            NaN            NaN   \n",
       "1003               NaN            NaN            NaN            NaN   \n",
       "1004               NaN            NaN            NaN            NaN   \n",
       "1005               7.0           38.0           56.0           41.0   \n",
       "\n",
       "         (messages, 5)  (messages, 6)  (messages, 7)  (messages, 8)  \\\n",
       "user_id                                                               \n",
       "1000              22.0           60.0           75.0           81.0   \n",
       "1002               NaN            4.0           11.0           13.0   \n",
       "1003               NaN            NaN            NaN           37.0   \n",
       "1004              95.0          134.0          181.0          151.0   \n",
       "1005              42.0           47.0           56.0           64.0   \n",
       "\n",
       "         (messages, 9)  (messages, 10)  (messages, 11)  (messages, 12)  \n",
       "user_id                                                                 \n",
       "1000              57.0            73.0            58.0            70.0  \n",
       "1002               4.0            10.0            16.0            12.0  \n",
       "1003              91.0            83.0            94.0            75.0  \n",
       "1004             146.0           165.0           158.0           162.0  \n",
       "1005              52.0            44.0            51.0            54.0  "
      ]
     },
     "execution_count": 15,
     "metadata": {},
     "output_type": "execute_result"
    }
   ],
   "source": [
    "data_messages['month'] = pd.DatetimeIndex(data_messages['message_date']).month\n",
    "data_messages_pivot = data_messages.pivot_table(index=['user_id'], columns=['month'], values=['id'], aggfunc='count')\n",
    "\n",
    "columns_messages =[]\n",
    "\n",
    "for i in range(1,13):\n",
    "    columns_messages.append(('messages', i))\n",
    "\n",
    "data_messages_pivot.columns = columns_messages\n",
    "\n",
    "data_messages_pivot.head()"
   ]
  },
  {
   "cell_type": "code",
   "execution_count": 16,
   "metadata": {},
   "outputs": [
    {
     "data": {
      "text/html": [
       "<div>\n",
       "<style scoped>\n",
       "    .dataframe tbody tr th:only-of-type {\n",
       "        vertical-align: middle;\n",
       "    }\n",
       "\n",
       "    .dataframe tbody tr th {\n",
       "        vertical-align: top;\n",
       "    }\n",
       "\n",
       "    .dataframe thead th {\n",
       "        text-align: right;\n",
       "    }\n",
       "</style>\n",
       "<table border=\"1\" class=\"dataframe\">\n",
       "  <thead>\n",
       "    <tr style=\"text-align: right;\">\n",
       "      <th></th>\n",
       "      <th>(mb, 1)</th>\n",
       "      <th>(mb, 2)</th>\n",
       "      <th>(mb, 3)</th>\n",
       "      <th>(mb, 4)</th>\n",
       "      <th>(mb, 5)</th>\n",
       "      <th>(mb, 6)</th>\n",
       "      <th>(mb, 7)</th>\n",
       "      <th>(mb, 8)</th>\n",
       "      <th>(mb, 9)</th>\n",
       "      <th>(mb, 10)</th>\n",
       "      <th>(mb, 11)</th>\n",
       "      <th>(mb, 12)</th>\n",
       "    </tr>\n",
       "    <tr>\n",
       "      <th>user_id</th>\n",
       "      <th></th>\n",
       "      <th></th>\n",
       "      <th></th>\n",
       "      <th></th>\n",
       "      <th></th>\n",
       "      <th></th>\n",
       "      <th></th>\n",
       "      <th></th>\n",
       "      <th></th>\n",
       "      <th></th>\n",
       "      <th></th>\n",
       "      <th></th>\n",
       "    </tr>\n",
       "  </thead>\n",
       "  <tbody>\n",
       "    <tr>\n",
       "      <th>1000</th>\n",
       "      <td>NaN</td>\n",
       "      <td>NaN</td>\n",
       "      <td>NaN</td>\n",
       "      <td>NaN</td>\n",
       "      <td>2253.49</td>\n",
       "      <td>23233.77</td>\n",
       "      <td>14003.64</td>\n",
       "      <td>14055.93</td>\n",
       "      <td>14568.91</td>\n",
       "      <td>14702.49</td>\n",
       "      <td>14756.47</td>\n",
       "      <td>9817.61</td>\n",
       "    </tr>\n",
       "    <tr>\n",
       "      <th>1001</th>\n",
       "      <td>NaN</td>\n",
       "      <td>NaN</td>\n",
       "      <td>NaN</td>\n",
       "      <td>NaN</td>\n",
       "      <td>NaN</td>\n",
       "      <td>NaN</td>\n",
       "      <td>NaN</td>\n",
       "      <td>NaN</td>\n",
       "      <td>NaN</td>\n",
       "      <td>NaN</td>\n",
       "      <td>18429.34</td>\n",
       "      <td>14036.66</td>\n",
       "    </tr>\n",
       "    <tr>\n",
       "      <th>1002</th>\n",
       "      <td>NaN</td>\n",
       "      <td>NaN</td>\n",
       "      <td>NaN</td>\n",
       "      <td>NaN</td>\n",
       "      <td>NaN</td>\n",
       "      <td>10856.82</td>\n",
       "      <td>17580.10</td>\n",
       "      <td>20319.26</td>\n",
       "      <td>16691.08</td>\n",
       "      <td>13888.25</td>\n",
       "      <td>18587.28</td>\n",
       "      <td>18113.73</td>\n",
       "    </tr>\n",
       "    <tr>\n",
       "      <th>1003</th>\n",
       "      <td>NaN</td>\n",
       "      <td>NaN</td>\n",
       "      <td>NaN</td>\n",
       "      <td>NaN</td>\n",
       "      <td>NaN</td>\n",
       "      <td>NaN</td>\n",
       "      <td>NaN</td>\n",
       "      <td>8565.21</td>\n",
       "      <td>12468.87</td>\n",
       "      <td>14768.14</td>\n",
       "      <td>11356.89</td>\n",
       "      <td>10121.53</td>\n",
       "    </tr>\n",
       "    <tr>\n",
       "      <th>1004</th>\n",
       "      <td>NaN</td>\n",
       "      <td>NaN</td>\n",
       "      <td>NaN</td>\n",
       "      <td>NaN</td>\n",
       "      <td>13403.98</td>\n",
       "      <td>17600.02</td>\n",
       "      <td>22229.58</td>\n",
       "      <td>28584.37</td>\n",
       "      <td>15109.03</td>\n",
       "      <td>18475.44</td>\n",
       "      <td>15616.02</td>\n",
       "      <td>18021.04</td>\n",
       "    </tr>\n",
       "  </tbody>\n",
       "</table>\n",
       "</div>"
      ],
      "text/plain": [
       "         (mb, 1)  (mb, 2)  (mb, 3)  (mb, 4)   (mb, 5)   (mb, 6)   (mb, 7)  \\\n",
       "user_id                                                                     \n",
       "1000         NaN      NaN      NaN      NaN   2253.49  23233.77  14003.64   \n",
       "1001         NaN      NaN      NaN      NaN       NaN       NaN       NaN   \n",
       "1002         NaN      NaN      NaN      NaN       NaN  10856.82  17580.10   \n",
       "1003         NaN      NaN      NaN      NaN       NaN       NaN       NaN   \n",
       "1004         NaN      NaN      NaN      NaN  13403.98  17600.02  22229.58   \n",
       "\n",
       "          (mb, 8)   (mb, 9)  (mb, 10)  (mb, 11)  (mb, 12)  \n",
       "user_id                                                    \n",
       "1000     14055.93  14568.91  14702.49  14756.47   9817.61  \n",
       "1001          NaN       NaN       NaN  18429.34  14036.66  \n",
       "1002     20319.26  16691.08  13888.25  18587.28  18113.73  \n",
       "1003      8565.21  12468.87  14768.14  11356.89  10121.53  \n",
       "1004     28584.37  15109.03  18475.44  15616.02  18021.04  "
      ]
     },
     "execution_count": 16,
     "metadata": {},
     "output_type": "execute_result"
    }
   ],
   "source": [
    "data_internet['month'] = pd.DatetimeIndex(data_internet['session_date']).month\n",
    "data_internet_pivot = data_internet.pivot_table(index=['user_id'], columns=['month'], values=['mb_used'], aggfunc='sum')\n",
    "\n",
    "columns_internet =[]\n",
    "\n",
    "for i in range(1,13):\n",
    "    columns_internet.append(('mb', i))\n",
    "\n",
    "data_internet_pivot.columns = columns_internet\n",
    "\n",
    "data_internet_pivot.head()"
   ]
  },
  {
   "cell_type": "markdown",
   "metadata": {},
   "source": [
    "Объединим все сводные таблицы в одну."
   ]
  },
  {
   "cell_type": "code",
   "execution_count": 17,
   "metadata": {},
   "outputs": [
    {
     "data": {
      "text/html": [
       "<div>\n",
       "<style scoped>\n",
       "    .dataframe tbody tr th:only-of-type {\n",
       "        vertical-align: middle;\n",
       "    }\n",
       "\n",
       "    .dataframe tbody tr th {\n",
       "        vertical-align: top;\n",
       "    }\n",
       "\n",
       "    .dataframe thead th {\n",
       "        text-align: right;\n",
       "    }\n",
       "</style>\n",
       "<table border=\"1\" class=\"dataframe\">\n",
       "  <thead>\n",
       "    <tr style=\"text-align: right;\">\n",
       "      <th></th>\n",
       "      <th>(calls_count, 1)</th>\n",
       "      <th>(calls_count, 2)</th>\n",
       "      <th>(calls_count, 3)</th>\n",
       "      <th>(calls_count, 4)</th>\n",
       "      <th>(calls_count, 5)</th>\n",
       "      <th>(calls_count, 6)</th>\n",
       "      <th>(calls_count, 7)</th>\n",
       "      <th>(calls_count, 8)</th>\n",
       "      <th>(calls_count, 9)</th>\n",
       "      <th>(calls_count, 10)</th>\n",
       "      <th>...</th>\n",
       "      <th>(mb, 3)</th>\n",
       "      <th>(mb, 4)</th>\n",
       "      <th>(mb, 5)</th>\n",
       "      <th>(mb, 6)</th>\n",
       "      <th>(mb, 7)</th>\n",
       "      <th>(mb, 8)</th>\n",
       "      <th>(mb, 9)</th>\n",
       "      <th>(mb, 10)</th>\n",
       "      <th>(mb, 11)</th>\n",
       "      <th>(mb, 12)</th>\n",
       "    </tr>\n",
       "    <tr>\n",
       "      <th>user_id</th>\n",
       "      <th></th>\n",
       "      <th></th>\n",
       "      <th></th>\n",
       "      <th></th>\n",
       "      <th></th>\n",
       "      <th></th>\n",
       "      <th></th>\n",
       "      <th></th>\n",
       "      <th></th>\n",
       "      <th></th>\n",
       "      <th></th>\n",
       "      <th></th>\n",
       "      <th></th>\n",
       "      <th></th>\n",
       "      <th></th>\n",
       "      <th></th>\n",
       "      <th></th>\n",
       "      <th></th>\n",
       "      <th></th>\n",
       "      <th></th>\n",
       "      <th></th>\n",
       "    </tr>\n",
       "  </thead>\n",
       "  <tbody>\n",
       "    <tr>\n",
       "      <th>1000</th>\n",
       "      <td>NaN</td>\n",
       "      <td>NaN</td>\n",
       "      <td>NaN</td>\n",
       "      <td>NaN</td>\n",
       "      <td>22.0</td>\n",
       "      <td>43.0</td>\n",
       "      <td>47.0</td>\n",
       "      <td>52.0</td>\n",
       "      <td>58.0</td>\n",
       "      <td>57.0</td>\n",
       "      <td>...</td>\n",
       "      <td>NaN</td>\n",
       "      <td>NaN</td>\n",
       "      <td>2253.49</td>\n",
       "      <td>23233.77</td>\n",
       "      <td>14003.64</td>\n",
       "      <td>14055.93</td>\n",
       "      <td>14568.91</td>\n",
       "      <td>14702.49</td>\n",
       "      <td>14756.47</td>\n",
       "      <td>9817.61</td>\n",
       "    </tr>\n",
       "    <tr>\n",
       "      <th>1001</th>\n",
       "      <td>NaN</td>\n",
       "      <td>NaN</td>\n",
       "      <td>NaN</td>\n",
       "      <td>NaN</td>\n",
       "      <td>NaN</td>\n",
       "      <td>NaN</td>\n",
       "      <td>NaN</td>\n",
       "      <td>NaN</td>\n",
       "      <td>NaN</td>\n",
       "      <td>NaN</td>\n",
       "      <td>...</td>\n",
       "      <td>NaN</td>\n",
       "      <td>NaN</td>\n",
       "      <td>NaN</td>\n",
       "      <td>NaN</td>\n",
       "      <td>NaN</td>\n",
       "      <td>NaN</td>\n",
       "      <td>NaN</td>\n",
       "      <td>NaN</td>\n",
       "      <td>18429.34</td>\n",
       "      <td>14036.66</td>\n",
       "    </tr>\n",
       "    <tr>\n",
       "      <th>1002</th>\n",
       "      <td>NaN</td>\n",
       "      <td>NaN</td>\n",
       "      <td>NaN</td>\n",
       "      <td>NaN</td>\n",
       "      <td>NaN</td>\n",
       "      <td>15.0</td>\n",
       "      <td>26.0</td>\n",
       "      <td>42.0</td>\n",
       "      <td>36.0</td>\n",
       "      <td>33.0</td>\n",
       "      <td>...</td>\n",
       "      <td>NaN</td>\n",
       "      <td>NaN</td>\n",
       "      <td>NaN</td>\n",
       "      <td>10856.82</td>\n",
       "      <td>17580.10</td>\n",
       "      <td>20319.26</td>\n",
       "      <td>16691.08</td>\n",
       "      <td>13888.25</td>\n",
       "      <td>18587.28</td>\n",
       "      <td>18113.73</td>\n",
       "    </tr>\n",
       "    <tr>\n",
       "      <th>1003</th>\n",
       "      <td>NaN</td>\n",
       "      <td>NaN</td>\n",
       "      <td>NaN</td>\n",
       "      <td>NaN</td>\n",
       "      <td>NaN</td>\n",
       "      <td>NaN</td>\n",
       "      <td>NaN</td>\n",
       "      <td>55.0</td>\n",
       "      <td>134.0</td>\n",
       "      <td>108.0</td>\n",
       "      <td>...</td>\n",
       "      <td>NaN</td>\n",
       "      <td>NaN</td>\n",
       "      <td>NaN</td>\n",
       "      <td>NaN</td>\n",
       "      <td>NaN</td>\n",
       "      <td>8565.21</td>\n",
       "      <td>12468.87</td>\n",
       "      <td>14768.14</td>\n",
       "      <td>11356.89</td>\n",
       "      <td>10121.53</td>\n",
       "    </tr>\n",
       "    <tr>\n",
       "      <th>1004</th>\n",
       "      <td>NaN</td>\n",
       "      <td>NaN</td>\n",
       "      <td>NaN</td>\n",
       "      <td>NaN</td>\n",
       "      <td>9.0</td>\n",
       "      <td>31.0</td>\n",
       "      <td>22.0</td>\n",
       "      <td>19.0</td>\n",
       "      <td>26.0</td>\n",
       "      <td>29.0</td>\n",
       "      <td>...</td>\n",
       "      <td>NaN</td>\n",
       "      <td>NaN</td>\n",
       "      <td>13403.98</td>\n",
       "      <td>17600.02</td>\n",
       "      <td>22229.58</td>\n",
       "      <td>28584.37</td>\n",
       "      <td>15109.03</td>\n",
       "      <td>18475.44</td>\n",
       "      <td>15616.02</td>\n",
       "      <td>18021.04</td>\n",
       "    </tr>\n",
       "  </tbody>\n",
       "</table>\n",
       "<p>5 rows × 48 columns</p>\n",
       "</div>"
      ],
      "text/plain": [
       "         (calls_count, 1)  (calls_count, 2)  (calls_count, 3)  \\\n",
       "user_id                                                         \n",
       "1000                  NaN               NaN               NaN   \n",
       "1001                  NaN               NaN               NaN   \n",
       "1002                  NaN               NaN               NaN   \n",
       "1003                  NaN               NaN               NaN   \n",
       "1004                  NaN               NaN               NaN   \n",
       "\n",
       "         (calls_count, 4)  (calls_count, 5)  (calls_count, 6)  \\\n",
       "user_id                                                         \n",
       "1000                  NaN              22.0              43.0   \n",
       "1001                  NaN               NaN               NaN   \n",
       "1002                  NaN               NaN              15.0   \n",
       "1003                  NaN               NaN               NaN   \n",
       "1004                  NaN               9.0              31.0   \n",
       "\n",
       "         (calls_count, 7)  (calls_count, 8)  (calls_count, 9)  \\\n",
       "user_id                                                         \n",
       "1000                 47.0              52.0              58.0   \n",
       "1001                  NaN               NaN               NaN   \n",
       "1002                 26.0              42.0              36.0   \n",
       "1003                  NaN              55.0             134.0   \n",
       "1004                 22.0              19.0              26.0   \n",
       "\n",
       "         (calls_count, 10)  ...  (mb, 3)  (mb, 4)   (mb, 5)   (mb, 6)  \\\n",
       "user_id                     ...                                         \n",
       "1000                  57.0  ...      NaN      NaN   2253.49  23233.77   \n",
       "1001                   NaN  ...      NaN      NaN       NaN       NaN   \n",
       "1002                  33.0  ...      NaN      NaN       NaN  10856.82   \n",
       "1003                 108.0  ...      NaN      NaN       NaN       NaN   \n",
       "1004                  29.0  ...      NaN      NaN  13403.98  17600.02   \n",
       "\n",
       "          (mb, 7)   (mb, 8)   (mb, 9)  (mb, 10)  (mb, 11)  (mb, 12)  \n",
       "user_id                                                              \n",
       "1000     14003.64  14055.93  14568.91  14702.49  14756.47   9817.61  \n",
       "1001          NaN       NaN       NaN       NaN  18429.34  14036.66  \n",
       "1002     17580.10  20319.26  16691.08  13888.25  18587.28  18113.73  \n",
       "1003          NaN   8565.21  12468.87  14768.14  11356.89  10121.53  \n",
       "1004     22229.58  28584.37  15109.03  18475.44  15616.02  18021.04  \n",
       "\n",
       "[5 rows x 48 columns]"
      ]
     },
     "execution_count": 17,
     "metadata": {},
     "output_type": "execute_result"
    }
   ],
   "source": [
    "data_pivot = data_calls_pivot.join((data_messages_pivot,data_internet_pivot) , how='outer')\n",
    "data_pivot.head()"
   ]
  },
  {
   "cell_type": "code",
   "execution_count": 18,
   "metadata": {},
   "outputs": [],
   "source": [
    "data_pivot = data_pivot.merge(data_users, on='user_id', how='outer')"
   ]
  },
  {
   "cell_type": "code",
   "execution_count": 19,
   "metadata": {},
   "outputs": [],
   "source": [
    "data_pivot = data_pivot.merge(data_tariffs, on='tariff', how='outer')"
   ]
  },
  {
   "cell_type": "markdown",
   "metadata": {},
   "source": [
    "Заполним пропуски в данных о звонках, сообщениях и интернете на нули."
   ]
  },
  {
   "cell_type": "code",
   "execution_count": 20,
   "metadata": {},
   "outputs": [],
   "source": [
    "for i in range(1,13):\n",
    "    data_pivot[('calls_count', i)] = data_pivot[('calls_count', i)].fillna(0)\n",
    "    data_pivot[('calls_sum', i)] = data_pivot[('calls_sum', i)].fillna(0)\n",
    "    data_pivot[('messages', i)] = data_pivot[('messages', i)].fillna(0)\n",
    "    data_pivot[('mb', i)] = data_pivot[('mb', i)].fillna(0)"
   ]
  },
  {
   "cell_type": "markdown",
   "metadata": {},
   "source": [
    "Посчитаем, сколько месяцев каждый клиент участвовал в плане. Для тех, кто выбыл из плана считаем разницу между месяцем выхода и месяцем прихода +1, для тех, кто все еще в плане: 12 (число месяцев в году) - месяц поступления + 1."
   ]
  },
  {
   "cell_type": "code",
   "execution_count": 21,
   "metadata": {},
   "outputs": [],
   "source": [
    "data_pivot['churn_month'] = pd.DatetimeIndex(data_pivot['churn_date']).month\n",
    "data_pivot['reg_month'] = pd.DatetimeIndex(data_pivot['reg_date']).month\n",
    "\n",
    "data_pivot['months_in_tariff'] = data_pivot['churn_month'] - data_pivot['reg_month'] + 1"
   ]
  },
  {
   "cell_type": "code",
   "execution_count": 22,
   "metadata": {},
   "outputs": [],
   "source": [
    "for i in range(len(data_pivot['months_in_tariff'])):\n",
    "    if ~(data_pivot.loc[i, 'months_in_tariff'] == data_pivot.loc[i, 'months_in_tariff']): #проверяем, что значение Nan\n",
    "        data_pivot.loc[i, 'months_in_tariff'] = 12 - data_pivot.loc[i, 'reg_month'] + 1"
   ]
  },
  {
   "cell_type": "code",
   "execution_count": 23,
   "metadata": {},
   "outputs": [
    {
     "name": "stdout",
     "output_type": "stream",
     "text": [
      "<class 'pandas.core.frame.DataFrame'>\n",
      "Int64Index: 500 entries, 0 to 499\n",
      "Data columns (total 66 columns):\n",
      " #   Column                 Non-Null Count  Dtype         \n",
      "---  ------                 --------------  -----         \n",
      " 0   user_id                500 non-null    int64         \n",
      " 1   (calls_count, 1)       500 non-null    float64       \n",
      " 2   (calls_count, 2)       500 non-null    float64       \n",
      " 3   (calls_count, 3)       500 non-null    float64       \n",
      " 4   (calls_count, 4)       500 non-null    float64       \n",
      " 5   (calls_count, 5)       500 non-null    float64       \n",
      " 6   (calls_count, 6)       500 non-null    float64       \n",
      " 7   (calls_count, 7)       500 non-null    float64       \n",
      " 8   (calls_count, 8)       500 non-null    float64       \n",
      " 9   (calls_count, 9)       500 non-null    float64       \n",
      " 10  (calls_count, 10)      500 non-null    float64       \n",
      " 11  (calls_count, 11)      500 non-null    float64       \n",
      " 12  (calls_count, 12)      500 non-null    float64       \n",
      " 13  (calls_sum, 1)         500 non-null    float64       \n",
      " 14  (calls_sum, 2)         500 non-null    float64       \n",
      " 15  (calls_sum, 3)         500 non-null    float64       \n",
      " 16  (calls_sum, 4)         500 non-null    float64       \n",
      " 17  (calls_sum, 5)         500 non-null    float64       \n",
      " 18  (calls_sum, 6)         500 non-null    float64       \n",
      " 19  (calls_sum, 7)         500 non-null    float64       \n",
      " 20  (calls_sum, 8)         500 non-null    float64       \n",
      " 21  (calls_sum, 9)         500 non-null    float64       \n",
      " 22  (calls_sum, 10)        500 non-null    float64       \n",
      " 23  (calls_sum, 11)        500 non-null    float64       \n",
      " 24  (calls_sum, 12)        500 non-null    float64       \n",
      " 25  (messages, 1)          500 non-null    float64       \n",
      " 26  (messages, 2)          500 non-null    float64       \n",
      " 27  (messages, 3)          500 non-null    float64       \n",
      " 28  (messages, 4)          500 non-null    float64       \n",
      " 29  (messages, 5)          500 non-null    float64       \n",
      " 30  (messages, 6)          500 non-null    float64       \n",
      " 31  (messages, 7)          500 non-null    float64       \n",
      " 32  (messages, 8)          500 non-null    float64       \n",
      " 33  (messages, 9)          500 non-null    float64       \n",
      " 34  (messages, 10)         500 non-null    float64       \n",
      " 35  (messages, 11)         500 non-null    float64       \n",
      " 36  (messages, 12)         500 non-null    float64       \n",
      " 37  (mb, 1)                500 non-null    float64       \n",
      " 38  (mb, 2)                500 non-null    float64       \n",
      " 39  (mb, 3)                500 non-null    float64       \n",
      " 40  (mb, 4)                500 non-null    float64       \n",
      " 41  (mb, 5)                500 non-null    float64       \n",
      " 42  (mb, 6)                500 non-null    float64       \n",
      " 43  (mb, 7)                500 non-null    float64       \n",
      " 44  (mb, 8)                500 non-null    float64       \n",
      " 45  (mb, 9)                500 non-null    float64       \n",
      " 46  (mb, 10)               500 non-null    float64       \n",
      " 47  (mb, 11)               500 non-null    float64       \n",
      " 48  (mb, 12)               500 non-null    float64       \n",
      " 49  age                    500 non-null    int64         \n",
      " 50  churn_date             38 non-null     datetime64[ns]\n",
      " 51  city                   500 non-null    object        \n",
      " 52  first_name             500 non-null    object        \n",
      " 53  last_name              500 non-null    object        \n",
      " 54  reg_date               500 non-null    datetime64[ns]\n",
      " 55  tariff                 500 non-null    object        \n",
      " 56  messages_included      500 non-null    int64         \n",
      " 57  mb_per_month_included  500 non-null    int64         \n",
      " 58  minutes_included       500 non-null    int64         \n",
      " 59  rub_monthly_fee        500 non-null    int64         \n",
      " 60  rub_per_gb             500 non-null    int64         \n",
      " 61  rub_per_message        500 non-null    int64         \n",
      " 62  rub_per_minute         500 non-null    int64         \n",
      " 63  churn_month            38 non-null     float64       \n",
      " 64  reg_month              500 non-null    int64         \n",
      " 65  months_in_tariff       500 non-null    float64       \n",
      "dtypes: datetime64[ns](2), float64(50), int64(10), object(4)\n",
      "memory usage: 281.7+ KB\n"
     ]
    }
   ],
   "source": [
    "data_pivot.info()"
   ]
  },
  {
   "cell_type": "markdown",
   "metadata": {},
   "source": [
    "Посчитаем сколько денег за звонки, сообщения и интернет переплатил каждый клиент по месяцам."
   ]
  },
  {
   "cell_type": "code",
   "execution_count": 24,
   "metadata": {},
   "outputs": [],
   "source": [
    "for i in range(1,13):\n",
    "    data_pivot[('overlimit_calls', i)] = ((data_pivot[('calls_sum', i)] - data_pivot['minutes_included'])\n",
    "                                          * data_pivot['rub_per_minute'])\n",
    "    data_pivot[('overlimit_message', i)] = ((data_pivot[('messages', i)] - data_pivot['messages_included'])\n",
    "                                            * data_pivot['rub_per_message'])\n",
    "    data_pivot[('overlimit_mb', i)] = (np.ceil((data_pivot[('mb', i)] - data_pivot['mb_per_month_included']) / 1024)\n",
    "                                       * data_pivot['rub_per_gb'])                                  \n"
   ]
  },
  {
   "cell_type": "markdown",
   "metadata": {},
   "source": [
    "Сейчас у нс могут получаться отрицательные суммы  - если клиент уложился в отведенный лимит. Обнулим эти суммы, ведь за непотраченные минуты, сообщения и мегабайты деньги не возвращаются."
   ]
  },
  {
   "cell_type": "code",
   "execution_count": 25,
   "metadata": {},
   "outputs": [],
   "source": [
    "num = data_pivot._get_numeric_data()\n",
    "num[num < 0] = 0"
   ]
  },
  {
   "cell_type": "markdown",
   "metadata": {},
   "source": [
    "Посчитаем общую сумму выручки компании по каждому клиенту по месяцам."
   ]
  },
  {
   "cell_type": "code",
   "execution_count": 26,
   "metadata": {},
   "outputs": [],
   "source": [
    "for i in range(1,13):\n",
    "    data_pivot[('proceeds', i)] = (data_pivot[('overlimit_calls', i)] + data_pivot[('overlimit_message', i)] \n",
    "                              + data_pivot[('overlimit_mb', i)] \n",
    "                              + data_pivot['rub_monthly_fee'])"
   ]
  },
  {
   "cell_type": "code",
   "execution_count": 27,
   "metadata": {},
   "outputs": [],
   "source": [
    "data_pivot['all_calls_sum'] = data_pivot.apply(lambda _: 0, axis=1) \n",
    "data_pivot['messages_sum'] = data_pivot.apply(lambda _: 0, axis=1) \n",
    "data_pivot['mb_sum'] = data_pivot.apply(lambda _: 0, axis=1)\n",
    "data_pivot['proceeds_sum'] = data_pivot.apply(lambda _: 0, axis=1) \n",
    "for i in range(1,13):\n",
    "    data_pivot['all_calls_sum'] += np.ceil(data_pivot[('calls_sum', i)])\n",
    "    data_pivot['messages_sum'] += data_pivot[('messages', i)]\n",
    "    data_pivot['mb_sum'] += data_pivot[('mb', i)]\n",
    "    data_pivot['proceeds_sum'] += data_pivot[('proceeds', i)]\n",
    "    \n",
    "data_pivot['calls_average'] = data_pivot['all_calls_sum'] / data_pivot['months_in_tariff']\n",
    "data_pivot['messages_average'] = data_pivot['messages_sum'] / data_pivot['months_in_tariff']\n",
    "data_pivot['gb_average'] = np.ceil(data_pivot['mb_sum'] / data_pivot['months_in_tariff'] / 1024)\n",
    "data_pivot['proceeds_average'] = data_pivot['proceeds_sum'] / data_pivot['months_in_tariff']"
   ]
  },
  {
   "cell_type": "markdown",
   "metadata": {},
   "source": [
    "Введем категории для города проживания клиента - Москва и прочее."
   ]
  },
  {
   "cell_type": "code",
   "execution_count": 28,
   "metadata": {},
   "outputs": [
    {
     "data": {
      "text/html": [
       "<div>\n",
       "<style scoped>\n",
       "    .dataframe tbody tr th:only-of-type {\n",
       "        vertical-align: middle;\n",
       "    }\n",
       "\n",
       "    .dataframe tbody tr th {\n",
       "        vertical-align: top;\n",
       "    }\n",
       "\n",
       "    .dataframe thead th {\n",
       "        text-align: right;\n",
       "    }\n",
       "</style>\n",
       "<table border=\"1\" class=\"dataframe\">\n",
       "  <thead>\n",
       "    <tr style=\"text-align: right;\">\n",
       "      <th></th>\n",
       "      <th>user_id</th>\n",
       "      <th>(calls_count, 1)</th>\n",
       "      <th>(calls_count, 2)</th>\n",
       "      <th>(calls_count, 3)</th>\n",
       "      <th>(calls_count, 4)</th>\n",
       "      <th>(calls_count, 5)</th>\n",
       "      <th>(calls_count, 6)</th>\n",
       "      <th>(calls_count, 7)</th>\n",
       "      <th>(calls_count, 8)</th>\n",
       "      <th>(calls_count, 9)</th>\n",
       "      <th>...</th>\n",
       "      <th>(proceeds, 12)</th>\n",
       "      <th>all_calls_sum</th>\n",
       "      <th>messages_sum</th>\n",
       "      <th>mb_sum</th>\n",
       "      <th>proceeds_sum</th>\n",
       "      <th>calls_average</th>\n",
       "      <th>messages_average</th>\n",
       "      <th>gb_average</th>\n",
       "      <th>proceeds_average</th>\n",
       "      <th>city_kind</th>\n",
       "    </tr>\n",
       "  </thead>\n",
       "  <tbody>\n",
       "    <tr>\n",
       "      <th>0</th>\n",
       "      <td>1000</td>\n",
       "      <td>0.0</td>\n",
       "      <td>0.0</td>\n",
       "      <td>0.0</td>\n",
       "      <td>0.0</td>\n",
       "      <td>22.0</td>\n",
       "      <td>43.0</td>\n",
       "      <td>47.0</td>\n",
       "      <td>52.0</td>\n",
       "      <td>58.0</td>\n",
       "      <td>...</td>\n",
       "      <td>-4647.0</td>\n",
       "      <td>2566.0</td>\n",
       "      <td>496.0</td>\n",
       "      <td>107392.31</td>\n",
       "      <td>-59188.0</td>\n",
       "      <td>320.750</td>\n",
       "      <td>62.0</td>\n",
       "      <td>14.0</td>\n",
       "      <td>-7398.500</td>\n",
       "      <td>прочее</td>\n",
       "    </tr>\n",
       "    <tr>\n",
       "      <th>1</th>\n",
       "      <td>1003</td>\n",
       "      <td>0.0</td>\n",
       "      <td>0.0</td>\n",
       "      <td>0.0</td>\n",
       "      <td>0.0</td>\n",
       "      <td>0.0</td>\n",
       "      <td>0.0</td>\n",
       "      <td>0.0</td>\n",
       "      <td>55.0</td>\n",
       "      <td>134.0</td>\n",
       "      <td>...</td>\n",
       "      <td>-4173.0</td>\n",
       "      <td>3822.0</td>\n",
       "      <td>380.0</td>\n",
       "      <td>57280.64</td>\n",
       "      <td>-65548.0</td>\n",
       "      <td>764.400</td>\n",
       "      <td>76.0</td>\n",
       "      <td>12.0</td>\n",
       "      <td>-13109.600</td>\n",
       "      <td>Москва</td>\n",
       "    </tr>\n",
       "    <tr>\n",
       "      <th>2</th>\n",
       "      <td>1004</td>\n",
       "      <td>0.0</td>\n",
       "      <td>0.0</td>\n",
       "      <td>0.0</td>\n",
       "      <td>0.0</td>\n",
       "      <td>9.0</td>\n",
       "      <td>31.0</td>\n",
       "      <td>22.0</td>\n",
       "      <td>19.0</td>\n",
       "      <td>26.0</td>\n",
       "      <td>...</td>\n",
       "      <td>-3558.0</td>\n",
       "      <td>987.0</td>\n",
       "      <td>1192.0</td>\n",
       "      <td>149039.48</td>\n",
       "      <td>-53921.0</td>\n",
       "      <td>123.375</td>\n",
       "      <td>149.0</td>\n",
       "      <td>19.0</td>\n",
       "      <td>-6740.125</td>\n",
       "      <td>прочее</td>\n",
       "    </tr>\n",
       "    <tr>\n",
       "      <th>3</th>\n",
       "      <td>1013</td>\n",
       "      <td>0.0</td>\n",
       "      <td>0.0</td>\n",
       "      <td>0.0</td>\n",
       "      <td>0.0</td>\n",
       "      <td>0.0</td>\n",
       "      <td>0.0</td>\n",
       "      <td>0.0</td>\n",
       "      <td>0.0</td>\n",
       "      <td>0.0</td>\n",
       "      <td>...</td>\n",
       "      <td>-2808.0</td>\n",
       "      <td>936.0</td>\n",
       "      <td>42.0</td>\n",
       "      <td>30517.16</td>\n",
       "      <td>-72972.0</td>\n",
       "      <td>468.000</td>\n",
       "      <td>21.0</td>\n",
       "      <td>15.0</td>\n",
       "      <td>-36486.000</td>\n",
       "      <td>прочее</td>\n",
       "    </tr>\n",
       "    <tr>\n",
       "      <th>4</th>\n",
       "      <td>1016</td>\n",
       "      <td>0.0</td>\n",
       "      <td>0.0</td>\n",
       "      <td>0.0</td>\n",
       "      <td>0.0</td>\n",
       "      <td>0.0</td>\n",
       "      <td>0.0</td>\n",
       "      <td>0.0</td>\n",
       "      <td>0.0</td>\n",
       "      <td>0.0</td>\n",
       "      <td>...</td>\n",
       "      <td>-3503.0</td>\n",
       "      <td>122.0</td>\n",
       "      <td>142.0</td>\n",
       "      <td>26810.44</td>\n",
       "      <td>-74286.0</td>\n",
       "      <td>61.000</td>\n",
       "      <td>71.0</td>\n",
       "      <td>14.0</td>\n",
       "      <td>-37143.000</td>\n",
       "      <td>прочее</td>\n",
       "    </tr>\n",
       "  </tbody>\n",
       "</table>\n",
       "<p>5 rows × 123 columns</p>\n",
       "</div>"
      ],
      "text/plain": [
       "   user_id  (calls_count, 1)  (calls_count, 2)  (calls_count, 3)  \\\n",
       "0     1000               0.0               0.0               0.0   \n",
       "1     1003               0.0               0.0               0.0   \n",
       "2     1004               0.0               0.0               0.0   \n",
       "3     1013               0.0               0.0               0.0   \n",
       "4     1016               0.0               0.0               0.0   \n",
       "\n",
       "   (calls_count, 4)  (calls_count, 5)  (calls_count, 6)  (calls_count, 7)  \\\n",
       "0               0.0              22.0              43.0              47.0   \n",
       "1               0.0               0.0               0.0               0.0   \n",
       "2               0.0               9.0              31.0              22.0   \n",
       "3               0.0               0.0               0.0               0.0   \n",
       "4               0.0               0.0               0.0               0.0   \n",
       "\n",
       "   (calls_count, 8)  (calls_count, 9)  ...  (proceeds, 12)  all_calls_sum  \\\n",
       "0              52.0              58.0  ...         -4647.0         2566.0   \n",
       "1              55.0             134.0  ...         -4173.0         3822.0   \n",
       "2              19.0              26.0  ...         -3558.0          987.0   \n",
       "3               0.0               0.0  ...         -2808.0          936.0   \n",
       "4               0.0               0.0  ...         -3503.0          122.0   \n",
       "\n",
       "   messages_sum     mb_sum  proceeds_sum  calls_average  messages_average  \\\n",
       "0         496.0  107392.31      -59188.0        320.750              62.0   \n",
       "1         380.0   57280.64      -65548.0        764.400              76.0   \n",
       "2        1192.0  149039.48      -53921.0        123.375             149.0   \n",
       "3          42.0   30517.16      -72972.0        468.000              21.0   \n",
       "4         142.0   26810.44      -74286.0         61.000              71.0   \n",
       "\n",
       "   gb_average  proceeds_average  city_kind  \n",
       "0        14.0         -7398.500     прочее  \n",
       "1        12.0        -13109.600     Москва  \n",
       "2        19.0         -6740.125     прочее  \n",
       "3        15.0        -36486.000     прочее  \n",
       "4        14.0        -37143.000     прочее  \n",
       "\n",
       "[5 rows x 123 columns]"
      ]
     },
     "execution_count": 28,
     "metadata": {},
     "output_type": "execute_result"
    }
   ],
   "source": [
    "def fill_city_kind(row):\n",
    "    if row['city'] == 'Москва':\n",
    "        return('Москва')\n",
    "    return('прочее')\n",
    "\n",
    "data_pivot['city_kind'] = data_pivot.apply(fill_city_kind, axis=1)\n",
    "data_pivot.head()"
   ]
  },
  {
   "cell_type": "markdown",
   "metadata": {},
   "source": [
    "## Анализ данных\n",
    "[*Назад к оглавлению*](#content)"
   ]
  },
  {
   "cell_type": "markdown",
   "metadata": {},
   "source": [
    "Рассмотрим сколько минут разговора, сколько сообщений и какой объём интернет-трафика требуется пользователям каждого тарифа в месяц.\n",
    "\n",
    "Начнем с тарифа Смарт. <a id='part_1.1'></a>"
   ]
  },
  {
   "cell_type": "code",
   "execution_count": 29,
   "metadata": {},
   "outputs": [],
   "source": [
    "def distplot_options(column, tariff):\n",
    "    sns.distplot(data_pivot[data_pivot['tariff'] == tariff][column])\n",
    "    print('Медиана равна', data_pivot[data_pivot['tariff'] == tariff][column].median())\n",
    "    print('Дисперсия равна', np.var(data_pivot[data_pivot['tariff'] == tariff][column]))\n",
    "    print('Стандартное отклонение равно', np.std(data_pivot[data_pivot['tariff'] == tariff][column]))"
   ]
  },
  {
   "cell_type": "code",
   "execution_count": 30,
   "metadata": {},
   "outputs": [
    {
     "name": "stdout",
     "output_type": "stream",
     "text": [
      "Медиана равна 424.875\n",
      "Дисперсия равна 21414.557097220324\n",
      "Стандартное отклонение равно 146.33713505880974\n"
     ]
    },
    {
     "data": {
      "image/png": "[encoded data removed]",
      "text/plain": [
       "<Figure size 432x288 with 1 Axes>"
      ]
     },
     "metadata": {
      "needs_background": "light"
     },
     "output_type": "display_data"
    }
   ],
   "source": [
    "distplot_options('calls_average', 'smart')"
   ]
  },
  {
   "cell_type": "markdown",
   "metadata": {},
   "source": [
    "Можем заметить, что среднее число минут разговоров в тарифе смарт в месяц составляет 425 минут. То есть большинство клиентов укладываются в лимит в 500 минут. Данную величину хорошо описыват нормальное распределение."
   ]
  },
  {
   "cell_type": "code",
   "execution_count": 31,
   "metadata": {},
   "outputs": [
    {
     "name": "stdout",
     "output_type": "stream",
     "text": [
      "Медиана равна 27.5\n",
      "Дисперсия равна 701.8781581237815\n",
      "Стандартное отклонение равно 26.49298318656813\n"
     ]
    },
    {
     "data": {
      "image/png": "[encoded data removed]",
      "text/plain": [
       "<Figure size 432x288 with 1 Axes>"
      ]
     },
     "metadata": {
      "needs_background": "light"
     },
     "output_type": "display_data"
    }
   ],
   "source": [
    "distplot_options('messages_average', 'smart')"
   ]
  },
  {
   "cell_type": "markdown",
   "metadata": {},
   "source": [
    "Среднее число сообщений составляет 27,5 в месяц. Однако стандартное отклонение практически равно среднему знаячению - 26,5. Также можно заметить, что распределение сильно смещено вправо."
   ]
  },
  {
   "cell_type": "code",
   "execution_count": 32,
   "metadata": {},
   "outputs": [
    {
     "name": "stdout",
     "output_type": "stream",
     "text": [
      "Медиана равна 16.0\n",
      "Дисперсия равна 12.983125136971246\n",
      "Стандартное отклонение равно 3.603210393103801\n"
     ]
    },
    {
     "data": {
      "image/png": "[encoded data removed]",
      "text/plain": [
       "<Figure size 432x288 with 1 Axes>"
      ]
     },
     "metadata": {
      "needs_background": "light"
     },
     "output_type": "display_data"
    }
   ],
   "source": [
    "distplot_options('gb_average', 'smart')"
   ]
  },
  {
   "cell_type": "markdown",
   "metadata": {},
   "source": [
    "В среднем клиенты тарифа смарт используют 16 гб в месяц, что превышает бесплатный лимит в 15 гб. Также можно заметить еще один пик на уровне 19 гб."
   ]
  },
  {
   "cell_type": "markdown",
   "metadata": {},
   "source": [
    "Рассмотрим тариф Ультра. <a id='part_1.2'></a>"
   ]
  },
  {
   "cell_type": "code",
   "execution_count": 33,
   "metadata": {},
   "outputs": [
    {
     "name": "stdout",
     "output_type": "stream",
     "text": [
      "Медиана равна 513.3333333333334\n",
      "Дисперсия равна 80194.95452340918\n",
      "Стандартное отклонение равно 283.18713693141\n"
     ]
    },
    {
     "data": {
      "image/png": "[encoded data removed]",
      "text/plain": [
       "<Figure size 432x288 with 1 Axes>"
      ]
     },
     "metadata": {
      "needs_background": "light"
     },
     "output_type": "display_data"
    }
   ],
   "source": [
    "distplot_options('calls_average', 'ultra')"
   ]
  },
  {
   "cell_type": "markdown",
   "metadata": {},
   "source": [
    "Среднее число минут, которые используют клиенты тарифа Ультра составляет 513 минут - что не сильно отличается от значений в тарифе Смарт. Однако стандартное отклонение существенно больше - 283, вместо 146. Это значит, что большее число клиентов тратит большее число минут на звонки."
   ]
  },
  {
   "cell_type": "code",
   "execution_count": 34,
   "metadata": {},
   "outputs": [
    {
     "name": "stdout",
     "output_type": "stream",
     "text": [
      "Медиана равна 45.0\n",
      "Дисперсия равна 2140.4332957974884\n",
      "Стандартное отклонение равно 46.26481704057078\n"
     ]
    },
    {
     "data": {
      "image/png": "[encoded data removed]",
      "text/plain": [
       "<Figure size 432x288 with 1 Axes>"
      ]
     },
     "metadata": {
      "needs_background": "light"
     },
     "output_type": "display_data"
    }
   ],
   "source": [
    "distplot_options('messages_average', 'ultra')"
   ]
  },
  {
   "cell_type": "markdown",
   "metadata": {},
   "source": [
    "Картина похожа на тариф смарт - распределение также смещено вправо. Однако медиана и стандартное отклонение в два раза больше - все же на тариффе Ультра пишут больше сообщений."
   ]
  },
  {
   "cell_type": "code",
   "execution_count": 35,
   "metadata": {},
   "outputs": [
    {
     "name": "stdout",
     "output_type": "stream",
     "text": [
      "Медиана равна 19.0\n",
      "Дисперсия равна 67.64343948470788\n",
      "Стандартное отклонение равно 8.224563178960198\n"
     ]
    },
    {
     "data": {
      "image/png": "[encoded data removed]",
      "text/plain": [
       "<Figure size 432x288 with 1 Axes>"
      ]
     },
     "metadata": {
      "needs_background": "light"
     },
     "output_type": "display_data"
    }
   ],
   "source": [
    "distplot_options('gb_average', 'ultra')"
   ]
  },
  {
   "cell_type": "markdown",
   "metadata": {},
   "source": [
    "Большинство клиентов тарифа Ультра используют 19 ГБ, что больше, чем в тарифе смарт (16Гб). Также можно наблюдать стандартное отклонение, равное 8, что больше, чем в 2 раза больше, чем в тарифе смарт."
   ]
  },
  {
   "cell_type": "markdown",
   "metadata": {},
   "source": [
    "Для наглядности посмотрим на распределения по разным тарифам на одном графике. <a id='part_1.3'></a>"
   ]
  },
  {
   "cell_type": "code",
   "execution_count": 36,
   "metadata": {},
   "outputs": [],
   "source": [
    "def two_tariffs_options(column):\n",
    "    fig, axes = plt.subplots(1, 2, figsize=(16, 5))\n",
    "    axes[0].hist(data_pivot[data_pivot['tariff'] == 'smart'][column], alpha=0.5)\n",
    "    axes[0].hist(data_pivot[data_pivot['tariff'] == 'ultra'][column], alpha=0.5)\n",
    "    fig.legend(labels=['smart','ultra'])\n",
    "    fig.suptitle(column)\n",
    "    axes[1].boxplot(data_pivot[data_pivot['tariff'] == 'smart'][column])\n",
    "    axes[1].boxplot(data_pivot[data_pivot['tariff'] == 'ultra'][column])"
   ]
  },
  {
   "cell_type": "code",
   "execution_count": 37,
   "metadata": {},
   "outputs": [
    {
     "data": {
      "image/png": "[encoded data removed]",
      "text/plain": [
       "<Figure size 1152x360 with 2 Axes>"
      ]
     },
     "metadata": {
      "needs_background": "light"
     },
     "output_type": "display_data"
    }
   ],
   "source": [
    "two_tariffs_options('calls_average')"
   ]
  },
  {
   "cell_type": "code",
   "execution_count": 38,
   "metadata": {},
   "outputs": [
    {
     "data": {
      "image/png": "[encoded data removed]",
      "text/plain": [
       "<Figure size 1152x360 with 2 Axes>"
      ]
     },
     "metadata": {
      "needs_background": "light"
     },
     "output_type": "display_data"
    }
   ],
   "source": [
    "two_tariffs_options('messages_average')"
   ]
  },
  {
   "cell_type": "code",
   "execution_count": 39,
   "metadata": {},
   "outputs": [
    {
     "data": {
      "image/png": "[encoded data removed]",
      "text/plain": [
       "<Figure size 1152x360 with 2 Axes>"
      ]
     },
     "metadata": {
      "needs_background": "light"
     },
     "output_type": "display_data"
    }
   ],
   "source": [
    "two_tariffs_options('gb_average')"
   ]
  },
  {
   "cell_type": "markdown",
   "metadata": {},
   "source": [
    "### Вывод <a id='part_1.4'></a>"
   ]
  },
  {
   "cell_type": "markdown",
   "metadata": {},
   "source": [
    "Среднее количество звонков, сообщений и интернета, используемые клиентами тарифов Смарт и Ультра, хорошо описываются нормальным распределением. В целом ситуации схожи, но на тарифе Ультра, ожидаемо, используется больше."
   ]
  },
  {
   "cell_type": "markdown",
   "metadata": {},
   "source": [
    "## Проверка гипотез\n",
    "[*Назад к оглавлению*](#content)"
   ]
  },
  {
   "cell_type": "markdown",
   "metadata": {},
   "source": [
    "Нам необходимо проверить следующие гипотезы:\n",
    "* средняя выручка пользователей тарифов «Ультра» и «Смарт» различаются;\n",
    "* средняя выручка пользователей из Москвы отличается от выручки пользователей из других регионов."
   ]
  },
  {
   "cell_type": "markdown",
   "metadata": {},
   "source": [
    "<a id='part_2.1'></a>\n",
    "Начнем с первой. Пойдем от обратного: предположим, что средняя выручка пользователей тарифов «Ультра» и «Смарт» одинакова. Таким образом мы можем сформулировать нулевую гипотезу:\n",
    "\n",
    "**Средняя выручка пользователей тарифов «Ультра» и «Смарт» одинакова.**\n",
    "\n",
    "Тогда альтернативная гипотеза будет:\n",
    "\n",
    "**Средняя выручка пользователей тарифов «Ультра» и «Смарт» различна.**"
   ]
  },
  {
   "cell_type": "markdown",
   "metadata": {},
   "source": [
    "Для начала посмотрим, похожи ли дисперсии выборок."
   ]
  },
  {
   "cell_type": "code",
   "execution_count": 40,
   "metadata": {},
   "outputs": [
    {
     "name": "stdout",
     "output_type": "stream",
     "text": [
      "Дисперсия выборки тарифа смарт равна 148295654.9557878\n",
      "Дисперсия выборки тарифа ультра равна 297382636.31822133\n"
     ]
    }
   ],
   "source": [
    "print('Дисперсия выборки тарифа смарт равна', np.var(data_pivot[data_pivot['tariff'] == 'smart']['proceeds_average']))\n",
    "print('Дисперсия выборки тарифа ультра равна', np.var(data_pivot[data_pivot['tariff'] == 'ultra']['proceeds_average']))"
   ]
  },
  {
   "cell_type": "markdown",
   "metadata": {},
   "source": [
    "Очевидно, что в данном случае дисперcии различны."
   ]
  },
  {
   "cell_type": "code",
   "execution_count": 41,
   "metadata": {},
   "outputs": [
    {
     "name": "stdout",
     "output_type": "stream",
     "text": [
      "p-значение: 1.2699076357485752e-05\n",
      "Отвергаем нулевую гипотезу\n"
     ]
    }
   ],
   "source": [
    "alpha = 0.05\n",
    "\n",
    "results = st.ttest_ind(data_pivot[data_pivot['tariff'] == 'smart']['proceeds_average'], \n",
    "                       data_pivot[data_pivot['tariff'] == 'ultra']['proceeds_average'],\n",
    "                       equal_var = False)\n",
    "\n",
    "print('p-значение:', results.pvalue)\n",
    "\n",
    "if results.pvalue < alpha:\n",
    "    print('Отвергаем нулевую гипотезу')\n",
    "else:\n",
    "    print('Не получилось отвергнуть нулевую гипотезу') "
   ]
  },
  {
   "cell_type": "markdown",
   "metadata": {},
   "source": [
    "Видим, что p-значение близко к нулю. Это означает, что мы отвергаем нулевую гипотезу, то есть можем сказать, что средняя выручка пользователей различна."
   ]
  },
  {
   "cell_type": "markdown",
   "metadata": {},
   "source": [
    "Построим гистограмы распределений, чтобы посмотреть, действительно ли результаты похожи на действительность."
   ]
  },
  {
   "cell_type": "code",
   "execution_count": 42,
   "metadata": {},
   "outputs": [
    {
     "name": "stdout",
     "output_type": "stream",
     "text": [
      "Медиана равна -3391.0\n",
      "Дисперсия равна 148295654.9557878\n",
      "Стандартное отклонение равно 12177.670341891662\n"
     ]
    },
    {
     "data": {
      "image/png": "[encoded data removed]",
      "text/plain": [
       "<Figure size 432x288 with 1 Axes>"
      ]
     },
     "metadata": {
      "needs_background": "light"
     },
     "output_type": "display_data"
    }
   ],
   "source": [
    "distplot_options('proceeds_average', 'smart')"
   ]
  },
  {
   "cell_type": "code",
   "execution_count": 43,
   "metadata": {},
   "outputs": [
    {
     "name": "stdout",
     "output_type": "stream",
     "text": [
      "Медиана равна -7696.166666666667\n",
      "Дисперсия равна 297382636.31822133\n",
      "Стандартное отклонение равно 17244.785771885407\n"
     ]
    },
    {
     "data": {
      "image/png": "[encoded data removed]",
      "text/plain": [
       "<Figure size 432x288 with 1 Axes>"
      ]
     },
     "metadata": {
      "needs_background": "light"
     },
     "output_type": "display_data"
    }
   ],
   "source": [
    "distplot_options('proceeds_average', 'ultra')"
   ]
  },
  {
   "cell_type": "code",
   "execution_count": 44,
   "metadata": {},
   "outputs": [
    {
     "data": {
      "image/png": "[encoded data removed]",
      "text/plain": [
       "<Figure size 1152x360 with 2 Axes>"
      ]
     },
     "metadata": {
      "needs_background": "light"
     },
     "output_type": "display_data"
    }
   ],
   "source": [
    "two_tariffs_options('proceeds_average')"
   ]
  },
  {
   "cell_type": "markdown",
   "metadata": {},
   "source": [
    "Очевидно, что выручка в тарифе Ультра существенно больше (ведь и сам тариф дороже)."
   ]
  },
  {
   "cell_type": "markdown",
   "metadata": {},
   "source": [
    "<a id='part_2.2'></a>\n",
    "Рассмотрим вторую гипотезу. Также пойдем от обратного и сформулируем нулевую гипотезу:\n",
    "\n",
    "**Средняя выручка пользователей из Москвы и других регионов одинакова.**\n",
    "\n",
    "Тогда альтернативная гипотеза будет:\n",
    "\n",
    "**Средняя выручка пользователей из Москвы и других регионов различна.**"
   ]
  },
  {
   "cell_type": "markdown",
   "metadata": {},
   "source": [
    "Для начала посмотрим, похожи ли дисперсии выборок."
   ]
  },
  {
   "cell_type": "code",
   "execution_count": 45,
   "metadata": {},
   "outputs": [
    {
     "name": "stdout",
     "output_type": "stream",
     "text": [
      "Дисперсия выборки по Москве равна 136263082.84174016\n",
      "Дисперсия выборки по регионам равна 219344227.37763828\n"
     ]
    }
   ],
   "source": [
    "print('Дисперсия выборки по Москве равна', np.var(data_pivot[data_pivot['city_kind'] == 'Москва']['proceeds_average']))\n",
    "print('Дисперсия выборки по регионам равна', np.var(data_pivot[data_pivot['city_kind'] == 'прочее']['proceeds_average']))"
   ]
  },
  {
   "cell_type": "markdown",
   "metadata": {},
   "source": [
    "Очевидно, что в данном случае диспервии различны."
   ]
  },
  {
   "cell_type": "code",
   "execution_count": 46,
   "metadata": {},
   "outputs": [
    {
     "name": "stdout",
     "output_type": "stream",
     "text": [
      "p-значение: 0.9942694503993124\n",
      "Не получилось отвергнуть нулевую гипотезу\n"
     ]
    }
   ],
   "source": [
    "alpha = 0.05\n",
    "\n",
    "results = st.ttest_ind(data_pivot[data_pivot['city_kind'] == 'Москва']['proceeds_average'], \n",
    "                       data_pivot[data_pivot['city_kind'] == 'прочее']['proceeds_average'],\n",
    "                       equal_var = False)\n",
    "\n",
    "print('p-значение:', results.pvalue)\n",
    "\n",
    "if results.pvalue < alpha:\n",
    "    print('Отвергаем нулевую гипотезу')\n",
    "else:\n",
    "    print('Не получилось отвергнуть нулевую гипотезу') "
   ]
  },
  {
   "cell_type": "markdown",
   "metadata": {},
   "source": [
    "Даже если бы мы взяли большее значение критического уровня статистической значимости (например, 10%), все равно не вышло бы отвергнуть нулевую гипотезу. Это значит, что наша первоначальная гипотеза: *средняя выручка пользователей из Москвы отличается от выручки пользователей из других регионов* не прошла проверку, и на самом деле выручка пользователей из Москвы и регионов похожа."
   ]
  },
  {
   "cell_type": "markdown",
   "metadata": {},
   "source": [
    "### Вывод <a id='part_2.1'></a>"
   ]
  },
  {
   "cell_type": "markdown",
   "metadata": {},
   "source": [
    "По результатам проведенной проверке гипотез можно сказать следующее:\n",
    "* Средняя выручка пользователей тарифов «Ультра» и «Смарт» различна\n",
    "* Средняя выручка пользователей из Москвы и других регионов одинакова"
   ]
  },
  {
   "cell_type": "markdown",
   "metadata": {},
   "source": [
    "## Общий вывод\n",
    "<a id='finish'></a>\n",
    "\n",
    "[*Назад к оглавлению*](#content)"
   ]
  },
  {
   "cell_type": "markdown",
   "metadata": {},
   "source": [
    "По результатам анализа данных можно сделать следующие выводы:\n",
    "* среднее число минут разговоров в тарифе смарт в месяц составляет 425 минут. То есть большинство клиентов укладываются в лимит в 500 минут. Данную величину хорошо описыват нормальное распределение. В то же время среднее число минут, которые используют клиенты тарифа Ультра составляет 513 минут - что не сильно отличается от значений в тарифе Смарт. Однако стандартное отклонение существенно больше - 283, вместо 146. Это значит, что большее число клиентов тратит большее число минут на звонки.\n",
    "* среднее число сообщений в тарифе смарт составляет 27,5 в месяц. Однако стандартное отклонение практически равно среднему знаячению - 26,5. В тарифе Ультра картина похожа на тариф смарт, днако медиана и стандартное отклонение в два раза больше - все же на тариффе Ультра пишут больше сообщений. Также можно заметить, что оба распределения сильно смещены вправо.\n",
    "* В среднем клиенты тарифа смарт используют 16-19 гб в месяц, что превышает бесплатный лимит в 15 гб. Большинство клиентов тарифа Ультра используют около 19 ГБ интернета ежемесячно.\n",
    "* Средняя выручка пользователей тарифов «Ультра» и «Смарт» различна\n",
    "* Средняя выручка пользователей из Москвы и других регионов одинакова\n",
    "\n",
    "\n",
    "В общем можно сказать, что компании выгодней продвигать тариф Ультра - средняя выручка с него больше. А вот где это делать - в Москве или иных регионах - значения не имеет."
   ]
  }
 ],
 "metadata": {
  "ExecuteTimeLog": [
   {
    "duration": 832,
    "start_time": "2021-10-22T07:23:47.030Z"
   },
   {
    "duration": 2666,
    "start_time": "2021-10-22T07:26:02.919Z"
   },
   {
    "duration": 518,
    "start_time": "2021-10-22T07:27:57.578Z"
   },
   {
    "duration": 15,
    "start_time": "2021-10-22T07:28:09.415Z"
   },
   {
    "duration": 12,
    "start_time": "2021-10-22T07:28:20.838Z"
   },
   {
    "duration": 9,
    "start_time": "2021-10-22T07:28:36.472Z"
   },
   {
    "duration": 12,
    "start_time": "2021-10-22T07:28:45.423Z"
   },
   {
    "duration": 14,
    "start_time": "2021-10-22T07:28:54.870Z"
   },
   {
    "duration": 286,
    "start_time": "2021-10-25T08:49:31.662Z"
   },
   {
    "duration": 806,
    "start_time": "2021-10-25T08:49:36.549Z"
   },
   {
    "duration": 500,
    "start_time": "2021-10-25T08:49:38.000Z"
   },
   {
    "duration": 23,
    "start_time": "2021-10-25T08:49:39.105Z"
   },
   {
    "duration": 12,
    "start_time": "2021-10-25T08:49:40.129Z"
   },
   {
    "duration": 10,
    "start_time": "2021-10-25T08:49:41.065Z"
   },
   {
    "duration": 11,
    "start_time": "2021-10-25T08:49:41.889Z"
   },
   {
    "duration": 14,
    "start_time": "2021-10-25T08:49:42.824Z"
   },
   {
    "duration": 40,
    "start_time": "2021-10-25T08:49:44.044Z"
   },
   {
    "duration": 30,
    "start_time": "2021-10-25T08:50:07.385Z"
   },
   {
    "duration": 88,
    "start_time": "2021-10-25T08:51:54.236Z"
   },
   {
    "duration": 19,
    "start_time": "2021-10-25T08:55:03.034Z"
   },
   {
    "duration": 8,
    "start_time": "2021-10-25T08:55:43.503Z"
   },
   {
    "duration": 8,
    "start_time": "2021-10-25T08:55:51.886Z"
   },
   {
    "duration": 8,
    "start_time": "2021-10-25T08:56:10.023Z"
   },
   {
    "duration": 7,
    "start_time": "2021-10-25T08:56:18.768Z"
   },
   {
    "duration": 6,
    "start_time": "2021-10-25T08:56:31.982Z"
   },
   {
    "duration": 6,
    "start_time": "2021-10-25T08:56:37.030Z"
   },
   {
    "duration": 26,
    "start_time": "2021-10-25T08:56:46.397Z"
   },
   {
    "duration": 17,
    "start_time": "2021-10-25T08:58:09.856Z"
   },
   {
    "duration": 6,
    "start_time": "2021-10-25T08:58:35.680Z"
   },
   {
    "duration": 248,
    "start_time": "2021-10-25T08:58:51.697Z"
   },
   {
    "duration": 7,
    "start_time": "2021-10-25T08:58:59.703Z"
   },
   {
    "duration": 32,
    "start_time": "2021-10-25T09:02:15.972Z"
   },
   {
    "duration": 33,
    "start_time": "2021-10-25T09:16:51.559Z"
   },
   {
    "duration": 119,
    "start_time": "2021-10-25T09:18:12.220Z"
   },
   {
    "duration": 198,
    "start_time": "2021-10-25T09:21:18.157Z"
   },
   {
    "duration": 21,
    "start_time": "2021-10-25T09:21:20.988Z"
   },
   {
    "duration": 62,
    "start_time": "2021-10-25T09:21:22.152Z"
   },
   {
    "duration": 72,
    "start_time": "2021-10-25T09:23:23.989Z"
   },
   {
    "duration": 74,
    "start_time": "2021-10-25T09:27:42.095Z"
   },
   {
    "duration": 64,
    "start_time": "2021-10-25T09:28:49.247Z"
   },
   {
    "duration": 126,
    "start_time": "2021-10-25T09:31:44.347Z"
   },
   {
    "duration": 137,
    "start_time": "2021-10-25T09:38:03.837Z"
   },
   {
    "duration": 75,
    "start_time": "2021-10-25T09:38:05.422Z"
   },
   {
    "duration": 70,
    "start_time": "2021-10-25T09:38:06.852Z"
   },
   {
    "duration": 8,
    "start_time": "2021-10-25T09:38:18.456Z"
   },
   {
    "duration": 34,
    "start_time": "2021-10-25T09:38:29.116Z"
   },
   {
    "duration": 12,
    "start_time": "2021-10-25T09:58:42.851Z"
   },
   {
    "duration": 35,
    "start_time": "2021-10-25T09:58:50.537Z"
   },
   {
    "duration": 13,
    "start_time": "2021-10-25T10:02:01.755Z"
   },
   {
    "duration": 11,
    "start_time": "2021-10-25T10:02:20.691Z"
   },
   {
    "duration": 29,
    "start_time": "2021-10-25T10:02:21.591Z"
   },
   {
    "duration": 850,
    "start_time": "2021-10-25T10:03:35.415Z"
   },
   {
    "duration": 503,
    "start_time": "2021-10-25T10:03:36.268Z"
   },
   {
    "duration": 19,
    "start_time": "2021-10-25T10:03:36.774Z"
   },
   {
    "duration": 19,
    "start_time": "2021-10-25T10:03:36.797Z"
   },
   {
    "duration": 10,
    "start_time": "2021-10-25T10:03:36.819Z"
   },
   {
    "duration": 14,
    "start_time": "2021-10-25T10:03:36.832Z"
   },
   {
    "duration": 14,
    "start_time": "2021-10-25T10:03:36.849Z"
   },
   {
    "duration": 15,
    "start_time": "2021-10-25T10:03:36.867Z"
   },
   {
    "duration": 128,
    "start_time": "2021-10-25T10:03:36.884Z"
   },
   {
    "duration": 25,
    "start_time": "2021-10-25T10:03:37.015Z"
   },
   {
    "duration": 9,
    "start_time": "2021-10-25T10:03:37.043Z"
   },
   {
    "duration": 33,
    "start_time": "2021-10-25T10:03:37.054Z"
   },
   {
    "duration": 179,
    "start_time": "2021-10-25T10:03:37.091Z"
   },
   {
    "duration": 89,
    "start_time": "2021-10-25T10:03:37.273Z"
   },
   {
    "duration": 77,
    "start_time": "2021-10-25T10:03:37.364Z"
   },
   {
    "duration": 35,
    "start_time": "2021-10-25T10:03:37.443Z"
   },
   {
    "duration": 11,
    "start_time": "2021-10-25T10:03:37.480Z"
   },
   {
    "duration": 45,
    "start_time": "2021-10-25T10:03:37.494Z"
   },
   {
    "duration": 9,
    "start_time": "2021-10-25T10:03:37.541Z"
   },
   {
    "duration": 19,
    "start_time": "2021-10-25T10:03:37.553Z"
   },
   {
    "duration": 821,
    "start_time": "2021-10-25T10:06:58.936Z"
   },
   {
    "duration": 517,
    "start_time": "2021-10-25T10:06:59.760Z"
   },
   {
    "duration": 17,
    "start_time": "2021-10-25T10:07:00.280Z"
   },
   {
    "duration": 31,
    "start_time": "2021-10-25T10:07:00.300Z"
   },
   {
    "duration": 32,
    "start_time": "2021-10-25T10:07:00.333Z"
   },
   {
    "duration": 16,
    "start_time": "2021-10-25T10:07:00.368Z"
   },
   {
    "duration": 32,
    "start_time": "2021-10-25T10:07:00.386Z"
   },
   {
    "duration": 30,
    "start_time": "2021-10-25T10:07:00.422Z"
   },
   {
    "duration": 117,
    "start_time": "2021-10-25T10:07:00.454Z"
   },
   {
    "duration": 17,
    "start_time": "2021-10-25T10:07:00.573Z"
   },
   {
    "duration": 30,
    "start_time": "2021-10-25T10:07:00.593Z"
   },
   {
    "duration": 56,
    "start_time": "2021-10-25T10:07:00.625Z"
   },
   {
    "duration": 150,
    "start_time": "2021-10-25T10:07:00.684Z"
   },
   {
    "duration": 81,
    "start_time": "2021-10-25T10:07:00.836Z"
   },
   {
    "duration": 73,
    "start_time": "2021-10-25T10:07:00.930Z"
   },
   {
    "duration": 57,
    "start_time": "2021-10-25T10:07:01.005Z"
   },
   {
    "duration": 12,
    "start_time": "2021-10-25T10:07:01.065Z"
   },
   {
    "duration": 29,
    "start_time": "2021-10-25T10:07:01.079Z"
   },
   {
    "duration": 35,
    "start_time": "2021-10-25T10:08:01.599Z"
   },
   {
    "duration": 134,
    "start_time": "2021-10-25T10:10:56.226Z"
   },
   {
    "duration": 144,
    "start_time": "2021-10-25T10:16:35.871Z"
   },
   {
    "duration": 829,
    "start_time": "2021-10-25T10:20:37.283Z"
   },
   {
    "duration": 616,
    "start_time": "2021-10-25T10:20:38.115Z"
   },
   {
    "duration": 17,
    "start_time": "2021-10-25T10:20:38.734Z"
   },
   {
    "duration": 12,
    "start_time": "2021-10-25T10:20:38.754Z"
   },
   {
    "duration": 14,
    "start_time": "2021-10-25T10:20:38.769Z"
   },
   {
    "duration": 48,
    "start_time": "2021-10-25T10:20:38.786Z"
   },
   {
    "duration": 16,
    "start_time": "2021-10-25T10:20:38.837Z"
   },
   {
    "duration": 21,
    "start_time": "2021-10-25T10:20:38.857Z"
   },
   {
    "duration": 130,
    "start_time": "2021-10-25T10:20:38.881Z"
   },
   {
    "duration": 23,
    "start_time": "2021-10-25T10:20:39.014Z"
   },
   {
    "duration": 6,
    "start_time": "2021-10-25T10:20:39.040Z"
   },
   {
    "duration": 52,
    "start_time": "2021-10-25T10:20:39.048Z"
   },
   {
    "duration": 171,
    "start_time": "2021-10-25T10:20:39.103Z"
   },
   {
    "duration": 267,
    "start_time": "2021-10-25T10:20:39.276Z"
   },
   {
    "duration": -64,
    "start_time": "2021-10-25T10:20:39.609Z"
   },
   {
    "duration": -68,
    "start_time": "2021-10-25T10:20:39.615Z"
   },
   {
    "duration": -85,
    "start_time": "2021-10-25T10:20:39.633Z"
   },
   {
    "duration": -97,
    "start_time": "2021-10-25T10:20:39.646Z"
   },
   {
    "duration": -98,
    "start_time": "2021-10-25T10:20:39.649Z"
   },
   {
    "duration": -104,
    "start_time": "2021-10-25T10:20:39.656Z"
   },
   {
    "duration": -109,
    "start_time": "2021-10-25T10:20:39.662Z"
   },
   {
    "duration": 896,
    "start_time": "2021-10-25T10:21:58.591Z"
   },
   {
    "duration": 566,
    "start_time": "2021-10-25T10:21:59.490Z"
   },
   {
    "duration": 16,
    "start_time": "2021-10-25T10:22:00.059Z"
   },
   {
    "duration": 22,
    "start_time": "2021-10-25T10:22:00.077Z"
   },
   {
    "duration": 21,
    "start_time": "2021-10-25T10:22:00.102Z"
   },
   {
    "duration": 23,
    "start_time": "2021-10-25T10:22:00.126Z"
   },
   {
    "duration": 28,
    "start_time": "2021-10-25T10:22:00.152Z"
   },
   {
    "duration": 31,
    "start_time": "2021-10-25T10:22:00.184Z"
   },
   {
    "duration": 118,
    "start_time": "2021-10-25T10:22:00.218Z"
   },
   {
    "duration": 19,
    "start_time": "2021-10-25T10:22:00.339Z"
   },
   {
    "duration": 33,
    "start_time": "2021-10-25T10:22:00.360Z"
   },
   {
    "duration": 52,
    "start_time": "2021-10-25T10:22:00.396Z"
   },
   {
    "duration": 167,
    "start_time": "2021-10-25T10:22:00.450Z"
   },
   {
    "duration": 91,
    "start_time": "2021-10-25T10:22:00.620Z"
   },
   {
    "duration": 75,
    "start_time": "2021-10-25T10:22:00.729Z"
   },
   {
    "duration": 55,
    "start_time": "2021-10-25T10:22:00.807Z"
   },
   {
    "duration": 14,
    "start_time": "2021-10-25T10:22:00.864Z"
   },
   {
    "duration": 24,
    "start_time": "2021-10-25T10:22:00.880Z"
   },
   {
    "duration": 52,
    "start_time": "2021-10-25T10:22:00.907Z"
   },
   {
    "duration": 5057,
    "start_time": "2021-10-25T10:22:00.962Z"
   },
   {
    "duration": 7,
    "start_time": "2021-10-25T10:23:47.131Z"
   },
   {
    "duration": 451,
    "start_time": "2021-10-25T10:28:00.030Z"
   },
   {
    "duration": 6,
    "start_time": "2021-10-25T10:28:05.797Z"
   },
   {
    "duration": 278,
    "start_time": "2021-10-25T10:32:15.377Z"
   },
   {
    "duration": 79,
    "start_time": "2021-10-25T10:32:28.072Z"
   },
   {
    "duration": 44,
    "start_time": "2021-10-25T10:43:00.719Z"
   },
   {
    "duration": 833,
    "start_time": "2021-10-25T10:43:30.686Z"
   },
   {
    "duration": 551,
    "start_time": "2021-10-25T10:43:31.522Z"
   },
   {
    "duration": 17,
    "start_time": "2021-10-25T10:43:32.075Z"
   },
   {
    "duration": 15,
    "start_time": "2021-10-25T10:43:32.095Z"
   },
   {
    "duration": 16,
    "start_time": "2021-10-25T10:43:32.113Z"
   },
   {
    "duration": 13,
    "start_time": "2021-10-25T10:43:32.132Z"
   },
   {
    "duration": 13,
    "start_time": "2021-10-25T10:43:32.148Z"
   },
   {
    "duration": 18,
    "start_time": "2021-10-25T10:43:32.164Z"
   },
   {
    "duration": 133,
    "start_time": "2021-10-25T10:43:32.185Z"
   },
   {
    "duration": 21,
    "start_time": "2021-10-25T10:43:32.320Z"
   },
   {
    "duration": 8,
    "start_time": "2021-10-25T10:43:32.344Z"
   },
   {
    "duration": 49,
    "start_time": "2021-10-25T10:43:32.354Z"
   },
   {
    "duration": 171,
    "start_time": "2021-10-25T10:43:32.405Z"
   },
   {
    "duration": 96,
    "start_time": "2021-10-25T10:43:32.578Z"
   },
   {
    "duration": 84,
    "start_time": "2021-10-25T10:43:32.677Z"
   },
   {
    "duration": 39,
    "start_time": "2021-10-25T10:43:32.764Z"
   },
   {
    "duration": 30,
    "start_time": "2021-10-25T10:43:32.806Z"
   },
   {
    "duration": 18,
    "start_time": "2021-10-25T10:43:32.838Z"
   },
   {
    "duration": 33,
    "start_time": "2021-10-25T10:43:32.858Z"
   },
   {
    "duration": 60,
    "start_time": "2021-10-25T10:43:32.894Z"
   },
   {
    "duration": 337,
    "start_time": "2021-10-25T10:43:32.956Z"
   },
   {
    "duration": 892,
    "start_time": "2021-10-25T10:44:18.492Z"
   },
   {
    "duration": 548,
    "start_time": "2021-10-25T10:44:19.386Z"
   },
   {
    "duration": 16,
    "start_time": "2021-10-25T10:44:19.940Z"
   },
   {
    "duration": 18,
    "start_time": "2021-10-25T10:44:19.958Z"
   },
   {
    "duration": 14,
    "start_time": "2021-10-25T10:44:19.978Z"
   },
   {
    "duration": 43,
    "start_time": "2021-10-25T10:44:19.995Z"
   },
   {
    "duration": 12,
    "start_time": "2021-10-25T10:44:20.042Z"
   },
   {
    "duration": 31,
    "start_time": "2021-10-25T10:44:20.057Z"
   },
   {
    "duration": 119,
    "start_time": "2021-10-25T10:44:20.091Z"
   },
   {
    "duration": 24,
    "start_time": "2021-10-25T10:44:20.213Z"
   },
   {
    "duration": 15,
    "start_time": "2021-10-25T10:44:20.239Z"
   },
   {
    "duration": 37,
    "start_time": "2021-10-25T10:44:20.256Z"
   },
   {
    "duration": 182,
    "start_time": "2021-10-25T10:44:20.296Z"
   },
   {
    "duration": 100,
    "start_time": "2021-10-25T10:44:20.480Z"
   },
   {
    "duration": 87,
    "start_time": "2021-10-25T10:44:20.583Z"
   },
   {
    "duration": 42,
    "start_time": "2021-10-25T10:44:20.673Z"
   },
   {
    "duration": 13,
    "start_time": "2021-10-25T10:44:20.730Z"
   },
   {
    "duration": 19,
    "start_time": "2021-10-25T10:44:20.746Z"
   },
   {
    "duration": 56,
    "start_time": "2021-10-25T10:44:20.768Z"
   },
   {
    "duration": 39,
    "start_time": "2021-10-25T10:44:20.829Z"
   },
   {
    "duration": 302,
    "start_time": "2021-10-25T10:44:20.871Z"
   },
   {
    "duration": 7,
    "start_time": "2021-10-25T10:46:51.104Z"
   },
   {
    "duration": 48,
    "start_time": "2021-10-25T10:47:18.287Z"
   },
   {
    "duration": 9,
    "start_time": "2021-10-25T10:47:26.279Z"
   },
   {
    "duration": 9,
    "start_time": "2021-10-25T10:48:17.209Z"
   },
   {
    "duration": 28,
    "start_time": "2021-10-25T10:48:33.856Z"
   },
   {
    "duration": 5096,
    "start_time": "2021-10-25T10:49:24.178Z"
   },
   {
    "duration": 853,
    "start_time": "2021-10-25T10:49:39.299Z"
   },
   {
    "duration": 540,
    "start_time": "2021-10-25T10:49:40.155Z"
   },
   {
    "duration": 17,
    "start_time": "2021-10-25T10:49:40.701Z"
   },
   {
    "duration": 15,
    "start_time": "2021-10-25T10:49:40.721Z"
   },
   {
    "duration": 12,
    "start_time": "2021-10-25T10:49:40.738Z"
   },
   {
    "duration": 14,
    "start_time": "2021-10-25T10:49:40.753Z"
   },
   {
    "duration": 15,
    "start_time": "2021-10-25T10:49:40.770Z"
   },
   {
    "duration": 15,
    "start_time": "2021-10-25T10:49:40.828Z"
   },
   {
    "duration": 119,
    "start_time": "2021-10-25T10:49:40.847Z"
   },
   {
    "duration": 20,
    "start_time": "2021-10-25T10:49:40.968Z"
   },
   {
    "duration": 15,
    "start_time": "2021-10-25T10:49:40.991Z"
   },
   {
    "duration": 52,
    "start_time": "2021-10-25T10:49:41.008Z"
   },
   {
    "duration": 167,
    "start_time": "2021-10-25T10:49:41.062Z"
   },
   {
    "duration": 80,
    "start_time": "2021-10-25T10:49:41.231Z"
   },
   {
    "duration": 70,
    "start_time": "2021-10-25T10:49:41.330Z"
   },
   {
    "duration": 61,
    "start_time": "2021-10-25T10:49:41.402Z"
   },
   {
    "duration": 13,
    "start_time": "2021-10-25T10:49:41.466Z"
   },
   {
    "duration": 21,
    "start_time": "2021-10-25T10:49:41.481Z"
   },
   {
    "duration": 26,
    "start_time": "2021-10-25T10:49:41.504Z"
   },
   {
    "duration": 17,
    "start_time": "2021-10-25T10:49:41.533Z"
   },
   {
    "duration": 40,
    "start_time": "2021-10-25T10:49:41.553Z"
   },
   {
    "duration": 394,
    "start_time": "2021-10-25T10:49:41.596Z"
   },
   {
    "duration": 390,
    "start_time": "2021-10-25T10:55:11.097Z"
   },
   {
    "duration": 33,
    "start_time": "2021-10-25T10:55:14.169Z"
   },
   {
    "duration": 288,
    "start_time": "2021-10-25T10:56:57.987Z"
   },
   {
    "duration": 197,
    "start_time": "2021-10-25T10:57:20.731Z"
   },
   {
    "duration": 206,
    "start_time": "2021-10-25T10:58:02.939Z"
   },
   {
    "duration": 202,
    "start_time": "2021-10-25T10:59:02.235Z"
   },
   {
    "duration": 45,
    "start_time": "2021-10-25T10:59:30.465Z"
   },
   {
    "duration": 204,
    "start_time": "2021-10-25T10:59:55.196Z"
   },
   {
    "duration": 220,
    "start_time": "2021-10-25T11:04:09.113Z"
   },
   {
    "duration": 6,
    "start_time": "2021-10-25T11:04:58.930Z"
   },
   {
    "duration": 6,
    "start_time": "2021-10-25T11:05:12.362Z"
   },
   {
    "duration": 213,
    "start_time": "2021-10-25T11:05:36.815Z"
   },
   {
    "duration": 5085,
    "start_time": "2021-10-25T11:05:56.023Z"
   },
   {
    "duration": 8,
    "start_time": "2021-10-25T11:06:54.225Z"
   },
   {
    "duration": 206,
    "start_time": "2021-10-25T11:12:45.500Z"
   },
   {
    "duration": 714,
    "start_time": "2021-10-26T08:16:34.214Z"
   },
   {
    "duration": 435,
    "start_time": "2021-10-26T08:16:34.930Z"
   },
   {
    "duration": 11,
    "start_time": "2021-10-26T08:16:35.367Z"
   },
   {
    "duration": 9,
    "start_time": "2021-10-26T08:16:35.380Z"
   },
   {
    "duration": 9,
    "start_time": "2021-10-26T08:16:35.391Z"
   },
   {
    "duration": 9,
    "start_time": "2021-10-26T08:16:35.402Z"
   },
   {
    "duration": 9,
    "start_time": "2021-10-26T08:16:35.413Z"
   },
   {
    "duration": 12,
    "start_time": "2021-10-26T08:16:35.425Z"
   },
   {
    "duration": 101,
    "start_time": "2021-10-26T08:16:35.439Z"
   },
   {
    "duration": 14,
    "start_time": "2021-10-26T08:16:35.542Z"
   },
   {
    "duration": 22,
    "start_time": "2021-10-26T08:16:35.557Z"
   },
   {
    "duration": 26,
    "start_time": "2021-10-26T08:16:35.581Z"
   },
   {
    "duration": 121,
    "start_time": "2021-10-26T08:16:35.609Z"
   },
   {
    "duration": 62,
    "start_time": "2021-10-26T08:16:35.732Z"
   },
   {
    "duration": 47,
    "start_time": "2021-10-26T08:16:35.796Z"
   },
   {
    "duration": 43,
    "start_time": "2021-10-26T08:16:35.844Z"
   },
   {
    "duration": 8,
    "start_time": "2021-10-26T08:16:35.889Z"
   },
   {
    "duration": 6,
    "start_time": "2021-10-26T08:16:35.899Z"
   },
   {
    "duration": 10,
    "start_time": "2021-10-26T08:16:35.907Z"
   },
   {
    "duration": 225,
    "start_time": "2021-10-26T08:16:35.919Z"
   },
   {
    "duration": 5,
    "start_time": "2021-10-26T08:16:36.145Z"
   },
   {
    "duration": 440,
    "start_time": "2021-10-26T08:16:36.152Z"
   },
   {
    "duration": -875,
    "start_time": "2021-10-26T08:16:37.469Z"
   },
   {
    "duration": -877,
    "start_time": "2021-10-26T08:16:37.472Z"
   },
   {
    "duration": 9669,
    "start_time": "2021-10-26T08:19:29.180Z"
   },
   {
    "duration": 9307,
    "start_time": "2021-10-26T08:27:51.560Z"
   },
   {
    "duration": 10204,
    "start_time": "2021-10-26T08:28:20.909Z"
   },
   {
    "duration": 22,
    "start_time": "2021-10-26T08:30:27.489Z"
   },
   {
    "duration": 26,
    "start_time": "2021-10-26T08:34:37.909Z"
   },
   {
    "duration": 24,
    "start_time": "2021-10-26T08:34:46.452Z"
   },
   {
    "duration": 369,
    "start_time": "2021-10-26T08:35:09.368Z"
   },
   {
    "duration": 7,
    "start_time": "2021-10-26T08:35:23.870Z"
   },
   {
    "duration": 23,
    "start_time": "2021-10-26T08:35:26.506Z"
   },
   {
    "duration": 6,
    "start_time": "2021-10-26T08:35:52.428Z"
   },
   {
    "duration": 8693,
    "start_time": "2021-10-26T08:37:28.839Z"
   },
   {
    "duration": -881,
    "start_time": "2021-10-26T08:37:38.415Z"
   },
   {
    "duration": 49,
    "start_time": "2021-10-26T08:37:54.673Z"
   },
   {
    "duration": 12,
    "start_time": "2021-10-26T08:37:59.239Z"
   },
   {
    "duration": 10846,
    "start_time": "2021-10-26T08:40:15.906Z"
   },
   {
    "duration": 23,
    "start_time": "2021-10-26T08:53:12.115Z"
   },
   {
    "duration": 26,
    "start_time": "2021-10-26T08:53:42.042Z"
   },
   {
    "duration": 1049,
    "start_time": "2021-10-26T08:58:36.550Z"
   },
   {
    "duration": 9082,
    "start_time": "2021-10-26T08:58:51.231Z"
   },
   {
    "duration": 418,
    "start_time": "2021-10-26T08:59:09.016Z"
   },
   {
    "duration": 9081,
    "start_time": "2021-10-26T08:59:25.036Z"
   },
   {
    "duration": 3,
    "start_time": "2021-10-26T09:05:09.786Z"
   },
   {
    "duration": 11,
    "start_time": "2021-10-26T09:05:20.195Z"
   },
   {
    "duration": 748,
    "start_time": "2021-10-26T09:05:47.911Z"
   },
   {
    "duration": 406,
    "start_time": "2021-10-26T09:05:48.660Z"
   },
   {
    "duration": 11,
    "start_time": "2021-10-26T09:05:49.071Z"
   },
   {
    "duration": 10,
    "start_time": "2021-10-26T09:05:49.083Z"
   },
   {
    "duration": 8,
    "start_time": "2021-10-26T09:05:49.095Z"
   },
   {
    "duration": 11,
    "start_time": "2021-10-26T09:05:49.104Z"
   },
   {
    "duration": 9,
    "start_time": "2021-10-26T09:05:49.117Z"
   },
   {
    "duration": 17,
    "start_time": "2021-10-26T09:05:49.128Z"
   },
   {
    "duration": 95,
    "start_time": "2021-10-26T09:05:49.147Z"
   },
   {
    "duration": 14,
    "start_time": "2021-10-26T09:05:49.244Z"
   },
   {
    "duration": 19,
    "start_time": "2021-10-26T09:05:49.260Z"
   },
   {
    "duration": 36,
    "start_time": "2021-10-26T09:05:49.281Z"
   },
   {
    "duration": 121,
    "start_time": "2021-10-26T09:05:49.319Z"
   },
   {
    "duration": 63,
    "start_time": "2021-10-26T09:05:49.442Z"
   },
   {
    "duration": 48,
    "start_time": "2021-10-26T09:05:49.507Z"
   },
   {
    "duration": 33,
    "start_time": "2021-10-26T09:05:49.557Z"
   },
   {
    "duration": 8,
    "start_time": "2021-10-26T09:05:49.591Z"
   },
   {
    "duration": 13,
    "start_time": "2021-10-26T09:05:49.601Z"
   },
   {
    "duration": 8,
    "start_time": "2021-10-26T09:05:49.615Z"
   },
   {
    "duration": 191,
    "start_time": "2021-10-26T09:05:49.624Z"
   },
   {
    "duration": 20,
    "start_time": "2021-10-26T09:05:49.817Z"
   },
   {
    "duration": 92,
    "start_time": "2021-10-26T09:05:49.840Z"
   },
   {
    "duration": 3,
    "start_time": "2021-10-26T09:05:49.934Z"
   },
   {
    "duration": 5,
    "start_time": "2021-10-26T09:08:33.838Z"
   },
   {
    "duration": 23,
    "start_time": "2021-10-26T09:08:47.198Z"
   },
   {
    "duration": 727,
    "start_time": "2021-10-26T09:09:25.746Z"
   },
   {
    "duration": 410,
    "start_time": "2021-10-26T09:09:26.477Z"
   },
   {
    "duration": 12,
    "start_time": "2021-10-26T09:09:26.892Z"
   },
   {
    "duration": 8,
    "start_time": "2021-10-26T09:09:26.906Z"
   },
   {
    "duration": 7,
    "start_time": "2021-10-26T09:09:26.916Z"
   },
   {
    "duration": 9,
    "start_time": "2021-10-26T09:09:26.925Z"
   },
   {
    "duration": 8,
    "start_time": "2021-10-26T09:09:26.937Z"
   },
   {
    "duration": 37,
    "start_time": "2021-10-26T09:09:26.947Z"
   },
   {
    "duration": 71,
    "start_time": "2021-10-26T09:09:26.986Z"
   },
   {
    "duration": 30,
    "start_time": "2021-10-26T09:09:27.059Z"
   },
   {
    "duration": 5,
    "start_time": "2021-10-26T09:09:27.090Z"
   },
   {
    "duration": 27,
    "start_time": "2021-10-26T09:09:27.097Z"
   },
   {
    "duration": 135,
    "start_time": "2021-10-26T09:09:27.126Z"
   },
   {
    "duration": 62,
    "start_time": "2021-10-26T09:09:27.263Z"
   },
   {
    "duration": 64,
    "start_time": "2021-10-26T09:09:27.327Z"
   },
   {
    "duration": 26,
    "start_time": "2021-10-26T09:09:27.394Z"
   },
   {
    "duration": 11,
    "start_time": "2021-10-26T09:09:27.422Z"
   },
   {
    "duration": 9,
    "start_time": "2021-10-26T09:09:27.435Z"
   },
   {
    "duration": 38,
    "start_time": "2021-10-26T09:09:27.446Z"
   },
   {
    "duration": 186,
    "start_time": "2021-10-26T09:09:27.486Z"
   },
   {
    "duration": 20,
    "start_time": "2021-10-26T09:09:27.674Z"
   },
   {
    "duration": 88,
    "start_time": "2021-10-26T09:09:27.697Z"
   },
   {
    "duration": 5,
    "start_time": "2021-10-26T09:09:27.787Z"
   },
   {
    "duration": 29,
    "start_time": "2021-10-26T09:09:27.793Z"
   },
   {
    "duration": 431,
    "start_time": "2021-10-26T09:11:36.458Z"
   },
   {
    "duration": 362,
    "start_time": "2021-10-26T09:12:46.083Z"
   },
   {
    "duration": 6,
    "start_time": "2021-10-26T09:13:03.588Z"
   },
   {
    "duration": 361,
    "start_time": "2021-10-26T09:13:28.412Z"
   },
   {
    "duration": 6,
    "start_time": "2021-10-26T09:13:45.100Z"
   },
   {
    "duration": 665,
    "start_time": "2021-10-26T09:14:33.054Z"
   },
   {
    "duration": 414,
    "start_time": "2021-10-26T09:19:06.560Z"
   },
   {
    "duration": 6,
    "start_time": "2021-10-26T09:19:29.746Z"
   },
   {
    "duration": 420,
    "start_time": "2021-10-26T09:21:58.372Z"
   },
   {
    "duration": 64,
    "start_time": "2021-10-26T09:23:39.823Z"
   },
   {
    "duration": 6,
    "start_time": "2021-10-26T09:24:10.748Z"
   },
   {
    "duration": 32,
    "start_time": "2021-10-26T09:25:40.684Z"
   },
   {
    "duration": 6,
    "start_time": "2021-10-26T09:25:43.299Z"
   },
   {
    "duration": 681,
    "start_time": "2021-10-26T09:26:09.018Z"
   },
   {
    "duration": 434,
    "start_time": "2021-10-26T09:26:09.701Z"
   },
   {
    "duration": 13,
    "start_time": "2021-10-26T09:26:10.138Z"
   },
   {
    "duration": 12,
    "start_time": "2021-10-26T09:26:10.154Z"
   },
   {
    "duration": 13,
    "start_time": "2021-10-26T09:26:10.168Z"
   },
   {
    "duration": 9,
    "start_time": "2021-10-26T09:26:10.182Z"
   },
   {
    "duration": 9,
    "start_time": "2021-10-26T09:26:10.193Z"
   },
   {
    "duration": 11,
    "start_time": "2021-10-26T09:26:10.205Z"
   },
   {
    "duration": 100,
    "start_time": "2021-10-26T09:26:10.218Z"
   },
   {
    "duration": 13,
    "start_time": "2021-10-26T09:26:10.320Z"
   },
   {
    "duration": 5,
    "start_time": "2021-10-26T09:26:10.334Z"
   },
   {
    "duration": 44,
    "start_time": "2021-10-26T09:26:10.340Z"
   },
   {
    "duration": 119,
    "start_time": "2021-10-26T09:26:10.386Z"
   },
   {
    "duration": 56,
    "start_time": "2021-10-26T09:26:10.507Z"
   },
   {
    "duration": 60,
    "start_time": "2021-10-26T09:26:10.565Z"
   },
   {
    "duration": 27,
    "start_time": "2021-10-26T09:26:10.627Z"
   },
   {
    "duration": 10,
    "start_time": "2021-10-26T09:26:10.677Z"
   },
   {
    "duration": 7,
    "start_time": "2021-10-26T09:26:10.689Z"
   },
   {
    "duration": 8,
    "start_time": "2021-10-26T09:26:10.698Z"
   },
   {
    "duration": 212,
    "start_time": "2021-10-26T09:26:10.708Z"
   },
   {
    "duration": 21,
    "start_time": "2021-10-26T09:26:10.922Z"
   },
   {
    "duration": 92,
    "start_time": "2021-10-26T09:26:10.945Z"
   },
   {
    "duration": 47,
    "start_time": "2021-10-26T09:26:11.040Z"
   },
   {
    "duration": 116,
    "start_time": "2021-10-26T09:28:49.913Z"
   },
   {
    "duration": 14,
    "start_time": "2021-10-26T09:28:56.311Z"
   },
   {
    "duration": 105,
    "start_time": "2021-10-26T09:44:08.322Z"
   },
   {
    "duration": 32,
    "start_time": "2021-10-26T09:44:13.083Z"
   },
   {
    "duration": 786,
    "start_time": "2021-10-26T09:44:20.350Z"
   },
   {
    "duration": 411,
    "start_time": "2021-10-26T09:44:21.138Z"
   },
   {
    "duration": 12,
    "start_time": "2021-10-26T09:44:21.551Z"
   },
   {
    "duration": 16,
    "start_time": "2021-10-26T09:44:21.565Z"
   },
   {
    "duration": 13,
    "start_time": "2021-10-26T09:44:21.583Z"
   },
   {
    "duration": 15,
    "start_time": "2021-10-26T09:44:21.599Z"
   },
   {
    "duration": 10,
    "start_time": "2021-10-26T09:44:21.616Z"
   },
   {
    "duration": 16,
    "start_time": "2021-10-26T09:44:21.628Z"
   },
   {
    "duration": 77,
    "start_time": "2021-10-26T09:44:21.646Z"
   },
   {
    "duration": 13,
    "start_time": "2021-10-26T09:44:21.725Z"
   },
   {
    "duration": 10,
    "start_time": "2021-10-26T09:44:21.739Z"
   },
   {
    "duration": 41,
    "start_time": "2021-10-26T09:44:21.750Z"
   },
   {
    "duration": 115,
    "start_time": "2021-10-26T09:44:21.793Z"
   },
   {
    "duration": 58,
    "start_time": "2021-10-26T09:44:21.909Z"
   },
   {
    "duration": 52,
    "start_time": "2021-10-26T09:44:21.977Z"
   },
   {
    "duration": 25,
    "start_time": "2021-10-26T09:44:22.031Z"
   },
   {
    "duration": 26,
    "start_time": "2021-10-26T09:44:22.058Z"
   },
   {
    "duration": 15,
    "start_time": "2021-10-26T09:44:22.087Z"
   },
   {
    "duration": 9,
    "start_time": "2021-10-26T09:44:22.104Z"
   },
   {
    "duration": 203,
    "start_time": "2021-10-26T09:44:22.114Z"
   },
   {
    "duration": 21,
    "start_time": "2021-10-26T09:44:22.319Z"
   },
   {
    "duration": 96,
    "start_time": "2021-10-26T09:44:22.342Z"
   },
   {
    "duration": 48,
    "start_time": "2021-10-26T09:44:22.440Z"
   },
   {
    "duration": 31,
    "start_time": "2021-10-26T09:44:22.489Z"
   },
   {
    "duration": 3,
    "start_time": "2021-10-26T09:48:59.287Z"
   },
   {
    "duration": 386,
    "start_time": "2021-10-26T10:08:37.662Z"
   },
   {
    "duration": 17,
    "start_time": "2021-10-26T10:08:46.061Z"
   },
   {
    "duration": 5,
    "start_time": "2021-10-26T10:08:47.178Z"
   },
   {
    "duration": 4,
    "start_time": "2021-10-26T10:13:20.559Z"
   },
   {
    "duration": 352,
    "start_time": "2021-10-26T10:13:21.368Z"
   },
   {
    "duration": 3,
    "start_time": "2021-10-26T10:13:33.267Z"
   },
   {
    "duration": 258,
    "start_time": "2021-10-26T10:13:33.969Z"
   },
   {
    "duration": 3,
    "start_time": "2021-10-26T10:13:44.329Z"
   },
   {
    "duration": 248,
    "start_time": "2021-10-26T10:13:44.983Z"
   },
   {
    "duration": 8532,
    "start_time": "2021-10-26T10:20:58.790Z"
   },
   {
    "duration": 24,
    "start_time": "2021-10-26T10:24:50.599Z"
   },
   {
    "duration": 6,
    "start_time": "2021-10-26T10:24:58.122Z"
   },
   {
    "duration": 335,
    "start_time": "2021-10-26T10:26:25.023Z"
   },
   {
    "duration": 28,
    "start_time": "2021-10-26T10:26:35.610Z"
   },
   {
    "duration": 5,
    "start_time": "2021-10-26T10:26:36.907Z"
   },
   {
    "duration": 43,
    "start_time": "2021-10-26T10:27:30.876Z"
   },
   {
    "duration": 5,
    "start_time": "2021-10-26T10:27:31.875Z"
   },
   {
    "duration": 6,
    "start_time": "2021-10-26T10:27:41.904Z"
   },
   {
    "duration": 16,
    "start_time": "2021-10-26T10:40:00.508Z"
   },
   {
    "duration": 23,
    "start_time": "2021-10-26T10:40:38.243Z"
   },
   {
    "duration": 22,
    "start_time": "2021-10-26T10:40:48.884Z"
   },
   {
    "duration": 32,
    "start_time": "2021-10-26T10:43:15.723Z"
   },
   {
    "duration": 9,
    "start_time": "2021-10-26T10:43:26.379Z"
   },
   {
    "duration": 745,
    "start_time": "2021-10-26T10:45:12.112Z"
   },
   {
    "duration": 466,
    "start_time": "2021-10-26T10:45:12.859Z"
   },
   {
    "duration": 12,
    "start_time": "2021-10-26T10:45:13.327Z"
   },
   {
    "duration": 9,
    "start_time": "2021-10-26T10:45:13.341Z"
   },
   {
    "duration": 9,
    "start_time": "2021-10-26T10:45:13.351Z"
   },
   {
    "duration": 11,
    "start_time": "2021-10-26T10:45:13.361Z"
   },
   {
    "duration": 10,
    "start_time": "2021-10-26T10:45:13.374Z"
   },
   {
    "duration": 13,
    "start_time": "2021-10-26T10:45:13.388Z"
   },
   {
    "duration": 91,
    "start_time": "2021-10-26T10:45:13.403Z"
   },
   {
    "duration": 15,
    "start_time": "2021-10-26T10:45:13.496Z"
   },
   {
    "duration": 5,
    "start_time": "2021-10-26T10:45:13.513Z"
   },
   {
    "duration": 31,
    "start_time": "2021-10-26T10:45:13.519Z"
   },
   {
    "duration": 146,
    "start_time": "2021-10-26T10:45:13.552Z"
   },
   {
    "duration": 55,
    "start_time": "2021-10-26T10:45:13.700Z"
   },
   {
    "duration": 74,
    "start_time": "2021-10-26T10:45:13.757Z"
   },
   {
    "duration": 25,
    "start_time": "2021-10-26T10:45:13.833Z"
   },
   {
    "duration": 12,
    "start_time": "2021-10-26T10:45:13.876Z"
   },
   {
    "duration": 14,
    "start_time": "2021-10-26T10:45:13.890Z"
   },
   {
    "duration": 13,
    "start_time": "2021-10-26T10:45:13.906Z"
   },
   {
    "duration": 3766,
    "start_time": "2021-10-26T10:45:13.922Z"
   },
   {
    "duration": -799,
    "start_time": "2021-10-26T10:45:18.490Z"
   },
   {
    "duration": -802,
    "start_time": "2021-10-26T10:45:18.499Z"
   },
   {
    "duration": -803,
    "start_time": "2021-10-26T10:45:18.501Z"
   },
   {
    "duration": -804,
    "start_time": "2021-10-26T10:45:18.504Z"
   },
   {
    "duration": -805,
    "start_time": "2021-10-26T10:45:18.506Z"
   },
   {
    "duration": -807,
    "start_time": "2021-10-26T10:45:18.509Z"
   },
   {
    "duration": -808,
    "start_time": "2021-10-26T10:45:18.511Z"
   },
   {
    "duration": -809,
    "start_time": "2021-10-26T10:45:18.513Z"
   },
   {
    "duration": -810,
    "start_time": "2021-10-26T10:45:18.515Z"
   },
   {
    "duration": -814,
    "start_time": "2021-10-26T10:45:18.520Z"
   },
   {
    "duration": -817,
    "start_time": "2021-10-26T10:45:18.523Z"
   },
   {
    "duration": -819,
    "start_time": "2021-10-26T10:45:18.526Z"
   },
   {
    "duration": 694,
    "start_time": "2021-10-26T10:48:39.034Z"
   },
   {
    "duration": 446,
    "start_time": "2021-10-26T10:48:39.730Z"
   },
   {
    "duration": 15,
    "start_time": "2021-10-26T10:48:40.178Z"
   },
   {
    "duration": 19,
    "start_time": "2021-10-26T10:48:40.195Z"
   },
   {
    "duration": 10,
    "start_time": "2021-10-26T10:48:40.216Z"
   },
   {
    "duration": 12,
    "start_time": "2021-10-26T10:48:40.228Z"
   },
   {
    "duration": 42,
    "start_time": "2021-10-26T10:48:40.242Z"
   },
   {
    "duration": 13,
    "start_time": "2021-10-26T10:48:40.286Z"
   },
   {
    "duration": 127,
    "start_time": "2021-10-26T10:48:40.302Z"
   },
   {
    "duration": 13,
    "start_time": "2021-10-26T10:48:40.432Z"
   },
   {
    "duration": 5,
    "start_time": "2021-10-26T10:48:40.447Z"
   },
   {
    "duration": 47,
    "start_time": "2021-10-26T10:48:40.454Z"
   },
   {
    "duration": 525,
    "start_time": "2021-10-26T10:48:40.503Z"
   },
   {
    "duration": -772,
    "start_time": "2021-10-26T10:48:41.803Z"
   },
   {
    "duration": -773,
    "start_time": "2021-10-26T10:48:41.806Z"
   },
   {
    "duration": -774,
    "start_time": "2021-10-26T10:48:41.809Z"
   },
   {
    "duration": -787,
    "start_time": "2021-10-26T10:48:41.823Z"
   },
   {
    "duration": -787,
    "start_time": "2021-10-26T10:48:41.825Z"
   },
   {
    "duration": -787,
    "start_time": "2021-10-26T10:48:41.827Z"
   },
   {
    "duration": -788,
    "start_time": "2021-10-26T10:48:41.829Z"
   },
   {
    "duration": -791,
    "start_time": "2021-10-26T10:48:41.834Z"
   },
   {
    "duration": -792,
    "start_time": "2021-10-26T10:48:41.836Z"
   },
   {
    "duration": -793,
    "start_time": "2021-10-26T10:48:41.838Z"
   },
   {
    "duration": -794,
    "start_time": "2021-10-26T10:48:41.840Z"
   },
   {
    "duration": -794,
    "start_time": "2021-10-26T10:48:41.842Z"
   },
   {
    "duration": -795,
    "start_time": "2021-10-26T10:48:41.844Z"
   },
   {
    "duration": -797,
    "start_time": "2021-10-26T10:48:41.847Z"
   },
   {
    "duration": -801,
    "start_time": "2021-10-26T10:48:41.852Z"
   },
   {
    "duration": -802,
    "start_time": "2021-10-26T10:48:41.854Z"
   },
   {
    "duration": -803,
    "start_time": "2021-10-26T10:48:41.856Z"
   },
   {
    "duration": -804,
    "start_time": "2021-10-26T10:48:41.858Z"
   },
   {
    "duration": 979,
    "start_time": "2021-10-26T10:51:33.771Z"
   },
   {
    "duration": 647,
    "start_time": "2021-10-26T10:51:34.752Z"
   },
   {
    "duration": 70,
    "start_time": "2021-10-26T10:51:35.409Z"
   },
   {
    "duration": 46,
    "start_time": "2021-10-26T10:51:35.485Z"
   },
   {
    "duration": 32,
    "start_time": "2021-10-26T10:51:35.552Z"
   },
   {
    "duration": 26,
    "start_time": "2021-10-26T10:51:35.596Z"
   },
   {
    "duration": 24,
    "start_time": "2021-10-26T10:51:35.625Z"
   },
   {
    "duration": 17,
    "start_time": "2021-10-26T10:51:35.653Z"
   },
   {
    "duration": 113,
    "start_time": "2021-10-26T10:51:35.673Z"
   },
   {
    "duration": 21,
    "start_time": "2021-10-26T10:51:35.788Z"
   },
   {
    "duration": 7,
    "start_time": "2021-10-26T10:51:35.811Z"
   },
   {
    "duration": 57,
    "start_time": "2021-10-26T10:51:35.820Z"
   },
   {
    "duration": 163,
    "start_time": "2021-10-26T10:51:35.880Z"
   },
   {
    "duration": 90,
    "start_time": "2021-10-26T10:51:36.045Z"
   },
   {
    "duration": 62,
    "start_time": "2021-10-26T10:51:36.137Z"
   },
   {
    "duration": 28,
    "start_time": "2021-10-26T10:51:36.201Z"
   },
   {
    "duration": 9,
    "start_time": "2021-10-26T10:51:36.231Z"
   },
   {
    "duration": 7,
    "start_time": "2021-10-26T10:51:36.242Z"
   },
   {
    "duration": 9,
    "start_time": "2021-10-26T10:51:36.277Z"
   },
   {
    "duration": 391,
    "start_time": "2021-10-26T10:51:36.288Z"
   },
   {
    "duration": -758,
    "start_time": "2021-10-26T10:51:37.439Z"
   },
   {
    "duration": -761,
    "start_time": "2021-10-26T10:51:37.443Z"
   },
   {
    "duration": -766,
    "start_time": "2021-10-26T10:51:37.449Z"
   },
   {
    "duration": -768,
    "start_time": "2021-10-26T10:51:37.451Z"
   },
   {
    "duration": -770,
    "start_time": "2021-10-26T10:51:37.454Z"
   },
   {
    "duration": -770,
    "start_time": "2021-10-26T10:51:37.455Z"
   },
   {
    "duration": -772,
    "start_time": "2021-10-26T10:51:37.457Z"
   },
   {
    "duration": -775,
    "start_time": "2021-10-26T10:51:37.462Z"
   },
   {
    "duration": -777,
    "start_time": "2021-10-26T10:51:37.465Z"
   },
   {
    "duration": -778,
    "start_time": "2021-10-26T10:51:37.468Z"
   },
   {
    "duration": -785,
    "start_time": "2021-10-26T10:51:37.476Z"
   },
   {
    "duration": 200,
    "start_time": "2021-10-26T10:52:19.360Z"
   },
   {
    "duration": 26,
    "start_time": "2021-10-26T10:52:21.261Z"
   },
   {
    "duration": 333,
    "start_time": "2021-10-26T12:50:57.694Z"
   },
   {
    "duration": 78,
    "start_time": "2021-10-26T12:51:14.578Z"
   },
   {
    "duration": 30,
    "start_time": "2021-10-26T12:51:16.134Z"
   },
   {
    "duration": 33,
    "start_time": "2021-10-26T12:51:18.749Z"
   },
   {
    "duration": 47,
    "start_time": "2021-10-26T12:51:34.382Z"
   },
   {
    "duration": 6,
    "start_time": "2021-10-26T12:51:35.118Z"
   },
   {
    "duration": 6,
    "start_time": "2021-10-26T12:52:03.526Z"
   },
   {
    "duration": 341,
    "start_time": "2021-10-26T12:52:53.723Z"
   },
   {
    "duration": 4,
    "start_time": "2021-10-26T12:52:57.567Z"
   },
   {
    "duration": 213,
    "start_time": "2021-10-26T12:52:58.248Z"
   },
   {
    "duration": 3,
    "start_time": "2021-10-26T12:53:05.134Z"
   },
   {
    "duration": 205,
    "start_time": "2021-10-26T12:53:05.662Z"
   },
   {
    "duration": 200,
    "start_time": "2021-10-26T12:55:49.761Z"
   },
   {
    "duration": 105,
    "start_time": "2021-10-26T12:58:26.677Z"
   },
   {
    "duration": 4,
    "start_time": "2021-10-26T12:58:32.446Z"
   },
   {
    "duration": 231,
    "start_time": "2021-10-26T12:58:32.453Z"
   },
   {
    "duration": 252,
    "start_time": "2021-10-26T12:58:35.194Z"
   },
   {
    "duration": 62,
    "start_time": "2021-10-26T12:59:34.372Z"
   },
   {
    "duration": 275,
    "start_time": "2021-10-26T12:59:37.835Z"
   },
   {
    "duration": 253,
    "start_time": "2021-10-26T12:59:38.931Z"
   },
   {
    "duration": 201,
    "start_time": "2021-10-26T12:59:48.653Z"
   },
   {
    "duration": 107,
    "start_time": "2021-10-26T13:08:23.974Z"
   },
   {
    "duration": 4,
    "start_time": "2021-10-26T13:08:31.146Z"
   },
   {
    "duration": 200,
    "start_time": "2021-10-26T13:08:33.115Z"
   },
   {
    "duration": 4,
    "start_time": "2021-10-26T13:10:05.572Z"
   },
   {
    "duration": 204,
    "start_time": "2021-10-26T13:10:06.946Z"
   },
   {
    "duration": 6,
    "start_time": "2021-10-26T13:22:27.810Z"
   },
   {
    "duration": 215,
    "start_time": "2021-10-26T13:22:28.508Z"
   },
   {
    "duration": 254,
    "start_time": "2021-10-26T13:22:34.740Z"
   },
   {
    "duration": 264,
    "start_time": "2021-10-26T13:22:42.900Z"
   },
   {
    "duration": 354,
    "start_time": "2021-10-26T13:23:22.772Z"
   },
   {
    "duration": 467,
    "start_time": "2021-10-26T13:23:36.464Z"
   },
   {
    "duration": 368,
    "start_time": "2021-10-26T13:24:01.822Z"
   },
   {
    "duration": 231,
    "start_time": "2021-10-26T13:24:04.156Z"
   },
   {
    "duration": 7,
    "start_time": "2021-10-26T13:24:18.758Z"
   },
   {
    "duration": 218,
    "start_time": "2021-10-26T13:24:21.166Z"
   },
   {
    "duration": 5,
    "start_time": "2021-10-26T13:24:37.824Z"
   },
   {
    "duration": 213,
    "start_time": "2021-10-26T13:24:38.124Z"
   },
   {
    "duration": 5,
    "start_time": "2021-10-26T13:27:33.003Z"
   },
   {
    "duration": 336,
    "start_time": "2021-10-26T13:27:33.390Z"
   },
   {
    "duration": 200,
    "start_time": "2021-10-26T13:27:38.631Z"
   },
   {
    "duration": 5,
    "start_time": "2021-10-26T13:27:44.004Z"
   },
   {
    "duration": 186,
    "start_time": "2021-10-26T13:27:44.743Z"
   },
   {
    "duration": 198,
    "start_time": "2021-10-26T13:27:47.127Z"
   },
   {
    "duration": 196,
    "start_time": "2021-10-26T13:27:48.527Z"
   },
   {
    "duration": 5,
    "start_time": "2021-10-26T13:28:33.736Z"
   },
   {
    "duration": 197,
    "start_time": "2021-10-26T13:28:34.312Z"
   },
   {
    "duration": 282,
    "start_time": "2021-10-26T13:28:36.319Z"
   },
   {
    "duration": 210,
    "start_time": "2021-10-26T13:28:38.417Z"
   },
   {
    "duration": 211,
    "start_time": "2021-10-26T13:28:39.959Z"
   },
   {
    "duration": 225,
    "start_time": "2021-10-26T13:28:41.465Z"
   },
   {
    "duration": 201,
    "start_time": "2021-10-26T13:28:46.808Z"
   },
   {
    "duration": 5,
    "start_time": "2021-10-26T13:28:54.320Z"
   },
   {
    "duration": 196,
    "start_time": "2021-10-26T13:28:55.431Z"
   },
   {
    "duration": 194,
    "start_time": "2021-10-26T13:28:56.929Z"
   },
   {
    "duration": 194,
    "start_time": "2021-10-26T13:28:57.887Z"
   },
   {
    "duration": 201,
    "start_time": "2021-10-26T13:28:58.959Z"
   },
   {
    "duration": 206,
    "start_time": "2021-10-26T13:28:59.967Z"
   },
   {
    "duration": 196,
    "start_time": "2021-10-26T13:29:02.743Z"
   },
   {
    "duration": 4,
    "start_time": "2021-10-26T13:29:41.576Z"
   },
   {
    "duration": 444,
    "start_time": "2021-10-26T13:29:42.264Z"
   },
   {
    "duration": 358,
    "start_time": "2021-10-26T13:29:43.640Z"
   },
   {
    "duration": 211,
    "start_time": "2021-10-26T13:29:44.697Z"
   },
   {
    "duration": 225,
    "start_time": "2021-10-26T13:29:45.674Z"
   },
   {
    "duration": 241,
    "start_time": "2021-10-26T13:29:46.536Z"
   },
   {
    "duration": 220,
    "start_time": "2021-10-26T13:29:47.415Z"
   },
   {
    "duration": 7,
    "start_time": "2021-10-26T13:30:11.418Z"
   },
   {
    "duration": 190,
    "start_time": "2021-10-26T13:30:12.633Z"
   },
   {
    "duration": 190,
    "start_time": "2021-10-26T13:30:16.442Z"
   },
   {
    "duration": 192,
    "start_time": "2021-10-26T13:30:18.129Z"
   },
   {
    "duration": 252,
    "start_time": "2021-10-26T13:30:19.199Z"
   },
   {
    "duration": 195,
    "start_time": "2021-10-26T13:30:20.153Z"
   },
   {
    "duration": 276,
    "start_time": "2021-10-26T13:30:21.167Z"
   },
   {
    "duration": 5,
    "start_time": "2021-10-26T13:30:30.774Z"
   },
   {
    "duration": 194,
    "start_time": "2021-10-26T13:30:31.385Z"
   },
   {
    "duration": 200,
    "start_time": "2021-10-26T13:30:32.560Z"
   },
   {
    "duration": 201,
    "start_time": "2021-10-26T13:30:33.683Z"
   },
   {
    "duration": 204,
    "start_time": "2021-10-26T13:30:34.736Z"
   },
   {
    "duration": 230,
    "start_time": "2021-10-26T13:30:35.761Z"
   },
   {
    "duration": 307,
    "start_time": "2021-10-26T13:30:38.816Z"
   },
   {
    "duration": 673,
    "start_time": "2021-10-26T13:32:54.764Z"
   },
   {
    "duration": 3,
    "start_time": "2021-10-26T13:34:03.419Z"
   },
   {
    "duration": 5,
    "start_time": "2021-10-26T13:34:26.852Z"
   },
   {
    "duration": 896,
    "start_time": "2021-10-26T13:34:27.868Z"
   },
   {
    "duration": 5,
    "start_time": "2021-10-26T13:35:46.108Z"
   },
   {
    "duration": 673,
    "start_time": "2021-10-26T13:35:47.141Z"
   },
   {
    "duration": 4,
    "start_time": "2021-10-26T13:36:54.430Z"
   },
   {
    "duration": 817,
    "start_time": "2021-10-26T13:36:55.838Z"
   },
   {
    "duration": 1131,
    "start_time": "2021-10-26T13:43:11.213Z"
   },
   {
    "duration": 435,
    "start_time": "2021-10-26T13:43:12.347Z"
   },
   {
    "duration": 12,
    "start_time": "2021-10-26T13:43:12.785Z"
   },
   {
    "duration": 13,
    "start_time": "2021-10-26T13:43:12.799Z"
   },
   {
    "duration": 10,
    "start_time": "2021-10-26T13:43:12.814Z"
   },
   {
    "duration": 11,
    "start_time": "2021-10-26T13:43:12.825Z"
   },
   {
    "duration": 10,
    "start_time": "2021-10-26T13:43:12.837Z"
   },
   {
    "duration": 35,
    "start_time": "2021-10-26T13:43:12.849Z"
   },
   {
    "duration": 76,
    "start_time": "2021-10-26T13:43:12.887Z"
   },
   {
    "duration": 28,
    "start_time": "2021-10-26T13:43:12.965Z"
   },
   {
    "duration": 5,
    "start_time": "2021-10-26T13:43:12.995Z"
   },
   {
    "duration": 26,
    "start_time": "2021-10-26T13:43:13.002Z"
   },
   {
    "duration": 134,
    "start_time": "2021-10-26T13:43:13.030Z"
   },
   {
    "duration": 64,
    "start_time": "2021-10-26T13:43:13.166Z"
   },
   {
    "duration": 60,
    "start_time": "2021-10-26T13:43:13.232Z"
   },
   {
    "duration": 26,
    "start_time": "2021-10-26T13:43:13.294Z"
   },
   {
    "duration": 10,
    "start_time": "2021-10-26T13:43:13.321Z"
   },
   {
    "duration": 16,
    "start_time": "2021-10-26T13:43:13.333Z"
   },
   {
    "duration": 41,
    "start_time": "2021-10-26T13:43:13.351Z"
   },
   {
    "duration": 9,
    "start_time": "2021-10-26T13:43:13.394Z"
   },
   {
    "duration": 206,
    "start_time": "2021-10-26T13:43:13.405Z"
   },
   {
    "duration": 22,
    "start_time": "2021-10-26T13:43:13.613Z"
   },
   {
    "duration": 97,
    "start_time": "2021-10-26T13:43:13.637Z"
   },
   {
    "duration": 47,
    "start_time": "2021-10-26T13:43:13.736Z"
   },
   {
    "duration": 30,
    "start_time": "2021-10-26T13:43:13.786Z"
   },
   {
    "duration": 63,
    "start_time": "2021-10-26T13:43:13.818Z"
   },
   {
    "duration": 6,
    "start_time": "2021-10-26T13:43:13.885Z"
   },
   {
    "duration": 7,
    "start_time": "2021-10-26T13:43:13.893Z"
   },
   {
    "duration": 861,
    "start_time": "2021-10-26T13:43:13.902Z"
   },
   {
    "duration": -649,
    "start_time": "2021-10-26T13:43:15.414Z"
   },
   {
    "duration": -655,
    "start_time": "2021-10-26T13:43:15.421Z"
   },
   {
    "duration": -656,
    "start_time": "2021-10-26T13:43:15.423Z"
   },
   {
    "duration": -657,
    "start_time": "2021-10-26T13:43:15.425Z"
   },
   {
    "duration": -658,
    "start_time": "2021-10-26T13:43:15.427Z"
   },
   {
    "duration": 3,
    "start_time": "2021-10-26T13:44:31.623Z"
   },
   {
    "duration": 4,
    "start_time": "2021-10-26T13:44:38.259Z"
   },
   {
    "duration": 253,
    "start_time": "2021-10-26T13:44:39.285Z"
   },
   {
    "duration": 5,
    "start_time": "2021-10-26T13:45:15.884Z"
   },
   {
    "duration": 319,
    "start_time": "2021-10-26T13:45:17.345Z"
   },
   {
    "duration": 211,
    "start_time": "2021-10-26T13:45:22.769Z"
   },
   {
    "duration": 202,
    "start_time": "2021-10-26T13:45:24.281Z"
   },
   {
    "duration": 236,
    "start_time": "2021-10-26T13:45:30.177Z"
   },
   {
    "duration": 205,
    "start_time": "2021-10-26T13:45:38.465Z"
   },
   {
    "duration": 262,
    "start_time": "2021-10-26T13:45:42.968Z"
   },
   {
    "duration": 196,
    "start_time": "2021-10-26T13:45:46.665Z"
   },
   {
    "duration": 27,
    "start_time": "2021-10-26T13:47:14.514Z"
   },
   {
    "duration": 46,
    "start_time": "2021-10-26T13:48:06.290Z"
   },
   {
    "duration": 1332,
    "start_time": "2021-10-26T13:48:23.170Z"
   },
   {
    "duration": 433,
    "start_time": "2021-10-26T13:48:24.504Z"
   },
   {
    "duration": 12,
    "start_time": "2021-10-26T13:48:24.939Z"
   },
   {
    "duration": 8,
    "start_time": "2021-10-26T13:48:24.953Z"
   },
   {
    "duration": 7,
    "start_time": "2021-10-26T13:48:24.963Z"
   },
   {
    "duration": 19,
    "start_time": "2021-10-26T13:48:24.972Z"
   },
   {
    "duration": 9,
    "start_time": "2021-10-26T13:48:24.993Z"
   },
   {
    "duration": 11,
    "start_time": "2021-10-26T13:48:25.005Z"
   },
   {
    "duration": 88,
    "start_time": "2021-10-26T13:48:25.018Z"
   },
   {
    "duration": 13,
    "start_time": "2021-10-26T13:48:25.108Z"
   },
   {
    "duration": 5,
    "start_time": "2021-10-26T13:48:25.123Z"
   },
   {
    "duration": 30,
    "start_time": "2021-10-26T13:48:25.129Z"
   },
   {
    "duration": 132,
    "start_time": "2021-10-26T13:48:25.161Z"
   },
   {
    "duration": 55,
    "start_time": "2021-10-26T13:48:25.295Z"
   },
   {
    "duration": 62,
    "start_time": "2021-10-26T13:48:25.352Z"
   },
   {
    "duration": 26,
    "start_time": "2021-10-26T13:48:25.416Z"
   },
   {
    "duration": 33,
    "start_time": "2021-10-26T13:48:25.444Z"
   },
   {
    "duration": 12,
    "start_time": "2021-10-26T13:48:25.483Z"
   },
   {
    "duration": 18,
    "start_time": "2021-10-26T13:48:25.497Z"
   },
   {
    "duration": 16,
    "start_time": "2021-10-26T13:48:25.517Z"
   },
   {
    "duration": 205,
    "start_time": "2021-10-26T13:48:25.535Z"
   },
   {
    "duration": 22,
    "start_time": "2021-10-26T13:48:25.742Z"
   },
   {
    "duration": 83,
    "start_time": "2021-10-26T13:48:25.769Z"
   },
   {
    "duration": 55,
    "start_time": "2021-10-26T13:48:25.854Z"
   },
   {
    "duration": 31,
    "start_time": "2021-10-26T13:48:25.911Z"
   },
   {
    "duration": 73,
    "start_time": "2021-10-26T13:48:25.943Z"
   },
   {
    "duration": 4,
    "start_time": "2021-10-26T13:48:26.018Z"
   },
   {
    "duration": 9,
    "start_time": "2021-10-26T13:48:26.024Z"
   },
   {
    "duration": 205,
    "start_time": "2021-10-26T13:48:26.035Z"
   },
   {
    "duration": 213,
    "start_time": "2021-10-26T13:48:26.242Z"
   },
   {
    "duration": 224,
    "start_time": "2021-10-26T13:48:26.457Z"
   },
   {
    "duration": 212,
    "start_time": "2021-10-26T13:48:26.689Z"
   },
   {
    "duration": 215,
    "start_time": "2021-10-26T13:48:26.903Z"
   },
   {
    "duration": 210,
    "start_time": "2021-10-26T13:48:27.120Z"
   },
   {
    "duration": 9,
    "start_time": "2021-10-26T14:04:10.075Z"
   },
   {
    "duration": 1707,
    "start_time": "2021-10-26T14:04:48.203Z"
   },
   {
    "duration": 6,
    "start_time": "2021-10-26T14:06:04.062Z"
   },
   {
    "duration": 6,
    "start_time": "2021-10-26T14:06:22.958Z"
   },
   {
    "duration": 1550,
    "start_time": "2021-10-26T14:06:31.199Z"
   },
   {
    "duration": 11,
    "start_time": "2021-10-26T14:07:27.687Z"
   },
   {
    "duration": 3,
    "start_time": "2021-10-26T14:07:33.342Z"
   },
   {
    "duration": 106,
    "start_time": "2021-10-26T14:07:43.752Z"
   },
   {
    "duration": 108,
    "start_time": "2021-10-26T14:09:19.048Z"
   },
   {
    "duration": 2470,
    "start_time": "2021-10-26T14:09:21.271Z"
   },
   {
    "duration": 54,
    "start_time": "2021-10-26T14:09:57.104Z"
   },
   {
    "duration": 49,
    "start_time": "2021-10-26T14:10:31.503Z"
   },
   {
    "duration": 63,
    "start_time": "2021-10-26T14:11:04.664Z"
   },
   {
    "duration": 1418,
    "start_time": "2021-10-26T14:11:19.587Z"
   },
   {
    "duration": 602,
    "start_time": "2021-10-26T14:11:21.009Z"
   },
   {
    "duration": 18,
    "start_time": "2021-10-26T14:11:21.614Z"
   },
   {
    "duration": 12,
    "start_time": "2021-10-26T14:11:21.635Z"
   },
   {
    "duration": 11,
    "start_time": "2021-10-26T14:11:21.650Z"
   },
   {
    "duration": 22,
    "start_time": "2021-10-26T14:11:21.663Z"
   },
   {
    "duration": 18,
    "start_time": "2021-10-26T14:11:21.687Z"
   },
   {
    "duration": 16,
    "start_time": "2021-10-26T14:11:21.709Z"
   },
   {
    "duration": 131,
    "start_time": "2021-10-26T14:11:21.729Z"
   },
   {
    "duration": 24,
    "start_time": "2021-10-26T14:11:21.864Z"
   },
   {
    "duration": 17,
    "start_time": "2021-10-26T14:11:21.891Z"
   },
   {
    "duration": 35,
    "start_time": "2021-10-26T14:11:21.911Z"
   },
   {
    "duration": 149,
    "start_time": "2021-10-26T14:11:21.949Z"
   },
   {
    "duration": 62,
    "start_time": "2021-10-26T14:11:22.101Z"
   },
   {
    "duration": 63,
    "start_time": "2021-10-26T14:11:22.178Z"
   },
   {
    "duration": 67,
    "start_time": "2021-10-26T14:11:22.243Z"
   },
   {
    "duration": 12,
    "start_time": "2021-10-26T14:11:22.316Z"
   },
   {
    "duration": 11,
    "start_time": "2021-10-26T14:11:22.331Z"
   },
   {
    "duration": 10230,
    "start_time": "2021-10-26T14:11:22.344Z"
   },
   {
    "duration": -686,
    "start_time": "2021-10-26T14:11:33.264Z"
   },
   {
    "duration": -695,
    "start_time": "2021-10-26T14:11:33.274Z"
   },
   {
    "duration": -701,
    "start_time": "2021-10-26T14:11:33.283Z"
   },
   {
    "duration": -702,
    "start_time": "2021-10-26T14:11:33.286Z"
   },
   {
    "duration": -703,
    "start_time": "2021-10-26T14:11:33.288Z"
   },
   {
    "duration": -703,
    "start_time": "2021-10-26T14:11:33.290Z"
   },
   {
    "duration": -705,
    "start_time": "2021-10-26T14:11:33.293Z"
   },
   {
    "duration": -705,
    "start_time": "2021-10-26T14:11:33.295Z"
   },
   {
    "duration": -707,
    "start_time": "2021-10-26T14:11:33.298Z"
   },
   {
    "duration": -707,
    "start_time": "2021-10-26T14:11:33.300Z"
   },
   {
    "duration": -707,
    "start_time": "2021-10-26T14:11:33.302Z"
   },
   {
    "duration": -709,
    "start_time": "2021-10-26T14:11:33.305Z"
   },
   {
    "duration": -710,
    "start_time": "2021-10-26T14:11:33.307Z"
   },
   {
    "duration": -710,
    "start_time": "2021-10-26T14:11:33.309Z"
   },
   {
    "duration": -740,
    "start_time": "2021-10-26T14:11:33.341Z"
   },
   {
    "duration": 23,
    "start_time": "2021-10-26T14:12:34.760Z"
   },
   {
    "duration": 7,
    "start_time": "2021-10-26T14:12:41.305Z"
   },
   {
    "duration": 205,
    "start_time": "2021-10-26T14:12:42.194Z"
   },
   {
    "duration": 24,
    "start_time": "2021-10-26T14:12:48.162Z"
   },
   {
    "duration": 9269,
    "start_time": "2021-10-26T14:14:12.510Z"
   },
   {
    "duration": 462,
    "start_time": "2021-10-26T14:14:35.356Z"
   },
   {
    "duration": 94,
    "start_time": "2021-10-26T14:15:08.893Z"
   },
   {
    "duration": 45,
    "start_time": "2021-10-26T14:15:12.582Z"
   },
   {
    "duration": 48,
    "start_time": "2021-10-26T14:15:20.684Z"
   },
   {
    "duration": 8546,
    "start_time": "2021-10-26T14:15:50.853Z"
   },
   {
    "duration": 47,
    "start_time": "2021-10-26T14:16:22.741Z"
   },
   {
    "duration": 4,
    "start_time": "2021-10-26T14:16:30.839Z"
   },
   {
    "duration": 249,
    "start_time": "2021-10-26T14:16:32.663Z"
   },
   {
    "duration": 192,
    "start_time": "2021-10-26T14:16:35.837Z"
   },
   {
    "duration": 208,
    "start_time": "2021-10-26T14:16:38.804Z"
   },
   {
    "duration": 189,
    "start_time": "2021-10-26T14:16:39.725Z"
   },
   {
    "duration": 183,
    "start_time": "2021-10-26T14:16:40.365Z"
   },
   {
    "duration": 186,
    "start_time": "2021-10-26T14:16:41.191Z"
   },
   {
    "duration": 8439,
    "start_time": "2021-10-26T14:38:01.675Z"
   },
   {
    "duration": 6,
    "start_time": "2021-10-26T14:38:19.934Z"
   },
   {
    "duration": 84,
    "start_time": "2021-10-26T14:38:34.869Z"
   },
   {
    "duration": 6,
    "start_time": "2021-10-26T14:40:39.511Z"
   },
   {
    "duration": 396,
    "start_time": "2021-10-26T14:41:42.794Z"
   },
   {
    "duration": 422,
    "start_time": "2021-10-26T14:41:46.687Z"
   },
   {
    "duration": 41,
    "start_time": "2021-10-26T14:41:57.502Z"
   },
   {
    "duration": 1230,
    "start_time": "2021-10-26T14:42:21.261Z"
   },
   {
    "duration": 459,
    "start_time": "2021-10-26T14:42:22.495Z"
   },
   {
    "duration": 11,
    "start_time": "2021-10-26T14:42:22.959Z"
   },
   {
    "duration": 33,
    "start_time": "2021-10-26T14:42:22.972Z"
   },
   {
    "duration": 26,
    "start_time": "2021-10-26T14:42:23.007Z"
   },
   {
    "duration": 20,
    "start_time": "2021-10-26T14:42:23.034Z"
   },
   {
    "duration": 28,
    "start_time": "2021-10-26T14:42:23.056Z"
   },
   {
    "duration": 20,
    "start_time": "2021-10-26T14:42:23.087Z"
   },
   {
    "duration": 82,
    "start_time": "2021-10-26T14:42:23.110Z"
   },
   {
    "duration": 20,
    "start_time": "2021-10-26T14:42:23.194Z"
   },
   {
    "duration": 8,
    "start_time": "2021-10-26T14:42:23.216Z"
   },
   {
    "duration": 29,
    "start_time": "2021-10-26T14:42:23.226Z"
   },
   {
    "duration": 141,
    "start_time": "2021-10-26T14:42:23.257Z"
   },
   {
    "duration": 56,
    "start_time": "2021-10-26T14:42:23.401Z"
   },
   {
    "duration": 75,
    "start_time": "2021-10-26T14:42:23.459Z"
   },
   {
    "duration": 26,
    "start_time": "2021-10-26T14:42:23.536Z"
   },
   {
    "duration": 15,
    "start_time": "2021-10-26T14:42:23.576Z"
   },
   {
    "duration": 13,
    "start_time": "2021-10-26T14:42:23.595Z"
   },
   {
    "duration": 21,
    "start_time": "2021-10-26T14:42:23.611Z"
   },
   {
    "duration": 7,
    "start_time": "2021-10-26T14:42:23.634Z"
   },
   {
    "duration": 215,
    "start_time": "2021-10-26T14:42:23.642Z"
   },
   {
    "duration": 31,
    "start_time": "2021-10-26T14:42:23.859Z"
   },
   {
    "duration": 94,
    "start_time": "2021-10-26T14:42:23.893Z"
   },
   {
    "duration": 37,
    "start_time": "2021-10-26T14:42:23.992Z"
   },
   {
    "duration": 35,
    "start_time": "2021-10-26T14:42:24.031Z"
   },
   {
    "duration": 68,
    "start_time": "2021-10-26T14:42:24.078Z"
   },
   {
    "duration": 56,
    "start_time": "2021-10-26T14:42:24.148Z"
   },
   {
    "duration": 10,
    "start_time": "2021-10-26T14:42:24.207Z"
   },
   {
    "duration": 8,
    "start_time": "2021-10-26T14:42:24.219Z"
   },
   {
    "duration": 235,
    "start_time": "2021-10-26T14:42:24.229Z"
   },
   {
    "duration": 230,
    "start_time": "2021-10-26T14:42:24.466Z"
   },
   {
    "duration": 264,
    "start_time": "2021-10-26T14:42:24.699Z"
   },
   {
    "duration": 249,
    "start_time": "2021-10-26T14:42:24.964Z"
   },
   {
    "duration": 228,
    "start_time": "2021-10-26T14:42:25.215Z"
   },
   {
    "duration": 222,
    "start_time": "2021-10-26T14:42:25.445Z"
   },
   {
    "duration": 1489,
    "start_time": "2021-10-27T09:30:05.118Z"
   },
   {
    "duration": 529,
    "start_time": "2021-10-27T09:30:06.609Z"
   },
   {
    "duration": 17,
    "start_time": "2021-10-27T09:30:07.141Z"
   },
   {
    "duration": 15,
    "start_time": "2021-10-27T09:30:07.161Z"
   },
   {
    "duration": 12,
    "start_time": "2021-10-27T09:30:07.178Z"
   },
   {
    "duration": 38,
    "start_time": "2021-10-27T09:30:07.193Z"
   },
   {
    "duration": 22,
    "start_time": "2021-10-27T09:30:07.234Z"
   },
   {
    "duration": 16,
    "start_time": "2021-10-27T09:30:07.262Z"
   },
   {
    "duration": 128,
    "start_time": "2021-10-27T09:30:07.282Z"
   },
   {
    "duration": 28,
    "start_time": "2021-10-27T09:30:07.413Z"
   },
   {
    "duration": 8,
    "start_time": "2021-10-27T09:30:07.444Z"
   },
   {
    "duration": 46,
    "start_time": "2021-10-27T09:30:07.455Z"
   },
   {
    "duration": 171,
    "start_time": "2021-10-27T09:30:07.503Z"
   },
   {
    "duration": 88,
    "start_time": "2021-10-27T09:30:07.677Z"
   },
   {
    "duration": 82,
    "start_time": "2021-10-27T09:30:07.768Z"
   },
   {
    "duration": 38,
    "start_time": "2021-10-27T09:30:07.852Z"
   },
   {
    "duration": 13,
    "start_time": "2021-10-27T09:30:07.892Z"
   },
   {
    "duration": 11,
    "start_time": "2021-10-27T09:30:07.930Z"
   },
   {
    "duration": 29,
    "start_time": "2021-10-27T09:30:07.943Z"
   },
   {
    "duration": 9,
    "start_time": "2021-10-27T09:30:07.974Z"
   },
   {
    "duration": 347,
    "start_time": "2021-10-27T09:30:07.985Z"
   },
   {
    "duration": 32,
    "start_time": "2021-10-27T09:30:08.334Z"
   },
   {
    "duration": 189,
    "start_time": "2021-10-27T09:30:08.370Z"
   },
   {
    "duration": 82,
    "start_time": "2021-10-27T09:30:08.562Z"
   },
   {
    "duration": 49,
    "start_time": "2021-10-27T09:30:08.646Z"
   },
   {
    "duration": 101,
    "start_time": "2021-10-27T09:30:08.697Z"
   },
   {
    "duration": 64,
    "start_time": "2021-10-27T09:30:08.800Z"
   },
   {
    "duration": 7,
    "start_time": "2021-10-27T09:30:08.866Z"
   },
   {
    "duration": 13,
    "start_time": "2021-10-27T09:30:08.875Z"
   },
   {
    "duration": 327,
    "start_time": "2021-10-27T09:30:08.890Z"
   },
   {
    "duration": 327,
    "start_time": "2021-10-27T09:30:09.219Z"
   },
   {
    "duration": 365,
    "start_time": "2021-10-27T09:30:09.549Z"
   },
   {
    "duration": 349,
    "start_time": "2021-10-27T09:30:09.917Z"
   },
   {
    "duration": 327,
    "start_time": "2021-10-27T09:30:10.268Z"
   },
   {
    "duration": 333,
    "start_time": "2021-10-27T09:30:10.598Z"
   },
   {
    "duration": 378,
    "start_time": "2021-10-27T09:30:10.934Z"
   },
   {
    "duration": 1558,
    "start_time": "2021-10-27T09:30:36.735Z"
   },
   {
    "duration": 536,
    "start_time": "2021-10-27T09:30:38.296Z"
   },
   {
    "duration": 15,
    "start_time": "2021-10-27T09:30:38.835Z"
   },
   {
    "duration": 16,
    "start_time": "2021-10-27T09:30:38.853Z"
   },
   {
    "duration": 11,
    "start_time": "2021-10-27T09:30:38.872Z"
   },
   {
    "duration": 17,
    "start_time": "2021-10-27T09:30:38.886Z"
   },
   {
    "duration": 13,
    "start_time": "2021-10-27T09:30:38.929Z"
   },
   {
    "duration": 15,
    "start_time": "2021-10-27T09:30:38.946Z"
   },
   {
    "duration": 133,
    "start_time": "2021-10-27T09:30:38.964Z"
   },
   {
    "duration": 18,
    "start_time": "2021-10-27T09:30:39.099Z"
   },
   {
    "duration": 7,
    "start_time": "2021-10-27T09:30:39.129Z"
   },
   {
    "duration": 41,
    "start_time": "2021-10-27T09:30:39.139Z"
   },
   {
    "duration": 166,
    "start_time": "2021-10-27T09:30:39.182Z"
   },
   {
    "duration": 92,
    "start_time": "2021-10-27T09:30:39.350Z"
   },
   {
    "duration": 69,
    "start_time": "2021-10-27T09:30:39.444Z"
   },
   {
    "duration": 38,
    "start_time": "2021-10-27T09:30:39.528Z"
   },
   {
    "duration": 13,
    "start_time": "2021-10-27T09:30:39.569Z"
   },
   {
    "duration": 13,
    "start_time": "2021-10-27T09:30:39.584Z"
   },
   {
    "duration": 52,
    "start_time": "2021-10-27T09:30:39.600Z"
   },
   {
    "duration": 10,
    "start_time": "2021-10-27T09:30:39.654Z"
   },
   {
    "duration": 328,
    "start_time": "2021-10-27T09:30:39.666Z"
   },
   {
    "duration": 45,
    "start_time": "2021-10-27T09:30:39.996Z"
   },
   {
    "duration": 149,
    "start_time": "2021-10-27T09:30:40.046Z"
   },
   {
    "duration": 72,
    "start_time": "2021-10-27T09:30:40.197Z"
   },
   {
    "duration": 62,
    "start_time": "2021-10-27T09:30:40.272Z"
   },
   {
    "duration": 76,
    "start_time": "2021-10-27T09:30:40.336Z"
   },
   {
    "duration": 71,
    "start_time": "2021-10-27T09:30:40.414Z"
   },
   {
    "duration": 7,
    "start_time": "2021-10-27T09:30:40.487Z"
   },
   {
    "duration": 32,
    "start_time": "2021-10-27T09:30:40.497Z"
   },
   {
    "duration": 344,
    "start_time": "2021-10-27T09:30:40.531Z"
   },
   {
    "duration": 325,
    "start_time": "2021-10-27T09:30:40.878Z"
   },
   {
    "duration": 377,
    "start_time": "2021-10-27T09:30:41.205Z"
   },
   {
    "duration": 347,
    "start_time": "2021-10-27T09:30:41.585Z"
   },
   {
    "duration": 338,
    "start_time": "2021-10-27T09:30:41.934Z"
   },
   {
    "duration": 327,
    "start_time": "2021-10-27T09:30:42.275Z"
   },
   {
    "duration": 6049,
    "start_time": "2021-10-27T09:30:42.605Z"
   },
   {
    "duration": 1527,
    "start_time": "2021-10-27T09:33:05.095Z"
   },
   {
    "duration": 530,
    "start_time": "2021-10-27T09:33:06.624Z"
   },
   {
    "duration": 16,
    "start_time": "2021-10-27T09:33:07.157Z"
   },
   {
    "duration": 12,
    "start_time": "2021-10-27T09:33:07.175Z"
   },
   {
    "duration": 13,
    "start_time": "2021-10-27T09:33:07.189Z"
   },
   {
    "duration": 24,
    "start_time": "2021-10-27T09:33:07.204Z"
   },
   {
    "duration": 13,
    "start_time": "2021-10-27T09:33:07.231Z"
   },
   {
    "duration": 15,
    "start_time": "2021-10-27T09:33:07.248Z"
   },
   {
    "duration": 133,
    "start_time": "2021-10-27T09:33:07.266Z"
   },
   {
    "duration": 18,
    "start_time": "2021-10-27T09:33:07.401Z"
   },
   {
    "duration": 8,
    "start_time": "2021-10-27T09:33:07.430Z"
   },
   {
    "duration": 36,
    "start_time": "2021-10-27T09:33:07.441Z"
   },
   {
    "duration": 185,
    "start_time": "2021-10-27T09:33:07.480Z"
   },
   {
    "duration": 92,
    "start_time": "2021-10-27T09:33:07.668Z"
   },
   {
    "duration": 89,
    "start_time": "2021-10-27T09:33:07.763Z"
   },
   {
    "duration": 42,
    "start_time": "2021-10-27T09:33:07.855Z"
   },
   {
    "duration": 40,
    "start_time": "2021-10-27T09:33:07.900Z"
   },
   {
    "duration": 12,
    "start_time": "2021-10-27T09:33:07.943Z"
   },
   {
    "duration": 34,
    "start_time": "2021-10-27T09:33:07.958Z"
   },
   {
    "duration": 35,
    "start_time": "2021-10-27T09:33:07.995Z"
   },
   {
    "duration": 316,
    "start_time": "2021-10-27T09:33:08.032Z"
   },
   {
    "duration": 34,
    "start_time": "2021-10-27T09:33:08.350Z"
   },
   {
    "duration": 172,
    "start_time": "2021-10-27T09:33:08.389Z"
   },
   {
    "duration": 71,
    "start_time": "2021-10-27T09:33:08.564Z"
   },
   {
    "duration": 52,
    "start_time": "2021-10-27T09:33:08.637Z"
   },
   {
    "duration": 6001,
    "start_time": "2021-10-27T09:33:08.691Z"
   },
   {
    "duration": -2558,
    "start_time": "2021-10-27T09:33:17.254Z"
   },
   {
    "duration": -2567,
    "start_time": "2021-10-27T09:33:17.265Z"
   },
   {
    "duration": -2571,
    "start_time": "2021-10-27T09:33:17.271Z"
   },
   {
    "duration": -2571,
    "start_time": "2021-10-27T09:33:17.273Z"
   },
   {
    "duration": -2572,
    "start_time": "2021-10-27T09:33:17.276Z"
   },
   {
    "duration": -2576,
    "start_time": "2021-10-27T09:33:17.282Z"
   },
   {
    "duration": -2577,
    "start_time": "2021-10-27T09:33:17.285Z"
   },
   {
    "duration": -2578,
    "start_time": "2021-10-27T09:33:17.288Z"
   },
   {
    "duration": -2579,
    "start_time": "2021-10-27T09:33:17.291Z"
   },
   {
    "duration": -2581,
    "start_time": "2021-10-27T09:33:17.295Z"
   },
   {
    "duration": 1422,
    "start_time": "2021-10-27T09:33:50.373Z"
   },
   {
    "duration": 520,
    "start_time": "2021-10-27T09:33:51.798Z"
   },
   {
    "duration": 16,
    "start_time": "2021-10-27T09:33:52.321Z"
   },
   {
    "duration": 11,
    "start_time": "2021-10-27T09:33:52.340Z"
   },
   {
    "duration": 14,
    "start_time": "2021-10-27T09:33:52.353Z"
   },
   {
    "duration": 22,
    "start_time": "2021-10-27T09:33:52.369Z"
   },
   {
    "duration": 44,
    "start_time": "2021-10-27T09:33:52.393Z"
   },
   {
    "duration": 18,
    "start_time": "2021-10-27T09:33:52.441Z"
   },
   {
    "duration": 125,
    "start_time": "2021-10-27T09:33:52.462Z"
   },
   {
    "duration": 18,
    "start_time": "2021-10-27T09:33:52.589Z"
   },
   {
    "duration": 23,
    "start_time": "2021-10-27T09:33:52.609Z"
   },
   {
    "duration": 36,
    "start_time": "2021-10-27T09:33:52.635Z"
   },
   {
    "duration": 170,
    "start_time": "2021-10-27T09:33:52.674Z"
   },
   {
    "duration": 97,
    "start_time": "2021-10-27T09:33:52.847Z"
   },
   {
    "duration": 82,
    "start_time": "2021-10-27T09:33:52.947Z"
   },
   {
    "duration": 42,
    "start_time": "2021-10-27T09:33:53.032Z"
   },
   {
    "duration": 17,
    "start_time": "2021-10-27T09:33:53.077Z"
   },
   {
    "duration": 44,
    "start_time": "2021-10-27T09:33:53.097Z"
   },
   {
    "duration": 46,
    "start_time": "2021-10-27T09:33:53.144Z"
   },
   {
    "duration": 40,
    "start_time": "2021-10-27T09:33:53.193Z"
   },
   {
    "duration": 439,
    "start_time": "2021-10-27T09:33:53.236Z"
   },
   {
    "duration": 33,
    "start_time": "2021-10-27T09:33:53.678Z"
   },
   {
    "duration": 149,
    "start_time": "2021-10-27T09:33:53.732Z"
   },
   {
    "duration": 74,
    "start_time": "2021-10-27T09:33:53.883Z"
   },
   {
    "duration": 48,
    "start_time": "2021-10-27T09:33:53.959Z"
   },
   {
    "duration": 129,
    "start_time": "2021-10-27T09:33:54.010Z"
   },
   {
    "duration": 57,
    "start_time": "2021-10-27T09:33:54.142Z"
   },
   {
    "duration": 6,
    "start_time": "2021-10-27T09:33:54.201Z"
   },
   {
    "duration": 5,
    "start_time": "2021-10-27T09:33:54.230Z"
   },
   {
    "duration": 339,
    "start_time": "2021-10-27T09:33:54.237Z"
   },
   {
    "duration": 331,
    "start_time": "2021-10-27T09:33:54.579Z"
   },
   {
    "duration": 384,
    "start_time": "2021-10-27T09:33:54.912Z"
   },
   {
    "duration": 355,
    "start_time": "2021-10-27T09:33:55.298Z"
   },
   {
    "duration": 331,
    "start_time": "2021-10-27T09:33:55.656Z"
   },
   {
    "duration": 321,
    "start_time": "2021-10-27T09:33:55.990Z"
   },
   {
    "duration": 5968,
    "start_time": "2021-10-27T09:33:56.314Z"
   },
   {
    "duration": 12,
    "start_time": "2021-10-27T09:34:32.743Z"
   },
   {
    "duration": 10,
    "start_time": "2021-10-27T09:34:54.752Z"
   },
   {
    "duration": 10,
    "start_time": "2021-10-27T09:35:05.702Z"
   },
   {
    "duration": 10,
    "start_time": "2021-10-27T09:35:29.592Z"
   },
   {
    "duration": 402,
    "start_time": "2021-10-27T09:36:45.233Z"
   },
   {
    "duration": 411,
    "start_time": "2021-10-27T09:36:49.846Z"
   },
   {
    "duration": 9,
    "start_time": "2021-10-27T09:38:20.441Z"
   },
   {
    "duration": 9,
    "start_time": "2021-10-27T09:38:31.634Z"
   },
   {
    "duration": 11,
    "start_time": "2021-10-27T09:38:39.994Z"
   },
   {
    "duration": 331,
    "start_time": "2021-10-27T10:04:27.534Z"
   },
   {
    "duration": 419,
    "start_time": "2021-10-27T10:04:28.981Z"
   },
   {
    "duration": 1579,
    "start_time": "2021-10-27T10:06:52.457Z"
   },
   {
    "duration": 522,
    "start_time": "2021-10-27T10:06:54.040Z"
   },
   {
    "duration": 16,
    "start_time": "2021-10-27T10:06:54.565Z"
   },
   {
    "duration": 12,
    "start_time": "2021-10-27T10:06:54.583Z"
   },
   {
    "duration": 13,
    "start_time": "2021-10-27T10:06:54.598Z"
   },
   {
    "duration": 11,
    "start_time": "2021-10-27T10:06:54.629Z"
   },
   {
    "duration": 15,
    "start_time": "2021-10-27T10:06:54.643Z"
   },
   {
    "duration": 15,
    "start_time": "2021-10-27T10:06:54.663Z"
   },
   {
    "duration": 121,
    "start_time": "2021-10-27T10:06:54.728Z"
   },
   {
    "duration": 18,
    "start_time": "2021-10-27T10:06:54.851Z"
   },
   {
    "duration": 6,
    "start_time": "2021-10-27T10:06:54.872Z"
   },
   {
    "duration": 74,
    "start_time": "2021-10-27T10:06:54.880Z"
   },
   {
    "duration": 172,
    "start_time": "2021-10-27T10:06:54.958Z"
   },
   {
    "duration": 81,
    "start_time": "2021-10-27T10:06:55.132Z"
   },
   {
    "duration": 74,
    "start_time": "2021-10-27T10:06:55.229Z"
   },
   {
    "duration": 60,
    "start_time": "2021-10-27T10:06:55.305Z"
   },
   {
    "duration": 13,
    "start_time": "2021-10-27T10:06:55.368Z"
   },
   {
    "duration": 11,
    "start_time": "2021-10-27T10:06:55.384Z"
   },
   {
    "duration": 28,
    "start_time": "2021-10-27T10:06:55.429Z"
   },
   {
    "duration": 70,
    "start_time": "2021-10-27T10:06:55.460Z"
   },
   {
    "duration": 377,
    "start_time": "2021-10-27T10:06:55.532Z"
   },
   {
    "duration": 38,
    "start_time": "2021-10-27T10:06:55.912Z"
   },
   {
    "duration": 147,
    "start_time": "2021-10-27T10:06:55.953Z"
   },
   {
    "duration": 69,
    "start_time": "2021-10-27T10:06:56.105Z"
   },
   {
    "duration": 73,
    "start_time": "2021-10-27T10:06:56.177Z"
   },
   {
    "duration": 119,
    "start_time": "2021-10-27T10:06:56.256Z"
   },
   {
    "duration": 69,
    "start_time": "2021-10-27T10:06:56.378Z"
   },
   {
    "duration": 6,
    "start_time": "2021-10-27T10:06:56.450Z"
   },
   {
    "duration": 26,
    "start_time": "2021-10-27T10:06:56.458Z"
   },
   {
    "duration": 347,
    "start_time": "2021-10-27T10:06:56.487Z"
   },
   {
    "duration": 333,
    "start_time": "2021-10-27T10:06:56.837Z"
   },
   {
    "duration": 377,
    "start_time": "2021-10-27T10:06:57.172Z"
   },
   {
    "duration": 347,
    "start_time": "2021-10-27T10:06:57.552Z"
   },
   {
    "duration": 334,
    "start_time": "2021-10-27T10:06:57.902Z"
   },
   {
    "duration": 334,
    "start_time": "2021-10-27T10:06:58.239Z"
   },
   {
    "duration": 11,
    "start_time": "2021-10-27T10:06:58.576Z"
   },
   {
    "duration": 474,
    "start_time": "2021-10-27T10:06:58.589Z"
   },
   {
    "duration": 364,
    "start_time": "2021-10-27T10:06:59.065Z"
   },
   {
    "duration": 11,
    "start_time": "2021-10-27T10:06:59.431Z"
   },
   {
    "duration": 1015,
    "start_time": "2021-10-27T14:51:05.045Z"
   },
   {
    "duration": 407,
    "start_time": "2021-10-27T14:51:06.062Z"
   },
   {
    "duration": 12,
    "start_time": "2021-10-27T14:51:06.474Z"
   },
   {
    "duration": 7,
    "start_time": "2021-10-27T14:51:06.488Z"
   },
   {
    "duration": 9,
    "start_time": "2021-10-27T14:51:06.496Z"
   },
   {
    "duration": 9,
    "start_time": "2021-10-27T14:51:06.507Z"
   },
   {
    "duration": 8,
    "start_time": "2021-10-27T14:51:06.518Z"
   },
   {
    "duration": 9,
    "start_time": "2021-10-27T14:51:06.528Z"
   },
   {
    "duration": 92,
    "start_time": "2021-10-27T14:51:06.539Z"
   },
   {
    "duration": 12,
    "start_time": "2021-10-27T14:51:06.633Z"
   },
   {
    "duration": 5,
    "start_time": "2021-10-27T14:51:06.646Z"
   },
   {
    "duration": 39,
    "start_time": "2021-10-27T14:51:06.652Z"
   },
   {
    "duration": 100,
    "start_time": "2021-10-27T14:51:06.693Z"
   },
   {
    "duration": 52,
    "start_time": "2021-10-27T14:51:06.795Z"
   },
   {
    "duration": 62,
    "start_time": "2021-10-27T14:51:06.849Z"
   },
   {
    "duration": 24,
    "start_time": "2021-10-27T14:51:06.912Z"
   },
   {
    "duration": 7,
    "start_time": "2021-10-27T14:51:06.937Z"
   },
   {
    "duration": 5,
    "start_time": "2021-10-27T14:51:06.946Z"
   },
   {
    "duration": 39,
    "start_time": "2021-10-27T14:51:06.953Z"
   },
   {
    "duration": 6,
    "start_time": "2021-10-27T14:51:06.994Z"
   },
   {
    "duration": 167,
    "start_time": "2021-10-27T14:51:07.002Z"
   },
   {
    "duration": 25,
    "start_time": "2021-10-27T14:51:07.172Z"
   },
   {
    "duration": 94,
    "start_time": "2021-10-27T14:51:07.198Z"
   },
   {
    "duration": 32,
    "start_time": "2021-10-27T14:51:07.294Z"
   },
   {
    "duration": 27,
    "start_time": "2021-10-27T14:51:07.328Z"
   },
   {
    "duration": 74,
    "start_time": "2021-10-27T14:51:07.356Z"
   },
   {
    "duration": 35,
    "start_time": "2021-10-27T14:51:07.431Z"
   },
   {
    "duration": 4,
    "start_time": "2021-10-27T14:51:07.468Z"
   },
   {
    "duration": 19,
    "start_time": "2021-10-27T14:51:07.474Z"
   },
   {
    "duration": 187,
    "start_time": "2021-10-27T14:51:07.495Z"
   },
   {
    "duration": 196,
    "start_time": "2021-10-27T14:51:07.684Z"
   },
   {
    "duration": 221,
    "start_time": "2021-10-27T14:51:07.881Z"
   },
   {
    "duration": 202,
    "start_time": "2021-10-27T14:51:08.104Z"
   },
   {
    "duration": 190,
    "start_time": "2021-10-27T14:51:08.308Z"
   },
   {
    "duration": 194,
    "start_time": "2021-10-27T14:51:08.499Z"
   },
   {
    "duration": 7,
    "start_time": "2021-10-27T14:51:08.694Z"
   },
   {
    "duration": 268,
    "start_time": "2021-10-27T14:51:08.703Z"
   },
   {
    "duration": 209,
    "start_time": "2021-10-27T14:51:08.973Z"
   },
   {
    "duration": 10,
    "start_time": "2021-10-27T14:51:09.184Z"
   },
   {
    "duration": 24,
    "start_time": "2021-10-27T15:11:29.994Z"
   },
   {
    "duration": 3,
    "start_time": "2021-10-27T15:13:35.930Z"
   },
   {
    "duration": 93,
    "start_time": "2021-10-27T15:13:39.686Z"
   },
   {
    "duration": 90,
    "start_time": "2021-10-27T15:15:53.028Z"
   },
   {
    "duration": 1191,
    "start_time": "2021-10-28T08:11:41.550Z"
   },
   {
    "duration": 458,
    "start_time": "2021-10-28T08:11:42.743Z"
   },
   {
    "duration": 12,
    "start_time": "2021-10-28T08:11:43.203Z"
   },
   {
    "duration": 15,
    "start_time": "2021-10-28T08:11:43.217Z"
   },
   {
    "duration": 16,
    "start_time": "2021-10-28T08:11:43.235Z"
   },
   {
    "duration": 10,
    "start_time": "2021-10-28T08:11:43.254Z"
   },
   {
    "duration": 15,
    "start_time": "2021-10-28T08:11:43.266Z"
   },
   {
    "duration": 16,
    "start_time": "2021-10-28T08:11:43.283Z"
   },
   {
    "duration": 85,
    "start_time": "2021-10-28T08:11:43.302Z"
   },
   {
    "duration": 14,
    "start_time": "2021-10-28T08:11:43.389Z"
   },
   {
    "duration": 13,
    "start_time": "2021-10-28T08:11:43.405Z"
   },
   {
    "duration": 49,
    "start_time": "2021-10-28T08:11:43.421Z"
   },
   {
    "duration": 131,
    "start_time": "2021-10-28T08:11:43.472Z"
   },
   {
    "duration": 68,
    "start_time": "2021-10-28T08:11:43.605Z"
   },
   {
    "duration": 50,
    "start_time": "2021-10-28T08:11:43.675Z"
   },
   {
    "duration": 47,
    "start_time": "2021-10-28T08:11:43.727Z"
   },
   {
    "duration": 9,
    "start_time": "2021-10-28T08:11:43.776Z"
   },
   {
    "duration": 7,
    "start_time": "2021-10-28T08:11:43.787Z"
   },
   {
    "duration": 21,
    "start_time": "2021-10-28T08:11:43.796Z"
   },
   {
    "duration": 10,
    "start_time": "2021-10-28T08:11:43.820Z"
   },
   {
    "duration": 223,
    "start_time": "2021-10-28T08:11:43.833Z"
   },
   {
    "duration": 20,
    "start_time": "2021-10-28T08:11:44.058Z"
   },
   {
    "duration": 104,
    "start_time": "2021-10-28T08:11:44.080Z"
   },
   {
    "duration": 29,
    "start_time": "2021-10-28T08:11:44.185Z"
   },
   {
    "duration": 54,
    "start_time": "2021-10-28T08:11:44.216Z"
   },
   {
    "duration": 68,
    "start_time": "2021-10-28T08:11:44.272Z"
   },
   {
    "duration": 50,
    "start_time": "2021-10-28T08:11:44.343Z"
   },
   {
    "duration": 4,
    "start_time": "2021-10-28T08:11:44.395Z"
   },
   {
    "duration": 6,
    "start_time": "2021-10-28T08:11:44.401Z"
   },
   {
    "duration": 222,
    "start_time": "2021-10-28T08:11:44.409Z"
   },
   {
    "duration": 195,
    "start_time": "2021-10-28T08:11:44.634Z"
   },
   {
    "duration": 223,
    "start_time": "2021-10-28T08:11:44.831Z"
   },
   {
    "duration": 210,
    "start_time": "2021-10-28T08:11:45.056Z"
   },
   {
    "duration": 195,
    "start_time": "2021-10-28T08:11:45.268Z"
   },
   {
    "duration": 200,
    "start_time": "2021-10-28T08:11:45.465Z"
   },
   {
    "duration": 7,
    "start_time": "2021-10-28T08:11:45.667Z"
   },
   {
    "duration": 289,
    "start_time": "2021-10-28T08:11:45.676Z"
   },
   {
    "duration": 205,
    "start_time": "2021-10-28T08:11:45.967Z"
   },
   {
    "duration": 7,
    "start_time": "2021-10-28T08:11:46.174Z"
   },
   {
    "duration": 1188,
    "start_time": "2021-10-28T08:14:23.260Z"
   },
   {
    "duration": 449,
    "start_time": "2021-10-28T08:14:24.451Z"
   },
   {
    "duration": 12,
    "start_time": "2021-10-28T08:14:24.902Z"
   },
   {
    "duration": 12,
    "start_time": "2021-10-28T08:14:24.916Z"
   },
   {
    "duration": 11,
    "start_time": "2021-10-28T08:14:24.929Z"
   },
   {
    "duration": 9,
    "start_time": "2021-10-28T08:14:24.942Z"
   },
   {
    "duration": 25,
    "start_time": "2021-10-28T08:14:24.953Z"
   },
   {
    "duration": 38,
    "start_time": "2021-10-28T08:14:24.981Z"
   },
   {
    "duration": 79,
    "start_time": "2021-10-28T08:14:25.022Z"
   },
   {
    "duration": 16,
    "start_time": "2021-10-28T08:14:25.103Z"
   },
   {
    "duration": 5,
    "start_time": "2021-10-28T08:14:25.120Z"
   },
   {
    "duration": 45,
    "start_time": "2021-10-28T08:14:25.126Z"
   },
   {
    "duration": 125,
    "start_time": "2021-10-28T08:14:25.173Z"
   },
   {
    "duration": 72,
    "start_time": "2021-10-28T08:14:25.300Z"
   },
   {
    "duration": 51,
    "start_time": "2021-10-28T08:14:25.374Z"
   },
   {
    "duration": 38,
    "start_time": "2021-10-28T08:14:25.428Z"
   },
   {
    "duration": 10,
    "start_time": "2021-10-28T08:14:25.467Z"
   },
   {
    "duration": 8,
    "start_time": "2021-10-28T08:14:25.479Z"
   },
   {
    "duration": 19,
    "start_time": "2021-10-28T08:14:25.489Z"
   },
   {
    "duration": 7,
    "start_time": "2021-10-28T08:14:25.510Z"
   },
   {
    "duration": 231,
    "start_time": "2021-10-28T08:14:25.519Z"
   },
   {
    "duration": 30,
    "start_time": "2021-10-28T08:14:25.752Z"
   },
   {
    "duration": 100,
    "start_time": "2021-10-28T08:14:25.786Z"
   },
   {
    "duration": 32,
    "start_time": "2021-10-28T08:14:25.888Z"
   },
   {
    "duration": 53,
    "start_time": "2021-10-28T08:14:25.922Z"
   },
   {
    "duration": 70,
    "start_time": "2021-10-28T08:14:25.977Z"
   },
   {
    "duration": 50,
    "start_time": "2021-10-28T08:14:26.049Z"
   },
   {
    "duration": 5,
    "start_time": "2021-10-28T08:14:26.101Z"
   },
   {
    "duration": 7,
    "start_time": "2021-10-28T08:14:26.108Z"
   },
   {
    "duration": 224,
    "start_time": "2021-10-28T08:14:26.117Z"
   },
   {
    "duration": 209,
    "start_time": "2021-10-28T08:14:26.343Z"
   },
   {
    "duration": 230,
    "start_time": "2021-10-28T08:14:26.563Z"
   },
   {
    "duration": 217,
    "start_time": "2021-10-28T08:14:26.795Z"
   },
   {
    "duration": 204,
    "start_time": "2021-10-28T08:14:27.015Z"
   },
   {
    "duration": 207,
    "start_time": "2021-10-28T08:14:27.221Z"
   },
   {
    "duration": 8,
    "start_time": "2021-10-28T08:14:27.429Z"
   },
   {
    "duration": 317,
    "start_time": "2021-10-28T08:14:27.439Z"
   },
   {
    "duration": 234,
    "start_time": "2021-10-28T08:14:27.759Z"
   },
   {
    "duration": 10,
    "start_time": "2021-10-28T08:14:27.995Z"
   },
   {
    "duration": 4,
    "start_time": "2021-10-28T08:18:52.479Z"
   },
   {
    "duration": 307,
    "start_time": "2021-10-28T08:19:07.693Z"
   },
   {
    "duration": 4,
    "start_time": "2021-10-28T08:19:34.295Z"
   },
   {
    "duration": 364,
    "start_time": "2021-10-28T08:19:38.319Z"
   },
   {
    "duration": 3,
    "start_time": "2021-10-28T08:25:02.978Z"
   },
   {
    "duration": 362,
    "start_time": "2021-10-28T08:25:05.160Z"
   },
   {
    "duration": 4,
    "start_time": "2021-10-28T08:25:13.825Z"
   },
   {
    "duration": 268,
    "start_time": "2021-10-28T08:25:16.908Z"
   },
   {
    "duration": 3,
    "start_time": "2021-10-28T08:25:28.781Z"
   },
   {
    "duration": 288,
    "start_time": "2021-10-28T08:25:30.588Z"
   },
   {
    "duration": 4,
    "start_time": "2021-10-28T08:25:43.970Z"
   },
   {
    "duration": 4,
    "start_time": "2021-10-28T08:25:44.651Z"
   },
   {
    "duration": 244,
    "start_time": "2021-10-28T08:25:45.267Z"
   },
   {
    "duration": 4,
    "start_time": "2021-10-28T08:28:06.443Z"
   },
   {
    "duration": 5,
    "start_time": "2021-10-28T08:28:06.930Z"
   },
   {
    "duration": 251,
    "start_time": "2021-10-28T08:28:07.468Z"
   },
   {
    "duration": 3,
    "start_time": "2021-10-28T08:31:59.665Z"
   },
   {
    "duration": 532,
    "start_time": "2021-10-28T08:32:00.440Z"
   },
   {
    "duration": 363,
    "start_time": "2021-10-28T08:32:02.903Z"
   },
   {
    "duration": 395,
    "start_time": "2021-10-28T08:32:11.274Z"
   },
   {
    "duration": 6,
    "start_time": "2021-10-28T08:33:40.088Z"
   },
   {
    "duration": 555,
    "start_time": "2021-10-28T08:33:40.919Z"
   },
   {
    "duration": 6,
    "start_time": "2021-10-28T08:34:03.352Z"
   },
   {
    "duration": 381,
    "start_time": "2021-10-28T08:34:04.288Z"
   },
   {
    "duration": 4,
    "start_time": "2021-10-28T08:34:11.422Z"
   },
   {
    "duration": 564,
    "start_time": "2021-10-28T08:34:13.097Z"
   },
   {
    "duration": 371,
    "start_time": "2021-10-28T08:34:23.199Z"
   },
   {
    "duration": 503,
    "start_time": "2021-10-28T08:34:26.864Z"
   },
   {
    "duration": 5,
    "start_time": "2021-10-28T08:45:13.097Z"
   },
   {
    "duration": 858,
    "start_time": "2021-10-28T08:45:13.940Z"
   },
   {
    "duration": 4,
    "start_time": "2021-10-28T08:45:30.918Z"
   },
   {
    "duration": 763,
    "start_time": "2021-10-28T08:45:32.075Z"
   },
   {
    "duration": 4,
    "start_time": "2021-10-28T08:45:51.921Z"
   },
   {
    "duration": 358,
    "start_time": "2021-10-28T08:45:53.033Z"
   },
   {
    "duration": 4,
    "start_time": "2021-10-28T08:46:26.486Z"
   },
   {
    "duration": 345,
    "start_time": "2021-10-28T08:46:27.050Z"
   },
   {
    "duration": 373,
    "start_time": "2021-10-28T08:46:28.081Z"
   },
   {
    "duration": 445,
    "start_time": "2021-10-28T08:46:29.395Z"
   },
   {
    "duration": 345,
    "start_time": "2021-10-28T08:47:14.131Z"
   },
   {
    "duration": 6,
    "start_time": "2021-10-28T08:48:58.426Z"
   },
   {
    "duration": 456,
    "start_time": "2021-10-28T08:49:00.040Z"
   },
   {
    "duration": 352,
    "start_time": "2021-10-28T08:49:04.876Z"
   },
   {
    "duration": 378,
    "start_time": "2021-10-28T08:49:07.110Z"
   },
   {
    "duration": 477,
    "start_time": "2021-10-28T08:49:11.114Z"
   },
   {
    "duration": 83,
    "start_time": "2021-10-28T09:01:33.810Z"
   },
   {
    "duration": 8,
    "start_time": "2021-10-28T09:02:44.273Z"
   },
   {
    "duration": 8,
    "start_time": "2021-10-28T09:04:47.113Z"
   },
   {
    "duration": 9,
    "start_time": "2021-10-28T09:05:35.158Z"
   },
   {
    "duration": 9,
    "start_time": "2021-10-28T09:05:50.623Z"
   },
   {
    "duration": 734,
    "start_time": "2021-10-28T09:07:00.223Z"
   },
   {
    "duration": 8,
    "start_time": "2021-10-28T09:07:59.242Z"
   },
   {
    "duration": 104,
    "start_time": "2021-10-28T09:08:03.330Z"
   },
   {
    "duration": 11,
    "start_time": "2021-10-28T09:08:41.300Z"
   },
   {
    "duration": 360,
    "start_time": "2021-10-28T09:12:03.247Z"
   },
   {
    "duration": 1179,
    "start_time": "2021-10-28T09:12:13.969Z"
   },
   {
    "duration": 433,
    "start_time": "2021-10-28T09:12:16.088Z"
   },
   {
    "duration": 14,
    "start_time": "2021-10-28T09:12:17.223Z"
   },
   {
    "duration": 9,
    "start_time": "2021-10-28T09:12:18.945Z"
   },
   {
    "duration": 8,
    "start_time": "2021-10-28T09:12:19.940Z"
   },
   {
    "duration": 8,
    "start_time": "2021-10-28T09:12:20.812Z"
   },
   {
    "duration": 9,
    "start_time": "2021-10-28T09:12:21.541Z"
   },
   {
    "duration": 11,
    "start_time": "2021-10-28T09:12:22.290Z"
   },
   {
    "duration": 71,
    "start_time": "2021-10-28T09:12:25.761Z"
   },
   {
    "duration": 15,
    "start_time": "2021-10-28T09:12:27.142Z"
   },
   {
    "duration": 6,
    "start_time": "2021-10-28T09:12:27.994Z"
   },
   {
    "duration": 29,
    "start_time": "2021-10-28T09:12:29.195Z"
   },
   {
    "duration": 155,
    "start_time": "2021-10-28T09:12:31.515Z"
   },
   {
    "duration": 78,
    "start_time": "2021-10-28T09:12:40.305Z"
   },
   {
    "duration": 64,
    "start_time": "2021-10-28T09:12:41.912Z"
   },
   {
    "duration": 38,
    "start_time": "2021-10-28T09:12:43.904Z"
   },
   {
    "duration": 11,
    "start_time": "2021-10-28T09:12:46.790Z"
   },
   {
    "duration": 7,
    "start_time": "2021-10-28T09:12:48.669Z"
   },
   {
    "duration": 6602,
    "start_time": "2021-10-28T09:13:41.831Z"
   },
   {
    "duration": 1122,
    "start_time": "2021-10-28T09:23:16.820Z"
   },
   {
    "duration": 436,
    "start_time": "2021-10-28T09:23:17.944Z"
   },
   {
    "duration": 14,
    "start_time": "2021-10-28T09:23:18.385Z"
   },
   {
    "duration": 10,
    "start_time": "2021-10-28T09:23:18.401Z"
   },
   {
    "duration": 10,
    "start_time": "2021-10-28T09:23:18.413Z"
   },
   {
    "duration": 18,
    "start_time": "2021-10-28T09:23:18.425Z"
   },
   {
    "duration": 23,
    "start_time": "2021-10-28T09:23:18.446Z"
   },
   {
    "duration": 11,
    "start_time": "2021-10-28T09:23:18.471Z"
   },
   {
    "duration": 89,
    "start_time": "2021-10-28T09:23:18.484Z"
   },
   {
    "duration": 14,
    "start_time": "2021-10-28T09:23:18.575Z"
   },
   {
    "duration": 4,
    "start_time": "2021-10-28T09:23:18.591Z"
   },
   {
    "duration": 47,
    "start_time": "2021-10-28T09:23:18.597Z"
   },
   {
    "duration": 222,
    "start_time": "2021-10-28T09:23:18.646Z"
   },
   {
    "duration": 55,
    "start_time": "2021-10-28T09:23:18.871Z"
   },
   {
    "duration": 70,
    "start_time": "2021-10-28T09:23:18.928Z"
   },
   {
    "duration": 26,
    "start_time": "2021-10-28T09:23:19.000Z"
   },
   {
    "duration": 8,
    "start_time": "2021-10-28T09:23:19.028Z"
   },
   {
    "duration": 28,
    "start_time": "2021-10-28T09:23:19.038Z"
   },
   {
    "duration": 23,
    "start_time": "2021-10-28T09:23:19.068Z"
   },
   {
    "duration": 5800,
    "start_time": "2021-10-28T09:23:19.093Z"
   },
   {
    "duration": 77,
    "start_time": "2021-10-28T09:23:24.819Z"
   },
   {
    "duration": 67,
    "start_time": "2021-10-28T09:23:24.830Z"
   },
   {
    "duration": 65,
    "start_time": "2021-10-28T09:23:24.833Z"
   },
   {
    "duration": 63,
    "start_time": "2021-10-28T09:23:24.836Z"
   },
   {
    "duration": 58,
    "start_time": "2021-10-28T09:23:24.842Z"
   },
   {
    "duration": 55,
    "start_time": "2021-10-28T09:23:24.846Z"
   },
   {
    "duration": 52,
    "start_time": "2021-10-28T09:23:24.850Z"
   },
   {
    "duration": 48,
    "start_time": "2021-10-28T09:23:24.855Z"
   },
   {
    "duration": 45,
    "start_time": "2021-10-28T09:23:24.859Z"
   },
   {
    "duration": 40,
    "start_time": "2021-10-28T09:23:24.864Z"
   },
   {
    "duration": 36,
    "start_time": "2021-10-28T09:23:24.869Z"
   },
   {
    "duration": 32,
    "start_time": "2021-10-28T09:23:24.874Z"
   },
   {
    "duration": 29,
    "start_time": "2021-10-28T09:23:24.878Z"
   },
   {
    "duration": 26,
    "start_time": "2021-10-28T09:23:24.882Z"
   },
   {
    "duration": 24,
    "start_time": "2021-10-28T09:23:24.885Z"
   },
   {
    "duration": 21,
    "start_time": "2021-10-28T09:23:24.889Z"
   },
   {
    "duration": 8,
    "start_time": "2021-10-28T09:23:24.903Z"
   },
   {
    "duration": 2,
    "start_time": "2021-10-28T09:23:24.910Z"
   },
   {
    "duration": -1,
    "start_time": "2021-10-28T09:23:24.914Z"
   },
   {
    "duration": -5,
    "start_time": "2021-10-28T09:23:24.919Z"
   },
   {
    "duration": -7,
    "start_time": "2021-10-28T09:23:24.923Z"
   },
   {
    "duration": -9,
    "start_time": "2021-10-28T09:23:24.926Z"
   },
   {
    "duration": -13,
    "start_time": "2021-10-28T09:23:24.931Z"
   },
   {
    "duration": -17,
    "start_time": "2021-10-28T09:23:24.937Z"
   },
   {
    "duration": -20,
    "start_time": "2021-10-28T09:23:24.941Z"
   },
   {
    "duration": -22,
    "start_time": "2021-10-28T09:23:24.945Z"
   },
   {
    "duration": 1206,
    "start_time": "2021-10-28T09:23:47.140Z"
   },
   {
    "duration": 532,
    "start_time": "2021-10-28T09:23:48.348Z"
   },
   {
    "duration": 11,
    "start_time": "2021-10-28T09:23:48.882Z"
   },
   {
    "duration": 10,
    "start_time": "2021-10-28T09:23:48.896Z"
   },
   {
    "duration": 12,
    "start_time": "2021-10-28T09:23:48.907Z"
   },
   {
    "duration": 11,
    "start_time": "2021-10-28T09:23:48.920Z"
   },
   {
    "duration": 13,
    "start_time": "2021-10-28T09:23:48.933Z"
   },
   {
    "duration": 25,
    "start_time": "2021-10-28T09:23:48.950Z"
   },
   {
    "duration": 118,
    "start_time": "2021-10-28T09:23:48.978Z"
   },
   {
    "duration": 19,
    "start_time": "2021-10-28T09:23:49.098Z"
   },
   {
    "duration": 8,
    "start_time": "2021-10-28T09:23:49.120Z"
   },
   {
    "duration": 52,
    "start_time": "2021-10-28T09:23:49.130Z"
   },
   {
    "duration": 124,
    "start_time": "2021-10-28T09:23:49.184Z"
   },
   {
    "duration": 66,
    "start_time": "2021-10-28T09:23:49.310Z"
   },
   {
    "duration": 50,
    "start_time": "2021-10-28T09:23:49.378Z"
   },
   {
    "duration": 47,
    "start_time": "2021-10-28T09:23:49.430Z"
   },
   {
    "duration": 11,
    "start_time": "2021-10-28T09:23:49.479Z"
   },
   {
    "duration": 8,
    "start_time": "2021-10-28T09:23:49.492Z"
   },
   {
    "duration": 22,
    "start_time": "2021-10-28T09:23:49.501Z"
   },
   {
    "duration": 8,
    "start_time": "2021-10-28T09:23:49.525Z"
   },
   {
    "duration": 233,
    "start_time": "2021-10-28T09:23:49.534Z"
   },
   {
    "duration": 33,
    "start_time": "2021-10-28T09:23:49.770Z"
   },
   {
    "duration": 140,
    "start_time": "2021-10-28T09:23:49.808Z"
   },
   {
    "duration": 61,
    "start_time": "2021-10-28T09:23:49.951Z"
   },
   {
    "duration": 63,
    "start_time": "2021-10-28T09:23:50.015Z"
   },
   {
    "duration": 88,
    "start_time": "2021-10-28T09:23:50.080Z"
   },
   {
    "duration": 34,
    "start_time": "2021-10-28T09:23:50.170Z"
   },
   {
    "duration": 4,
    "start_time": "2021-10-28T09:23:50.206Z"
   },
   {
    "duration": 202,
    "start_time": "2021-10-28T09:23:50.211Z"
   },
   {
    "duration": 195,
    "start_time": "2021-10-28T09:23:50.415Z"
   },
   {
    "duration": 226,
    "start_time": "2021-10-28T09:23:50.612Z"
   },
   {
    "duration": 211,
    "start_time": "2021-10-28T09:23:50.840Z"
   },
   {
    "duration": 192,
    "start_time": "2021-10-28T09:23:51.053Z"
   },
   {
    "duration": 196,
    "start_time": "2021-10-28T09:23:51.247Z"
   },
   {
    "duration": 4,
    "start_time": "2021-10-28T09:23:51.445Z"
   },
   {
    "duration": 447,
    "start_time": "2021-10-28T09:23:51.452Z"
   },
   {
    "duration": 392,
    "start_time": "2021-10-28T09:23:51.901Z"
   },
   {
    "duration": 405,
    "start_time": "2021-10-28T09:23:52.295Z"
   },
   {
    "duration": 11,
    "start_time": "2021-10-28T09:23:52.702Z"
   },
   {
    "duration": 23,
    "start_time": "2021-10-28T09:23:52.715Z"
   },
   {
    "duration": 238,
    "start_time": "2021-10-28T09:23:52.739Z"
   },
   {
    "duration": 225,
    "start_time": "2021-10-28T09:23:52.980Z"
   },
   {
    "duration": 472,
    "start_time": "2021-10-28T09:23:53.207Z"
   },
   {
    "duration": 8,
    "start_time": "2021-10-28T09:23:53.680Z"
   },
   {
    "duration": 12,
    "start_time": "2021-10-28T09:23:53.690Z"
   },
   {
    "duration": 108,
    "start_time": "2021-10-28T09:26:54.056Z"
   },
   {
    "duration": 107,
    "start_time": "2021-10-28T09:30:10.465Z"
   },
   {
    "duration": 56,
    "start_time": "2021-10-28T09:31:18.758Z"
   },
   {
    "duration": 1117,
    "start_time": "2021-10-28T09:33:35.010Z"
   },
   {
    "duration": 420,
    "start_time": "2021-10-28T09:33:36.129Z"
   },
   {
    "duration": 12,
    "start_time": "2021-10-28T09:33:36.552Z"
   },
   {
    "duration": 12,
    "start_time": "2021-10-28T09:33:36.566Z"
   },
   {
    "duration": 20,
    "start_time": "2021-10-28T09:33:36.580Z"
   },
   {
    "duration": 14,
    "start_time": "2021-10-28T09:33:36.602Z"
   },
   {
    "duration": 22,
    "start_time": "2021-10-28T09:33:36.617Z"
   },
   {
    "duration": 19,
    "start_time": "2021-10-28T09:33:36.641Z"
   },
   {
    "duration": 77,
    "start_time": "2021-10-28T09:33:36.663Z"
   },
   {
    "duration": 23,
    "start_time": "2021-10-28T09:33:36.742Z"
   },
   {
    "duration": 6,
    "start_time": "2021-10-28T09:33:36.768Z"
   },
   {
    "duration": 35,
    "start_time": "2021-10-28T09:33:36.776Z"
   },
   {
    "duration": 119,
    "start_time": "2021-10-28T09:33:36.814Z"
   },
   {
    "duration": 68,
    "start_time": "2021-10-28T09:33:36.935Z"
   },
   {
    "duration": 58,
    "start_time": "2021-10-28T09:33:37.005Z"
   },
   {
    "duration": 26,
    "start_time": "2021-10-28T09:33:37.065Z"
   },
   {
    "duration": 9,
    "start_time": "2021-10-28T09:33:37.094Z"
   },
   {
    "duration": 13,
    "start_time": "2021-10-28T09:33:37.105Z"
   },
   {
    "duration": 32,
    "start_time": "2021-10-28T09:33:37.120Z"
   },
   {
    "duration": 17,
    "start_time": "2021-10-28T09:33:37.163Z"
   },
   {
    "duration": 187,
    "start_time": "2021-10-28T09:33:37.182Z"
   },
   {
    "duration": 30,
    "start_time": "2021-10-28T09:33:37.372Z"
   },
   {
    "duration": 91,
    "start_time": "2021-10-28T09:33:37.404Z"
   },
   {
    "duration": 30,
    "start_time": "2021-10-28T09:33:37.497Z"
   },
   {
    "duration": 47,
    "start_time": "2021-10-28T09:33:37.529Z"
   },
   {
    "duration": 68,
    "start_time": "2021-10-28T09:33:37.577Z"
   },
   {
    "duration": 47,
    "start_time": "2021-10-28T09:33:37.649Z"
   },
   {
    "duration": 4,
    "start_time": "2021-10-28T09:33:37.698Z"
   },
   {
    "duration": 218,
    "start_time": "2021-10-28T09:33:37.703Z"
   },
   {
    "duration": 212,
    "start_time": "2021-10-28T09:33:37.923Z"
   },
   {
    "duration": 217,
    "start_time": "2021-10-28T09:33:38.137Z"
   },
   {
    "duration": 203,
    "start_time": "2021-10-28T09:33:38.363Z"
   },
   {
    "duration": 197,
    "start_time": "2021-10-28T09:33:38.568Z"
   },
   {
    "duration": 194,
    "start_time": "2021-10-28T09:33:38.767Z"
   },
   {
    "duration": 4,
    "start_time": "2021-10-28T09:33:38.963Z"
   },
   {
    "duration": 453,
    "start_time": "2021-10-28T09:33:38.969Z"
   },
   {
    "duration": 365,
    "start_time": "2021-10-28T09:33:39.424Z"
   },
   {
    "duration": 361,
    "start_time": "2021-10-28T09:33:39.791Z"
   },
   {
    "duration": 13,
    "start_time": "2021-10-28T09:33:40.154Z"
   },
   {
    "duration": 12,
    "start_time": "2021-10-28T09:33:40.169Z"
   },
   {
    "duration": 215,
    "start_time": "2021-10-28T09:33:40.183Z"
   },
   {
    "duration": 218,
    "start_time": "2021-10-28T09:33:40.399Z"
   },
   {
    "duration": 359,
    "start_time": "2021-10-28T09:33:40.619Z"
   },
   {
    "duration": 7,
    "start_time": "2021-10-28T09:33:40.980Z"
   },
   {
    "duration": 11,
    "start_time": "2021-10-28T09:33:40.988Z"
   },
   {
    "duration": 1171,
    "start_time": "2021-10-28T11:33:10.437Z"
   },
   {
    "duration": 406,
    "start_time": "2021-10-28T11:33:11.610Z"
   },
   {
    "duration": 12,
    "start_time": "2021-10-28T11:33:12.019Z"
   },
   {
    "duration": 10,
    "start_time": "2021-10-28T11:33:12.033Z"
   },
   {
    "duration": 9,
    "start_time": "2021-10-28T11:33:12.045Z"
   },
   {
    "duration": 9,
    "start_time": "2021-10-28T11:33:12.056Z"
   },
   {
    "duration": 16,
    "start_time": "2021-10-28T11:33:12.067Z"
   },
   {
    "duration": 10,
    "start_time": "2021-10-28T11:33:12.086Z"
   },
   {
    "duration": 69,
    "start_time": "2021-10-28T11:33:12.098Z"
   },
   {
    "duration": 14,
    "start_time": "2021-10-28T11:33:12.176Z"
   },
   {
    "duration": 6,
    "start_time": "2021-10-28T11:33:12.191Z"
   },
   {
    "duration": 26,
    "start_time": "2021-10-28T11:33:12.198Z"
   },
   {
    "duration": 130,
    "start_time": "2021-10-28T11:33:12.226Z"
   },
   {
    "duration": 58,
    "start_time": "2021-10-28T11:33:12.358Z"
   },
   {
    "duration": 60,
    "start_time": "2021-10-28T11:33:12.418Z"
   },
   {
    "duration": 26,
    "start_time": "2021-10-28T11:33:12.479Z"
   },
   {
    "duration": 10,
    "start_time": "2021-10-28T11:33:12.506Z"
   },
   {
    "duration": 8,
    "start_time": "2021-10-28T11:33:12.517Z"
   },
   {
    "duration": 16,
    "start_time": "2021-10-28T11:33:12.527Z"
   },
   {
    "duration": 36,
    "start_time": "2021-10-28T11:33:12.544Z"
   },
   {
    "duration": 198,
    "start_time": "2021-10-28T11:33:12.582Z"
   },
   {
    "duration": 19,
    "start_time": "2021-10-28T11:33:12.782Z"
   },
   {
    "duration": 94,
    "start_time": "2021-10-28T11:33:12.805Z"
   },
   {
    "duration": 37,
    "start_time": "2021-10-28T11:33:12.901Z"
   },
   {
    "duration": 44,
    "start_time": "2021-10-28T11:33:12.940Z"
   },
   {
    "duration": 64,
    "start_time": "2021-10-28T11:33:12.986Z"
   },
   {
    "duration": 59,
    "start_time": "2021-10-28T11:33:13.051Z"
   },
   {
    "duration": 3,
    "start_time": "2021-10-28T11:33:13.112Z"
   },
   {
    "duration": 210,
    "start_time": "2021-10-28T11:33:13.117Z"
   },
   {
    "duration": 197,
    "start_time": "2021-10-28T11:33:13.329Z"
   },
   {
    "duration": 226,
    "start_time": "2021-10-28T11:33:13.528Z"
   },
   {
    "duration": 220,
    "start_time": "2021-10-28T11:33:13.756Z"
   },
   {
    "duration": 227,
    "start_time": "2021-10-28T11:33:13.978Z"
   },
   {
    "duration": 204,
    "start_time": "2021-10-28T11:33:14.207Z"
   },
   {
    "duration": 4,
    "start_time": "2021-10-28T11:33:14.413Z"
   },
   {
    "duration": 450,
    "start_time": "2021-10-28T11:33:14.419Z"
   },
   {
    "duration": 374,
    "start_time": "2021-10-28T11:33:14.871Z"
   },
   {
    "duration": 380,
    "start_time": "2021-10-28T11:33:15.246Z"
   },
   {
    "duration": 8,
    "start_time": "2021-10-28T11:33:15.627Z"
   },
   {
    "duration": 8,
    "start_time": "2021-10-28T11:33:15.637Z"
   },
   {
    "duration": 215,
    "start_time": "2021-10-28T11:33:15.647Z"
   },
   {
    "duration": 214,
    "start_time": "2021-10-28T11:33:15.864Z"
   },
   {
    "duration": 363,
    "start_time": "2021-10-28T11:33:16.080Z"
   },
   {
    "duration": 7,
    "start_time": "2021-10-28T11:33:16.445Z"
   },
   {
    "duration": 24,
    "start_time": "2021-10-28T11:33:16.453Z"
   },
   {
    "duration": 543,
    "start_time": "2021-10-28T11:34:00.917Z"
   },
   {
    "duration": 57,
    "start_time": "2021-10-28T11:34:22.798Z"
   },
   {
    "duration": 75,
    "start_time": "2021-10-28T11:34:53.681Z"
   },
   {
    "duration": 350,
    "start_time": "2021-10-28T11:35:54.253Z"
   },
   {
    "duration": 83,
    "start_time": "2021-10-28T11:36:10.954Z"
   },
   {
    "duration": 68,
    "start_time": "2021-10-28T11:36:16.919Z"
   },
   {
    "duration": 106,
    "start_time": "2021-10-28T11:36:28.649Z"
   },
   {
    "duration": 12,
    "start_time": "2021-10-28T11:36:29.069Z"
   },
   {
    "duration": 110,
    "start_time": "2021-10-28T11:37:00.639Z"
   },
   {
    "duration": 103,
    "start_time": "2021-10-28T11:37:18.246Z"
   },
   {
    "duration": 101,
    "start_time": "2021-10-28T11:37:43.492Z"
   },
   {
    "duration": 102,
    "start_time": "2021-10-28T11:37:59.501Z"
   }
  ],
  "kernelspec": {
   "display_name": "Python 3",
   "language": "python",
   "name": "python3"
  },
  "language_info": {
   "codemirror_mode": {
    "name": "ipython",
    "version": 3
   },
   "file_extension": ".py",
   "mimetype": "text/x-python",
   "name": "python",
   "nbconvert_exporter": "python",
   "pygments_lexer": "ipython3",
   "version": "3.8.5"
  },
  "toc": {
   "base_numbering": 1,
   "nav_menu": {},
   "number_sections": true,
   "sideBar": true,
   "skip_h1_title": true,
   "title_cell": "Table of Contents",
   "title_sidebar": "Contents",
   "toc_cell": false,
   "toc_position": {},
   "toc_section_display": true,
   "toc_window_display": false
  }
 },
 "nbformat": 4,
 "nbformat_minor": 2
}
